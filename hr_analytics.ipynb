{
 "cells": [
  {
   "cell_type": "markdown",
   "id": "2dfd85aa",
   "metadata": {},
   "source": [
    "**Проект: HR-аналитика**"
   ]
  },
  {
   "cell_type": "markdown",
   "id": "95af65dc",
   "metadata": {},
   "source": [
    "**Цели проекта**\n",
    "    \n",
    "    1. Построить модель, которая предсказывает уровень удовлетворённости сотрудника работой.\n",
    "    2.Построить модель, которая прогнозирует увольнение сотрудника.\n",
    "\n",
    "\n",
    "**Задача 1: Предсказание уровня удовлетворённости сотрудника**\n",
    "\n",
    "\n",
    "Этапы работы:\n",
    "\n",
    "\n",
    "- Загрузка данных: Подготовить тренировочную выборку и тестовые данные.\n",
    "- Предобработка данных: Выявить пропуски и провести очистку данных.\n",
    "- Исследовательский анализ данных: Исследовать данные, выявить закономерности и скорректировать подход к обработке признаков.\n",
    "- Подготовка данных: Организовать пайплайн обработки с кодировкой данных.\n",
    "- Обучение моделей: Обучить несколько моделей (линейную и дерево решений), подобрать гиперпараметры, оценить результат с метрикой SMAPE.\n",
    "- Анализ: Определить лучшую модель на основе результатов.\n",
    "\n",
    "\n",
    "\n",
    "**Задача 2: Прогноз увольнения сотрудника**\n",
    "\n",
    "Этапы работы:\n",
    "- Загрузка данных: Загрузить и объединить необходимые данные с учётом предсказанного job_satisfaction_rate.\n",
    "- Предобработка данных: Провести ту же очистку и проверку, что и в задаче 1.\n",
    "- Исследовательский анализ и портрет: Определить профили сотрудников, склонных к увольнению, и визуализировать взаимосвязь job_satisfaction_rate с увольнениями.\n",
    "- Подготовка данных: Добавить новый признак job_satisfaction_rate в процесс обработки.\n",
    "- Обучение моделей: Обучить и протестировать как минимум три модели с подбором гиперпараметров. Оценить результаты по метрике ROC-AUC.\n",
    "- Анализ: Определить лучшую модель и обосновать результаты.\n",
    "\n",
    "\n"
   ]
  },
  {
   "cell_type": "code",
   "execution_count": null,
   "id": "13f14386",
   "metadata": {},
   "outputs": [],
   "source": [
    "!pip install phik -q"
   ]
  },
  {
   "cell_type": "code",
   "execution_count": 2,
   "id": "d8d23d2c",
   "metadata": {},
   "outputs": [
    {
     "name": "stdout",
     "output_type": "stream",
     "text": [
      "Note: you may need to restart the kernel to use updated packages.\n"
     ]
    }
   ],
   "source": [
    "pip install --upgrade scikit-learn -q"
   ]
  },
  {
   "cell_type": "code",
   "execution_count": 3,
   "id": "c6446ba0",
   "metadata": {},
   "outputs": [
    {
     "name": "stdout",
     "output_type": "stream",
     "text": [
      "Note: you may need to restart the kernel to use updated packages.\n"
     ]
    }
   ],
   "source": [
    "pip install imbalanced-learn -q"
   ]
  },
  {
   "cell_type": "code",
   "execution_count": 4,
   "id": "365ad050",
   "metadata": {},
   "outputs": [],
   "source": [
    "!pip install shap -q"
   ]
  },
  {
   "cell_type": "code",
   "execution_count": 5,
   "id": "055fe0db",
   "metadata": {},
   "outputs": [],
   "source": [
    "# Импорт необходимых библиотек\n",
    "import time\n",
    "import phik\n",
    "import sklearn\n",
    "import numpy as np\n",
    "import pandas as pd\n",
    "import seaborn as sns\n",
    "import matplotlib.pyplot as plt\n",
    "import shap\n",
    "\n",
    "from sklearn.neighbors import KNeighborsClassifier\n",
    "from sklearn.pipeline import Pipeline\n",
    "from sklearn.compose import ColumnTransformer\n",
    "from sklearn.impute import SimpleImputer \n",
    "from sklearn.svm import SVC\n",
    "from scipy.stats import ttest_ind\n",
    "from sklearn.ensemble import RandomForestRegressor\n",
    "from imblearn.over_sampling import SMOTENC\n",
    "from sklearn.tree import DecisionTreeClassifier\n",
    "from sklearn.feature_selection import SelectKBest, f_classif\n",
    "from sklearn.model_selection import StratifiedKFold, RandomizedSearchCV\n",
    "from sklearn.linear_model import LinearRegression, LogisticRegression\n",
    "\n",
    "from sklearn.metrics import (\n",
    "    make_scorer, \n",
    "    roc_auc_score, \n",
    "    confusion_matrix\n",
    ")\n",
    "from sklearn.preprocessing import (\n",
    "    StandardScaler,\n",
    "    OneHotEncoder,\n",
    "    OrdinalEncoder,\n",
    "    LabelEncoder,\n",
    "    MinMaxScaler,\n",
    "    PolynomialFeatures,\n",
    "    RobustScaler\n",
    ")    "
   ]
  },
  {
   "cell_type": "code",
   "execution_count": 6,
   "id": "ba21ebfd",
   "metadata": {},
   "outputs": [],
   "source": [
    "# Определение константы\n",
    "RANDOM_STATE = 42"
   ]
  },
  {
   "cell_type": "markdown",
   "id": "9b00d364",
   "metadata": {},
   "source": [
    "## Задача 1: предсказание уровня удовлетворённости сотрудника"
   ]
  },
  {
   "cell_type": "markdown",
   "id": "6cd1a64b",
   "metadata": {},
   "source": [
    "### Этап 1: Загрузка данных"
   ]
  },
  {
   "cell_type": "code",
   "execution_count": 7,
   "id": "65926387",
   "metadata": {},
   "outputs": [],
   "source": [
    "train_rate_df = pd.read_csv('/datasets/train_job_satisfaction_rate.csv')\n",
    "test_features_df = pd.read_csv('/datasets/test_features.csv')\n",
    "test_target_df = pd.read_csv('/datasets/test_target_job_satisfaction_rate.csv')"
   ]
  },
  {
   "cell_type": "markdown",
   "id": "163afac4",
   "metadata": {},
   "source": [
    "### Этап 2: Предобработка данных"
   ]
  },
  {
   "cell_type": "code",
   "execution_count": 8,
   "id": "f4e35c02",
   "metadata": {},
   "outputs": [
    {
     "name": "stdout",
     "output_type": "stream",
     "text": [
      "Help on function preprocess_csv in module __main__:\n",
      "\n",
      "preprocess_csv(df_name)\n",
      "\n"
     ]
    }
   ],
   "source": [
    "def preprocess_csv(df_name):\n",
    "    # Вывод информации о датафрейме\n",
    "    print(\"\\n--- Информация о DataFrame ---\")\n",
    "    df_name.info()\n",
    "    \n",
    " # Приведение названий столбцов к нижнему регистру и замена пробелов на \"_\"\n",
    "    df_name.columns = [col.lower().replace(\" \", \"_\") for col in df_name.columns]\n",
    "    print(\"\\n--- Названия столбцов после преобразования ---\")\n",
    "    print(\", \".join(df_name.columns))\n",
    "\n",
    "    # Проверка на наличие дублей\n",
    "    subset_cols = df_name.columns\n",
    "    duplicated_count = len(df_name[df_name.duplicated(subset=subset_cols)])\n",
    "    print(f\"\\n--- Количество дублированных строк до удаления: {duplicated_count} ---\")\n",
    "    \n",
    "    # Удаление дублей\n",
    "    df_name = df_name.drop_duplicates(subset=subset_cols, keep='first').reset_index(drop=True)\n",
    "    duplicated_count_after = len(df_name[df_name.duplicated(subset=subset_cols)])\n",
    "    print(f\"\\n--- Количество дублированных строк после удаления: {duplicated_count_after} ---\")\n",
    "    # Вывод количества пропусков\n",
    "    print(df_name.isnull().sum())\n",
    "# Вывод уникальных значений для столбцов с типами 'object' и 'category'\n",
    "    print(\"\\n--- Уникальные значения в категориальных и строковых столбцах ---\")\n",
    "    for column in df_name.columns:\n",
    "        if df_name[column].dtype == 'object' or df_name[column].dtype.name == 'category':\n",
    "            print(f\"Столбец '{column}': {df_name[column].unique()}\")\n",
    "# Вывод описания числовых столбцов\n",
    "    print(\"\\n--- Описание числовых столбцов ---\")\n",
    "    numeric_columns = df_name.select_dtypes(include=['number']).columns\n",
    "    if numeric_columns.any():\n",
    "        print(df_name[numeric_columns].describe().round(2))\n",
    "    else:\n",
    "        print(\"Числовые столбцы отсутствуют\")\n",
    "\n",
    "    # Возврат обработанного DataFrame\n",
    "    return display(df_name.head())\n",
    "\"\"\"Проводит предобработку данных в таблице:\n",
    "она приводит названия столбцов к нижнему регистру, заменяет пробелы на '_',\n",
    "проверяет датасет на наличие дубликатов и удаляет их, выводит количество\n",
    "пропусков, проверяет уникальные значения в столбцах, выводит описание числовых столбцов.\n",
    "\n",
    "\n",
    "Args:\n",
    "    df_name: принимает на вход название датафрейма, который необходимо предварительно обработать.\n",
    "    \n",
    "Returns:\n",
    "    возвращает основную информацию о таблице, названия столбцов после преобразования, \n",
    "    Количество дублированных строк до удаления и после, уникальные значения в категориальных\n",
    "    и строковых столбцах, описание числовых столбцов и возвращает обработанный датафрейм.\n",
    "\n",
    "\"\"\"\n",
    "\n",
    "help(preprocess_csv)"
   ]
  },
  {
   "cell_type": "code",
   "execution_count": 9,
   "id": "a4eae330",
   "metadata": {},
   "outputs": [
    {
     "name": "stdout",
     "output_type": "stream",
     "text": [
      "\n",
      "--- Информация о DataFrame ---\n",
      "<class 'pandas.core.frame.DataFrame'>\n",
      "RangeIndex: 4000 entries, 0 to 3999\n",
      "Data columns (total 10 columns):\n",
      " #   Column                 Non-Null Count  Dtype  \n",
      "---  ------                 --------------  -----  \n",
      " 0   id                     4000 non-null   int64  \n",
      " 1   dept                   3994 non-null   object \n",
      " 2   level                  3996 non-null   object \n",
      " 3   workload               4000 non-null   object \n",
      " 4   employment_years       4000 non-null   int64  \n",
      " 5   last_year_promo        4000 non-null   object \n",
      " 6   last_year_violations   4000 non-null   object \n",
      " 7   supervisor_evaluation  4000 non-null   int64  \n",
      " 8   salary                 4000 non-null   int64  \n",
      " 9   job_satisfaction_rate  4000 non-null   float64\n",
      "dtypes: float64(1), int64(4), object(5)\n",
      "memory usage: 312.6+ KB\n",
      "\n",
      "--- Названия столбцов после преобразования ---\n",
      "id, dept, level, workload, employment_years, last_year_promo, last_year_violations, supervisor_evaluation, salary, job_satisfaction_rate\n",
      "\n",
      "--- Количество дублированных строк до удаления: 0 ---\n",
      "\n",
      "--- Количество дублированных строк после удаления: 0 ---\n",
      "id                       0\n",
      "dept                     6\n",
      "level                    4\n",
      "workload                 0\n",
      "employment_years         0\n",
      "last_year_promo          0\n",
      "last_year_violations     0\n",
      "supervisor_evaluation    0\n",
      "salary                   0\n",
      "job_satisfaction_rate    0\n",
      "dtype: int64\n",
      "\n",
      "--- Уникальные значения в категориальных и строковых столбцах ---\n",
      "Столбец 'dept': ['sales' 'hr' 'technology' 'purchasing' 'marketing' nan]\n",
      "Столбец 'level': ['junior' 'middle' 'sinior' nan]\n",
      "Столбец 'workload': ['medium' 'high' 'low']\n",
      "Столбец 'last_year_promo': ['no' 'yes']\n",
      "Столбец 'last_year_violations': ['no' 'yes']\n",
      "\n",
      "--- Описание числовых столбцов ---\n",
      "              id  employment_years  supervisor_evaluation   salary  \\\n",
      "count    4000.00           4000.00                4000.00   4000.0   \n",
      "mean   544957.62              3.72                   3.48  33926.7   \n",
      "std    257883.10              2.54                   1.01  14900.7   \n",
      "min    100954.00              1.00                   1.00  12000.0   \n",
      "25%    322836.75              2.00                   3.00  22800.0   \n",
      "50%    534082.50              3.00                   4.00  30000.0   \n",
      "75%    771446.00              6.00                   4.00  43200.0   \n",
      "max    999521.00             10.00                   5.00  98400.0   \n",
      "\n",
      "       job_satisfaction_rate  \n",
      "count                4000.00  \n",
      "mean                    0.53  \n",
      "std                     0.23  \n",
      "min                     0.03  \n",
      "25%                     0.36  \n",
      "50%                     0.56  \n",
      "75%                     0.71  \n",
      "max                     1.00  \n"
     ]
    },
    {
     "data": {
      "text/html": [
       "<div>\n",
       "<style scoped>\n",
       "    .dataframe tbody tr th:only-of-type {\n",
       "        vertical-align: middle;\n",
       "    }\n",
       "\n",
       "    .dataframe tbody tr th {\n",
       "        vertical-align: top;\n",
       "    }\n",
       "\n",
       "    .dataframe thead th {\n",
       "        text-align: right;\n",
       "    }\n",
       "</style>\n",
       "<table border=\"1\" class=\"dataframe\">\n",
       "  <thead>\n",
       "    <tr style=\"text-align: right;\">\n",
       "      <th></th>\n",
       "      <th>id</th>\n",
       "      <th>dept</th>\n",
       "      <th>level</th>\n",
       "      <th>workload</th>\n",
       "      <th>employment_years</th>\n",
       "      <th>last_year_promo</th>\n",
       "      <th>last_year_violations</th>\n",
       "      <th>supervisor_evaluation</th>\n",
       "      <th>salary</th>\n",
       "      <th>job_satisfaction_rate</th>\n",
       "    </tr>\n",
       "  </thead>\n",
       "  <tbody>\n",
       "    <tr>\n",
       "      <th>0</th>\n",
       "      <td>155278</td>\n",
       "      <td>sales</td>\n",
       "      <td>junior</td>\n",
       "      <td>medium</td>\n",
       "      <td>2</td>\n",
       "      <td>no</td>\n",
       "      <td>no</td>\n",
       "      <td>1</td>\n",
       "      <td>24000</td>\n",
       "      <td>0.58</td>\n",
       "    </tr>\n",
       "    <tr>\n",
       "      <th>1</th>\n",
       "      <td>653870</td>\n",
       "      <td>hr</td>\n",
       "      <td>junior</td>\n",
       "      <td>high</td>\n",
       "      <td>2</td>\n",
       "      <td>no</td>\n",
       "      <td>no</td>\n",
       "      <td>5</td>\n",
       "      <td>38400</td>\n",
       "      <td>0.76</td>\n",
       "    </tr>\n",
       "    <tr>\n",
       "      <th>2</th>\n",
       "      <td>184592</td>\n",
       "      <td>sales</td>\n",
       "      <td>junior</td>\n",
       "      <td>low</td>\n",
       "      <td>1</td>\n",
       "      <td>no</td>\n",
       "      <td>no</td>\n",
       "      <td>2</td>\n",
       "      <td>12000</td>\n",
       "      <td>0.11</td>\n",
       "    </tr>\n",
       "    <tr>\n",
       "      <th>3</th>\n",
       "      <td>171431</td>\n",
       "      <td>technology</td>\n",
       "      <td>junior</td>\n",
       "      <td>low</td>\n",
       "      <td>4</td>\n",
       "      <td>no</td>\n",
       "      <td>no</td>\n",
       "      <td>2</td>\n",
       "      <td>18000</td>\n",
       "      <td>0.37</td>\n",
       "    </tr>\n",
       "    <tr>\n",
       "      <th>4</th>\n",
       "      <td>693419</td>\n",
       "      <td>hr</td>\n",
       "      <td>junior</td>\n",
       "      <td>medium</td>\n",
       "      <td>1</td>\n",
       "      <td>no</td>\n",
       "      <td>no</td>\n",
       "      <td>3</td>\n",
       "      <td>22800</td>\n",
       "      <td>0.20</td>\n",
       "    </tr>\n",
       "  </tbody>\n",
       "</table>\n",
       "</div>"
      ],
      "text/plain": [
       "       id        dept   level workload  employment_years last_year_promo  \\\n",
       "0  155278       sales  junior   medium                 2              no   \n",
       "1  653870          hr  junior     high                 2              no   \n",
       "2  184592       sales  junior      low                 1              no   \n",
       "3  171431  technology  junior      low                 4              no   \n",
       "4  693419          hr  junior   medium                 1              no   \n",
       "\n",
       "  last_year_violations  supervisor_evaluation  salary  job_satisfaction_rate  \n",
       "0                   no                      1   24000                   0.58  \n",
       "1                   no                      5   38400                   0.76  \n",
       "2                   no                      2   12000                   0.11  \n",
       "3                   no                      2   18000                   0.37  \n",
       "4                   no                      3   22800                   0.20  "
      ]
     },
     "metadata": {},
     "output_type": "display_data"
    }
   ],
   "source": [
    "# ознакомимся с первой таблицей, в которой содержится тренировочная выборка\n",
    "preprocess_csv(train_rate_df)"
   ]
  },
  {
   "cell_type": "markdown",
   "id": "8600179c",
   "metadata": {},
   "source": [
    "В таблице содержится 4000 строк и 10 столбцов.\n",
    "\n",
    "С типами данных в датасете все в порядке.\n",
    "\n",
    "Дублированные значения отсутствуют.\n",
    "\n",
    "Присутствует несколько пропусков: 6 в столбце с отделом в котором работает сотрудник и 4 в столбце с уровнем занимаемой должности. Разберемся с ними на этапе составления пайплайна\n",
    "\n",
    "Есть сотрудники, у которых зарплата выше среднего, однако это нельзя назвать выбросами. \n",
    "\n",
    "Названия столбцов приведены к нижнему регистру и записаны через нижнее подчеркивание."
   ]
  },
  {
   "cell_type": "code",
   "execution_count": 10,
   "id": "26f78827",
   "metadata": {},
   "outputs": [
    {
     "name": "stdout",
     "output_type": "stream",
     "text": [
      "\n",
      "--- Информация о DataFrame ---\n",
      "<class 'pandas.core.frame.DataFrame'>\n",
      "RangeIndex: 2000 entries, 0 to 1999\n",
      "Data columns (total 9 columns):\n",
      " #   Column                 Non-Null Count  Dtype \n",
      "---  ------                 --------------  ----- \n",
      " 0   id                     2000 non-null   int64 \n",
      " 1   dept                   1998 non-null   object\n",
      " 2   level                  1999 non-null   object\n",
      " 3   workload               2000 non-null   object\n",
      " 4   employment_years       2000 non-null   int64 \n",
      " 5   last_year_promo        2000 non-null   object\n",
      " 6   last_year_violations   2000 non-null   object\n",
      " 7   supervisor_evaluation  2000 non-null   int64 \n",
      " 8   salary                 2000 non-null   int64 \n",
      "dtypes: int64(4), object(5)\n",
      "memory usage: 140.8+ KB\n",
      "\n",
      "--- Названия столбцов после преобразования ---\n",
      "id, dept, level, workload, employment_years, last_year_promo, last_year_violations, supervisor_evaluation, salary\n",
      "\n",
      "--- Количество дублированных строк до удаления: 0 ---\n",
      "\n",
      "--- Количество дублированных строк после удаления: 0 ---\n",
      "id                       0\n",
      "dept                     2\n",
      "level                    1\n",
      "workload                 0\n",
      "employment_years         0\n",
      "last_year_promo          0\n",
      "last_year_violations     0\n",
      "supervisor_evaluation    0\n",
      "salary                   0\n",
      "dtype: int64\n",
      "\n",
      "--- Уникальные значения в категориальных и строковых столбцах ---\n",
      "Столбец 'dept': ['marketing' 'hr' 'sales' 'purchasing' 'technology' nan ' ']\n",
      "Столбец 'level': ['junior' 'middle' 'sinior' nan]\n",
      "Столбец 'workload': ['medium' 'low' 'high' ' ']\n",
      "Столбец 'last_year_promo': ['no' 'yes']\n",
      "Столбец 'last_year_violations': ['no' 'yes']\n",
      "\n",
      "--- Описание числовых столбцов ---\n",
      "              id  employment_years  supervisor_evaluation    salary\n",
      "count    2000.00           2000.00                2000.00   2000.00\n",
      "mean   552765.21              3.67                   3.53  34066.80\n",
      "std    253851.33              2.54                   1.00  15398.44\n",
      "min    100298.00              1.00                   1.00  12000.00\n",
      "25%    339052.00              1.00                   3.00  22800.00\n",
      "50%    550793.00              3.00                   4.00  30000.00\n",
      "75%    765763.75              6.00                   4.00  43200.00\n",
      "max    999029.00             10.00                   5.00  96000.00\n"
     ]
    },
    {
     "data": {
      "text/html": [
       "<div>\n",
       "<style scoped>\n",
       "    .dataframe tbody tr th:only-of-type {\n",
       "        vertical-align: middle;\n",
       "    }\n",
       "\n",
       "    .dataframe tbody tr th {\n",
       "        vertical-align: top;\n",
       "    }\n",
       "\n",
       "    .dataframe thead th {\n",
       "        text-align: right;\n",
       "    }\n",
       "</style>\n",
       "<table border=\"1\" class=\"dataframe\">\n",
       "  <thead>\n",
       "    <tr style=\"text-align: right;\">\n",
       "      <th></th>\n",
       "      <th>id</th>\n",
       "      <th>dept</th>\n",
       "      <th>level</th>\n",
       "      <th>workload</th>\n",
       "      <th>employment_years</th>\n",
       "      <th>last_year_promo</th>\n",
       "      <th>last_year_violations</th>\n",
       "      <th>supervisor_evaluation</th>\n",
       "      <th>salary</th>\n",
       "    </tr>\n",
       "  </thead>\n",
       "  <tbody>\n",
       "    <tr>\n",
       "      <th>0</th>\n",
       "      <td>485046</td>\n",
       "      <td>marketing</td>\n",
       "      <td>junior</td>\n",
       "      <td>medium</td>\n",
       "      <td>2</td>\n",
       "      <td>no</td>\n",
       "      <td>no</td>\n",
       "      <td>5</td>\n",
       "      <td>28800</td>\n",
       "    </tr>\n",
       "    <tr>\n",
       "      <th>1</th>\n",
       "      <td>686555</td>\n",
       "      <td>hr</td>\n",
       "      <td>junior</td>\n",
       "      <td>medium</td>\n",
       "      <td>1</td>\n",
       "      <td>no</td>\n",
       "      <td>no</td>\n",
       "      <td>4</td>\n",
       "      <td>30000</td>\n",
       "    </tr>\n",
       "    <tr>\n",
       "      <th>2</th>\n",
       "      <td>467458</td>\n",
       "      <td>sales</td>\n",
       "      <td>middle</td>\n",
       "      <td>low</td>\n",
       "      <td>5</td>\n",
       "      <td>no</td>\n",
       "      <td>no</td>\n",
       "      <td>4</td>\n",
       "      <td>19200</td>\n",
       "    </tr>\n",
       "    <tr>\n",
       "      <th>3</th>\n",
       "      <td>418655</td>\n",
       "      <td>sales</td>\n",
       "      <td>middle</td>\n",
       "      <td>low</td>\n",
       "      <td>6</td>\n",
       "      <td>no</td>\n",
       "      <td>no</td>\n",
       "      <td>4</td>\n",
       "      <td>19200</td>\n",
       "    </tr>\n",
       "    <tr>\n",
       "      <th>4</th>\n",
       "      <td>789145</td>\n",
       "      <td>hr</td>\n",
       "      <td>middle</td>\n",
       "      <td>medium</td>\n",
       "      <td>5</td>\n",
       "      <td>no</td>\n",
       "      <td>no</td>\n",
       "      <td>5</td>\n",
       "      <td>40800</td>\n",
       "    </tr>\n",
       "  </tbody>\n",
       "</table>\n",
       "</div>"
      ],
      "text/plain": [
       "       id       dept   level workload  employment_years last_year_promo  \\\n",
       "0  485046  marketing  junior   medium                 2              no   \n",
       "1  686555         hr  junior   medium                 1              no   \n",
       "2  467458      sales  middle      low                 5              no   \n",
       "3  418655      sales  middle      low                 6              no   \n",
       "4  789145         hr  middle   medium                 5              no   \n",
       "\n",
       "  last_year_violations  supervisor_evaluation  salary  \n",
       "0                   no                      5   28800  \n",
       "1                   no                      4   30000  \n",
       "2                   no                      4   19200  \n",
       "3                   no                      4   19200  \n",
       "4                   no                      5   40800  "
      ]
     },
     "metadata": {},
     "output_type": "display_data"
    }
   ],
   "source": [
    "# ознакомимся со второй таблицей, в которой содержатся входные признаки тестовой выборки\n",
    "preprocess_csv(test_features_df)"
   ]
  },
  {
   "cell_type": "code",
   "execution_count": 11,
   "id": "f2c77cf3",
   "metadata": {},
   "outputs": [
    {
     "name": "stdout",
     "output_type": "stream",
     "text": [
      "['medium' 'low' 'high' nan]\n",
      "['marketing' 'hr' 'sales' 'purchasing' 'technology' nan]\n",
      "id                       0\n",
      "dept                     3\n",
      "level                    1\n",
      "workload                 1\n",
      "employment_years         0\n",
      "last_year_promo          0\n",
      "last_year_violations     0\n",
      "supervisor_evaluation    0\n",
      "salary                   0\n",
      "dtype: int64\n"
     ]
    }
   ],
   "source": [
    "# Заменяем пустые строки в столбце workload, dept на NaN\n",
    "test_features_df['workload'] = test_features_df['workload'].replace(\" \", np.nan)\n",
    "test_features_df['dept'] = test_features_df['dept'].replace(\" \", np.nan)\n",
    "print(test_features_df['workload'].unique())\n",
    "\n",
    "print(test_features_df['dept'].unique())\n",
    "print(test_features_df.isna().sum())"
   ]
  },
  {
   "cell_type": "markdown",
   "id": "2a6fa386",
   "metadata": {},
   "source": [
    "\n",
    "В датасете 9 колонок и 2000 строк. дубликаты и выбросы отсутствуют.\n",
    "\n",
    "В таблице есть пять пропусков. Значения с пробелами были заменены на пропуски для дальнейшей обработки в пайплайне.\n",
    "\n"
   ]
  },
  {
   "cell_type": "code",
   "execution_count": 12,
   "id": "fbc43a48",
   "metadata": {},
   "outputs": [
    {
     "name": "stdout",
     "output_type": "stream",
     "text": [
      "\n",
      "--- Информация о DataFrame ---\n",
      "<class 'pandas.core.frame.DataFrame'>\n",
      "RangeIndex: 2000 entries, 0 to 1999\n",
      "Data columns (total 2 columns):\n",
      " #   Column                 Non-Null Count  Dtype  \n",
      "---  ------                 --------------  -----  \n",
      " 0   id                     2000 non-null   int64  \n",
      " 1   job_satisfaction_rate  2000 non-null   float64\n",
      "dtypes: float64(1), int64(1)\n",
      "memory usage: 31.4 KB\n",
      "\n",
      "--- Названия столбцов после преобразования ---\n",
      "id, job_satisfaction_rate\n",
      "\n",
      "--- Количество дублированных строк до удаления: 0 ---\n",
      "\n",
      "--- Количество дублированных строк после удаления: 0 ---\n",
      "id                       0\n",
      "job_satisfaction_rate    0\n",
      "dtype: int64\n",
      "\n",
      "--- Уникальные значения в категориальных и строковых столбцах ---\n",
      "\n",
      "--- Описание числовых столбцов ---\n",
      "              id  job_satisfaction_rate\n",
      "count    2000.00                2000.00\n",
      "mean   552765.21                   0.55\n",
      "std    253851.33                   0.22\n",
      "min    100298.00                   0.03\n",
      "25%    339052.00                   0.38\n",
      "50%    550793.00                   0.58\n",
      "75%    765763.75                   0.72\n",
      "max    999029.00                   1.00\n"
     ]
    },
    {
     "data": {
      "text/html": [
       "<div>\n",
       "<style scoped>\n",
       "    .dataframe tbody tr th:only-of-type {\n",
       "        vertical-align: middle;\n",
       "    }\n",
       "\n",
       "    .dataframe tbody tr th {\n",
       "        vertical-align: top;\n",
       "    }\n",
       "\n",
       "    .dataframe thead th {\n",
       "        text-align: right;\n",
       "    }\n",
       "</style>\n",
       "<table border=\"1\" class=\"dataframe\">\n",
       "  <thead>\n",
       "    <tr style=\"text-align: right;\">\n",
       "      <th></th>\n",
       "      <th>id</th>\n",
       "      <th>job_satisfaction_rate</th>\n",
       "    </tr>\n",
       "  </thead>\n",
       "  <tbody>\n",
       "    <tr>\n",
       "      <th>0</th>\n",
       "      <td>130604</td>\n",
       "      <td>0.74</td>\n",
       "    </tr>\n",
       "    <tr>\n",
       "      <th>1</th>\n",
       "      <td>825977</td>\n",
       "      <td>0.75</td>\n",
       "    </tr>\n",
       "    <tr>\n",
       "      <th>2</th>\n",
       "      <td>418490</td>\n",
       "      <td>0.60</td>\n",
       "    </tr>\n",
       "    <tr>\n",
       "      <th>3</th>\n",
       "      <td>555320</td>\n",
       "      <td>0.72</td>\n",
       "    </tr>\n",
       "    <tr>\n",
       "      <th>4</th>\n",
       "      <td>826430</td>\n",
       "      <td>0.08</td>\n",
       "    </tr>\n",
       "  </tbody>\n",
       "</table>\n",
       "</div>"
      ],
      "text/plain": [
       "       id  job_satisfaction_rate\n",
       "0  130604                   0.74\n",
       "1  825977                   0.75\n",
       "2  418490                   0.60\n",
       "3  555320                   0.72\n",
       "4  826430                   0.08"
      ]
     },
     "metadata": {},
     "output_type": "display_data"
    }
   ],
   "source": [
    "# ознакомимся с третьей таблицей, в которой содержится целевой признак тестовой выборки\n",
    "preprocess_csv(test_target_df)"
   ]
  },
  {
   "cell_type": "markdown",
   "id": "b466e97a",
   "metadata": {},
   "source": [
    "В таблице 2000 строк и 2 столбца. Пропусков, аномалий и дубликатов нет."
   ]
  },
  {
   "cell_type": "markdown",
   "id": "1df6c0e5",
   "metadata": {},
   "source": [
    "что удалось сделать на этапе предобработки данных:\n",
    "\n",
    "\n",
    "- Первая таблица: Содержит 4000 строк и 10 столбцов. Есть 6 пропусков в dept и 4 в level. Дубликаты отсутствуют, данные структурированы, выбросов нет, названия столбцов оформлены корректно.\n",
    "\n",
    "\n",
    "- Вторая таблица: Включает 2000 строк и 9 столбцов. Найденo 5 пропусков: 3 в dept, 1 в level, и 1 в workload. Пустые строки заменены на NaN. Аномалий и дубликатов нет, данные готовы к обработке в пайплайне.\n",
    "\n",
    "\n",
    "- Третья таблица: Содержит 2000 строк и 2 столбца. Пропуски, дубликаты и выбросы отсутствуют. Распределение целевого признака выглядит корректным, данные готовы к анализу"
   ]
  },
  {
   "cell_type": "markdown",
   "id": "ac17002d",
   "metadata": {},
   "source": [
    "### Этап 3: Исследовательский анализ данных"
   ]
  },
  {
   "cell_type": "markdown",
   "id": "4443568d",
   "metadata": {},
   "source": [
    "Для начала необходимо составить графики распределения наблюдений в каждой таблице, чтобы составить общее представление о данных. чтобы не строить графики отдельно для каждого столбца, создадим функцию, благодаря которой за одну строчку можно создать графики для кажого столбца датафрейма."
   ]
  },
  {
   "cell_type": "code",
   "execution_count": 13,
   "id": "b53293ef",
   "metadata": {},
   "outputs": [],
   "source": [
    "def col_plot(df, cols):\n",
    "    for col in cols:\n",
    "        plt.figure(figsize=(12, 5))\n",
    "\n",
    "        if pd.api.types.is_numeric_dtype(df[col]):\n",
    "            unique_vals = df[col].nunique()\n",
    "\n",
    "            # Если немного уникальных значений — считаем признак дискретным\n",
    "            if unique_vals <= 20:\n",
    "                sns.countplot(x=col, data=df, color='lightblue', edgecolor='black')\n",
    "                plt.title(f'Countplot: {col} (дискретный признак)')\n",
    "                plt.grid(True)\n",
    "            else:\n",
    "                mean_val = df[col].mean()\n",
    "                median_val = df[col].median()\n",
    "\n",
    "                plt.subplot(1, 2, 1)\n",
    "                plt.hist(df[col], bins=30, alpha=0.7, color='lightblue', edgecolor='black')\n",
    "                plt.axvline(mean_val, color='red', linestyle='dashed', linewidth=2, label=f'Среднее: {mean_val:.2f}')\n",
    "                plt.axvline(median_val, color='green', linestyle='dashed', linewidth=2, label=f'Медиана: {median_val:.2f}')\n",
    "                plt.legend()\n",
    "                plt.title(f'Гистограмма: {col}')\n",
    "                plt.grid(True)\n",
    "\n",
    "                plt.subplot(1, 2, 2)\n",
    "                sns.boxplot(x=df[col], color='lightblue', showfliers=True)\n",
    "                plt.title(f'Boxplot: {col}')\n",
    "                plt.grid(True)\n",
    "\n",
    "        else:\n",
    "            df[col].value_counts().plot(kind='bar', color='grey', edgecolor='black')\n",
    "            plt.title(f'Распределение категорий: {col}')\n",
    "            plt.xticks(rotation=45)\n",
    "            plt.grid(True)\n",
    "\n",
    "        plt.tight_layout()\n",
    "        plt.show()\n"
   ]
  },
  {
   "cell_type": "code",
   "execution_count": 14,
   "id": "b803b62d",
   "metadata": {},
   "outputs": [
    {
     "data": {
      "image/png": "[encoded data removed]",
      "text/plain": [
       "<Figure size 864x360 with 1 Axes>"
      ]
     },
     "metadata": {
      "needs_background": "light"
     },
     "output_type": "display_data"
    },
    {
     "data": {
      "image/png": "[encoded data removed]",
      "text/plain": [
       "<Figure size 864x360 with 1 Axes>"
      ]
     },
     "metadata": {
      "needs_background": "light"
     },
     "output_type": "display_data"
    },
    {
     "data": {
      "image/png": "[encoded data removed]",
      "text/plain": [
       "<Figure size 864x360 with 1 Axes>"
      ]
     },
     "metadata": {
      "needs_background": "light"
     },
     "output_type": "display_data"
    },
    {
     "data": {
      "image/png": "[encoded data removed]",
      "text/plain": [
       "<Figure size 864x360 with 1 Axes>"
      ]
     },
     "metadata": {
      "needs_background": "light"
     },
     "output_type": "display_data"
    },
    {
     "data": {
      "image/png": "[encoded data removed]",
      "text/plain": [
       "<Figure size 864x360 with 1 Axes>"
      ]
     },
     "metadata": {
      "needs_background": "light"
     },
     "output_type": "display_data"
    },
    {
     "data": {
      "image/png": "[encoded data removed]",
      "text/plain": [
       "<Figure size 864x360 with 1 Axes>"
      ]
     },
     "metadata": {
      "needs_background": "light"
     },
     "output_type": "display_data"
    },
    {
     "data": {
      "image/png": "[encoded data removed]",
      "text/plain": [
       "<Figure size 864x360 with 1 Axes>"
      ]
     },
     "metadata": {
      "needs_background": "light"
     },
     "output_type": "display_data"
    },
    {
     "data": {
      "image/png": "[encoded data removed]",
      "text/plain": [
       "<Figure size 864x360 with 2 Axes>"
      ]
     },
     "metadata": {
      "needs_background": "light"
     },
     "output_type": "display_data"
    },
    {
     "data": {
      "image/png": "[encoded data removed]",
      "text/plain": [
       "<Figure size 864x360 with 2 Axes>"
      ]
     },
     "metadata": {
      "needs_background": "light"
     },
     "output_type": "display_data"
    }
   ],
   "source": [
    "# построим графики для первой таблицы\n",
    "col_plot(train_rate_df, train_rate_df.columns[1:])"
   ]
  },
  {
   "cell_type": "markdown",
   "id": "e98bd0ed",
   "metadata": {},
   "source": [
    "В тренировочной выборке чаще всего встречаются сотрудники из отдела продаж, в то время как в hr-отделе содержится в три раза меньше наблюдений. Данные распределены неравномерно, необходимо будет использовать стратификацию.\n",
    "\n",
    "В таблице представлено большое количество junior и middle сотрудников (около 1750), в то время как sinior-ов крайне мало (~300)\n",
    "\n",
    "Загруженность работников чаще всего средняя, однако более 1000 сотрудников поделились, что у них низкая загруженность, а 750 человек упомянули о высоком уровне ответственности.\n",
    "\n",
    "Длительность работы в компании в среднем равняется 3-4 годам. Среднее статистическое смещено в большую сторону, по сравнению с медианой, и сигнализирует о том, что в компании есть сотрудники, которые уже давно здесь работают. Однако, гистограмма демонстрирует, что большинство работников были наняты около года назад. По боксплоту видно, что разброс значений варьируется от 1 до 10 лет. Большая часть работников трудоустроены в компании от 2 до 6 лет.\n",
    "\n",
    "\n",
    "В прошлом году повышение было только у ~ 100 сотрудников, в то время как остальные повышения не получали.\n",
    "\n",
    "Более 500 сотрудников нарушили трудовой договор в прошлом году. \n",
    "\n",
    "\n",
    "Большинство руководителей удовлетворены качеством работы своих сотрудников на 4 балла. Они крайне редко отмечают качество работника низкой оценкой. \n",
    "\n",
    "\n",
    "Зарплаты в компании чаще всего находятся в диапазоне от 22 до 42 тысяч. Среднее равно ~34 тысячам и на 4 тысячи превышают медианное значение. В совокупности с удлиненным правым хвостом гистограммы и выбросами, такое смещение свидетельствует о том, что в компании есть сотрудники с зарплатой более 80 тысяч. Данные распределены неравномерно.\n",
    "\n",
    "Средний уровень удовлетворенности работой находится на отметке 0.5 из 1. На на видно, что в распределении присутствует два пика: первый в области меньше середины, второй на уровне 0.7. Значит работники по-разному оценивают условия работы. Кому-то все нравится (а кому-то нет). Среднее немного смещено влево, следовательно отметок около минимального значения довольно много. "
   ]
  },
  {
   "cell_type": "code",
   "execution_count": 15,
   "id": "d4103aee",
   "metadata": {},
   "outputs": [
    {
     "data": {
      "image/png": "[encoded data removed]",
      "text/plain": [
       "<Figure size 864x360 with 1 Axes>"
      ]
     },
     "metadata": {
      "needs_background": "light"
     },
     "output_type": "display_data"
    },
    {
     "data": {
      "image/png": "[encoded data removed]",
      "text/plain": [
       "<Figure size 864x360 with 1 Axes>"
      ]
     },
     "metadata": {
      "needs_background": "light"
     },
     "output_type": "display_data"
    },
    {
     "data": {
      "image/png": "[encoded data removed]",
      "text/plain": [
       "<Figure size 864x360 with 1 Axes>"
      ]
     },
     "metadata": {
      "needs_background": "light"
     },
     "output_type": "display_data"
    },
    {
     "data": {
      "image/png": "[encoded data removed]",
      "text/plain": [
       "<Figure size 864x360 with 1 Axes>"
      ]
     },
     "metadata": {
      "needs_background": "light"
     },
     "output_type": "display_data"
    },
    {
     "data": {
      "image/png": "[encoded data removed]",
      "text/plain": [
       "<Figure size 864x360 with 1 Axes>"
      ]
     },
     "metadata": {
      "needs_background": "light"
     },
     "output_type": "display_data"
    },
    {
     "data": {
      "image/png": "[encoded data removed]",
      "text/plain": [
       "<Figure size 864x360 with 1 Axes>"
      ]
     },
     "metadata": {
      "needs_background": "light"
     },
     "output_type": "display_data"
    },
    {
     "data": {
      "image/png": "[encoded data removed]",
      "text/plain": [
       "<Figure size 864x360 with 1 Axes>"
      ]
     },
     "metadata": {
      "needs_background": "light"
     },
     "output_type": "display_data"
    },
    {
     "data": {
      "image/png": "[encoded data removed]",
      "text/plain": [
       "<Figure size 864x360 with 2 Axes>"
      ]
     },
     "metadata": {
      "needs_background": "light"
     },
     "output_type": "display_data"
    }
   ],
   "source": [
    "# построим графики для второй таблицы\n",
    "col_plot(test_features_df, test_features_df.columns[1:])"
   ]
  },
  {
   "cell_type": "markdown",
   "id": "e88b3421",
   "metadata": {},
   "source": [
    "Распределение отдела работы схоже с тренировочной выборкой. Отдел продаж лидирует по популярности, а рекрутеры на последнем месте. \n",
    "\n",
    "В структуре распределения уровня навыков сотрудников все осталось так же как и в тренировочной выборке, только значений стало меньше в два раза.\n",
    "\n",
    "У подавляющего большинства работников средний уровень загруженности, низкий уровень встречается реже и высокий лишь у ~18% сотрудников.\n",
    "\n",
    "Распределение стажа сотрудников в компании очень схоже с тренировочной выборкой. Более 25% сотрудников работают в компании около года. Около 50 сотрудников устроены более 10 лет.\n",
    "\n",
    "Повышение получали в прошлом году крайне редко.\n",
    "\n",
    "Нарушали трудовой договор ~13% сотрудников\n",
    "\n",
    "Руководители чаще всего отмечали своих сотрудников оценкой в 4 балла. Так же присутствуют выбросы в стороне меньших значений, но их менее 100.\n",
    "\n",
    "Распределение заработной платы имеет длинный хвост справа, так же как и в тренировочной выборке. Это значит, что есть сотрудники зарабатывающие намного больше, чем остальные.\n",
    "\n"
   ]
  },
  {
   "cell_type": "code",
   "execution_count": 16,
   "id": "88452b11",
   "metadata": {},
   "outputs": [
    {
     "data": {
      "image/png": "[encoded data removed]",
      "text/plain": [
       "<Figure size 864x360 with 2 Axes>"
      ]
     },
     "metadata": {
      "needs_background": "light"
     },
     "output_type": "display_data"
    }
   ],
   "source": [
    "# построим графики для третьей таблицы\n",
    "col_plot(test_target_df, test_target_df.columns[1:])"
   ]
  },
  {
   "cell_type": "markdown",
   "id": "2422b4b6",
   "metadata": {},
   "source": [
    "Сами сотрудники в среднем на 60% довольны своей работой. Однако, гистограмма демонстрирует, что отметку в 0.5 ставят реже, чем, например, 0.4 или 0.6"
   ]
  },
  {
   "cell_type": "markdown",
   "id": "427277e2",
   "metadata": {},
   "source": [
    "построим тепловую карту, отражающую коэффициент корреляции Фи, который находит взаимосвязь между категориальными, порядковыми и интервальными признаками. Чем ближе его значение по модулю к 1, тем сильнее связь."
   ]
  },
  {
   "cell_type": "code",
   "execution_count": 17,
   "id": "72eca1fa",
   "metadata": {},
   "outputs": [
    {
     "data": {
      "image/png": "[encoded data removed]",
      "text/plain": [
       "<Figure size 720x576 with 2 Axes>"
      ]
     },
     "metadata": {
      "needs_background": "light"
     },
     "output_type": "display_data"
    }
   ],
   "source": [
    "interval_cols = [\n",
    "    'salary',\n",
    "    'job_satisfaction_rate'\n",
    "]\n",
    "\n",
    "plt.figure(figsize=(10, 8))\n",
    "sns.heatmap(train_rate_df.drop('id', axis=1).phik_matrix(\n",
    "    interval_cols=interval_cols), annot=True, fmt='.2f')\n",
    "plt.show()"
   ]
  },
  {
   "cell_type": "markdown",
   "id": "5551e0b8",
   "metadata": {},
   "source": [
    "Сильные корреляции:\n",
    "\n",
    "- Уровень зарплаты демонстрирует заметную связь с job_satisfaction_rate. Это ожидаемо, так как заработная плата часто влияет на удовлетворённость работой.\n",
    "\n",
    "- Оценка руководителя также оказывает влияние: положительная оценка руководства связана с более высокой удовлетворённостью.\n",
    "\n",
    "- Зарплата и стаж связаны положительно: с ростом стажа может увеличиваться заработная плата.\n",
    "\n",
    "Слабая или отсутствующие корреляции:\n",
    "\n",
    "- Признак стаж имеет слабую корреляцию с удовлетворённостью, что может означать, что стаж работы менее важен для оценки условий труда.\n",
    "\n",
    "- Негативные или слабые связи между другими признаками, например, last_year_violations, могут быть важны для прогнозирования увольнений"
   ]
  },
  {
   "cell_type": "markdown",
   "id": "3d5ae835",
   "metadata": {},
   "source": [
    "Выводы:\n",
    "\n",
    "В тренировочной выборке больше всего сотрудников в отделе продаж, а в HR — меньше всего. Junior и middle занимают большинство позиций, загруженность чаще всего средняя. Стаж работы варьируется от 1 до 10 лет, зарплаты в среднем составляют ~34 тысячи, но есть выбросы. Уровень удовлетворённости имеет два пика: часть сотрудников довольны, часть — недовольны.\n",
    "\n",
    "В тестовой выборке структура отделов и должностей схожа с тренировочной. Средняя загруженность преобладает, стаж работы и зарплаты распределены аналогично. Повышения редки, нарушения трудового договора встречались у ~13% сотрудников. Оценки руководителей в основном 3–4 балла.\n",
    "\n",
    "Уровень удовлетворённости сотрудников тестовой выборки ~60%, но распределение неоднородное, с пиками около 0.4 и 0.6. Данные готовы к дальнейшему анализу.\n",
    "\n",
    "Признаки с сильными корреляциями важно учитывать при обучении моделей.\n",
    "\n",
    "Данные готовы для дальнейшей обработки: масштабирования и кодирования"
   ]
  },
  {
   "cell_type": "markdown",
   "id": "bff8872f",
   "metadata": {},
   "source": [
    "### Этап 4: Подготовка данных"
   ]
  },
  {
   "cell_type": "markdown",
   "id": "47a56fb4",
   "metadata": {},
   "source": [
    "Подготовку признаков выполним в пайплайне, дополнив пайплайн шагом предобработки. При кодировании необходимо учитывать особенности признаков и моделей. Будем использовать как минимум два кодировщика.\n"
   ]
  },
  {
   "cell_type": "code",
   "execution_count": 18,
   "id": "76a86176",
   "metadata": {},
   "outputs": [
    {
     "name": "stdout",
     "output_type": "stream",
     "text": [
      "количество дублированных строк во входных признаках тренировочной и тестовой выборок: 1492 557\n",
      "размерность выборок: (4000, 8) (2000, 8)\n"
     ]
    },
    {
     "data": {
      "text/html": [
       "<style>#sk-container-id-1 {\n",
       "  /* Definition of color scheme common for light and dark mode */\n",
       "  --sklearn-color-text: #000;\n",
       "  --sklearn-color-text-muted: #666;\n",
       "  --sklearn-color-line: gray;\n",
       "  /* Definition of color scheme for unfitted estimators */\n",
       "  --sklearn-color-unfitted-level-0: #fff5e6;\n",
       "  --sklearn-color-unfitted-level-1: #f6e4d2;\n",
       "  --sklearn-color-unfitted-level-2: #ffe0b3;\n",
       "  --sklearn-color-unfitted-level-3: chocolate;\n",
       "  /* Definition of color scheme for fitted estimators */\n",
       "  --sklearn-color-fitted-level-0: #f0f8ff;\n",
       "  --sklearn-color-fitted-level-1: #d4ebff;\n",
       "  --sklearn-color-fitted-level-2: #b3dbfd;\n",
       "  --sklearn-color-fitted-level-3: cornflowerblue;\n",
       "\n",
       "  /* Specific color for light theme */\n",
       "  --sklearn-color-text-on-default-background: var(--sg-text-color, var(--theme-code-foreground, var(--jp-content-font-color1, black)));\n",
       "  --sklearn-color-background: var(--sg-background-color, var(--theme-background, var(--jp-layout-color0, white)));\n",
       "  --sklearn-color-border-box: var(--sg-text-color, var(--theme-code-foreground, var(--jp-content-font-color1, black)));\n",
       "  --sklearn-color-icon: #696969;\n",
       "\n",
       "  @media (prefers-color-scheme: dark) {\n",
       "    /* Redefinition of color scheme for dark theme */\n",
       "    --sklearn-color-text-on-default-background: var(--sg-text-color, var(--theme-code-foreground, var(--jp-content-font-color1, white)));\n",
       "    --sklearn-color-background: var(--sg-background-color, var(--theme-background, var(--jp-layout-color0, #111)));\n",
       "    --sklearn-color-border-box: var(--sg-text-color, var(--theme-code-foreground, var(--jp-content-font-color1, white)));\n",
       "    --sklearn-color-icon: #878787;\n",
       "  }\n",
       "}\n",
       "\n",
       "#sk-container-id-1 {\n",
       "  color: var(--sklearn-color-text);\n",
       "}\n",
       "\n",
       "#sk-container-id-1 pre {\n",
       "  padding: 0;\n",
       "}\n",
       "\n",
       "#sk-container-id-1 input.sk-hidden--visually {\n",
       "  border: 0;\n",
       "  clip: rect(1px 1px 1px 1px);\n",
       "  clip: rect(1px, 1px, 1px, 1px);\n",
       "  height: 1px;\n",
       "  margin: -1px;\n",
       "  overflow: hidden;\n",
       "  padding: 0;\n",
       "  position: absolute;\n",
       "  width: 1px;\n",
       "}\n",
       "\n",
       "#sk-container-id-1 div.sk-dashed-wrapped {\n",
       "  border: 1px dashed var(--sklearn-color-line);\n",
       "  margin: 0 0.4em 0.5em 0.4em;\n",
       "  box-sizing: border-box;\n",
       "  padding-bottom: 0.4em;\n",
       "  background-color: var(--sklearn-color-background);\n",
       "}\n",
       "\n",
       "#sk-container-id-1 div.sk-container {\n",
       "  /* jupyter's `normalize.less` sets `[hidden] { display: none; }`\n",
       "     but bootstrap.min.css set `[hidden] { display: none !important; }`\n",
       "     so we also need the `!important` here to be able to override the\n",
       "     default hidden behavior on the sphinx rendered scikit-learn.org.\n",
       "     See: https://github.com/scikit-learn/scikit-learn/issues/21755 */\n",
       "  display: inline-block !important;\n",
       "  position: relative;\n",
       "}\n",
       "\n",
       "#sk-container-id-1 div.sk-text-repr-fallback {\n",
       "  display: none;\n",
       "}\n",
       "\n",
       "div.sk-parallel-item,\n",
       "div.sk-serial,\n",
       "div.sk-item {\n",
       "  /* draw centered vertical line to link estimators */\n",
       "  background-image: linear-gradient(var(--sklearn-color-text-on-default-background), var(--sklearn-color-text-on-default-background));\n",
       "  background-size: 2px 100%;\n",
       "  background-repeat: no-repeat;\n",
       "  background-position: center center;\n",
       "}\n",
       "\n",
       "/* Parallel-specific style estimator block */\n",
       "\n",
       "#sk-container-id-1 div.sk-parallel-item::after {\n",
       "  content: \"\";\n",
       "  width: 100%;\n",
       "  border-bottom: 2px solid var(--sklearn-color-text-on-default-background);\n",
       "  flex-grow: 1;\n",
       "}\n",
       "\n",
       "#sk-container-id-1 div.sk-parallel {\n",
       "  display: flex;\n",
       "  align-items: stretch;\n",
       "  justify-content: center;\n",
       "  background-color: var(--sklearn-color-background);\n",
       "  position: relative;\n",
       "}\n",
       "\n",
       "#sk-container-id-1 div.sk-parallel-item {\n",
       "  display: flex;\n",
       "  flex-direction: column;\n",
       "}\n",
       "\n",
       "#sk-container-id-1 div.sk-parallel-item:first-child::after {\n",
       "  align-self: flex-end;\n",
       "  width: 50%;\n",
       "}\n",
       "\n",
       "#sk-container-id-1 div.sk-parallel-item:last-child::after {\n",
       "  align-self: flex-start;\n",
       "  width: 50%;\n",
       "}\n",
       "\n",
       "#sk-container-id-1 div.sk-parallel-item:only-child::after {\n",
       "  width: 0;\n",
       "}\n",
       "\n",
       "/* Serial-specific style estimator block */\n",
       "\n",
       "#sk-container-id-1 div.sk-serial {\n",
       "  display: flex;\n",
       "  flex-direction: column;\n",
       "  align-items: center;\n",
       "  background-color: var(--sklearn-color-background);\n",
       "  padding-right: 1em;\n",
       "  padding-left: 1em;\n",
       "}\n",
       "\n",
       "\n",
       "/* Toggleable style: style used for estimator/Pipeline/ColumnTransformer box that is\n",
       "clickable and can be expanded/collapsed.\n",
       "- Pipeline and ColumnTransformer use this feature and define the default style\n",
       "- Estimators will overwrite some part of the style using the `sk-estimator` class\n",
       "*/\n",
       "\n",
       "/* Pipeline and ColumnTransformer style (default) */\n",
       "\n",
       "#sk-container-id-1 div.sk-toggleable {\n",
       "  /* Default theme specific background. It is overwritten whether we have a\n",
       "  specific estimator or a Pipeline/ColumnTransformer */\n",
       "  background-color: var(--sklearn-color-background);\n",
       "}\n",
       "\n",
       "/* Toggleable label */\n",
       "#sk-container-id-1 label.sk-toggleable__label {\n",
       "  cursor: pointer;\n",
       "  display: flex;\n",
       "  width: 100%;\n",
       "  margin-bottom: 0;\n",
       "  padding: 0.5em;\n",
       "  box-sizing: border-box;\n",
       "  text-align: center;\n",
       "  align-items: start;\n",
       "  justify-content: space-between;\n",
       "  gap: 0.5em;\n",
       "}\n",
       "\n",
       "#sk-container-id-1 label.sk-toggleable__label .caption {\n",
       "  font-size: 0.6rem;\n",
       "  font-weight: lighter;\n",
       "  color: var(--sklearn-color-text-muted);\n",
       "}\n",
       "\n",
       "#sk-container-id-1 label.sk-toggleable__label-arrow:before {\n",
       "  /* Arrow on the left of the label */\n",
       "  content: \"▸\";\n",
       "  float: left;\n",
       "  margin-right: 0.25em;\n",
       "  color: var(--sklearn-color-icon);\n",
       "}\n",
       "\n",
       "#sk-container-id-1 label.sk-toggleable__label-arrow:hover:before {\n",
       "  color: var(--sklearn-color-text);\n",
       "}\n",
       "\n",
       "/* Toggleable content - dropdown */\n",
       "\n",
       "#sk-container-id-1 div.sk-toggleable__content {\n",
       "  max-height: 0;\n",
       "  max-width: 0;\n",
       "  overflow: hidden;\n",
       "  text-align: left;\n",
       "  /* unfitted */\n",
       "  background-color: var(--sklearn-color-unfitted-level-0);\n",
       "}\n",
       "\n",
       "#sk-container-id-1 div.sk-toggleable__content.fitted {\n",
       "  /* fitted */\n",
       "  background-color: var(--sklearn-color-fitted-level-0);\n",
       "}\n",
       "\n",
       "#sk-container-id-1 div.sk-toggleable__content pre {\n",
       "  margin: 0.2em;\n",
       "  border-radius: 0.25em;\n",
       "  color: var(--sklearn-color-text);\n",
       "  /* unfitted */\n",
       "  background-color: var(--sklearn-color-unfitted-level-0);\n",
       "}\n",
       "\n",
       "#sk-container-id-1 div.sk-toggleable__content.fitted pre {\n",
       "  /* unfitted */\n",
       "  background-color: var(--sklearn-color-fitted-level-0);\n",
       "}\n",
       "\n",
       "#sk-container-id-1 input.sk-toggleable__control:checked~div.sk-toggleable__content {\n",
       "  /* Expand drop-down */\n",
       "  max-height: 200px;\n",
       "  max-width: 100%;\n",
       "  overflow: auto;\n",
       "}\n",
       "\n",
       "#sk-container-id-1 input.sk-toggleable__control:checked~label.sk-toggleable__label-arrow:before {\n",
       "  content: \"▾\";\n",
       "}\n",
       "\n",
       "/* Pipeline/ColumnTransformer-specific style */\n",
       "\n",
       "#sk-container-id-1 div.sk-label input.sk-toggleable__control:checked~label.sk-toggleable__label {\n",
       "  color: var(--sklearn-color-text);\n",
       "  background-color: var(--sklearn-color-unfitted-level-2);\n",
       "}\n",
       "\n",
       "#sk-container-id-1 div.sk-label.fitted input.sk-toggleable__control:checked~label.sk-toggleable__label {\n",
       "  background-color: var(--sklearn-color-fitted-level-2);\n",
       "}\n",
       "\n",
       "/* Estimator-specific style */\n",
       "\n",
       "/* Colorize estimator box */\n",
       "#sk-container-id-1 div.sk-estimator input.sk-toggleable__control:checked~label.sk-toggleable__label {\n",
       "  /* unfitted */\n",
       "  background-color: var(--sklearn-color-unfitted-level-2);\n",
       "}\n",
       "\n",
       "#sk-container-id-1 div.sk-estimator.fitted input.sk-toggleable__control:checked~label.sk-toggleable__label {\n",
       "  /* fitted */\n",
       "  background-color: var(--sklearn-color-fitted-level-2);\n",
       "}\n",
       "\n",
       "#sk-container-id-1 div.sk-label label.sk-toggleable__label,\n",
       "#sk-container-id-1 div.sk-label label {\n",
       "  /* The background is the default theme color */\n",
       "  color: var(--sklearn-color-text-on-default-background);\n",
       "}\n",
       "\n",
       "/* On hover, darken the color of the background */\n",
       "#sk-container-id-1 div.sk-label:hover label.sk-toggleable__label {\n",
       "  color: var(--sklearn-color-text);\n",
       "  background-color: var(--sklearn-color-unfitted-level-2);\n",
       "}\n",
       "\n",
       "/* Label box, darken color on hover, fitted */\n",
       "#sk-container-id-1 div.sk-label.fitted:hover label.sk-toggleable__label.fitted {\n",
       "  color: var(--sklearn-color-text);\n",
       "  background-color: var(--sklearn-color-fitted-level-2);\n",
       "}\n",
       "\n",
       "/* Estimator label */\n",
       "\n",
       "#sk-container-id-1 div.sk-label label {\n",
       "  font-family: monospace;\n",
       "  font-weight: bold;\n",
       "  display: inline-block;\n",
       "  line-height: 1.2em;\n",
       "}\n",
       "\n",
       "#sk-container-id-1 div.sk-label-container {\n",
       "  text-align: center;\n",
       "}\n",
       "\n",
       "/* Estimator-specific */\n",
       "#sk-container-id-1 div.sk-estimator {\n",
       "  font-family: monospace;\n",
       "  border: 1px dotted var(--sklearn-color-border-box);\n",
       "  border-radius: 0.25em;\n",
       "  box-sizing: border-box;\n",
       "  margin-bottom: 0.5em;\n",
       "  /* unfitted */\n",
       "  background-color: var(--sklearn-color-unfitted-level-0);\n",
       "}\n",
       "\n",
       "#sk-container-id-1 div.sk-estimator.fitted {\n",
       "  /* fitted */\n",
       "  background-color: var(--sklearn-color-fitted-level-0);\n",
       "}\n",
       "\n",
       "/* on hover */\n",
       "#sk-container-id-1 div.sk-estimator:hover {\n",
       "  /* unfitted */\n",
       "  background-color: var(--sklearn-color-unfitted-level-2);\n",
       "}\n",
       "\n",
       "#sk-container-id-1 div.sk-estimator.fitted:hover {\n",
       "  /* fitted */\n",
       "  background-color: var(--sklearn-color-fitted-level-2);\n",
       "}\n",
       "\n",
       "/* Specification for estimator info (e.g. \"i\" and \"?\") */\n",
       "\n",
       "/* Common style for \"i\" and \"?\" */\n",
       "\n",
       ".sk-estimator-doc-link,\n",
       "a:link.sk-estimator-doc-link,\n",
       "a:visited.sk-estimator-doc-link {\n",
       "  float: right;\n",
       "  font-size: smaller;\n",
       "  line-height: 1em;\n",
       "  font-family: monospace;\n",
       "  background-color: var(--sklearn-color-background);\n",
       "  border-radius: 1em;\n",
       "  height: 1em;\n",
       "  width: 1em;\n",
       "  text-decoration: none !important;\n",
       "  margin-left: 0.5em;\n",
       "  text-align: center;\n",
       "  /* unfitted */\n",
       "  border: var(--sklearn-color-unfitted-level-1) 1pt solid;\n",
       "  color: var(--sklearn-color-unfitted-level-1);\n",
       "}\n",
       "\n",
       ".sk-estimator-doc-link.fitted,\n",
       "a:link.sk-estimator-doc-link.fitted,\n",
       "a:visited.sk-estimator-doc-link.fitted {\n",
       "  /* fitted */\n",
       "  border: var(--sklearn-color-fitted-level-1) 1pt solid;\n",
       "  color: var(--sklearn-color-fitted-level-1);\n",
       "}\n",
       "\n",
       "/* On hover */\n",
       "div.sk-estimator:hover .sk-estimator-doc-link:hover,\n",
       ".sk-estimator-doc-link:hover,\n",
       "div.sk-label-container:hover .sk-estimator-doc-link:hover,\n",
       ".sk-estimator-doc-link:hover {\n",
       "  /* unfitted */\n",
       "  background-color: var(--sklearn-color-unfitted-level-3);\n",
       "  color: var(--sklearn-color-background);\n",
       "  text-decoration: none;\n",
       "}\n",
       "\n",
       "div.sk-estimator.fitted:hover .sk-estimator-doc-link.fitted:hover,\n",
       ".sk-estimator-doc-link.fitted:hover,\n",
       "div.sk-label-container:hover .sk-estimator-doc-link.fitted:hover,\n",
       ".sk-estimator-doc-link.fitted:hover {\n",
       "  /* fitted */\n",
       "  background-color: var(--sklearn-color-fitted-level-3);\n",
       "  color: var(--sklearn-color-background);\n",
       "  text-decoration: none;\n",
       "}\n",
       "\n",
       "/* Span, style for the box shown on hovering the info icon */\n",
       ".sk-estimator-doc-link span {\n",
       "  display: none;\n",
       "  z-index: 9999;\n",
       "  position: relative;\n",
       "  font-weight: normal;\n",
       "  right: .2ex;\n",
       "  padding: .5ex;\n",
       "  margin: .5ex;\n",
       "  width: min-content;\n",
       "  min-width: 20ex;\n",
       "  max-width: 50ex;\n",
       "  color: var(--sklearn-color-text);\n",
       "  box-shadow: 2pt 2pt 4pt #999;\n",
       "  /* unfitted */\n",
       "  background: var(--sklearn-color-unfitted-level-0);\n",
       "  border: .5pt solid var(--sklearn-color-unfitted-level-3);\n",
       "}\n",
       "\n",
       ".sk-estimator-doc-link.fitted span {\n",
       "  /* fitted */\n",
       "  background: var(--sklearn-color-fitted-level-0);\n",
       "  border: var(--sklearn-color-fitted-level-3);\n",
       "}\n",
       "\n",
       ".sk-estimator-doc-link:hover span {\n",
       "  display: block;\n",
       "}\n",
       "\n",
       "/* \"?\"-specific style due to the `<a>` HTML tag */\n",
       "\n",
       "#sk-container-id-1 a.estimator_doc_link {\n",
       "  float: right;\n",
       "  font-size: 1rem;\n",
       "  line-height: 1em;\n",
       "  font-family: monospace;\n",
       "  background-color: var(--sklearn-color-background);\n",
       "  border-radius: 1rem;\n",
       "  height: 1rem;\n",
       "  width: 1rem;\n",
       "  text-decoration: none;\n",
       "  /* unfitted */\n",
       "  color: var(--sklearn-color-unfitted-level-1);\n",
       "  border: var(--sklearn-color-unfitted-level-1) 1pt solid;\n",
       "}\n",
       "\n",
       "#sk-container-id-1 a.estimator_doc_link.fitted {\n",
       "  /* fitted */\n",
       "  border: var(--sklearn-color-fitted-level-1) 1pt solid;\n",
       "  color: var(--sklearn-color-fitted-level-1);\n",
       "}\n",
       "\n",
       "/* On hover */\n",
       "#sk-container-id-1 a.estimator_doc_link:hover {\n",
       "  /* unfitted */\n",
       "  background-color: var(--sklearn-color-unfitted-level-3);\n",
       "  color: var(--sklearn-color-background);\n",
       "  text-decoration: none;\n",
       "}\n",
       "\n",
       "#sk-container-id-1 a.estimator_doc_link.fitted:hover {\n",
       "  /* fitted */\n",
       "  background-color: var(--sklearn-color-fitted-level-3);\n",
       "}\n",
       "</style><div id=\"sk-container-id-1\" class=\"sk-top-container\"><div class=\"sk-text-repr-fallback\"><pre>ColumnTransformer(remainder=&#x27;passthrough&#x27;,\n",
       "                  transformers=[(&#x27;ohe&#x27;,\n",
       "                                 Pipeline(steps=[(&#x27;simpleImputer_ohe&#x27;,\n",
       "                                                  SimpleImputer(strategy=&#x27;most_frequent&#x27;)),\n",
       "                                                 (&#x27;ohe&#x27;,\n",
       "                                                  OneHotEncoder(drop=&#x27;first&#x27;,\n",
       "                                                                handle_unknown=&#x27;ignore&#x27;,\n",
       "                                                                sparse_output=False))]),\n",
       "                                 [&#x27;dept&#x27;, &#x27;last_year_promo&#x27;,\n",
       "                                  &#x27;last_year_violations&#x27;]),\n",
       "                                (&#x27;ord&#x27;,\n",
       "                                 Pipeline(steps=[(&#x27;simpleImputer_before_ord&#x27;,\n",
       "                                                  SimpleImputer(strategy=&#x27;m...\n",
       "                                                                 handle_unknown=&#x27;use_encoded_value&#x27;,\n",
       "                                                                 unknown_value=nan)),\n",
       "                                                 (&#x27;simpleImputer_after_ord&#x27;,\n",
       "                                                  SimpleImputer(strategy=&#x27;most_frequent&#x27;))]),\n",
       "                                 [&#x27;level&#x27;, &#x27;workload&#x27;]),\n",
       "                                (&#x27;num&#x27;,\n",
       "                                 Pipeline(steps=[(&#x27;imputer&#x27;, SimpleImputer()),\n",
       "                                                 (&#x27;scaler&#x27;, StandardScaler()),\n",
       "                                                 (&#x27;poly&#x27;,\n",
       "                                                  PolynomialFeatures(include_bias=False)),\n",
       "                                                 (&#x27;select&#x27;,\n",
       "                                                  SelectKBest(k=&#x27;all&#x27;))]),\n",
       "                                 [&#x27;employment_years&#x27;, &#x27;supervisor_evaluation&#x27;,\n",
       "                                  &#x27;salary&#x27;])])</pre><b>In a Jupyter environment, please rerun this cell to show the HTML representation or trust the notebook. <br />On GitHub, the HTML representation is unable to render, please try loading this page with nbviewer.org.</b></div><div class=\"sk-container\" hidden><div class=\"sk-item sk-dashed-wrapped\"><div class=\"sk-label-container\"><div class=\"sk-label  sk-toggleable\"><input class=\"sk-toggleable__control sk-hidden--visually\" id=\"sk-estimator-id-1\" type=\"checkbox\" ><label for=\"sk-estimator-id-1\" class=\"sk-toggleable__label  sk-toggleable__label-arrow\"><div><div>ColumnTransformer</div></div><div><a class=\"sk-estimator-doc-link \" rel=\"noreferrer\" target=\"_blank\" href=\"https://scikit-learn.org/1.6/modules/generated/sklearn.compose.ColumnTransformer.html\">?<span>Documentation for ColumnTransformer</span></a><span class=\"sk-estimator-doc-link \">i<span>Not fitted</span></span></div></label><div class=\"sk-toggleable__content \"><pre>ColumnTransformer(remainder=&#x27;passthrough&#x27;,\n",
       "                  transformers=[(&#x27;ohe&#x27;,\n",
       "                                 Pipeline(steps=[(&#x27;simpleImputer_ohe&#x27;,\n",
       "                                                  SimpleImputer(strategy=&#x27;most_frequent&#x27;)),\n",
       "                                                 (&#x27;ohe&#x27;,\n",
       "                                                  OneHotEncoder(drop=&#x27;first&#x27;,\n",
       "                                                                handle_unknown=&#x27;ignore&#x27;,\n",
       "                                                                sparse_output=False))]),\n",
       "                                 [&#x27;dept&#x27;, &#x27;last_year_promo&#x27;,\n",
       "                                  &#x27;last_year_violations&#x27;]),\n",
       "                                (&#x27;ord&#x27;,\n",
       "                                 Pipeline(steps=[(&#x27;simpleImputer_before_ord&#x27;,\n",
       "                                                  SimpleImputer(strategy=&#x27;m...\n",
       "                                                                 handle_unknown=&#x27;use_encoded_value&#x27;,\n",
       "                                                                 unknown_value=nan)),\n",
       "                                                 (&#x27;simpleImputer_after_ord&#x27;,\n",
       "                                                  SimpleImputer(strategy=&#x27;most_frequent&#x27;))]),\n",
       "                                 [&#x27;level&#x27;, &#x27;workload&#x27;]),\n",
       "                                (&#x27;num&#x27;,\n",
       "                                 Pipeline(steps=[(&#x27;imputer&#x27;, SimpleImputer()),\n",
       "                                                 (&#x27;scaler&#x27;, StandardScaler()),\n",
       "                                                 (&#x27;poly&#x27;,\n",
       "                                                  PolynomialFeatures(include_bias=False)),\n",
       "                                                 (&#x27;select&#x27;,\n",
       "                                                  SelectKBest(k=&#x27;all&#x27;))]),\n",
       "                                 [&#x27;employment_years&#x27;, &#x27;supervisor_evaluation&#x27;,\n",
       "                                  &#x27;salary&#x27;])])</pre></div> </div></div><div class=\"sk-parallel\"><div class=\"sk-parallel-item\"><div class=\"sk-item\"><div class=\"sk-label-container\"><div class=\"sk-label  sk-toggleable\"><input class=\"sk-toggleable__control sk-hidden--visually\" id=\"sk-estimator-id-2\" type=\"checkbox\" ><label for=\"sk-estimator-id-2\" class=\"sk-toggleable__label  sk-toggleable__label-arrow\"><div><div>ohe</div></div></label><div class=\"sk-toggleable__content \"><pre>[&#x27;dept&#x27;, &#x27;last_year_promo&#x27;, &#x27;last_year_violations&#x27;]</pre></div> </div></div><div class=\"sk-serial\"><div class=\"sk-item\"><div class=\"sk-serial\"><div class=\"sk-item\"><div class=\"sk-estimator  sk-toggleable\"><input class=\"sk-toggleable__control sk-hidden--visually\" id=\"sk-estimator-id-3\" type=\"checkbox\" ><label for=\"sk-estimator-id-3\" class=\"sk-toggleable__label  sk-toggleable__label-arrow\"><div><div>SimpleImputer</div></div><div><a class=\"sk-estimator-doc-link \" rel=\"noreferrer\" target=\"_blank\" href=\"https://scikit-learn.org/1.6/modules/generated/sklearn.impute.SimpleImputer.html\">?<span>Documentation for SimpleImputer</span></a></div></label><div class=\"sk-toggleable__content \"><pre>SimpleImputer(strategy=&#x27;most_frequent&#x27;)</pre></div> </div></div><div class=\"sk-item\"><div class=\"sk-estimator  sk-toggleable\"><input class=\"sk-toggleable__control sk-hidden--visually\" id=\"sk-estimator-id-4\" type=\"checkbox\" ><label for=\"sk-estimator-id-4\" class=\"sk-toggleable__label  sk-toggleable__label-arrow\"><div><div>OneHotEncoder</div></div><div><a class=\"sk-estimator-doc-link \" rel=\"noreferrer\" target=\"_blank\" href=\"https://scikit-learn.org/1.6/modules/generated/sklearn.preprocessing.OneHotEncoder.html\">?<span>Documentation for OneHotEncoder</span></a></div></label><div class=\"sk-toggleable__content \"><pre>OneHotEncoder(drop=&#x27;first&#x27;, handle_unknown=&#x27;ignore&#x27;, sparse_output=False)</pre></div> </div></div></div></div></div></div></div><div class=\"sk-parallel-item\"><div class=\"sk-item\"><div class=\"sk-label-container\"><div class=\"sk-label  sk-toggleable\"><input class=\"sk-toggleable__control sk-hidden--visually\" id=\"sk-estimator-id-5\" type=\"checkbox\" ><label for=\"sk-estimator-id-5\" class=\"sk-toggleable__label  sk-toggleable__label-arrow\"><div><div>ord</div></div></label><div class=\"sk-toggleable__content \"><pre>[&#x27;level&#x27;, &#x27;workload&#x27;]</pre></div> </div></div><div class=\"sk-serial\"><div class=\"sk-item\"><div class=\"sk-serial\"><div class=\"sk-item\"><div class=\"sk-estimator  sk-toggleable\"><input class=\"sk-toggleable__control sk-hidden--visually\" id=\"sk-estimator-id-6\" type=\"checkbox\" ><label for=\"sk-estimator-id-6\" class=\"sk-toggleable__label  sk-toggleable__label-arrow\"><div><div>SimpleImputer</div></div><div><a class=\"sk-estimator-doc-link \" rel=\"noreferrer\" target=\"_blank\" href=\"https://scikit-learn.org/1.6/modules/generated/sklearn.impute.SimpleImputer.html\">?<span>Documentation for SimpleImputer</span></a></div></label><div class=\"sk-toggleable__content \"><pre>SimpleImputer(strategy=&#x27;most_frequent&#x27;)</pre></div> </div></div><div class=\"sk-item\"><div class=\"sk-estimator  sk-toggleable\"><input class=\"sk-toggleable__control sk-hidden--visually\" id=\"sk-estimator-id-7\" type=\"checkbox\" ><label for=\"sk-estimator-id-7\" class=\"sk-toggleable__label  sk-toggleable__label-arrow\"><div><div>OrdinalEncoder</div></div><div><a class=\"sk-estimator-doc-link \" rel=\"noreferrer\" target=\"_blank\" href=\"https://scikit-learn.org/1.6/modules/generated/sklearn.preprocessing.OrdinalEncoder.html\">?<span>Documentation for OrdinalEncoder</span></a></div></label><div class=\"sk-toggleable__content \"><pre>OrdinalEncoder(categories=[[&#x27;junior&#x27;, &#x27;middle&#x27;, &#x27;sinior&#x27;],\n",
       "                           [&#x27;low&#x27;, &#x27;medium&#x27;, &#x27;high&#x27;]],\n",
       "               handle_unknown=&#x27;use_encoded_value&#x27;, unknown_value=nan)</pre></div> </div></div><div class=\"sk-item\"><div class=\"sk-estimator  sk-toggleable\"><input class=\"sk-toggleable__control sk-hidden--visually\" id=\"sk-estimator-id-8\" type=\"checkbox\" ><label for=\"sk-estimator-id-8\" class=\"sk-toggleable__label  sk-toggleable__label-arrow\"><div><div>SimpleImputer</div></div><div><a class=\"sk-estimator-doc-link \" rel=\"noreferrer\" target=\"_blank\" href=\"https://scikit-learn.org/1.6/modules/generated/sklearn.impute.SimpleImputer.html\">?<span>Documentation for SimpleImputer</span></a></div></label><div class=\"sk-toggleable__content \"><pre>SimpleImputer(strategy=&#x27;most_frequent&#x27;)</pre></div> </div></div></div></div></div></div></div><div class=\"sk-parallel-item\"><div class=\"sk-item\"><div class=\"sk-label-container\"><div class=\"sk-label  sk-toggleable\"><input class=\"sk-toggleable__control sk-hidden--visually\" id=\"sk-estimator-id-9\" type=\"checkbox\" ><label for=\"sk-estimator-id-9\" class=\"sk-toggleable__label  sk-toggleable__label-arrow\"><div><div>num</div></div></label><div class=\"sk-toggleable__content \"><pre>[&#x27;employment_years&#x27;, &#x27;supervisor_evaluation&#x27;, &#x27;salary&#x27;]</pre></div> </div></div><div class=\"sk-serial\"><div class=\"sk-item\"><div class=\"sk-serial\"><div class=\"sk-item\"><div class=\"sk-estimator  sk-toggleable\"><input class=\"sk-toggleable__control sk-hidden--visually\" id=\"sk-estimator-id-10\" type=\"checkbox\" ><label for=\"sk-estimator-id-10\" class=\"sk-toggleable__label  sk-toggleable__label-arrow\"><div><div>SimpleImputer</div></div><div><a class=\"sk-estimator-doc-link \" rel=\"noreferrer\" target=\"_blank\" href=\"https://scikit-learn.org/1.6/modules/generated/sklearn.impute.SimpleImputer.html\">?<span>Documentation for SimpleImputer</span></a></div></label><div class=\"sk-toggleable__content \"><pre>SimpleImputer()</pre></div> </div></div><div class=\"sk-item\"><div class=\"sk-estimator  sk-toggleable\"><input class=\"sk-toggleable__control sk-hidden--visually\" id=\"sk-estimator-id-11\" type=\"checkbox\" ><label for=\"sk-estimator-id-11\" class=\"sk-toggleable__label  sk-toggleable__label-arrow\"><div><div>StandardScaler</div></div><div><a class=\"sk-estimator-doc-link \" rel=\"noreferrer\" target=\"_blank\" href=\"https://scikit-learn.org/1.6/modules/generated/sklearn.preprocessing.StandardScaler.html\">?<span>Documentation for StandardScaler</span></a></div></label><div class=\"sk-toggleable__content \"><pre>StandardScaler()</pre></div> </div></div><div class=\"sk-item\"><div class=\"sk-estimator  sk-toggleable\"><input class=\"sk-toggleable__control sk-hidden--visually\" id=\"sk-estimator-id-12\" type=\"checkbox\" ><label for=\"sk-estimator-id-12\" class=\"sk-toggleable__label  sk-toggleable__label-arrow\"><div><div>PolynomialFeatures</div></div><div><a class=\"sk-estimator-doc-link \" rel=\"noreferrer\" target=\"_blank\" href=\"https://scikit-learn.org/1.6/modules/generated/sklearn.preprocessing.PolynomialFeatures.html\">?<span>Documentation for PolynomialFeatures</span></a></div></label><div class=\"sk-toggleable__content \"><pre>PolynomialFeatures(include_bias=False)</pre></div> </div></div><div class=\"sk-item\"><div class=\"sk-estimator  sk-toggleable\"><input class=\"sk-toggleable__control sk-hidden--visually\" id=\"sk-estimator-id-13\" type=\"checkbox\" ><label for=\"sk-estimator-id-13\" class=\"sk-toggleable__label  sk-toggleable__label-arrow\"><div><div>SelectKBest</div></div><div><a class=\"sk-estimator-doc-link \" rel=\"noreferrer\" target=\"_blank\" href=\"https://scikit-learn.org/1.6/modules/generated/sklearn.feature_selection.SelectKBest.html\">?<span>Documentation for SelectKBest</span></a></div></label><div class=\"sk-toggleable__content \"><pre>SelectKBest(k=&#x27;all&#x27;)</pre></div> </div></div></div></div></div></div></div><div class=\"sk-parallel-item\"><div class=\"sk-item\"><div class=\"sk-label-container\"><div class=\"sk-label  sk-toggleable\"><input class=\"sk-toggleable__control sk-hidden--visually\" id=\"sk-estimator-id-14\" type=\"checkbox\" ><label for=\"sk-estimator-id-14\" class=\"sk-toggleable__label  sk-toggleable__label-arrow\"><div><div>remainder</div></div></label><div class=\"sk-toggleable__content \"><pre></pre></div> </div></div><div class=\"sk-serial\"><div class=\"sk-item\"><div class=\"sk-estimator  sk-toggleable\"><input class=\"sk-toggleable__control sk-hidden--visually\" id=\"sk-estimator-id-15\" type=\"checkbox\" ><label for=\"sk-estimator-id-15\" class=\"sk-toggleable__label  sk-toggleable__label-arrow\"><div><div>passthrough</div></div></label><div class=\"sk-toggleable__content \"><pre>passthrough</pre></div> </div></div></div></div></div></div></div></div></div>"
      ],
      "text/plain": [
       "ColumnTransformer(remainder='passthrough',\n",
       "                  transformers=[('ohe',\n",
       "                                 Pipeline(steps=[('simpleImputer_ohe',\n",
       "                                                  SimpleImputer(strategy='most_frequent')),\n",
       "                                                 ('ohe',\n",
       "                                                  OneHotEncoder(drop='first',\n",
       "                                                                handle_unknown='ignore',\n",
       "                                                                sparse_output=False))]),\n",
       "                                 ['dept', 'last_year_promo',\n",
       "                                  'last_year_violations']),\n",
       "                                ('ord',\n",
       "                                 Pipeline(steps=[('simpleImputer_before_ord',\n",
       "                                                  SimpleImputer(strategy='m...\n",
       "                                                                 handle_unknown='use_encoded_value',\n",
       "                                                                 unknown_value=nan)),\n",
       "                                                 ('simpleImputer_after_ord',\n",
       "                                                  SimpleImputer(strategy='most_frequent'))]),\n",
       "                                 ['level', 'workload']),\n",
       "                                ('num',\n",
       "                                 Pipeline(steps=[('imputer', SimpleImputer()),\n",
       "                                                 ('scaler', StandardScaler()),\n",
       "                                                 ('poly',\n",
       "                                                  PolynomialFeatures(include_bias=False)),\n",
       "                                                 ('select',\n",
       "                                                  SelectKBest(k='all'))]),\n",
       "                                 ['employment_years', 'supervisor_evaluation',\n",
       "                                  'salary'])])"
      ]
     },
     "execution_count": 18,
     "metadata": {},
     "output_type": "execute_result"
    }
   ],
   "source": [
    "# Сортировка и сброс индекса для каждой таблицы\n",
    "train_rate_df = train_rate_df.sort_values(by='id').reset_index(drop=True)\n",
    "test_features_df = test_features_df.sort_values(by='id').reset_index(drop=True)\n",
    "test_target_df = test_target_df.sort_values(by='id').reset_index(drop=True)\n",
    "\n",
    "# Загрузка данных\n",
    "X_train = train_rate_df.drop(['id', 'job_satisfaction_rate'], axis=1)\n",
    "y_train = train_rate_df['job_satisfaction_rate']\n",
    "X_test = test_features_df.drop(['id'], axis=1)\n",
    "y_test = test_target_df['job_satisfaction_rate']\n",
    "\n",
    "print('количество дублированных строк во входных признаках тренировочной и тестовой выборок:', X_train.duplicated().sum(), X_test.duplicated().sum())\n",
    "print('размерность выборок:', X_train.shape, X_test.shape)\n",
    "# Списки признаков\n",
    "ohe_columns = ['dept', 'last_year_promo', 'last_year_violations']\n",
    "ord_columns = ['level', 'workload']\n",
    "num_columns = ['employment_years', \n",
    "               'supervisor_evaluation',\n",
    "               'salary'\n",
    "               ]\n",
    "\n",
    "# Пайплайн для OHE-кодирования\n",
    "ohe_pipe = Pipeline([\n",
    "    ('simpleImputer_ohe', SimpleImputer(missing_values=np.nan, strategy='most_frequent')),\n",
    "    ('ohe', OneHotEncoder(drop='first', handle_unknown='ignore', sparse_output=False))\n",
    "])\n",
    "\n",
    "# Пайплайн для Ordinal-кодирования\n",
    "ord_pipe = Pipeline([\n",
    "    ('simpleImputer_before_ord', SimpleImputer(missing_values=np.nan, strategy='most_frequent')),\n",
    "    ('ord', OrdinalEncoder(\n",
    "        categories=[\n",
    "            ['junior', 'middle', 'sinior'], \n",
    "            ['low', 'medium', 'high']\n",
    "        ], \n",
    "        handle_unknown='use_encoded_value', unknown_value=np.nan\n",
    "    )),\n",
    "    ('simpleImputer_after_ord', SimpleImputer(missing_values=np.nan, strategy='most_frequent'))\n",
    "])\n",
    "\n",
    "# Пайплайн для числовых данных с добавлением полиномиальных признаков\n",
    "num_pipe = Pipeline([\n",
    "    ('imputer', SimpleImputer(missing_values=np.nan, strategy='mean')),\n",
    "    ('scaler', StandardScaler()),\n",
    "    ('poly', PolynomialFeatures(degree=2, include_bias=False)), \n",
    "    ('select', SelectKBest(score_func=f_classif, k='all'))   \n",
    "])\n",
    "\n",
    "# Общий ColumnTransformer для подготовки данных\n",
    "data_preprocessor = ColumnTransformer([\n",
    "    ('ohe', ohe_pipe, ohe_columns),\n",
    "    ('ord', ord_pipe, ord_columns),\n",
    "    ('num', num_pipe, num_columns)\n",
    "], remainder='passthrough')\n",
    "\n",
    "data_preprocessor"
   ]
  },
  {
   "cell_type": "markdown",
   "id": "b07241a3",
   "metadata": {},
   "source": [
    "Для подготовки данных был создан единый пайплайн, включающий обработку пропусков, кодирование признаков и трансформацию числовых данных. Пропущенные значения заполнялись наиболее частыми значениями для категорий. \n",
    "\n",
    "Кодирование категорий выполнялось с использованием двух методов: One-Hot Encoding для номинальных данных и Ordinal Encoding для упорядоченных признаков. Это позволило учесть особенности данных и их важность для моделей.\n",
    "\n",
    "\n",
    "Числовые признаки были масштабированы с помощью StandardScaler для нормализации, дополнены полиномиальными признаками и сокращены до наиболее значимых с использованием SelectKBest. Такой подход помог учесть как линейные, так и нелинейные зависимости, улучшая качество данных для обучения. \n",
    "\n",
    "Созданный пайплайн позволяет эффективно объединять все этапы предобработки данных для моделей"
   ]
  },
  {
   "cell_type": "markdown",
   "id": "5b33f1e2",
   "metadata": {},
   "source": [
    "### Этап 5: Обучение моделей"
   ]
  },
  {
   "cell_type": "markdown",
   "id": "3645a39f",
   "metadata": {},
   "source": [
    "Обучим две модели: одну линейную, а в качестве второй — дерево решений. Подберем гиперпараметры для обеих моделей с помощью RandomizedSearchCV.\n",
    "\n",
    "Выберем лучшую модель и проверим её качество. Выбор будем делать на основе новой метрики — SMAPE («симметричное среднее абсолютное процентное отклонение»). "
   ]
  },
  {
   "cell_type": "code",
   "execution_count": 19,
   "id": "e0fc2f22",
   "metadata": {},
   "outputs": [
    {
     "name": "stdout",
     "output_type": "stream",
     "text": [
      " Поиск гиперпараметров для Linear Regression:\n",
      "Fitting 5 folds for each of 8 candidates, totalling 40 fits\n",
      " Linear Regression обучение завершено за 8.04 сек\n",
      "Лучшая модель (Linear Regression):\n",
      " Pipeline(steps=[('preprocessor',\n",
      "                 ColumnTransformer(remainder='passthrough',\n",
      "                                   transformers=[('ohe',\n",
      "                                                  Pipeline(steps=[('simpleImputer_ohe',\n",
      "                                                                   SimpleImputer(strategy='most_frequent')),\n",
      "                                                                  ('ohe',\n",
      "                                                                   OneHotEncoder(drop='first',\n",
      "                                                                                 handle_unknown='ignore',\n",
      "                                                                                 sparse_output=False))]),\n",
      "                                                  ['dept', 'last_year_promo',\n",
      "                                                   'last_year_violations']),\n",
      "                                                 ('ord',\n",
      "                                                  Pipeline(steps=[('simpleImputer_befor...\n",
      "                                                                                  unknown_value=nan)),\n",
      "                                                                  ('simpleImputer_after_ord',\n",
      "                                                                   SimpleImputer(strategy='most_frequent'))]),\n",
      "                                                  ['level', 'workload']),\n",
      "                                                 ('num',\n",
      "                                                  Pipeline(steps=[('imputer',\n",
      "                                                                   SimpleImputer()),\n",
      "                                                                  ('scaler',\n",
      "                                                                   MinMaxScaler()),\n",
      "                                                                  ('poly',\n",
      "                                                                   PolynomialFeatures(include_bias=False)),\n",
      "                                                                  ('select',\n",
      "                                                                   SelectKBest(k='all'))]),\n",
      "                                                  ['employment_years',\n",
      "                                                   'supervisor_evaluation',\n",
      "                                                   'salary'])])),\n",
      "                ('model', LinearRegression())])\n",
      "SMAPE (кросс-валидация): 22.76470113496231\n",
      "\n",
      " Поиск гиперпараметров для Random Forest:\n",
      "Fitting 5 folds for each of 8 candidates, totalling 40 fits\n",
      " Random Forest обучение завершено за 17.0 сек\n",
      "Лучшая модель (Random Forest):\n",
      " Pipeline(steps=[('preprocessor',\n",
      "                 ColumnTransformer(remainder='passthrough',\n",
      "                                   transformers=[('ohe',\n",
      "                                                  Pipeline(steps=[('simpleImputer_ohe',\n",
      "                                                                   SimpleImputer(strategy='most_frequent')),\n",
      "                                                                  ('ohe',\n",
      "                                                                   OneHotEncoder(drop='first',\n",
      "                                                                                 handle_unknown='ignore',\n",
      "                                                                                 sparse_output=False))]),\n",
      "                                                  ['dept', 'last_year_promo',\n",
      "                                                   'last_year_violations']),\n",
      "                                                 ('ord',\n",
      "                                                  Pipeline(steps=[('simpleImputer_befor...\n",
      "                                                                   SimpleImputer(strategy='most_frequent'))]),\n",
      "                                                  ['level', 'workload']),\n",
      "                                                 ('num',\n",
      "                                                  Pipeline(steps=[('imputer',\n",
      "                                                                   SimpleImputer()),\n",
      "                                                                  ('scaler',\n",
      "                                                                   'passthrough'),\n",
      "                                                                  ('poly',\n",
      "                                                                   PolynomialFeatures(degree=1,\n",
      "                                                                                      include_bias=False)),\n",
      "                                                                  ('select',\n",
      "                                                                   SelectKBest(k='all'))]),\n",
      "                                                  ['employment_years',\n",
      "                                                   'supervisor_evaluation',\n",
      "                                                   'salary'])])),\n",
      "                ('model',\n",
      "                 RandomForestRegressor(max_depth=8, min_samples_leaf=3,\n",
      "                                       n_estimators=50, random_state=42))])\n",
      "SMAPE (кросс-валидация): 15.879921557895875\n",
      "\n",
      " Лучшая модель: Random Forest\n",
      "SMAPE на кросс-валидации: 15.8799\n",
      " SMAPE на тестовой выборке (Random Forest): 14.9506\n"
     ]
    }
   ],
   "source": [
    "# Собственная метрика SMAPE\n",
    "def smape_scorer(y_true, y_pred):\n",
    "    return 100 / len(y_true) * np.sum(2 * np.abs(y_pred - y_true) / (np.abs(y_true) + np.abs(y_pred)))\n",
    "\n",
    "scorer = make_scorer(smape_scorer, greater_is_better=False)\n",
    "\n",
    "# Пайплайн для линейной регрессии\n",
    "model_lr = Pipeline([\n",
    "    ('preprocessor', data_preprocessor),\n",
    "    ('model', LinearRegression())\n",
    "])\n",
    "\n",
    "param_grid_lr = {\n",
    "    'preprocessor__num__scaler': [StandardScaler(), MinMaxScaler(), RobustScaler(), 'passthrough'],\n",
    "    'preprocessor__num__poly__degree': [1, 2]\n",
    "}\n",
    "\n",
    "print(\" Поиск гиперпараметров для Linear Regression:\")\n",
    "start = time.time()\n",
    "linear_mod_rs = RandomizedSearchCV(\n",
    "    model_lr,\n",
    "    param_distributions=param_grid_lr,\n",
    "    cv=5,\n",
    "    scoring=scorer,\n",
    "    random_state=RANDOM_STATE,\n",
    "    n_jobs=-1,\n",
    "    n_iter=8,\n",
    "    verbose=1\n",
    ")\n",
    "linear_mod_rs.fit(X_train, y_train)\n",
    "print(f\" Linear Regression обучение завершено за {round(time.time() - start, 2)} сек\")\n",
    "print(\"Лучшая модель (Linear Regression):\\n\", linear_mod_rs.best_estimator_)\n",
    "print(\"SMAPE (кросс-валидация):\", -linear_mod_rs.best_score_)\n",
    "\n",
    "# Пайплайн для Random Forest\n",
    "model_rf = Pipeline([\n",
    "    ('preprocessor', data_preprocessor),\n",
    "    ('model', RandomForestRegressor(random_state=RANDOM_STATE))\n",
    "])\n",
    "\n",
    "param_grid_rf = {\n",
    "    'preprocessor__num__scaler': [StandardScaler(), MinMaxScaler(), RobustScaler(), 'passthrough'],\n",
    "    'preprocessor__num__poly__degree': [1, 2, 3],\n",
    "    'model__n_estimators': [50, 100, 150],\n",
    "    'model__max_depth': [4, 6, 8],\n",
    "    'model__min_samples_leaf': [3, 5, 10]\n",
    "}\n",
    "\n",
    "print(\"\\n Поиск гиперпараметров для Random Forest:\")\n",
    "start = time.time()\n",
    "forest_mod_rs = RandomizedSearchCV(\n",
    "    model_rf,\n",
    "    param_distributions=param_grid_rf,\n",
    "    cv=5,\n",
    "    scoring=scorer,\n",
    "    random_state=RANDOM_STATE,\n",
    "    n_iter=8,\n",
    "    n_jobs=-1,\n",
    "    verbose=1\n",
    ")\n",
    "forest_mod_rs.fit(X_train, y_train)\n",
    "print(f\" Random Forest обучение завершено за {round(time.time() - start, 2)} сек\")\n",
    "print(\"Лучшая модель (Random Forest):\\n\", forest_mod_rs.best_estimator_)\n",
    "print(\"SMAPE (кросс-валидация):\", -forest_mod_rs.best_score_)\n",
    "\n",
    "# Выбор лучшей модели\n",
    "if linear_mod_rs.best_score_ > forest_mod_rs.best_score_:\n",
    "    best_model = linear_mod_rs.best_estimator_\n",
    "    best_name = \"Linear Regression\"\n",
    "    best_cv_score = -linear_mod_rs.best_score_\n",
    "else:\n",
    "    best_model = forest_mod_rs.best_estimator_\n",
    "    best_name = \"Random Forest\"\n",
    "    best_cv_score = -forest_mod_rs.best_score_\n",
    "\n",
    "print(f\"\\n Лучшая модель: {best_name}\")\n",
    "print(f\"SMAPE на кросс-валидации: {best_cv_score:.4f}\")\n",
    "\n",
    "# Оценка на тестовой выборке \n",
    "y_test_pred = best_model.predict(X_test)\n",
    "smape_test = smape_scorer(y_test, y_test_pred)\n",
    "print(f\" SMAPE на тестовой выборке ({best_name}): {smape_test:.4f}\")"
   ]
  },
  {
   "cell_type": "markdown",
   "id": "8bb13f32",
   "metadata": {},
   "source": [
    "1. Линейная регрессия\n",
    "\n",
    "\n",
    "Лучший результат для линейной регрессии был достигнут с помощью MinMaxScaler и PolynomialFeatures без включения лишних признаков.\n",
    "\n",
    "Результаты:\n",
    "Метрика SMAPE на тренировочной выборке: 22.76 — модель способна хорошо адаптироваться к обучающим данным.\n",
    "\n",
    "\n",
    "\n",
    "2. Random Forest\n",
    "\n",
    "\n",
    "Лучший результат достигнут при:\n",
    "max_depth=8 — ограниченная глубина дерева помогает избежать переобучения.\n",
    "min_samples_leaf=3 — регулировка количества признаков делает модель стабильной.\n",
    "\n",
    "Метрика SMAPE на тестовой выборке: 14.95 — модель показывает лучшее качество на тестовых данных, и достигает цели SMAPE <= 15."
   ]
  },
  {
   "cell_type": "code",
   "execution_count": 20,
   "id": "4d87f8be",
   "metadata": {},
   "outputs": [
    {
     "data": {
      "text/html": [
       "<div>\n",
       "<style scoped>\n",
       "    .dataframe tbody tr th:only-of-type {\n",
       "        vertical-align: middle;\n",
       "    }\n",
       "\n",
       "    .dataframe tbody tr th {\n",
       "        vertical-align: top;\n",
       "    }\n",
       "\n",
       "    .dataframe thead th {\n",
       "        text-align: right;\n",
       "    }\n",
       "</style>\n",
       "<table border=\"1\" class=\"dataframe\">\n",
       "  <thead>\n",
       "    <tr style=\"text-align: right;\">\n",
       "      <th></th>\n",
       "      <th>Feature</th>\n",
       "      <th>Coefficient</th>\n",
       "    </tr>\n",
       "  </thead>\n",
       "  <tbody>\n",
       "    <tr>\n",
       "      <th>10</th>\n",
       "      <td>num__salary</td>\n",
       "      <td>1.906498</td>\n",
       "    </tr>\n",
       "    <tr>\n",
       "      <th>8</th>\n",
       "      <td>num__employment_years</td>\n",
       "      <td>0.448420</td>\n",
       "    </tr>\n",
       "    <tr>\n",
       "      <th>9</th>\n",
       "      <td>num__supervisor_evaluation</td>\n",
       "      <td>0.281194</td>\n",
       "    </tr>\n",
       "    <tr>\n",
       "      <th>14</th>\n",
       "      <td>num__supervisor_evaluation^2</td>\n",
       "      <td>0.236402</td>\n",
       "    </tr>\n",
       "    <tr>\n",
       "      <th>4</th>\n",
       "      <td>ohe__last_year_promo_yes</td>\n",
       "      <td>0.161178</td>\n",
       "    </tr>\n",
       "    <tr>\n",
       "      <th>12</th>\n",
       "      <td>num__employment_years supervisor_evaluation</td>\n",
       "      <td>0.055189</td>\n",
       "    </tr>\n",
       "    <tr>\n",
       "      <th>1</th>\n",
       "      <td>ohe__dept_purchasing</td>\n",
       "      <td>0.019204</td>\n",
       "    </tr>\n",
       "    <tr>\n",
       "      <th>2</th>\n",
       "      <td>ohe__dept_sales</td>\n",
       "      <td>0.009791</td>\n",
       "    </tr>\n",
       "    <tr>\n",
       "      <th>0</th>\n",
       "      <td>ohe__dept_marketing</td>\n",
       "      <td>-0.033455</td>\n",
       "    </tr>\n",
       "    <tr>\n",
       "      <th>15</th>\n",
       "      <td>num__supervisor_evaluation salary</td>\n",
       "      <td>-0.086806</td>\n",
       "    </tr>\n",
       "    <tr>\n",
       "      <th>3</th>\n",
       "      <td>ohe__dept_technology</td>\n",
       "      <td>-0.093452</td>\n",
       "    </tr>\n",
       "    <tr>\n",
       "      <th>13</th>\n",
       "      <td>num__employment_years salary</td>\n",
       "      <td>-0.094975</td>\n",
       "    </tr>\n",
       "    <tr>\n",
       "      <th>5</th>\n",
       "      <td>ohe__last_year_violations_yes</td>\n",
       "      <td>-0.164338</td>\n",
       "    </tr>\n",
       "    <tr>\n",
       "      <th>11</th>\n",
       "      <td>num__employment_years^2</td>\n",
       "      <td>-0.203339</td>\n",
       "    </tr>\n",
       "    <tr>\n",
       "      <th>7</th>\n",
       "      <td>ord__workload</td>\n",
       "      <td>-0.215135</td>\n",
       "    </tr>\n",
       "    <tr>\n",
       "      <th>6</th>\n",
       "      <td>ord__level</td>\n",
       "      <td>-0.294306</td>\n",
       "    </tr>\n",
       "    <tr>\n",
       "      <th>16</th>\n",
       "      <td>num__salary^2</td>\n",
       "      <td>-0.724703</td>\n",
       "    </tr>\n",
       "  </tbody>\n",
       "</table>\n",
       "</div>"
      ],
      "text/plain": [
       "                                        Feature  Coefficient\n",
       "10                                  num__salary     1.906498\n",
       "8                         num__employment_years     0.448420\n",
       "9                    num__supervisor_evaluation     0.281194\n",
       "14                 num__supervisor_evaluation^2     0.236402\n",
       "4                      ohe__last_year_promo_yes     0.161178\n",
       "12  num__employment_years supervisor_evaluation     0.055189\n",
       "1                          ohe__dept_purchasing     0.019204\n",
       "2                               ohe__dept_sales     0.009791\n",
       "0                           ohe__dept_marketing    -0.033455\n",
       "15            num__supervisor_evaluation salary    -0.086806\n",
       "3                          ohe__dept_technology    -0.093452\n",
       "13                 num__employment_years salary    -0.094975\n",
       "5                 ohe__last_year_violations_yes    -0.164338\n",
       "11                      num__employment_years^2    -0.203339\n",
       "7                                 ord__workload    -0.215135\n",
       "6                                    ord__level    -0.294306\n",
       "16                                num__salary^2    -0.724703"
      ]
     },
     "execution_count": 20,
     "metadata": {},
     "output_type": "execute_result"
    }
   ],
   "source": [
    "# обучаем пайплайн предобработки\n",
    "data_preprocessor.fit(X_train, y_train)\n",
    "\n",
    "# определяем коэффициенты признаков\n",
    "lr_coeffs = linear_mod_rs.best_estimator_.named_steps['model'].coef_\n",
    "\n",
    "# Извлечение названий признаков\n",
    "processed_features = data_preprocessor.get_feature_names_out()\n",
    "\n",
    "# Создание таблицы\n",
    "coefficients_table = pd.DataFrame({ \n",
    "    'Feature': processed_features,           \n",
    "    'Coefficient': lr_coeffs                \n",
    "})\n",
    "\n",
    "coefficients_table.sort_values(by='Coefficient', ascending=False)"
   ]
  },
  {
   "cell_type": "markdown",
   "id": "5e1a29fa",
   "metadata": {},
   "source": [
    "Коэффициенты линейной регрессии показывают, что наиболее значимыми являются признаки num__salary, num__employment_years и num__supervisor_evaluation. "
   ]
  },
  {
   "cell_type": "code",
   "execution_count": 21,
   "id": "94aec23b",
   "metadata": {},
   "outputs": [
    {
     "name": "stdout",
     "output_type": "stream",
     "text": [
      "                          Feature  Importance\n",
      "9      num__supervisor_evaluation    0.721870\n",
      "8           num__employment_years    0.081467\n",
      "5   ohe__last_year_violations_yes    0.055277\n",
      "10                    num__salary    0.053544\n",
      "6                      ord__level    0.044713\n",
      "7                   ord__workload    0.014284\n",
      "4        ohe__last_year_promo_yes    0.011202\n",
      "0             ohe__dept_marketing    0.006251\n",
      "2                 ohe__dept_sales    0.006132\n",
      "3            ohe__dept_technology    0.003783\n",
      "1            ohe__dept_purchasing    0.001478\n"
     ]
    }
   ],
   "source": [
    "# Убедимся, что пайплайн обучен\n",
    "data_preprocessor.fit(X_train, y_train)\n",
    "\n",
    "# Извлечение названий обработанных признаков\n",
    "processed_features = data_preprocessor.get_feature_names_out()\n",
    "\n",
    "# Вывод названий и значимости признаков дерева решений\n",
    "model = forest_mod_rs.best_estimator_.named_steps['model']\n",
    "importances = model.feature_importances_\n",
    "\n",
    "# Убедимся, что длины совпадают\n",
    "if len(processed_features) > len(importances):\n",
    "    processed_features = processed_features[:len(importances)]\n",
    "\n",
    "# Создаём таблицу\n",
    "importances_table = pd.DataFrame({\n",
    "    'Feature': processed_features,\n",
    "    'Importance': importances\n",
    "})\n",
    "\n",
    "# Сортировка по важности\n",
    "importances_table = importances_table.sort_values(by='Importance', ascending=False)\n",
    "\n",
    "# Вывод таблицы\n",
    "print(importances_table)"
   ]
  },
  {
   "cell_type": "markdown",
   "id": "360bc079",
   "metadata": {},
   "source": [
    "Наиболее значимый признак — num__supervisor_evaluation с важностью 0.72, за ним следуют num__salary (0.05) и num__employment_years (0.08)."
   ]
  },
  {
   "cell_type": "code",
   "execution_count": 22,
   "id": "96e0aa23",
   "metadata": {},
   "outputs": [
    {
     "data": {
      "image/png": "[encoded data removed]",
      "text/plain": [
       "<Figure size 576x597.6 with 1 Axes>"
      ]
     },
     "metadata": {
      "needs_background": "light"
     },
     "output_type": "display_data"
    },
    {
     "data": {
      "image/png": "[encoded data removed]",
      "text/plain": [
       "<Figure size 576x597.6 with 2 Axes>"
      ]
     },
     "metadata": {
      "needs_background": "light"
     },
     "output_type": "display_data"
    }
   ],
   "source": [
    "# Преобразуем обучающие данные\n",
    "X_train_transformed = data_preprocessor.transform(X_train)\n",
    "\n",
    "# Получаем названия признаков и обрезаем до нужной длины\n",
    "feature_names = data_preprocessor.get_feature_names_out()\n",
    "\n",
    "# Инициализация SHAP-объяснителя\n",
    "explainer = shap.TreeExplainer(model)\n",
    "shap_values = explainer.shap_values(X_train_transformed)\n",
    "\n",
    "# Построение bar plot\n",
    "shap.summary_plot(shap_values, X_train_transformed, feature_names=feature_names, plot_type=\"bar\")\n",
    "\n",
    "# Построение summary plot\n",
    "shap.summary_plot(shap_values, X_train_transformed, feature_names=feature_names)"
   ]
  },
  {
   "cell_type": "markdown",
   "id": "e4a128eb",
   "metadata": {},
   "source": [
    "Shap-графики подтвердили, что наиболее важным признаком является num__supervisor_evaluation. Более высокие оценки руководства уводят предсказанные значения в сторону понижения. наличие нарушений трудового договора в прошлом году чаще уводит в сторону роста значения.\n",
    "\n",
    "Также можно отметить, что умноженные друг на друга или полиноминальные признаки в степени выше единицы влияют на предсказания модели меньше."
   ]
  },
  {
   "cell_type": "markdown",
   "id": "4c9dcb7a",
   "metadata": {},
   "source": [
    "### Этап 6: Оформление выводов"
   ]
  },
  {
   "cell_type": "markdown",
   "id": "dad31f31",
   "metadata": {},
   "source": [
    "1. Линейная регрессия\n",
    " \n",
    "\n",
    "Линейная регрессия показала лучшие результаты на тренировочной выборке при использовании MinMaxScaler и простых полиномиальных признаков.\n",
    "\n",
    "Линейная регрессия, возможно, не уловила сложные взаимосвязи между признаками, такие как взаимодействия числовых данных или нелинейные зависимости. Это видно по распределению коэффициентов: несколько признаков имеют минимальное влияние, например, ohe__dept_sales, ohe__dept_purchasing, а ключевыми остаются num__salary и num__employment_years.\n",
    "\n",
    "2. Случайный лес\n",
    "\n",
    "\n",
    "Лучший результат был достигнут с глубиной max_depth=8 и минимальным количеством объектов в листе min_samples_leaf=3.\n",
    "\n",
    "Случайный лес может быть чувствительным к малому объему данных или распределению целевого признака. Хотя модель уловила важность некоторых признаков (num__supervisor_evaluation), она не смогла достаточно эффективно использовать остальные."
   ]
  },
  {
   "cell_type": "markdown",
   "id": "52214008",
   "metadata": {},
   "source": [
    "## Задача 2: предсказание увольнения сотрудника из компании\n"
   ]
  },
  {
   "cell_type": "markdown",
   "id": "04eec26d",
   "metadata": {},
   "source": [
    "### Этап 1: Загрузка данных"
   ]
  },
  {
   "cell_type": "code",
   "execution_count": 23,
   "id": "888a8a60",
   "metadata": {},
   "outputs": [],
   "source": [
    "train_quit_df = pd.read_csv('/datasets/train_quit.csv', decimal = '.')\n",
    "test_target_quit_df = pd.read_csv('/datasets/test_target_quit.csv', decimal = '.')"
   ]
  },
  {
   "cell_type": "markdown",
   "id": "4c295ef3",
   "metadata": {},
   "source": [
    "###  Этап 2: Предобработка данных"
   ]
  },
  {
   "cell_type": "markdown",
   "id": "0392e26b",
   "metadata": {},
   "source": [
    "Изучим данные и при необходимости выполним предобработку. Если есть пропуски, заполним их в пайплайне."
   ]
  },
  {
   "cell_type": "code",
   "execution_count": 24,
   "id": "afe4c365",
   "metadata": {},
   "outputs": [
    {
     "name": "stdout",
     "output_type": "stream",
     "text": [
      "\n",
      "--- Информация о DataFrame ---\n",
      "<class 'pandas.core.frame.DataFrame'>\n",
      "RangeIndex: 4000 entries, 0 to 3999\n",
      "Data columns (total 10 columns):\n",
      " #   Column                 Non-Null Count  Dtype \n",
      "---  ------                 --------------  ----- \n",
      " 0   id                     4000 non-null   int64 \n",
      " 1   dept                   4000 non-null   object\n",
      " 2   level                  4000 non-null   object\n",
      " 3   workload               4000 non-null   object\n",
      " 4   employment_years       4000 non-null   int64 \n",
      " 5   last_year_promo        4000 non-null   object\n",
      " 6   last_year_violations   4000 non-null   object\n",
      " 7   supervisor_evaluation  4000 non-null   int64 \n",
      " 8   salary                 4000 non-null   int64 \n",
      " 9   quit                   4000 non-null   object\n",
      "dtypes: int64(4), object(6)\n",
      "memory usage: 312.6+ KB\n",
      "\n",
      "--- Названия столбцов после преобразования ---\n",
      "id, dept, level, workload, employment_years, last_year_promo, last_year_violations, supervisor_evaluation, salary, quit\n",
      "\n",
      "--- Количество дублированных строк до удаления: 0 ---\n",
      "\n",
      "--- Количество дублированных строк после удаления: 0 ---\n",
      "id                       0\n",
      "dept                     0\n",
      "level                    0\n",
      "workload                 0\n",
      "employment_years         0\n",
      "last_year_promo          0\n",
      "last_year_violations     0\n",
      "supervisor_evaluation    0\n",
      "salary                   0\n",
      "quit                     0\n",
      "dtype: int64\n",
      "\n",
      "--- Уникальные значения в категориальных и строковых столбцах ---\n",
      "Столбец 'dept': ['sales' 'purchasing' 'marketing' 'technology' 'hr']\n",
      "Столбец 'level': ['middle' 'junior' 'sinior']\n",
      "Столбец 'workload': ['high' 'medium' 'low']\n",
      "Столбец 'last_year_promo': ['no' 'yes']\n",
      "Столбец 'last_year_violations': ['no' 'yes']\n",
      "Столбец 'quit': ['no' 'yes']\n",
      "\n",
      "--- Описание числовых столбцов ---\n",
      "              id  employment_years  supervisor_evaluation    salary\n",
      "count    4000.00           4000.00                4000.00   4000.00\n",
      "mean   552099.28              3.70                   3.47  33805.80\n",
      "std    260158.03              2.54                   1.00  15152.42\n",
      "min    100222.00              1.00                   1.00  12000.00\n",
      "25%    327785.75              2.00                   3.00  22800.00\n",
      "50%    546673.00              3.00                   4.00  30000.00\n",
      "75%    781497.75              6.00                   4.00  43200.00\n",
      "max    999915.00             10.00                   5.00  96000.00\n"
     ]
    },
    {
     "data": {
      "text/html": [
       "<div>\n",
       "<style scoped>\n",
       "    .dataframe tbody tr th:only-of-type {\n",
       "        vertical-align: middle;\n",
       "    }\n",
       "\n",
       "    .dataframe tbody tr th {\n",
       "        vertical-align: top;\n",
       "    }\n",
       "\n",
       "    .dataframe thead th {\n",
       "        text-align: right;\n",
       "    }\n",
       "</style>\n",
       "<table border=\"1\" class=\"dataframe\">\n",
       "  <thead>\n",
       "    <tr style=\"text-align: right;\">\n",
       "      <th></th>\n",
       "      <th>id</th>\n",
       "      <th>dept</th>\n",
       "      <th>level</th>\n",
       "      <th>workload</th>\n",
       "      <th>employment_years</th>\n",
       "      <th>last_year_promo</th>\n",
       "      <th>last_year_violations</th>\n",
       "      <th>supervisor_evaluation</th>\n",
       "      <th>salary</th>\n",
       "      <th>quit</th>\n",
       "    </tr>\n",
       "  </thead>\n",
       "  <tbody>\n",
       "    <tr>\n",
       "      <th>0</th>\n",
       "      <td>723290</td>\n",
       "      <td>sales</td>\n",
       "      <td>middle</td>\n",
       "      <td>high</td>\n",
       "      <td>2</td>\n",
       "      <td>no</td>\n",
       "      <td>no</td>\n",
       "      <td>4</td>\n",
       "      <td>54000</td>\n",
       "      <td>no</td>\n",
       "    </tr>\n",
       "    <tr>\n",
       "      <th>1</th>\n",
       "      <td>814010</td>\n",
       "      <td>sales</td>\n",
       "      <td>junior</td>\n",
       "      <td>medium</td>\n",
       "      <td>2</td>\n",
       "      <td>no</td>\n",
       "      <td>no</td>\n",
       "      <td>4</td>\n",
       "      <td>27600</td>\n",
       "      <td>no</td>\n",
       "    </tr>\n",
       "    <tr>\n",
       "      <th>2</th>\n",
       "      <td>155091</td>\n",
       "      <td>purchasing</td>\n",
       "      <td>middle</td>\n",
       "      <td>medium</td>\n",
       "      <td>5</td>\n",
       "      <td>no</td>\n",
       "      <td>no</td>\n",
       "      <td>1</td>\n",
       "      <td>37200</td>\n",
       "      <td>no</td>\n",
       "    </tr>\n",
       "    <tr>\n",
       "      <th>3</th>\n",
       "      <td>257132</td>\n",
       "      <td>sales</td>\n",
       "      <td>junior</td>\n",
       "      <td>medium</td>\n",
       "      <td>2</td>\n",
       "      <td>no</td>\n",
       "      <td>yes</td>\n",
       "      <td>3</td>\n",
       "      <td>24000</td>\n",
       "      <td>yes</td>\n",
       "    </tr>\n",
       "    <tr>\n",
       "      <th>4</th>\n",
       "      <td>910140</td>\n",
       "      <td>marketing</td>\n",
       "      <td>junior</td>\n",
       "      <td>medium</td>\n",
       "      <td>2</td>\n",
       "      <td>no</td>\n",
       "      <td>no</td>\n",
       "      <td>5</td>\n",
       "      <td>25200</td>\n",
       "      <td>no</td>\n",
       "    </tr>\n",
       "  </tbody>\n",
       "</table>\n",
       "</div>"
      ],
      "text/plain": [
       "       id        dept   level workload  employment_years last_year_promo  \\\n",
       "0  723290       sales  middle     high                 2              no   \n",
       "1  814010       sales  junior   medium                 2              no   \n",
       "2  155091  purchasing  middle   medium                 5              no   \n",
       "3  257132       sales  junior   medium                 2              no   \n",
       "4  910140   marketing  junior   medium                 2              no   \n",
       "\n",
       "  last_year_violations  supervisor_evaluation  salary quit  \n",
       "0                   no                      4   54000   no  \n",
       "1                   no                      4   27600   no  \n",
       "2                   no                      1   37200   no  \n",
       "3                  yes                      3   24000  yes  \n",
       "4                   no                      5   25200   no  "
      ]
     },
     "metadata": {},
     "output_type": "display_data"
    }
   ],
   "source": [
    "# просмотрим информацию о первой таблице\n",
    "preprocess_csv(train_quit_df)"
   ]
  },
  {
   "cell_type": "markdown",
   "id": "c903cf65",
   "metadata": {},
   "source": [
    "с первой таблицей все в порядке, вторую мы рассматривать не будем так как она не отличается от той, которую мы рассматривали в первой задаче"
   ]
  },
  {
   "cell_type": "code",
   "execution_count": 25,
   "id": "a0f11c62",
   "metadata": {},
   "outputs": [
    {
     "name": "stdout",
     "output_type": "stream",
     "text": [
      "\n",
      "--- Информация о DataFrame ---\n",
      "<class 'pandas.core.frame.DataFrame'>\n",
      "RangeIndex: 2000 entries, 0 to 1999\n",
      "Data columns (total 9 columns):\n",
      " #   Column                 Non-Null Count  Dtype \n",
      "---  ------                 --------------  ----- \n",
      " 0   id                     2000 non-null   int64 \n",
      " 1   dept                   1997 non-null   object\n",
      " 2   level                  1999 non-null   object\n",
      " 3   workload               1999 non-null   object\n",
      " 4   employment_years       2000 non-null   int64 \n",
      " 5   last_year_promo        2000 non-null   object\n",
      " 6   last_year_violations   2000 non-null   object\n",
      " 7   supervisor_evaluation  2000 non-null   int64 \n",
      " 8   salary                 2000 non-null   int64 \n",
      "dtypes: int64(4), object(5)\n",
      "memory usage: 140.8+ KB\n",
      "\n",
      "--- Названия столбцов после преобразования ---\n",
      "id, dept, level, workload, employment_years, last_year_promo, last_year_violations, supervisor_evaluation, salary\n",
      "\n",
      "--- Количество дублированных строк до удаления: 0 ---\n",
      "\n",
      "--- Количество дублированных строк после удаления: 0 ---\n",
      "id                       0\n",
      "dept                     3\n",
      "level                    1\n",
      "workload                 1\n",
      "employment_years         0\n",
      "last_year_promo          0\n",
      "last_year_violations     0\n",
      "supervisor_evaluation    0\n",
      "salary                   0\n",
      "dtype: int64\n",
      "\n",
      "--- Уникальные значения в категориальных и строковых столбцах ---\n",
      "Столбец 'dept': ['hr' 'marketing' 'purchasing' 'sales' 'technology' nan]\n",
      "Столбец 'level': ['junior' 'middle' 'sinior' nan]\n",
      "Столбец 'workload': ['low' 'high' 'medium' nan]\n",
      "Столбец 'last_year_promo': ['no' 'yes']\n",
      "Столбец 'last_year_violations': ['no' 'yes']\n",
      "\n",
      "--- Описание числовых столбцов ---\n",
      "              id  employment_years  supervisor_evaluation    salary\n",
      "count    2000.00           2000.00                2000.00   2000.00\n",
      "mean   552765.21              3.67                   3.53  34066.80\n",
      "std    253851.33              2.54                   1.00  15398.44\n",
      "min    100298.00              1.00                   1.00  12000.00\n",
      "25%    339052.00              1.00                   3.00  22800.00\n",
      "50%    550793.00              3.00                   4.00  30000.00\n",
      "75%    765763.75              6.00                   4.00  43200.00\n",
      "max    999029.00             10.00                   5.00  96000.00\n"
     ]
    },
    {
     "data": {
      "text/html": [
       "<div>\n",
       "<style scoped>\n",
       "    .dataframe tbody tr th:only-of-type {\n",
       "        vertical-align: middle;\n",
       "    }\n",
       "\n",
       "    .dataframe tbody tr th {\n",
       "        vertical-align: top;\n",
       "    }\n",
       "\n",
       "    .dataframe thead th {\n",
       "        text-align: right;\n",
       "    }\n",
       "</style>\n",
       "<table border=\"1\" class=\"dataframe\">\n",
       "  <thead>\n",
       "    <tr style=\"text-align: right;\">\n",
       "      <th></th>\n",
       "      <th>id</th>\n",
       "      <th>dept</th>\n",
       "      <th>level</th>\n",
       "      <th>workload</th>\n",
       "      <th>employment_years</th>\n",
       "      <th>last_year_promo</th>\n",
       "      <th>last_year_violations</th>\n",
       "      <th>supervisor_evaluation</th>\n",
       "      <th>salary</th>\n",
       "    </tr>\n",
       "  </thead>\n",
       "  <tbody>\n",
       "    <tr>\n",
       "      <th>0</th>\n",
       "      <td>100298</td>\n",
       "      <td>hr</td>\n",
       "      <td>junior</td>\n",
       "      <td>low</td>\n",
       "      <td>2</td>\n",
       "      <td>no</td>\n",
       "      <td>no</td>\n",
       "      <td>4</td>\n",
       "      <td>19200</td>\n",
       "    </tr>\n",
       "    <tr>\n",
       "      <th>1</th>\n",
       "      <td>100480</td>\n",
       "      <td>marketing</td>\n",
       "      <td>junior</td>\n",
       "      <td>low</td>\n",
       "      <td>4</td>\n",
       "      <td>no</td>\n",
       "      <td>no</td>\n",
       "      <td>4</td>\n",
       "      <td>16800</td>\n",
       "    </tr>\n",
       "    <tr>\n",
       "      <th>2</th>\n",
       "      <td>100503</td>\n",
       "      <td>purchasing</td>\n",
       "      <td>middle</td>\n",
       "      <td>high</td>\n",
       "      <td>5</td>\n",
       "      <td>no</td>\n",
       "      <td>no</td>\n",
       "      <td>4</td>\n",
       "      <td>55200</td>\n",
       "    </tr>\n",
       "    <tr>\n",
       "      <th>3</th>\n",
       "      <td>100610</td>\n",
       "      <td>sales</td>\n",
       "      <td>middle</td>\n",
       "      <td>medium</td>\n",
       "      <td>5</td>\n",
       "      <td>no</td>\n",
       "      <td>no</td>\n",
       "      <td>4</td>\n",
       "      <td>43200</td>\n",
       "    </tr>\n",
       "    <tr>\n",
       "      <th>4</th>\n",
       "      <td>100692</td>\n",
       "      <td>sales</td>\n",
       "      <td>middle</td>\n",
       "      <td>high</td>\n",
       "      <td>6</td>\n",
       "      <td>no</td>\n",
       "      <td>no</td>\n",
       "      <td>4</td>\n",
       "      <td>48000</td>\n",
       "    </tr>\n",
       "  </tbody>\n",
       "</table>\n",
       "</div>"
      ],
      "text/plain": [
       "       id        dept   level workload  employment_years last_year_promo  \\\n",
       "0  100298          hr  junior      low                 2              no   \n",
       "1  100480   marketing  junior      low                 4              no   \n",
       "2  100503  purchasing  middle     high                 5              no   \n",
       "3  100610       sales  middle   medium                 5              no   \n",
       "4  100692       sales  middle     high                 6              no   \n",
       "\n",
       "  last_year_violations  supervisor_evaluation  salary  \n",
       "0                   no                      4   19200  \n",
       "1                   no                      4   16800  \n",
       "2                   no                      4   55200  \n",
       "3                   no                      4   43200  \n",
       "4                   no                      4   48000  "
      ]
     },
     "metadata": {},
     "output_type": "display_data"
    }
   ],
   "source": [
    "preprocess_csv(test_features_df)"
   ]
  },
  {
   "cell_type": "code",
   "execution_count": 26,
   "id": "9b9c8e92",
   "metadata": {},
   "outputs": [
    {
     "name": "stdout",
     "output_type": "stream",
     "text": [
      "\n",
      "--- Информация о DataFrame ---\n",
      "<class 'pandas.core.frame.DataFrame'>\n",
      "RangeIndex: 2000 entries, 0 to 1999\n",
      "Data columns (total 2 columns):\n",
      " #   Column  Non-Null Count  Dtype \n",
      "---  ------  --------------  ----- \n",
      " 0   id      2000 non-null   int64 \n",
      " 1   quit    2000 non-null   object\n",
      "dtypes: int64(1), object(1)\n",
      "memory usage: 31.4+ KB\n",
      "\n",
      "--- Названия столбцов после преобразования ---\n",
      "id, quit\n",
      "\n",
      "--- Количество дублированных строк до удаления: 0 ---\n",
      "\n",
      "--- Количество дублированных строк после удаления: 0 ---\n",
      "id      0\n",
      "quit    0\n",
      "dtype: int64\n",
      "\n",
      "--- Уникальные значения в категориальных и строковых столбцах ---\n",
      "Столбец 'quit': ['yes' 'no']\n",
      "\n",
      "--- Описание числовых столбцов ---\n",
      "              id\n",
      "count    2000.00\n",
      "mean   552765.21\n",
      "std    253851.33\n",
      "min    100298.00\n",
      "25%    339052.00\n",
      "50%    550793.00\n",
      "75%    765763.75\n",
      "max    999029.00\n"
     ]
    },
    {
     "data": {
      "text/html": [
       "<div>\n",
       "<style scoped>\n",
       "    .dataframe tbody tr th:only-of-type {\n",
       "        vertical-align: middle;\n",
       "    }\n",
       "\n",
       "    .dataframe tbody tr th {\n",
       "        vertical-align: top;\n",
       "    }\n",
       "\n",
       "    .dataframe thead th {\n",
       "        text-align: right;\n",
       "    }\n",
       "</style>\n",
       "<table border=\"1\" class=\"dataframe\">\n",
       "  <thead>\n",
       "    <tr style=\"text-align: right;\">\n",
       "      <th></th>\n",
       "      <th>id</th>\n",
       "      <th>quit</th>\n",
       "    </tr>\n",
       "  </thead>\n",
       "  <tbody>\n",
       "    <tr>\n",
       "      <th>0</th>\n",
       "      <td>999029</td>\n",
       "      <td>yes</td>\n",
       "    </tr>\n",
       "    <tr>\n",
       "      <th>1</th>\n",
       "      <td>372846</td>\n",
       "      <td>no</td>\n",
       "    </tr>\n",
       "    <tr>\n",
       "      <th>2</th>\n",
       "      <td>726767</td>\n",
       "      <td>no</td>\n",
       "    </tr>\n",
       "    <tr>\n",
       "      <th>3</th>\n",
       "      <td>490105</td>\n",
       "      <td>no</td>\n",
       "    </tr>\n",
       "    <tr>\n",
       "      <th>4</th>\n",
       "      <td>416898</td>\n",
       "      <td>yes</td>\n",
       "    </tr>\n",
       "  </tbody>\n",
       "</table>\n",
       "</div>"
      ],
      "text/plain": [
       "       id quit\n",
       "0  999029  yes\n",
       "1  372846   no\n",
       "2  726767   no\n",
       "3  490105   no\n",
       "4  416898  yes"
      ]
     },
     "metadata": {},
     "output_type": "display_data"
    }
   ],
   "source": [
    "# ознакомимся с целевым признаком тестовой выборки\n",
    "preprocess_csv(test_target_quit_df)"
   ]
  },
  {
   "cell_type": "markdown",
   "id": "8c707fbd",
   "metadata": {},
   "source": [
    "сравним распределение целевого признака в обучающей и тестовой выборках"
   ]
  },
  {
   "cell_type": "code",
   "execution_count": 27,
   "id": "81f8c2c5",
   "metadata": {},
   "outputs": [
    {
     "data": {
      "text/plain": [
       "no     1436\n",
       "yes     564\n",
       "Name: quit, dtype: int64"
      ]
     },
     "execution_count": 27,
     "metadata": {},
     "output_type": "execute_result"
    }
   ],
   "source": [
    "test_target_quit_df['quit'].value_counts()"
   ]
  },
  {
   "cell_type": "code",
   "execution_count": 28,
   "id": "6f268eef",
   "metadata": {},
   "outputs": [
    {
     "data": {
      "text/plain": [
       "no     2872\n",
       "yes    1128\n",
       "Name: quit, dtype: int64"
      ]
     },
     "execution_count": 28,
     "metadata": {},
     "output_type": "execute_result"
    }
   ],
   "source": [
    "train_quit_df['quit'].value_counts()"
   ]
  },
  {
   "cell_type": "markdown",
   "id": "5f90dbe3",
   "metadata": {},
   "source": [
    "в целом распределение схоже. проблем возникнуть не должно"
   ]
  },
  {
   "cell_type": "markdown",
   "id": "ba72c93f",
   "metadata": {},
   "source": [
    "### Этап 3: Исследовательский анализ данных"
   ]
  },
  {
   "cell_type": "markdown",
   "id": "ca7e2c88",
   "metadata": {},
   "source": [
    "Проведем исследовательский анализ данных.\n",
    "\n",
    "\n",
    "Составим портрет «уволившегося сотрудника». Например, можно узнать, в каком отделе с большей вероятностью работает уволившийся сотрудник и какой у него уровень загруженности. Также можно сравнить среднее значение зарплаты ушедших сотрудников с теми, кто остался в компании."
   ]
  },
  {
   "cell_type": "code",
   "execution_count": 29,
   "id": "cf5c2476",
   "metadata": {},
   "outputs": [
    {
     "data": {
      "image/png": "[encoded data removed]",
      "text/plain": [
       "<Figure size 432x288 with 1 Axes>"
      ]
     },
     "metadata": {
      "needs_background": "light"
     },
     "output_type": "display_data"
    }
   ],
   "source": [
    "# 3.1. Распределение целевого признака\n",
    "\n",
    "plt.figure(figsize=(6, 4))\n",
    "sns.countplot(data=train_quit_df, x=\"quit\", palette=\"pastel\")\n",
    "plt.title(\"Распределение уволившихся и оставшихся\")\n",
    "plt.xlabel(\"Уволился\")\n",
    "plt.ylabel(\"Количество\")\n",
    "plt.show()"
   ]
  },
  {
   "cell_type": "code",
   "execution_count": 30,
   "id": "1d47591a",
   "metadata": {},
   "outputs": [],
   "source": [
    "def barplot_percent(col):\n",
    "    plt.figure(figsize=(7, 4))\n",
    "    \n",
    "    # Расчёт доли уволившихся для каждого значения признака\n",
    "    prop = train_quit_df[train_quit_df['quit'] == 'yes'].groupby(col)['quit'].count() / train_quit_df.groupby(col)['quit'].count()\n",
    "    prop = prop.fillna(0)  # Заполняем пропущенные значения 0, если для категории нет уволившихся\n",
    "    \n",
    "    # Построение графика\n",
    "    prop.sort_values(ascending=False).plot(kind=\"bar\", color=\"blue\")\n",
    "    plt.title(f\"Доля уволившихся по признаку '{col}'\")\n",
    "    plt.ylabel(\"Доля уволившихся\")\n",
    "    plt.xlabel(col)\n",
    "    plt.xticks(rotation=45)\n",
    "    plt.grid(True, axis='y')\n",
    "    plt.show()"
   ]
  },
  {
   "cell_type": "code",
   "execution_count": 31,
   "id": "55203962",
   "metadata": {},
   "outputs": [
    {
     "data": {
      "image/png": "[encoded data removed]",
      "text/plain": [
       "<Figure size 504x288 with 1 Axes>"
      ]
     },
     "metadata": {
      "needs_background": "light"
     },
     "output_type": "display_data"
    },
    {
     "data": {
      "image/png": "[encoded data removed]",
      "text/plain": [
       "<Figure size 504x288 with 1 Axes>"
      ]
     },
     "metadata": {
      "needs_background": "light"
     },
     "output_type": "display_data"
    },
    {
     "data": {
      "image/png": "[encoded data removed]",
      "text/plain": [
       "<Figure size 504x288 with 1 Axes>"
      ]
     },
     "metadata": {
      "needs_background": "light"
     },
     "output_type": "display_data"
    },
    {
     "data": {
      "image/png": "[encoded data removed]",
      "text/plain": [
       "<Figure size 504x288 with 1 Axes>"
      ]
     },
     "metadata": {
      "needs_background": "light"
     },
     "output_type": "display_data"
    },
    {
     "data": {
      "image/png": "[encoded data removed]",
      "text/plain": [
       "<Figure size 504x288 with 1 Axes>"
      ]
     },
     "metadata": {
      "needs_background": "light"
     },
     "output_type": "display_data"
    }
   ],
   "source": [
    "for col in [\"dept\", \"level\", \"workload\", \"last_year_promo\", \"last_year_violations\"]:\n",
    "    barplot_percent(col)"
   ]
  },
  {
   "cell_type": "markdown",
   "id": "f6a3a2fa",
   "metadata": {},
   "source": [
    "Уволившиеся сотрудники составляют около 25% от общего числа штата.\n",
    "\n",
    "\n",
    "Чаще всего увольнения происходят в техническом отделе.  доля уволившихся в hr-отделе меньше от стальных и составляет 0.25.\n",
    "\n",
    "Преимущественно увольняются начинающие специалисты. Это может быть связано с множеством факторов, например, несоответствие условий труда ожиданиям или несовместимость с коллективом. Сеньоры и миддлы увольняются крайне редко.\n",
    "\n",
    "\n",
    "Сотрудники с низким уровнем загруженности увольняются чаще всего, возможно, из-за недостаточной вовлеченности или недостатка интересных задач. Это может быть связано с тем, что к этой категории относятся в основном начинающие специалисты, о которых было написано ранее. Работники с высокой нагрузкой увольняются реже всего, возможно, это связано с высоким уровнем занимаемой должности и повышенным уровнем ответственности.\n",
    "\n",
    "\n",
    "Чаще всего увольняются сотрудники не получившие повышения в прошлом году, но данный признак изначально распределен неравномерно и повышение получило малое количество работников.\n",
    "\n",
    "40% из тех, кто нарушил условия трудового договора попадали под увольнения, следовательно, сотрудники с нарушениями имеют более высокий риск увольнения."
   ]
  },
  {
   "cell_type": "code",
   "execution_count": 32,
   "id": "9631d725",
   "metadata": {},
   "outputs": [
    {
     "data": {
      "image/png": "[encoded data removed]",
      "text/plain": [
       "<Figure size 504x288 with 1 Axes>"
      ]
     },
     "metadata": {
      "needs_background": "light"
     },
     "output_type": "display_data"
    },
    {
     "data": {
      "image/png": "[encoded data removed]",
      "text/plain": [
       "<Figure size 504x288 with 1 Axes>"
      ]
     },
     "metadata": {
      "needs_background": "light"
     },
     "output_type": "display_data"
    },
    {
     "data": {
      "image/png": "[encoded data removed]",
      "text/plain": [
       "<Figure size 504x288 with 1 Axes>"
      ]
     },
     "metadata": {
      "needs_background": "light"
     },
     "output_type": "display_data"
    }
   ],
   "source": [
    "# Числовые признаки — сравнение уволившихся и оставшихся\n",
    "num_cols = [\"salary\", \"employment_years\", \"supervisor_evaluation\"]\n",
    "\n",
    "for col in num_cols:\n",
    "    plt.figure(figsize=(7, 4))\n",
    "    sns.boxplot(data=train_quit_df, x=\"quit\", y=col, palette=\"Set2\")\n",
    "    plt.title(f\"{col}: сравнение уволившихся и оставшихся\")\n",
    "    plt.grid(True, axis='y')\n",
    "    plt.show()"
   ]
  },
  {
   "cell_type": "markdown",
   "id": "a69cdd00",
   "metadata": {},
   "source": [
    "Средняя зарплата уволившегося работника составляет 25 тысяч. Наиболее высокая вероятность увольнения приходится на работников, зарабатывающих от 15 до 27 тысяч\n",
    "\n",
    "Сотрудники с зарплатой более 45 тысяч имеют меньший риск увольнения.  \n",
    "\n",
    "\n",
    "Годы работы в компании: медиана близка к нулю, следовательно большинство уволившихся сотрудников работало в организации менее года. Это подтверждает установленные ранее выводы о том, что увольнения чаще всего касаются начинающих сотрудников. Присутствуют выбросы, связанные с тем, что увольняются сотрудники  имеющие и более внушающий стаж работы, но редко. Основной разброс находится в диапазоне от 0 до 3 лет. То есть с увеличением стажа в компании риск увольнения снижается. \n",
    "\n",
    "Оценка качества работы руководителем не имеет значимого влияния на риск увольнения, так как разброс оценок примерно одинаков в обеих группах."
   ]
  },
  {
   "cell_type": "markdown",
   "id": "743bb9f0",
   "metadata": {},
   "source": [
    "3.3. Аналитики утверждают, что уровень удовлетворённости сотрудника работой в компании влияет на то, уволится ли сотрудник. Проверим это утверждение: визуализируем и сравним распределения признака job_satisfaction_rate для ушедших и оставшихся сотрудников. "
   ]
  },
  {
   "cell_type": "code",
   "execution_count": 33,
   "id": "c83765cd",
   "metadata": {},
   "outputs": [
    {
     "data": {
      "image/png": "[encoded data removed]",
      "text/plain": [
       "<Figure size 576x360 with 1 Axes>"
      ]
     },
     "metadata": {
      "needs_background": "light"
     },
     "output_type": "display_data"
    }
   ],
   "source": [
    "# Объединяем тестовую выборку для анализа \n",
    "test_targets = test_target_df.merge(test_target_quit_df, on=\"id\")\n",
    "\n",
    "# Построение графика распределения\n",
    "plt.figure(figsize=(8, 5))\n",
    "\n",
    "# Гистограмма для уволившихся\n",
    "plt.hist(\n",
    "    test_targets[test_targets[\"quit\"] == \"yes\"][\"job_satisfaction_rate\"],\n",
    "    bins=30,\n",
    "    alpha=0.5,\n",
    "    label=\"Уволились\",\n",
    "    color=\"red\",\n",
    "    density=True\n",
    ")\n",
    "\n",
    "# Гистограмма для оставшихся\n",
    "plt.hist(\n",
    "    test_targets[test_targets[\"quit\"] == \"no\"][\"job_satisfaction_rate\"],\n",
    "    bins=30,\n",
    "    alpha=0.5,\n",
    "    label=\"Остались\",\n",
    "    color=\"green\",\n",
    "    density=True\n",
    ")\n",
    "\n",
    "# Добавление заголовка, меток и легенды\n",
    "plt.title(\"Распределение job_satisfaction_rate\")\n",
    "plt.xlabel(\"Удовлетворенность работой\")\n",
    "plt.ylabel(\"Плотность\")\n",
    "plt.legend()\n",
    "plt.grid(True)\n",
    "\n",
    "plt.show()"
   ]
  },
  {
   "cell_type": "markdown",
   "id": "e7bb485c",
   "metadata": {},
   "source": [
    "Нулевая гипотеза (H0): распределения job_satisfaction_rate у уволившихся и оставшихся одинаковы и уровень удовлетворённости не влияет на факт увольнения.\n",
    "\n",
    "\n",
    "Альтернативная гипотеза (H1): распределения различаются и уровень удовлетворённости влияет на факт увольнения."
   ]
  },
  {
   "cell_type": "code",
   "execution_count": 34,
   "id": "19e6c85c",
   "metadata": {},
   "outputs": [
    {
     "name": "stdout",
     "output_type": "stream",
     "text": [
      "t-статистика: -23.80\n",
      "p-value: 0.00000\n",
      "Различия статистически значимы — отвергаем H0.\n"
     ]
    }
   ],
   "source": [
    "# Выборки\n",
    "satisfaction_quit_yes = test_targets[test_targets[\"quit\"] == \"yes\"][\"job_satisfaction_rate\"]\n",
    "satisfaction_quit_no = test_targets[test_targets[\"quit\"] == \"no\"][\"job_satisfaction_rate\"]\n",
    "\n",
    "# Проведение t-теста\n",
    "stat, p_value = ttest_ind(satisfaction_quit_yes, satisfaction_quit_no, equal_var=False)\n",
    "\n",
    "print(f\"t-статистика: {stat:.2f}\")\n",
    "print(f\"p-value: {p_value:.5f}\")\n",
    "alpha = 0.05\n",
    "if p_value < alpha:\n",
    "    print(\"Различия статистически значимы — отвергаем H0.\")\n",
    "else:\n",
    "    print(\"Различия незначимы — не отвергаем H0.\")"
   ]
  },
  {
   "cell_type": "markdown",
   "id": "dbf2ac5d",
   "metadata": {},
   "source": [
    "\n",
    "У сотрудников, которые уволились, уровень удовлетворенности работой преимущественно ниже, с пиком около 0.4. Это может говорить о том, что недовольство условиями труда является значимым фактором увольнения.\n",
    "Сотрудники, которые остались, чаще имеют высокий уровень удовлетворенности с пиком около 0.7, что указывает на связь между позитивной оценкой условий труда и решением остаться в компании. Низкая удовлетворенность работой, особенно на уровне 0.4 и ниже, может являться ключевым предвестником увольнения сотрудников.\n",
    "\n",
    "\n",
    "Гистограмма сотрудников, которые остались, демонстрирует более широкий диапазон значений, но с явным скоплением в более высоких уровнях удовлетворенности. Уволившиеся сотрудники распределены более узко в сторону низких значений удовлетворенности.\n"
   ]
  },
  {
   "cell_type": "markdown",
   "id": "d3a0f516",
   "metadata": {},
   "source": [
    "Анализ данных показал, что уволившиеся сотрудники составляют около 25% штата. Наибольшая доля увольнений наблюдается среди начинающих специалистов (`junior`) в техническом отделе, особенно с низкой загруженностью и зарплатой в диапазоне 15–27 тысяч. Стаж менее года также увеличивает риск увольнения. Нарушение трудового договора сильно связано с уходом — 40% сотрудников с нарушениями покидают компанию.\n",
    "\n",
    "Уровень удовлетворённости оказался ключевым фактором: уволившиеся имеют низкую удовлетворённость с пиком около 0.4, тогда как оставшиеся чаще демонстрируют высокий уровень с пиком около 0.7. Эти факты подтверждают связь между удовлетворённостью и увольнениями и формируют профиль сотрудников с высоким риском. Использование этих признаков для предсказания может помочь компании снизить текучесть кадров."
   ]
  },
  {
   "cell_type": "markdown",
   "id": "4f01f715",
   "metadata": {},
   "source": [
    "### Этап 4:  Добавление нового входного признака\n",
    "\n",
    "\n",
    "Добавим job_satisfaction_rate, предсказанный лучшей моделью первой задачи, к входным признакам второй задачи."
   ]
  },
  {
   "cell_type": "code",
   "execution_count": 35,
   "id": "69192105",
   "metadata": {},
   "outputs": [
    {
     "data": {
      "text/html": [
       "<div>\n",
       "<style scoped>\n",
       "    .dataframe tbody tr th:only-of-type {\n",
       "        vertical-align: middle;\n",
       "    }\n",
       "\n",
       "    .dataframe tbody tr th {\n",
       "        vertical-align: top;\n",
       "    }\n",
       "\n",
       "    .dataframe thead th {\n",
       "        text-align: right;\n",
       "    }\n",
       "</style>\n",
       "<table border=\"1\" class=\"dataframe\">\n",
       "  <thead>\n",
       "    <tr style=\"text-align: right;\">\n",
       "      <th></th>\n",
       "      <th>id</th>\n",
       "      <th>dept</th>\n",
       "      <th>level</th>\n",
       "      <th>workload</th>\n",
       "      <th>employment_years</th>\n",
       "      <th>last_year_promo</th>\n",
       "      <th>last_year_violations</th>\n",
       "      <th>supervisor_evaluation</th>\n",
       "      <th>salary</th>\n",
       "      <th>quit</th>\n",
       "      <th>job_satisfaction_rate</th>\n",
       "    </tr>\n",
       "  </thead>\n",
       "  <tbody>\n",
       "    <tr>\n",
       "      <th>0</th>\n",
       "      <td>723290</td>\n",
       "      <td>sales</td>\n",
       "      <td>middle</td>\n",
       "      <td>high</td>\n",
       "      <td>2</td>\n",
       "      <td>no</td>\n",
       "      <td>no</td>\n",
       "      <td>4</td>\n",
       "      <td>54000</td>\n",
       "      <td>no</td>\n",
       "      <td>0.614440</td>\n",
       "    </tr>\n",
       "    <tr>\n",
       "      <th>1</th>\n",
       "      <td>814010</td>\n",
       "      <td>sales</td>\n",
       "      <td>junior</td>\n",
       "      <td>medium</td>\n",
       "      <td>2</td>\n",
       "      <td>no</td>\n",
       "      <td>no</td>\n",
       "      <td>4</td>\n",
       "      <td>27600</td>\n",
       "      <td>no</td>\n",
       "      <td>0.819104</td>\n",
       "    </tr>\n",
       "    <tr>\n",
       "      <th>2</th>\n",
       "      <td>155091</td>\n",
       "      <td>purchasing</td>\n",
       "      <td>middle</td>\n",
       "      <td>medium</td>\n",
       "      <td>5</td>\n",
       "      <td>no</td>\n",
       "      <td>no</td>\n",
       "      <td>1</td>\n",
       "      <td>37200</td>\n",
       "      <td>no</td>\n",
       "      <td>0.443589</td>\n",
       "    </tr>\n",
       "    <tr>\n",
       "      <th>3</th>\n",
       "      <td>257132</td>\n",
       "      <td>sales</td>\n",
       "      <td>junior</td>\n",
       "      <td>medium</td>\n",
       "      <td>2</td>\n",
       "      <td>no</td>\n",
       "      <td>yes</td>\n",
       "      <td>3</td>\n",
       "      <td>24000</td>\n",
       "      <td>yes</td>\n",
       "      <td>0.299994</td>\n",
       "    </tr>\n",
       "    <tr>\n",
       "      <th>4</th>\n",
       "      <td>910140</td>\n",
       "      <td>marketing</td>\n",
       "      <td>junior</td>\n",
       "      <td>medium</td>\n",
       "      <td>2</td>\n",
       "      <td>no</td>\n",
       "      <td>no</td>\n",
       "      <td>5</td>\n",
       "      <td>25200</td>\n",
       "      <td>no</td>\n",
       "      <td>0.800318</td>\n",
       "    </tr>\n",
       "  </tbody>\n",
       "</table>\n",
       "</div>"
      ],
      "text/plain": [
       "       id        dept   level workload  employment_years last_year_promo  \\\n",
       "0  723290       sales  middle     high                 2              no   \n",
       "1  814010       sales  junior   medium                 2              no   \n",
       "2  155091  purchasing  middle   medium                 5              no   \n",
       "3  257132       sales  junior   medium                 2              no   \n",
       "4  910140   marketing  junior   medium                 2              no   \n",
       "\n",
       "  last_year_violations  supervisor_evaluation  salary quit  \\\n",
       "0                   no                      4   54000   no   \n",
       "1                   no                      4   27600   no   \n",
       "2                   no                      1   37200   no   \n",
       "3                  yes                      3   24000  yes   \n",
       "4                   no                      5   25200   no   \n",
       "\n",
       "   job_satisfaction_rate  \n",
       "0               0.614440  \n",
       "1               0.819104  \n",
       "2               0.443589  \n",
       "3               0.299994  \n",
       "4               0.800318  "
      ]
     },
     "metadata": {},
     "output_type": "display_data"
    },
    {
     "data": {
      "text/html": [
       "<div>\n",
       "<style scoped>\n",
       "    .dataframe tbody tr th:only-of-type {\n",
       "        vertical-align: middle;\n",
       "    }\n",
       "\n",
       "    .dataframe tbody tr th {\n",
       "        vertical-align: top;\n",
       "    }\n",
       "\n",
       "    .dataframe thead th {\n",
       "        text-align: right;\n",
       "    }\n",
       "</style>\n",
       "<table border=\"1\" class=\"dataframe\">\n",
       "  <thead>\n",
       "    <tr style=\"text-align: right;\">\n",
       "      <th></th>\n",
       "      <th>id</th>\n",
       "      <th>dept</th>\n",
       "      <th>level</th>\n",
       "      <th>workload</th>\n",
       "      <th>employment_years</th>\n",
       "      <th>last_year_promo</th>\n",
       "      <th>last_year_violations</th>\n",
       "      <th>supervisor_evaluation</th>\n",
       "      <th>salary</th>\n",
       "      <th>job_satisfaction_rate</th>\n",
       "    </tr>\n",
       "  </thead>\n",
       "  <tbody>\n",
       "    <tr>\n",
       "      <th>0</th>\n",
       "      <td>100298</td>\n",
       "      <td>hr</td>\n",
       "      <td>junior</td>\n",
       "      <td>low</td>\n",
       "      <td>2</td>\n",
       "      <td>no</td>\n",
       "      <td>no</td>\n",
       "      <td>4</td>\n",
       "      <td>19200</td>\n",
       "      <td>0.816936</td>\n",
       "    </tr>\n",
       "    <tr>\n",
       "      <th>1</th>\n",
       "      <td>100480</td>\n",
       "      <td>marketing</td>\n",
       "      <td>junior</td>\n",
       "      <td>low</td>\n",
       "      <td>4</td>\n",
       "      <td>no</td>\n",
       "      <td>no</td>\n",
       "      <td>4</td>\n",
       "      <td>16800</td>\n",
       "      <td>0.818087</td>\n",
       "    </tr>\n",
       "    <tr>\n",
       "      <th>2</th>\n",
       "      <td>100503</td>\n",
       "      <td>purchasing</td>\n",
       "      <td>middle</td>\n",
       "      <td>high</td>\n",
       "      <td>5</td>\n",
       "      <td>no</td>\n",
       "      <td>no</td>\n",
       "      <td>4</td>\n",
       "      <td>55200</td>\n",
       "      <td>0.775385</td>\n",
       "    </tr>\n",
       "    <tr>\n",
       "      <th>3</th>\n",
       "      <td>100610</td>\n",
       "      <td>sales</td>\n",
       "      <td>middle</td>\n",
       "      <td>medium</td>\n",
       "      <td>5</td>\n",
       "      <td>no</td>\n",
       "      <td>no</td>\n",
       "      <td>4</td>\n",
       "      <td>43200</td>\n",
       "      <td>0.778473</td>\n",
       "    </tr>\n",
       "    <tr>\n",
       "      <th>4</th>\n",
       "      <td>100692</td>\n",
       "      <td>sales</td>\n",
       "      <td>middle</td>\n",
       "      <td>high</td>\n",
       "      <td>6</td>\n",
       "      <td>no</td>\n",
       "      <td>no</td>\n",
       "      <td>4</td>\n",
       "      <td>48000</td>\n",
       "      <td>0.775102</td>\n",
       "    </tr>\n",
       "  </tbody>\n",
       "</table>\n",
       "</div>"
      ],
      "text/plain": [
       "       id        dept   level workload  employment_years last_year_promo  \\\n",
       "0  100298          hr  junior      low                 2              no   \n",
       "1  100480   marketing  junior      low                 4              no   \n",
       "2  100503  purchasing  middle     high                 5              no   \n",
       "3  100610       sales  middle   medium                 5              no   \n",
       "4  100692       sales  middle     high                 6              no   \n",
       "\n",
       "  last_year_violations  supervisor_evaluation  salary  job_satisfaction_rate  \n",
       "0                   no                      4   19200               0.816936  \n",
       "1                   no                      4   16800               0.818087  \n",
       "2                   no                      4   55200               0.775385  \n",
       "3                   no                      4   43200               0.778473  \n",
       "4                   no                      4   48000               0.775102  "
      ]
     },
     "metadata": {},
     "output_type": "display_data"
    }
   ],
   "source": [
    "# Сравнение id и предсказанных значений\n",
    "train_quit_df['job_satisfaction_rate'] = best_model.predict(train_quit_df.drop(['id', 'quit'], axis=1))\n",
    "test_features_df['job_satisfaction_rate'] = best_model.predict(test_features_df.drop('id', axis=1))\n",
    "\n",
    "# Проверяем соответствие id и новых предсказаний\n",
    "display(train_quit_df.head())\n",
    "display(test_features_df.head())"
   ]
  },
  {
   "cell_type": "markdown",
   "id": "47faa8f3",
   "metadata": {},
   "source": [
    "### Этап 5: Подготовка данных\n",
    "\n",
    "Подготовим признаки так же, как и в первой задаче: выполним подготовку в пайплайне, дополнив пайплайн предобработки. При кодировании учтем особенности признаков и моделей и используем как минимум два кодировщика."
   ]
  },
  {
   "cell_type": "code",
   "execution_count": 36,
   "id": "d1edd98c",
   "metadata": {},
   "outputs": [
    {
     "name": "stdout",
     "output_type": "stream",
     "text": [
      "(4000, 9) (2000, 9)\n"
     ]
    },
    {
     "data": {
      "text/html": [
       "<style>#sk-container-id-2 {\n",
       "  /* Definition of color scheme common for light and dark mode */\n",
       "  --sklearn-color-text: #000;\n",
       "  --sklearn-color-text-muted: #666;\n",
       "  --sklearn-color-line: gray;\n",
       "  /* Definition of color scheme for unfitted estimators */\n",
       "  --sklearn-color-unfitted-level-0: #fff5e6;\n",
       "  --sklearn-color-unfitted-level-1: #f6e4d2;\n",
       "  --sklearn-color-unfitted-level-2: #ffe0b3;\n",
       "  --sklearn-color-unfitted-level-3: chocolate;\n",
       "  /* Definition of color scheme for fitted estimators */\n",
       "  --sklearn-color-fitted-level-0: #f0f8ff;\n",
       "  --sklearn-color-fitted-level-1: #d4ebff;\n",
       "  --sklearn-color-fitted-level-2: #b3dbfd;\n",
       "  --sklearn-color-fitted-level-3: cornflowerblue;\n",
       "\n",
       "  /* Specific color for light theme */\n",
       "  --sklearn-color-text-on-default-background: var(--sg-text-color, var(--theme-code-foreground, var(--jp-content-font-color1, black)));\n",
       "  --sklearn-color-background: var(--sg-background-color, var(--theme-background, var(--jp-layout-color0, white)));\n",
       "  --sklearn-color-border-box: var(--sg-text-color, var(--theme-code-foreground, var(--jp-content-font-color1, black)));\n",
       "  --sklearn-color-icon: #696969;\n",
       "\n",
       "  @media (prefers-color-scheme: dark) {\n",
       "    /* Redefinition of color scheme for dark theme */\n",
       "    --sklearn-color-text-on-default-background: var(--sg-text-color, var(--theme-code-foreground, var(--jp-content-font-color1, white)));\n",
       "    --sklearn-color-background: var(--sg-background-color, var(--theme-background, var(--jp-layout-color0, #111)));\n",
       "    --sklearn-color-border-box: var(--sg-text-color, var(--theme-code-foreground, var(--jp-content-font-color1, white)));\n",
       "    --sklearn-color-icon: #878787;\n",
       "  }\n",
       "}\n",
       "\n",
       "#sk-container-id-2 {\n",
       "  color: var(--sklearn-color-text);\n",
       "}\n",
       "\n",
       "#sk-container-id-2 pre {\n",
       "  padding: 0;\n",
       "}\n",
       "\n",
       "#sk-container-id-2 input.sk-hidden--visually {\n",
       "  border: 0;\n",
       "  clip: rect(1px 1px 1px 1px);\n",
       "  clip: rect(1px, 1px, 1px, 1px);\n",
       "  height: 1px;\n",
       "  margin: -1px;\n",
       "  overflow: hidden;\n",
       "  padding: 0;\n",
       "  position: absolute;\n",
       "  width: 1px;\n",
       "}\n",
       "\n",
       "#sk-container-id-2 div.sk-dashed-wrapped {\n",
       "  border: 1px dashed var(--sklearn-color-line);\n",
       "  margin: 0 0.4em 0.5em 0.4em;\n",
       "  box-sizing: border-box;\n",
       "  padding-bottom: 0.4em;\n",
       "  background-color: var(--sklearn-color-background);\n",
       "}\n",
       "\n",
       "#sk-container-id-2 div.sk-container {\n",
       "  /* jupyter's `normalize.less` sets `[hidden] { display: none; }`\n",
       "     but bootstrap.min.css set `[hidden] { display: none !important; }`\n",
       "     so we also need the `!important` here to be able to override the\n",
       "     default hidden behavior on the sphinx rendered scikit-learn.org.\n",
       "     See: https://github.com/scikit-learn/scikit-learn/issues/21755 */\n",
       "  display: inline-block !important;\n",
       "  position: relative;\n",
       "}\n",
       "\n",
       "#sk-container-id-2 div.sk-text-repr-fallback {\n",
       "  display: none;\n",
       "}\n",
       "\n",
       "div.sk-parallel-item,\n",
       "div.sk-serial,\n",
       "div.sk-item {\n",
       "  /* draw centered vertical line to link estimators */\n",
       "  background-image: linear-gradient(var(--sklearn-color-text-on-default-background), var(--sklearn-color-text-on-default-background));\n",
       "  background-size: 2px 100%;\n",
       "  background-repeat: no-repeat;\n",
       "  background-position: center center;\n",
       "}\n",
       "\n",
       "/* Parallel-specific style estimator block */\n",
       "\n",
       "#sk-container-id-2 div.sk-parallel-item::after {\n",
       "  content: \"\";\n",
       "  width: 100%;\n",
       "  border-bottom: 2px solid var(--sklearn-color-text-on-default-background);\n",
       "  flex-grow: 1;\n",
       "}\n",
       "\n",
       "#sk-container-id-2 div.sk-parallel {\n",
       "  display: flex;\n",
       "  align-items: stretch;\n",
       "  justify-content: center;\n",
       "  background-color: var(--sklearn-color-background);\n",
       "  position: relative;\n",
       "}\n",
       "\n",
       "#sk-container-id-2 div.sk-parallel-item {\n",
       "  display: flex;\n",
       "  flex-direction: column;\n",
       "}\n",
       "\n",
       "#sk-container-id-2 div.sk-parallel-item:first-child::after {\n",
       "  align-self: flex-end;\n",
       "  width: 50%;\n",
       "}\n",
       "\n",
       "#sk-container-id-2 div.sk-parallel-item:last-child::after {\n",
       "  align-self: flex-start;\n",
       "  width: 50%;\n",
       "}\n",
       "\n",
       "#sk-container-id-2 div.sk-parallel-item:only-child::after {\n",
       "  width: 0;\n",
       "}\n",
       "\n",
       "/* Serial-specific style estimator block */\n",
       "\n",
       "#sk-container-id-2 div.sk-serial {\n",
       "  display: flex;\n",
       "  flex-direction: column;\n",
       "  align-items: center;\n",
       "  background-color: var(--sklearn-color-background);\n",
       "  padding-right: 1em;\n",
       "  padding-left: 1em;\n",
       "}\n",
       "\n",
       "\n",
       "/* Toggleable style: style used for estimator/Pipeline/ColumnTransformer box that is\n",
       "clickable and can be expanded/collapsed.\n",
       "- Pipeline and ColumnTransformer use this feature and define the default style\n",
       "- Estimators will overwrite some part of the style using the `sk-estimator` class\n",
       "*/\n",
       "\n",
       "/* Pipeline and ColumnTransformer style (default) */\n",
       "\n",
       "#sk-container-id-2 div.sk-toggleable {\n",
       "  /* Default theme specific background. It is overwritten whether we have a\n",
       "  specific estimator or a Pipeline/ColumnTransformer */\n",
       "  background-color: var(--sklearn-color-background);\n",
       "}\n",
       "\n",
       "/* Toggleable label */\n",
       "#sk-container-id-2 label.sk-toggleable__label {\n",
       "  cursor: pointer;\n",
       "  display: flex;\n",
       "  width: 100%;\n",
       "  margin-bottom: 0;\n",
       "  padding: 0.5em;\n",
       "  box-sizing: border-box;\n",
       "  text-align: center;\n",
       "  align-items: start;\n",
       "  justify-content: space-between;\n",
       "  gap: 0.5em;\n",
       "}\n",
       "\n",
       "#sk-container-id-2 label.sk-toggleable__label .caption {\n",
       "  font-size: 0.6rem;\n",
       "  font-weight: lighter;\n",
       "  color: var(--sklearn-color-text-muted);\n",
       "}\n",
       "\n",
       "#sk-container-id-2 label.sk-toggleable__label-arrow:before {\n",
       "  /* Arrow on the left of the label */\n",
       "  content: \"▸\";\n",
       "  float: left;\n",
       "  margin-right: 0.25em;\n",
       "  color: var(--sklearn-color-icon);\n",
       "}\n",
       "\n",
       "#sk-container-id-2 label.sk-toggleable__label-arrow:hover:before {\n",
       "  color: var(--sklearn-color-text);\n",
       "}\n",
       "\n",
       "/* Toggleable content - dropdown */\n",
       "\n",
       "#sk-container-id-2 div.sk-toggleable__content {\n",
       "  max-height: 0;\n",
       "  max-width: 0;\n",
       "  overflow: hidden;\n",
       "  text-align: left;\n",
       "  /* unfitted */\n",
       "  background-color: var(--sklearn-color-unfitted-level-0);\n",
       "}\n",
       "\n",
       "#sk-container-id-2 div.sk-toggleable__content.fitted {\n",
       "  /* fitted */\n",
       "  background-color: var(--sklearn-color-fitted-level-0);\n",
       "}\n",
       "\n",
       "#sk-container-id-2 div.sk-toggleable__content pre {\n",
       "  margin: 0.2em;\n",
       "  border-radius: 0.25em;\n",
       "  color: var(--sklearn-color-text);\n",
       "  /* unfitted */\n",
       "  background-color: var(--sklearn-color-unfitted-level-0);\n",
       "}\n",
       "\n",
       "#sk-container-id-2 div.sk-toggleable__content.fitted pre {\n",
       "  /* unfitted */\n",
       "  background-color: var(--sklearn-color-fitted-level-0);\n",
       "}\n",
       "\n",
       "#sk-container-id-2 input.sk-toggleable__control:checked~div.sk-toggleable__content {\n",
       "  /* Expand drop-down */\n",
       "  max-height: 200px;\n",
       "  max-width: 100%;\n",
       "  overflow: auto;\n",
       "}\n",
       "\n",
       "#sk-container-id-2 input.sk-toggleable__control:checked~label.sk-toggleable__label-arrow:before {\n",
       "  content: \"▾\";\n",
       "}\n",
       "\n",
       "/* Pipeline/ColumnTransformer-specific style */\n",
       "\n",
       "#sk-container-id-2 div.sk-label input.sk-toggleable__control:checked~label.sk-toggleable__label {\n",
       "  color: var(--sklearn-color-text);\n",
       "  background-color: var(--sklearn-color-unfitted-level-2);\n",
       "}\n",
       "\n",
       "#sk-container-id-2 div.sk-label.fitted input.sk-toggleable__control:checked~label.sk-toggleable__label {\n",
       "  background-color: var(--sklearn-color-fitted-level-2);\n",
       "}\n",
       "\n",
       "/* Estimator-specific style */\n",
       "\n",
       "/* Colorize estimator box */\n",
       "#sk-container-id-2 div.sk-estimator input.sk-toggleable__control:checked~label.sk-toggleable__label {\n",
       "  /* unfitted */\n",
       "  background-color: var(--sklearn-color-unfitted-level-2);\n",
       "}\n",
       "\n",
       "#sk-container-id-2 div.sk-estimator.fitted input.sk-toggleable__control:checked~label.sk-toggleable__label {\n",
       "  /* fitted */\n",
       "  background-color: var(--sklearn-color-fitted-level-2);\n",
       "}\n",
       "\n",
       "#sk-container-id-2 div.sk-label label.sk-toggleable__label,\n",
       "#sk-container-id-2 div.sk-label label {\n",
       "  /* The background is the default theme color */\n",
       "  color: var(--sklearn-color-text-on-default-background);\n",
       "}\n",
       "\n",
       "/* On hover, darken the color of the background */\n",
       "#sk-container-id-2 div.sk-label:hover label.sk-toggleable__label {\n",
       "  color: var(--sklearn-color-text);\n",
       "  background-color: var(--sklearn-color-unfitted-level-2);\n",
       "}\n",
       "\n",
       "/* Label box, darken color on hover, fitted */\n",
       "#sk-container-id-2 div.sk-label.fitted:hover label.sk-toggleable__label.fitted {\n",
       "  color: var(--sklearn-color-text);\n",
       "  background-color: var(--sklearn-color-fitted-level-2);\n",
       "}\n",
       "\n",
       "/* Estimator label */\n",
       "\n",
       "#sk-container-id-2 div.sk-label label {\n",
       "  font-family: monospace;\n",
       "  font-weight: bold;\n",
       "  display: inline-block;\n",
       "  line-height: 1.2em;\n",
       "}\n",
       "\n",
       "#sk-container-id-2 div.sk-label-container {\n",
       "  text-align: center;\n",
       "}\n",
       "\n",
       "/* Estimator-specific */\n",
       "#sk-container-id-2 div.sk-estimator {\n",
       "  font-family: monospace;\n",
       "  border: 1px dotted var(--sklearn-color-border-box);\n",
       "  border-radius: 0.25em;\n",
       "  box-sizing: border-box;\n",
       "  margin-bottom: 0.5em;\n",
       "  /* unfitted */\n",
       "  background-color: var(--sklearn-color-unfitted-level-0);\n",
       "}\n",
       "\n",
       "#sk-container-id-2 div.sk-estimator.fitted {\n",
       "  /* fitted */\n",
       "  background-color: var(--sklearn-color-fitted-level-0);\n",
       "}\n",
       "\n",
       "/* on hover */\n",
       "#sk-container-id-2 div.sk-estimator:hover {\n",
       "  /* unfitted */\n",
       "  background-color: var(--sklearn-color-unfitted-level-2);\n",
       "}\n",
       "\n",
       "#sk-container-id-2 div.sk-estimator.fitted:hover {\n",
       "  /* fitted */\n",
       "  background-color: var(--sklearn-color-fitted-level-2);\n",
       "}\n",
       "\n",
       "/* Specification for estimator info (e.g. \"i\" and \"?\") */\n",
       "\n",
       "/* Common style for \"i\" and \"?\" */\n",
       "\n",
       ".sk-estimator-doc-link,\n",
       "a:link.sk-estimator-doc-link,\n",
       "a:visited.sk-estimator-doc-link {\n",
       "  float: right;\n",
       "  font-size: smaller;\n",
       "  line-height: 1em;\n",
       "  font-family: monospace;\n",
       "  background-color: var(--sklearn-color-background);\n",
       "  border-radius: 1em;\n",
       "  height: 1em;\n",
       "  width: 1em;\n",
       "  text-decoration: none !important;\n",
       "  margin-left: 0.5em;\n",
       "  text-align: center;\n",
       "  /* unfitted */\n",
       "  border: var(--sklearn-color-unfitted-level-1) 1pt solid;\n",
       "  color: var(--sklearn-color-unfitted-level-1);\n",
       "}\n",
       "\n",
       ".sk-estimator-doc-link.fitted,\n",
       "a:link.sk-estimator-doc-link.fitted,\n",
       "a:visited.sk-estimator-doc-link.fitted {\n",
       "  /* fitted */\n",
       "  border: var(--sklearn-color-fitted-level-1) 1pt solid;\n",
       "  color: var(--sklearn-color-fitted-level-1);\n",
       "}\n",
       "\n",
       "/* On hover */\n",
       "div.sk-estimator:hover .sk-estimator-doc-link:hover,\n",
       ".sk-estimator-doc-link:hover,\n",
       "div.sk-label-container:hover .sk-estimator-doc-link:hover,\n",
       ".sk-estimator-doc-link:hover {\n",
       "  /* unfitted */\n",
       "  background-color: var(--sklearn-color-unfitted-level-3);\n",
       "  color: var(--sklearn-color-background);\n",
       "  text-decoration: none;\n",
       "}\n",
       "\n",
       "div.sk-estimator.fitted:hover .sk-estimator-doc-link.fitted:hover,\n",
       ".sk-estimator-doc-link.fitted:hover,\n",
       "div.sk-label-container:hover .sk-estimator-doc-link.fitted:hover,\n",
       ".sk-estimator-doc-link.fitted:hover {\n",
       "  /* fitted */\n",
       "  background-color: var(--sklearn-color-fitted-level-3);\n",
       "  color: var(--sklearn-color-background);\n",
       "  text-decoration: none;\n",
       "}\n",
       "\n",
       "/* Span, style for the box shown on hovering the info icon */\n",
       ".sk-estimator-doc-link span {\n",
       "  display: none;\n",
       "  z-index: 9999;\n",
       "  position: relative;\n",
       "  font-weight: normal;\n",
       "  right: .2ex;\n",
       "  padding: .5ex;\n",
       "  margin: .5ex;\n",
       "  width: min-content;\n",
       "  min-width: 20ex;\n",
       "  max-width: 50ex;\n",
       "  color: var(--sklearn-color-text);\n",
       "  box-shadow: 2pt 2pt 4pt #999;\n",
       "  /* unfitted */\n",
       "  background: var(--sklearn-color-unfitted-level-0);\n",
       "  border: .5pt solid var(--sklearn-color-unfitted-level-3);\n",
       "}\n",
       "\n",
       ".sk-estimator-doc-link.fitted span {\n",
       "  /* fitted */\n",
       "  background: var(--sklearn-color-fitted-level-0);\n",
       "  border: var(--sklearn-color-fitted-level-3);\n",
       "}\n",
       "\n",
       ".sk-estimator-doc-link:hover span {\n",
       "  display: block;\n",
       "}\n",
       "\n",
       "/* \"?\"-specific style due to the `<a>` HTML tag */\n",
       "\n",
       "#sk-container-id-2 a.estimator_doc_link {\n",
       "  float: right;\n",
       "  font-size: 1rem;\n",
       "  line-height: 1em;\n",
       "  font-family: monospace;\n",
       "  background-color: var(--sklearn-color-background);\n",
       "  border-radius: 1rem;\n",
       "  height: 1rem;\n",
       "  width: 1rem;\n",
       "  text-decoration: none;\n",
       "  /* unfitted */\n",
       "  color: var(--sklearn-color-unfitted-level-1);\n",
       "  border: var(--sklearn-color-unfitted-level-1) 1pt solid;\n",
       "}\n",
       "\n",
       "#sk-container-id-2 a.estimator_doc_link.fitted {\n",
       "  /* fitted */\n",
       "  border: var(--sklearn-color-fitted-level-1) 1pt solid;\n",
       "  color: var(--sklearn-color-fitted-level-1);\n",
       "}\n",
       "\n",
       "/* On hover */\n",
       "#sk-container-id-2 a.estimator_doc_link:hover {\n",
       "  /* unfitted */\n",
       "  background-color: var(--sklearn-color-unfitted-level-3);\n",
       "  color: var(--sklearn-color-background);\n",
       "  text-decoration: none;\n",
       "}\n",
       "\n",
       "#sk-container-id-2 a.estimator_doc_link.fitted:hover {\n",
       "  /* fitted */\n",
       "  background-color: var(--sklearn-color-fitted-level-3);\n",
       "}\n",
       "</style><div id=\"sk-container-id-2\" class=\"sk-top-container\"><div class=\"sk-text-repr-fallback\"><pre>ColumnTransformer(remainder=&#x27;passthrough&#x27;,\n",
       "                  transformers=[(&#x27;ohe&#x27;,\n",
       "                                 Pipeline(steps=[(&#x27;simpleImputer_ohe&#x27;,\n",
       "                                                  SimpleImputer(strategy=&#x27;most_frequent&#x27;)),\n",
       "                                                 (&#x27;ohe&#x27;,\n",
       "                                                  OneHotEncoder(drop=&#x27;first&#x27;,\n",
       "                                                                handle_unknown=&#x27;ignore&#x27;,\n",
       "                                                                sparse_output=False))]),\n",
       "                                 [&#x27;dept&#x27;, &#x27;last_year_promo&#x27;,\n",
       "                                  &#x27;last_year_violations&#x27;]),\n",
       "                                (&#x27;ord&#x27;,\n",
       "                                 Pipeline(steps=[(&#x27;simpleImputer_before_ord&#x27;,\n",
       "                                                  SimpleImputer(strategy=&#x27;m...\n",
       "                                                                 unknown_value=nan)),\n",
       "                                                 (&#x27;simpleImputer_after_ord&#x27;,\n",
       "                                                  SimpleImputer(strategy=&#x27;most_frequent&#x27;))]),\n",
       "                                 [&#x27;level&#x27;, &#x27;workload&#x27;]),\n",
       "                                (&#x27;num&#x27;,\n",
       "                                 Pipeline(steps=[(&#x27;imputer&#x27;, SimpleImputer()),\n",
       "                                                 (&#x27;scaler&#x27;, StandardScaler()),\n",
       "                                                 (&#x27;poly&#x27;,\n",
       "                                                  PolynomialFeatures(include_bias=False)),\n",
       "                                                 (&#x27;select&#x27;,\n",
       "                                                  SelectKBest(k=&#x27;all&#x27;))]),\n",
       "                                 [&#x27;employment_years&#x27;, &#x27;supervisor_evaluation&#x27;,\n",
       "                                  &#x27;salary&#x27;, &#x27;job_satisfaction_rate&#x27;])])</pre><b>In a Jupyter environment, please rerun this cell to show the HTML representation or trust the notebook. <br />On GitHub, the HTML representation is unable to render, please try loading this page with nbviewer.org.</b></div><div class=\"sk-container\" hidden><div class=\"sk-item sk-dashed-wrapped\"><div class=\"sk-label-container\"><div class=\"sk-label  sk-toggleable\"><input class=\"sk-toggleable__control sk-hidden--visually\" id=\"sk-estimator-id-16\" type=\"checkbox\" ><label for=\"sk-estimator-id-16\" class=\"sk-toggleable__label  sk-toggleable__label-arrow\"><div><div>ColumnTransformer</div></div><div><a class=\"sk-estimator-doc-link \" rel=\"noreferrer\" target=\"_blank\" href=\"https://scikit-learn.org/1.6/modules/generated/sklearn.compose.ColumnTransformer.html\">?<span>Documentation for ColumnTransformer</span></a><span class=\"sk-estimator-doc-link \">i<span>Not fitted</span></span></div></label><div class=\"sk-toggleable__content \"><pre>ColumnTransformer(remainder=&#x27;passthrough&#x27;,\n",
       "                  transformers=[(&#x27;ohe&#x27;,\n",
       "                                 Pipeline(steps=[(&#x27;simpleImputer_ohe&#x27;,\n",
       "                                                  SimpleImputer(strategy=&#x27;most_frequent&#x27;)),\n",
       "                                                 (&#x27;ohe&#x27;,\n",
       "                                                  OneHotEncoder(drop=&#x27;first&#x27;,\n",
       "                                                                handle_unknown=&#x27;ignore&#x27;,\n",
       "                                                                sparse_output=False))]),\n",
       "                                 [&#x27;dept&#x27;, &#x27;last_year_promo&#x27;,\n",
       "                                  &#x27;last_year_violations&#x27;]),\n",
       "                                (&#x27;ord&#x27;,\n",
       "                                 Pipeline(steps=[(&#x27;simpleImputer_before_ord&#x27;,\n",
       "                                                  SimpleImputer(strategy=&#x27;m...\n",
       "                                                                 unknown_value=nan)),\n",
       "                                                 (&#x27;simpleImputer_after_ord&#x27;,\n",
       "                                                  SimpleImputer(strategy=&#x27;most_frequent&#x27;))]),\n",
       "                                 [&#x27;level&#x27;, &#x27;workload&#x27;]),\n",
       "                                (&#x27;num&#x27;,\n",
       "                                 Pipeline(steps=[(&#x27;imputer&#x27;, SimpleImputer()),\n",
       "                                                 (&#x27;scaler&#x27;, StandardScaler()),\n",
       "                                                 (&#x27;poly&#x27;,\n",
       "                                                  PolynomialFeatures(include_bias=False)),\n",
       "                                                 (&#x27;select&#x27;,\n",
       "                                                  SelectKBest(k=&#x27;all&#x27;))]),\n",
       "                                 [&#x27;employment_years&#x27;, &#x27;supervisor_evaluation&#x27;,\n",
       "                                  &#x27;salary&#x27;, &#x27;job_satisfaction_rate&#x27;])])</pre></div> </div></div><div class=\"sk-parallel\"><div class=\"sk-parallel-item\"><div class=\"sk-item\"><div class=\"sk-label-container\"><div class=\"sk-label  sk-toggleable\"><input class=\"sk-toggleable__control sk-hidden--visually\" id=\"sk-estimator-id-17\" type=\"checkbox\" ><label for=\"sk-estimator-id-17\" class=\"sk-toggleable__label  sk-toggleable__label-arrow\"><div><div>ohe</div></div></label><div class=\"sk-toggleable__content \"><pre>[&#x27;dept&#x27;, &#x27;last_year_promo&#x27;, &#x27;last_year_violations&#x27;]</pre></div> </div></div><div class=\"sk-serial\"><div class=\"sk-item\"><div class=\"sk-serial\"><div class=\"sk-item\"><div class=\"sk-estimator  sk-toggleable\"><input class=\"sk-toggleable__control sk-hidden--visually\" id=\"sk-estimator-id-18\" type=\"checkbox\" ><label for=\"sk-estimator-id-18\" class=\"sk-toggleable__label  sk-toggleable__label-arrow\"><div><div>SimpleImputer</div></div><div><a class=\"sk-estimator-doc-link \" rel=\"noreferrer\" target=\"_blank\" href=\"https://scikit-learn.org/1.6/modules/generated/sklearn.impute.SimpleImputer.html\">?<span>Documentation for SimpleImputer</span></a></div></label><div class=\"sk-toggleable__content \"><pre>SimpleImputer(strategy=&#x27;most_frequent&#x27;)</pre></div> </div></div><div class=\"sk-item\"><div class=\"sk-estimator  sk-toggleable\"><input class=\"sk-toggleable__control sk-hidden--visually\" id=\"sk-estimator-id-19\" type=\"checkbox\" ><label for=\"sk-estimator-id-19\" class=\"sk-toggleable__label  sk-toggleable__label-arrow\"><div><div>OneHotEncoder</div></div><div><a class=\"sk-estimator-doc-link \" rel=\"noreferrer\" target=\"_blank\" href=\"https://scikit-learn.org/1.6/modules/generated/sklearn.preprocessing.OneHotEncoder.html\">?<span>Documentation for OneHotEncoder</span></a></div></label><div class=\"sk-toggleable__content \"><pre>OneHotEncoder(drop=&#x27;first&#x27;, handle_unknown=&#x27;ignore&#x27;, sparse_output=False)</pre></div> </div></div></div></div></div></div></div><div class=\"sk-parallel-item\"><div class=\"sk-item\"><div class=\"sk-label-container\"><div class=\"sk-label  sk-toggleable\"><input class=\"sk-toggleable__control sk-hidden--visually\" id=\"sk-estimator-id-20\" type=\"checkbox\" ><label for=\"sk-estimator-id-20\" class=\"sk-toggleable__label  sk-toggleable__label-arrow\"><div><div>ord</div></div></label><div class=\"sk-toggleable__content \"><pre>[&#x27;level&#x27;, &#x27;workload&#x27;]</pre></div> </div></div><div class=\"sk-serial\"><div class=\"sk-item\"><div class=\"sk-serial\"><div class=\"sk-item\"><div class=\"sk-estimator  sk-toggleable\"><input class=\"sk-toggleable__control sk-hidden--visually\" id=\"sk-estimator-id-21\" type=\"checkbox\" ><label for=\"sk-estimator-id-21\" class=\"sk-toggleable__label  sk-toggleable__label-arrow\"><div><div>SimpleImputer</div></div><div><a class=\"sk-estimator-doc-link \" rel=\"noreferrer\" target=\"_blank\" href=\"https://scikit-learn.org/1.6/modules/generated/sklearn.impute.SimpleImputer.html\">?<span>Documentation for SimpleImputer</span></a></div></label><div class=\"sk-toggleable__content \"><pre>SimpleImputer(strategy=&#x27;most_frequent&#x27;)</pre></div> </div></div><div class=\"sk-item\"><div class=\"sk-estimator  sk-toggleable\"><input class=\"sk-toggleable__control sk-hidden--visually\" id=\"sk-estimator-id-22\" type=\"checkbox\" ><label for=\"sk-estimator-id-22\" class=\"sk-toggleable__label  sk-toggleable__label-arrow\"><div><div>OrdinalEncoder</div></div><div><a class=\"sk-estimator-doc-link \" rel=\"noreferrer\" target=\"_blank\" href=\"https://scikit-learn.org/1.6/modules/generated/sklearn.preprocessing.OrdinalEncoder.html\">?<span>Documentation for OrdinalEncoder</span></a></div></label><div class=\"sk-toggleable__content \"><pre>OrdinalEncoder(categories=[[&#x27;junior&#x27;, &#x27;middle&#x27;, &#x27;sinior&#x27;],\n",
       "                           [&#x27;low&#x27;, &#x27;medium&#x27;, &#x27;high&#x27;]],\n",
       "               handle_unknown=&#x27;use_encoded_value&#x27;, unknown_value=nan)</pre></div> </div></div><div class=\"sk-item\"><div class=\"sk-estimator  sk-toggleable\"><input class=\"sk-toggleable__control sk-hidden--visually\" id=\"sk-estimator-id-23\" type=\"checkbox\" ><label for=\"sk-estimator-id-23\" class=\"sk-toggleable__label  sk-toggleable__label-arrow\"><div><div>SimpleImputer</div></div><div><a class=\"sk-estimator-doc-link \" rel=\"noreferrer\" target=\"_blank\" href=\"https://scikit-learn.org/1.6/modules/generated/sklearn.impute.SimpleImputer.html\">?<span>Documentation for SimpleImputer</span></a></div></label><div class=\"sk-toggleable__content \"><pre>SimpleImputer(strategy=&#x27;most_frequent&#x27;)</pre></div> </div></div></div></div></div></div></div><div class=\"sk-parallel-item\"><div class=\"sk-item\"><div class=\"sk-label-container\"><div class=\"sk-label  sk-toggleable\"><input class=\"sk-toggleable__control sk-hidden--visually\" id=\"sk-estimator-id-24\" type=\"checkbox\" ><label for=\"sk-estimator-id-24\" class=\"sk-toggleable__label  sk-toggleable__label-arrow\"><div><div>num</div></div></label><div class=\"sk-toggleable__content \"><pre>[&#x27;employment_years&#x27;, &#x27;supervisor_evaluation&#x27;, &#x27;salary&#x27;, &#x27;job_satisfaction_rate&#x27;]</pre></div> </div></div><div class=\"sk-serial\"><div class=\"sk-item\"><div class=\"sk-serial\"><div class=\"sk-item\"><div class=\"sk-estimator  sk-toggleable\"><input class=\"sk-toggleable__control sk-hidden--visually\" id=\"sk-estimator-id-25\" type=\"checkbox\" ><label for=\"sk-estimator-id-25\" class=\"sk-toggleable__label  sk-toggleable__label-arrow\"><div><div>SimpleImputer</div></div><div><a class=\"sk-estimator-doc-link \" rel=\"noreferrer\" target=\"_blank\" href=\"https://scikit-learn.org/1.6/modules/generated/sklearn.impute.SimpleImputer.html\">?<span>Documentation for SimpleImputer</span></a></div></label><div class=\"sk-toggleable__content \"><pre>SimpleImputer()</pre></div> </div></div><div class=\"sk-item\"><div class=\"sk-estimator  sk-toggleable\"><input class=\"sk-toggleable__control sk-hidden--visually\" id=\"sk-estimator-id-26\" type=\"checkbox\" ><label for=\"sk-estimator-id-26\" class=\"sk-toggleable__label  sk-toggleable__label-arrow\"><div><div>StandardScaler</div></div><div><a class=\"sk-estimator-doc-link \" rel=\"noreferrer\" target=\"_blank\" href=\"https://scikit-learn.org/1.6/modules/generated/sklearn.preprocessing.StandardScaler.html\">?<span>Documentation for StandardScaler</span></a></div></label><div class=\"sk-toggleable__content \"><pre>StandardScaler()</pre></div> </div></div><div class=\"sk-item\"><div class=\"sk-estimator  sk-toggleable\"><input class=\"sk-toggleable__control sk-hidden--visually\" id=\"sk-estimator-id-27\" type=\"checkbox\" ><label for=\"sk-estimator-id-27\" class=\"sk-toggleable__label  sk-toggleable__label-arrow\"><div><div>PolynomialFeatures</div></div><div><a class=\"sk-estimator-doc-link \" rel=\"noreferrer\" target=\"_blank\" href=\"https://scikit-learn.org/1.6/modules/generated/sklearn.preprocessing.PolynomialFeatures.html\">?<span>Documentation for PolynomialFeatures</span></a></div></label><div class=\"sk-toggleable__content \"><pre>PolynomialFeatures(include_bias=False)</pre></div> </div></div><div class=\"sk-item\"><div class=\"sk-estimator  sk-toggleable\"><input class=\"sk-toggleable__control sk-hidden--visually\" id=\"sk-estimator-id-28\" type=\"checkbox\" ><label for=\"sk-estimator-id-28\" class=\"sk-toggleable__label  sk-toggleable__label-arrow\"><div><div>SelectKBest</div></div><div><a class=\"sk-estimator-doc-link \" rel=\"noreferrer\" target=\"_blank\" href=\"https://scikit-learn.org/1.6/modules/generated/sklearn.feature_selection.SelectKBest.html\">?<span>Documentation for SelectKBest</span></a></div></label><div class=\"sk-toggleable__content \"><pre>SelectKBest(k=&#x27;all&#x27;)</pre></div> </div></div></div></div></div></div></div><div class=\"sk-parallel-item\"><div class=\"sk-item\"><div class=\"sk-label-container\"><div class=\"sk-label  sk-toggleable\"><input class=\"sk-toggleable__control sk-hidden--visually\" id=\"sk-estimator-id-29\" type=\"checkbox\" ><label for=\"sk-estimator-id-29\" class=\"sk-toggleable__label  sk-toggleable__label-arrow\"><div><div>remainder</div></div></label><div class=\"sk-toggleable__content \"><pre></pre></div> </div></div><div class=\"sk-serial\"><div class=\"sk-item\"><div class=\"sk-estimator  sk-toggleable\"><input class=\"sk-toggleable__control sk-hidden--visually\" id=\"sk-estimator-id-30\" type=\"checkbox\" ><label for=\"sk-estimator-id-30\" class=\"sk-toggleable__label  sk-toggleable__label-arrow\"><div><div>passthrough</div></div></label><div class=\"sk-toggleable__content \"><pre>passthrough</pre></div> </div></div></div></div></div></div></div></div></div>"
      ],
      "text/plain": [
       "ColumnTransformer(remainder='passthrough',\n",
       "                  transformers=[('ohe',\n",
       "                                 Pipeline(steps=[('simpleImputer_ohe',\n",
       "                                                  SimpleImputer(strategy='most_frequent')),\n",
       "                                                 ('ohe',\n",
       "                                                  OneHotEncoder(drop='first',\n",
       "                                                                handle_unknown='ignore',\n",
       "                                                                sparse_output=False))]),\n",
       "                                 ['dept', 'last_year_promo',\n",
       "                                  'last_year_violations']),\n",
       "                                ('ord',\n",
       "                                 Pipeline(steps=[('simpleImputer_before_ord',\n",
       "                                                  SimpleImputer(strategy='m...\n",
       "                                                                 unknown_value=nan)),\n",
       "                                                 ('simpleImputer_after_ord',\n",
       "                                                  SimpleImputer(strategy='most_frequent'))]),\n",
       "                                 ['level', 'workload']),\n",
       "                                ('num',\n",
       "                                 Pipeline(steps=[('imputer', SimpleImputer()),\n",
       "                                                 ('scaler', StandardScaler()),\n",
       "                                                 ('poly',\n",
       "                                                  PolynomialFeatures(include_bias=False)),\n",
       "                                                 ('select',\n",
       "                                                  SelectKBest(k='all'))]),\n",
       "                                 ['employment_years', 'supervisor_evaluation',\n",
       "                                  'salary', 'job_satisfaction_rate'])])"
      ]
     },
     "execution_count": 36,
     "metadata": {},
     "output_type": "execute_result"
    }
   ],
   "source": [
    "# Сортировка и сброс индекса для каждой таблицы\n",
    "train_quit_df = train_quit_df.sort_values(by='id').reset_index(drop=True)\n",
    "test_features_df = test_features_df.sort_values(by='id').reset_index(drop=True)\n",
    "test_target_quit_df = test_target_quit_df.sort_values(by='id').reset_index(drop=True)\n",
    "\n",
    "# Загрузка данных\n",
    "X_train = train_quit_df.drop(['id', 'quit'], axis=1)\n",
    "y_train = train_quit_df['quit']\n",
    "\n",
    "X_test = test_features_df.drop(['id'], axis=1)\n",
    "y_test = test_target_quit_df['quit']\n",
    "\n",
    "print(X_train.shape, X_test.shape)\n",
    "\n",
    "from sklearn.preprocessing import LabelEncoder\n",
    "\n",
    "# Кодирование целевого признака \n",
    "label_encoder = LabelEncoder()\n",
    "y_train = label_encoder.fit_transform(y_train) \n",
    "y_test = label_encoder.transform(y_test)      \n",
    "\n",
    "\n",
    "\n",
    "# Списки признаков\n",
    "ohe_columns = ['dept', 'last_year_promo', 'last_year_violations']\n",
    "ord_columns = ['level', 'workload']\n",
    "num_columns = ['employment_years', \n",
    "               'supervisor_evaluation',\n",
    "               'salary', 'job_satisfaction_rate'\n",
    "               ]\n",
    "\n",
    "# Пайплайн для OHE-кодирования\n",
    "ohe_pipe = Pipeline([\n",
    "    ('simpleImputer_ohe', SimpleImputer(missing_values=np.nan, strategy='most_frequent')),\n",
    "    ('ohe', OneHotEncoder(drop='first', handle_unknown='ignore', sparse_output=False))\n",
    "])\n",
    "\n",
    "# Пайплайн для Ordinal-кодирования\n",
    "ord_pipe = Pipeline([\n",
    "    ('simpleImputer_before_ord', SimpleImputer(missing_values=np.nan, strategy='most_frequent')),\n",
    "    ('ord', OrdinalEncoder(\n",
    "        categories=[\n",
    "            ['junior', 'middle', 'sinior'], \n",
    "            ['low', 'medium', 'high']\n",
    "        ], \n",
    "        handle_unknown='use_encoded_value', unknown_value=np.nan\n",
    "    )),\n",
    "    ('simpleImputer_after_ord', SimpleImputer(missing_values=np.nan, strategy='most_frequent'))\n",
    "])\n",
    "\n",
    "# Пайплайн для числовых данных с добавлением полиномиальных признаков\n",
    "num_pipe = Pipeline([\n",
    "    ('imputer', SimpleImputer(missing_values=np.nan, strategy='mean')),\n",
    "    ('scaler', StandardScaler()),\n",
    "    ('poly', PolynomialFeatures(degree=2, include_bias=False)), \n",
    "    ('select', SelectKBest(score_func=f_classif, k='all'))   \n",
    "])\n",
    "\n",
    "# Общий ColumnTransformer для подготовки данных\n",
    "data_preprocessor = ColumnTransformer([\n",
    "    ('ohe', ohe_pipe, ohe_columns),\n",
    "    ('ord', ord_pipe, ord_columns),\n",
    "    ('num', num_pipe, num_columns)\n",
    "], remainder='passthrough')\n",
    "\n",
    "data_preprocessor"
   ]
  },
  {
   "cell_type": "markdown",
   "id": "c5cff8b2",
   "metadata": {},
   "source": [
    "### Этап 6: Обучение модели\n",
    "\n",
    "Обучим как минимум три модели. Как минимум для двух из них подберем гиперпараметры. Проверим качество лучшей модели.\n",
    "\n",
    "Метрика оценки качества в этой задаче — ROC-AUC. Критерий успеха: ROC-AUC ≥ 0.91 на тестовой выборке. "
   ]
  },
  {
   "cell_type": "code",
   "execution_count": 37,
   "id": "d26bd509",
   "metadata": {},
   "outputs": [
    {
     "name": "stdout",
     "output_type": "stream",
     "text": [
      "Fitting 5 folds for each of 10 candidates, totalling 50 fits\n",
      "\n",
      "Лучшая модель по результатам кросс-валидации:\n",
      "Pipeline(steps=[('preprocessor',\n",
      "                 ColumnTransformer(remainder='passthrough',\n",
      "                                   transformers=[('ohe',\n",
      "                                                  Pipeline(steps=[('simpleImputer_ohe',\n",
      "                                                                   SimpleImputer(strategy='most_frequent')),\n",
      "                                                                  ('ohe',\n",
      "                                                                   OneHotEncoder(drop='first',\n",
      "                                                                                 handle_unknown='ignore',\n",
      "                                                                                 sparse_output=False))]),\n",
      "                                                  ['dept', 'last_year_promo',\n",
      "                                                   'last_year_violations']),\n",
      "                                                 ('ord',\n",
      "                                                  Pipeline(steps=[('simpleImputer_befor...\n",
      "                                                                   SimpleImputer(strategy='most_frequent'))]),\n",
      "                                                  ['level', 'workload']),\n",
      "                                                 ('num',\n",
      "                                                  Pipeline(steps=[('imputer',\n",
      "                                                                   SimpleImputer()),\n",
      "                                                                  ('scaler',\n",
      "                                                                   StandardScaler()),\n",
      "                                                                  ('poly',\n",
      "                                                                   PolynomialFeatures(degree=1,\n",
      "                                                                                      include_bias=False)),\n",
      "                                                                  ('select',\n",
      "                                                                   SelectKBest(k='all'))]),\n",
      "                                                  ['employment_years',\n",
      "                                                   'supervisor_evaluation',\n",
      "                                                   'salary',\n",
      "                                                   'job_satisfaction_rate'])])),\n",
      "                ('models', SVC(probability=True))])\n",
      "ROC-AUC (кросс-валидация): 0.928441583074106\n",
      "ROC-AUC на тестовой выборке: 0.9243\n"
     ]
    }
   ],
   "source": [
    "# Финальный пайплайн\n",
    "pipe_final = Pipeline([\n",
    "    ('preprocessor', data_preprocessor),\n",
    "    ('models', DecisionTreeClassifier(random_state=RANDOM_STATE))\n",
    "])\n",
    "\n",
    "# Словари параметров\n",
    "param_grid = [\n",
    "    {\n",
    "        'models': [DecisionTreeClassifier(random_state=RANDOM_STATE)],\n",
    "        'models__max_depth': range(2, 5),\n",
    "        'models__max_features': range(2, 5),\n",
    "        'preprocessor__num__poly__degree': [1, 2, 3]\n",
    "    },\n",
    "    {\n",
    "        'models': [KNeighborsClassifier()],\n",
    "        'models__n_neighbors': range(2, 5),\n",
    "        'preprocessor__num__poly__degree': [1, 2]\n",
    "    },\n",
    "    {\n",
    "        'models': [LogisticRegression(\n",
    "            random_state=RANDOM_STATE, \n",
    "            solver='liblinear', \n",
    "            penalty='l1'\n",
    "        )],\n",
    "        'models__C': range(1, 10),\n",
    "        'preprocessor__num__poly__degree': [1, 2]\n",
    "    },\n",
    "    {\n",
    "        'models': [SVC(probability=True)],\n",
    "        'models__kernel': ['linear', 'rbf', 'sigmoid', 'poly'],\n",
    "        'preprocessor__num__poly__degree': [1, 2]\n",
    "    }\n",
    "]\n",
    "\n",
    "# Поиск с кросс-валидацией\n",
    "cv = StratifiedKFold(n_splits=5, shuffle=True, random_state=RANDOM_STATE)\n",
    "search = RandomizedSearchCV(\n",
    "    pipe_final, \n",
    "    param_grid, \n",
    "    cv=cv, \n",
    "    scoring='roc_auc', \n",
    "    random_state=RANDOM_STATE, \n",
    "    n_jobs=-1,\n",
    "    verbose=1\n",
    ")\n",
    "\n",
    "# Обучение на тренировочной выборке \n",
    "search.fit(X_train, y_train)\n",
    "\n",
    "# Выводим лучшую модель\n",
    "print(\"\\nЛучшая модель по результатам кросс-валидации:\")\n",
    "print(search.best_estimator_)\n",
    "print(\"ROC-AUC (кросс-валидация):\", search.best_score_)\n",
    "\n",
    "# тестирование на тестовой выборке\n",
    "best_model = search.best_estimator_\n",
    "y_test_proba = best_model.predict_proba(X_test)[:, 1]\n",
    "roc_auc_test = roc_auc_score(y_test, y_test_proba)\n",
    "print(f\"ROC-AUC на тестовой выборке: {roc_auc_test:.4f}\")"
   ]
  },
  {
   "cell_type": "code",
   "execution_count": 38,
   "id": "52e0b232",
   "metadata": {},
   "outputs": [
    {
     "data": {
      "image/png": "[encoded data removed]",
      "text/plain": [
       "<Figure size 432x288 with 2 Axes>"
      ]
     },
     "metadata": {
      "needs_background": "light"
     },
     "output_type": "display_data"
    }
   ],
   "source": [
    "# построим матрицу ошибок\n",
    "y_pred = best_model.predict(X_test)\n",
    "cm = confusion_matrix(y_test, y_pred)\n",
    "sns.heatmap(cm, annot=True, fmt='d', cmap='Blues_r')\n",
    "plt.ylabel('True label')\n",
    "plt.xlabel('Predicted'); "
   ]
  },
  {
   "cell_type": "markdown",
   "id": "0704fb39",
   "metadata": {},
   "source": [
    "456 значений TP и 1332 TN, это означает, что большинство данных модель классифицирует верно и следовательно, с помощью нее компания сможет заранее предупреждать увольнение сотрудника.\n",
    "\n",
    "104 ошибки первого рода, этих сотрудников модель определила как уволившихся, хотя на самом деле они остались в компании.  \n",
    "\n",
    "108 ошибок второго рода, означающих, что этих сотрудников модель отнесла к классу 0, но на самом деле они уволились. эти ошибки (FN) наиболее критичны для компании, так как они не смогли предупредить увольнение 108 человек, а это могли быть очень ценные сотрудники, вносящие большой вклад в успешное функционирование организации. в будущем стоит работать над тем, чтобы модель совершала как можно меньше подобных ошибок и верно классифицировала увольнение работников."
   ]
  },
  {
   "cell_type": "markdown",
   "id": "a79125fd",
   "metadata": {},
   "source": [
    "### Этап 7:  Выводы\n",
    "\n",
    "\n",
    "Лучшая модель использует SVC (метод опорных векторов) с ядром poly (полиномиальное ядро).\n",
    "Такая модель хорошо подходит для данной задачи, так как признаки имеют сложные нелинейные зависимости, что подтверждается высокой точностью метрик\n",
    "\n",
    "\n",
    "Метрика ROC-AUC на тренировочной выборке составила 0.928, что свидетельствует о том, что модель хорошо различает классы \"уволился\" и \"остался\" на обучающих данных.\n",
    "высокое ROC-AUC указывает на способность модели корректно классифицировать, избегая перекоса в сторону какого-либо класса.\n",
    "\n",
    "ROC-AUC на тестовой выборке: 0.924, что говорит о хорошей обобщающей способности модели. Разница между тренировочной и тестовой метрикой небольшая, следовательно значительного переобучения удалось миновать.\n",
    "\n",
    "\n",
    "SVC с полиномиальным ядром оказался наиболее эффективной моделью для задачи. Высокое значение ROC-AUC на тестовых данных подтверждает, что модель способна с высокой точностью предсказывать вероятность увольнения сотрудника.\n"
   ]
  },
  {
   "cell_type": "markdown",
   "id": "efa69970",
   "metadata": {},
   "source": [
    "## Общий вывод\n",
    "\n",
    "**Проект состоял из двух задач:**\n",
    "    \n",
    "1. Предсказание уровня удовлетворённости сотрудника работой — построение модели для оценки показателя job_satisfaction_rate.\n",
    "2. Прогноз увольнения сотрудника из компании — построение модели для классификации риска увольнения на основе различных признаков, включая предсказанный уровень удовлетворённости.\n",
    "\n",
    "**Этапы работы**\n",
    "\n",
    "1. Загрузка данных: Исходные данные из трех таблиц для первой задачи и двух таблиц для второй были изучены, объединены и обработаны.\n",
    "2. Предобработка данных: Проведена очистка данных, включающая обработку пропусков, проверку дублированных строк и приведение структуры данных к единому виду. Пропуски заполнялись наиболее частыми значениями или средними для числовых признаков. Аномалий и выбросов не выявлено.\n",
    "3. Исследовательский анализ данных: Построены графики распределения признаков, выявлены взаимосвязи. Основные факторы, влияющие на удовлетворённость и увольнение, были идентифицированы, включая уровень загруженности, отдел, стаж работы и уровень зарплаты.\n",
    "4. Подготовка данных: Созданы единые пайплайны обработки данных с использованием кодирования категориальных признаков (One-Hot Encoding и Ordinal Encoding), нормализации числовых данных (StandardScaler) и создания полиномиальных признаков (PolynomialFeatures). Для отбора значимых признаков применялся SelectKBest.\n",
    "5. Обучение моделей:\n",
    "    - Первая задача: Обучены линейная регрессия и случайный лес с подбором гиперпараметров через RandomizedSearchCV. Лучшая модель — случайный лес.\n",
    "    - Вторая задача: Обучены три классификационные модели, включая SVC, дерево решений и логистическую регрессию. Лучшая модель — SVC с полиномиальным ядром, которая достигла метрики ROC-AUC = 0.924.\n",
    "6. Анализ результатов: Проведен анализ коэффициентов линейной регрессии и значимости признаков дерева решений. Наиболее важные признаки включали зарплату, стаж работы, уровень удовлетворённости и оценку руководителя.\n",
    "\n",
    "\n",
    "**Предсказание уровня удовлетворённости:**\n",
    "\n",
    "    Дерево решений показало наилучшие результаты с метрикой SMAPE = 14.95 на тестовой выборке.\n",
    "Уровень зарплаты, стаж работы и оценка руководителя оказались ключевыми факторами, влияющими на удовлетворённость. Сотрудники с высокой зарплатой, большим стажем работы и положительной оценкой руководителя чаще довольны работой.\n",
    "\n",
    "\n",
    "**Прогноз увольнения:**\n",
    "    \n",
    "Наилучшая модель SVC достигла ROC-AUC = 0.924, подтвердив свою способность предсказывать вероятность увольнения с высокой точностью.\n",
    "Уволившиеся сотрудники чаще всего характеризуются низкой загруженностью, минимальным стажем, зарплатой ниже 27 тысяч и неудовлетворённостью работой.\n",
    "\n",
    "\n",
    "**Рекомендации для бизнеса**\n",
    "\n",
    "\n",
    " Удержание сотрудников:\n",
    "1. Ввести регулярный мониторинг уровня удовлетворённости сотрудников, используя результаты модели предсказания job_satisfaction_rate.\n",
    "2. Уделить внимание группе с высоким риском увольнения: начинающим специалистам с низкой загруженностью и неудовлетворённостью работой.\n",
    "\n",
    "\n",
    "Улучшение условий труда:\n",
    "1. Предлагать повышение карьерные перспективы сотрудникам с минимальным стажем и низкой удовлетворённостью.\n",
    "2. Организовать программы повышения мотивации для сотрудников с низкой загруженностью.\n",
    "\n",
    "\n",
    "Прогнозирование риска увольнения:\n",
    "1. Интегрировать модель в HR-систему для анализа данных в реальном времени и быстрого выявления сотрудников с высоким риском ухода.\n",
    "\n"
   ]
  }
 ],
 "metadata": {
  "ExecuteTimeLog": [
   {
    "duration": 43,
    "start_time": "2025-04-03T19:20:39.066Z"
   },
   {
    "duration": 2,
    "start_time": "2025-04-03T19:21:17.574Z"
   },
   {
    "duration": 3,
    "start_time": "2025-04-03T19:21:23.042Z"
   },
   {
    "duration": 6887,
    "start_time": "2025-04-03T19:22:12.881Z"
   },
   {
    "duration": 66,
    "start_time": "2025-04-03T19:22:51.244Z"
   },
   {
    "duration": 6115,
    "start_time": "2025-04-03T19:23:33.110Z"
   },
   {
    "duration": 2295,
    "start_time": "2025-04-03T19:24:34.225Z"
   },
   {
    "duration": 2765,
    "start_time": "2025-04-03T19:24:36.522Z"
   },
   {
    "duration": 1792,
    "start_time": "2025-04-03T19:24:39.289Z"
   },
   {
    "duration": 49,
    "start_time": "2025-04-03T19:24:41.082Z"
   },
   {
    "duration": 70,
    "start_time": "2025-04-03T19:29:57.887Z"
   },
   {
    "duration": 26,
    "start_time": "2025-04-03T19:31:33.770Z"
   },
   {
    "duration": 31,
    "start_time": "2025-04-03T19:31:43.072Z"
   },
   {
    "duration": 28,
    "start_time": "2025-04-03T19:32:43.932Z"
   },
   {
    "duration": 24,
    "start_time": "2025-04-03T19:32:56.233Z"
   },
   {
    "duration": 23,
    "start_time": "2025-04-03T19:33:11.322Z"
   },
   {
    "duration": 33,
    "start_time": "2025-04-03T19:33:36.584Z"
   },
   {
    "duration": 51,
    "start_time": "2025-04-03T19:34:43.968Z"
   },
   {
    "duration": 17,
    "start_time": "2025-04-03T19:34:57.199Z"
   },
   {
    "duration": 28,
    "start_time": "2025-04-03T19:35:02.821Z"
   },
   {
    "duration": 27,
    "start_time": "2025-04-03T19:35:15.008Z"
   },
   {
    "duration": 27,
    "start_time": "2025-04-03T19:35:22.291Z"
   },
   {
    "duration": 144,
    "start_time": "2025-04-03T19:35:32.993Z"
   },
   {
    "duration": 20,
    "start_time": "2025-04-03T19:35:39.668Z"
   },
   {
    "duration": 20,
    "start_time": "2025-04-03T19:35:52.310Z"
   },
   {
    "duration": 19,
    "start_time": "2025-04-03T19:36:09.828Z"
   },
   {
    "duration": 78,
    "start_time": "2025-04-03T19:37:33.157Z"
   },
   {
    "duration": 29,
    "start_time": "2025-04-03T19:37:50.832Z"
   },
   {
    "duration": 27,
    "start_time": "2025-04-03T19:37:58.996Z"
   },
   {
    "duration": 28,
    "start_time": "2025-04-03T19:38:05.804Z"
   },
   {
    "duration": 31,
    "start_time": "2025-04-03T19:38:13.801Z"
   },
   {
    "duration": 72,
    "start_time": "2025-04-03T19:39:09.342Z"
   },
   {
    "duration": 6,
    "start_time": "2025-04-03T19:41:17.037Z"
   },
   {
    "duration": 59,
    "start_time": "2025-04-03T19:42:09.321Z"
   },
   {
    "duration": 6,
    "start_time": "2025-04-03T19:43:22.978Z"
   },
   {
    "duration": 11,
    "start_time": "2025-04-03T19:43:23.493Z"
   },
   {
    "duration": 54,
    "start_time": "2025-04-03T19:44:13.514Z"
   },
   {
    "duration": 14,
    "start_time": "2025-04-03T19:51:58.356Z"
   },
   {
    "duration": 33,
    "start_time": "2025-04-03T19:52:36.109Z"
   },
   {
    "duration": 26,
    "start_time": "2025-04-03T19:52:51.510Z"
   },
   {
    "duration": 13,
    "start_time": "2025-04-03T19:54:14.813Z"
   },
   {
    "duration": 7,
    "start_time": "2025-04-03T19:58:22.337Z"
   },
   {
    "duration": 19,
    "start_time": "2025-04-03T19:58:40.367Z"
   },
   {
    "duration": 10,
    "start_time": "2025-04-03T19:58:48.430Z"
   },
   {
    "duration": 10,
    "start_time": "2025-04-03T20:00:13.775Z"
   },
   {
    "duration": 4,
    "start_time": "2025-04-03T20:01:00.250Z"
   },
   {
    "duration": 15,
    "start_time": "2025-04-03T20:03:00.689Z"
   },
   {
    "duration": 14,
    "start_time": "2025-04-03T20:03:16.831Z"
   },
   {
    "duration": 15,
    "start_time": "2025-04-03T20:03:24.916Z"
   },
   {
    "duration": 10,
    "start_time": "2025-04-03T20:04:01.894Z"
   },
   {
    "duration": 45,
    "start_time": "2025-04-03T20:07:38.564Z"
   },
   {
    "duration": 15,
    "start_time": "2025-04-03T20:13:36.856Z"
   },
   {
    "duration": 10,
    "start_time": "2025-04-03T20:14:13.033Z"
   },
   {
    "duration": 10,
    "start_time": "2025-04-03T20:16:37.872Z"
   },
   {
    "duration": 8,
    "start_time": "2025-04-03T20:16:45.999Z"
   },
   {
    "duration": 9,
    "start_time": "2025-04-03T20:17:18.027Z"
   },
   {
    "duration": 3,
    "start_time": "2025-04-03T20:17:27.408Z"
   },
   {
    "duration": 13,
    "start_time": "2025-04-03T20:17:45.514Z"
   },
   {
    "duration": 6,
    "start_time": "2025-04-03T20:17:54.676Z"
   },
   {
    "duration": 7,
    "start_time": "2025-04-03T20:19:25.751Z"
   },
   {
    "duration": 7,
    "start_time": "2025-04-03T20:19:50.377Z"
   },
   {
    "duration": 6,
    "start_time": "2025-04-03T20:19:58.376Z"
   },
   {
    "duration": 7,
    "start_time": "2025-04-03T20:21:28.152Z"
   },
   {
    "duration": 30,
    "start_time": "2025-04-03T20:24:46.316Z"
   },
   {
    "duration": 28,
    "start_time": "2025-04-03T20:25:57.734Z"
   },
   {
    "duration": 2180,
    "start_time": "2025-04-04T04:46:26.849Z"
   },
   {
    "duration": 3140,
    "start_time": "2025-04-04T04:46:29.031Z"
   },
   {
    "duration": 41,
    "start_time": "2025-04-04T04:46:32.173Z"
   },
   {
    "duration": 0,
    "start_time": "2025-04-04T04:46:32.216Z"
   },
   {
    "duration": 0,
    "start_time": "2025-04-04T04:46:32.217Z"
   },
   {
    "duration": 0,
    "start_time": "2025-04-04T04:46:32.219Z"
   },
   {
    "duration": 0,
    "start_time": "2025-04-04T04:46:32.220Z"
   },
   {
    "duration": 0,
    "start_time": "2025-04-04T04:46:32.221Z"
   },
   {
    "duration": 0,
    "start_time": "2025-04-04T04:46:32.222Z"
   },
   {
    "duration": 0,
    "start_time": "2025-04-04T04:46:32.223Z"
   },
   {
    "duration": 2,
    "start_time": "2025-04-04T04:46:49.360Z"
   },
   {
    "duration": 1594,
    "start_time": "2025-04-04T04:46:49.994Z"
   },
   {
    "duration": 71,
    "start_time": "2025-04-04T04:46:51.590Z"
   },
   {
    "duration": 353,
    "start_time": "2025-04-04T04:46:51.662Z"
   },
   {
    "duration": 1288,
    "start_time": "2025-04-04T04:46:52.017Z"
   },
   {
    "duration": 1030,
    "start_time": "2025-04-04T04:46:53.307Z"
   },
   {
    "duration": 851,
    "start_time": "2025-04-04T04:46:54.338Z"
   },
   {
    "duration": 746,
    "start_time": "2025-04-04T04:46:55.192Z"
   },
   {
    "duration": 86,
    "start_time": "2025-04-04T04:49:26.253Z"
   },
   {
    "duration": 6,
    "start_time": "2025-04-04T04:49:32.937Z"
   },
   {
    "duration": 2487,
    "start_time": "2025-04-04T04:49:34.642Z"
   },
   {
    "duration": 2195,
    "start_time": "2025-04-04T04:50:09.152Z"
   },
   {
    "duration": 1666,
    "start_time": "2025-04-04T05:17:56.663Z"
   },
   {
    "duration": 365,
    "start_time": "2025-04-04T05:34:06.948Z"
   },
   {
    "duration": 334,
    "start_time": "2025-04-04T05:34:24.397Z"
   },
   {
    "duration": 342,
    "start_time": "2025-04-04T05:34:36.312Z"
   },
   {
    "duration": 1929,
    "start_time": "2025-04-04T05:51:42.156Z"
   },
   {
    "duration": 907,
    "start_time": "2025-04-04T05:52:36.129Z"
   },
   {
    "duration": 20,
    "start_time": "2025-04-04T05:56:43.556Z"
   },
   {
    "duration": 1028,
    "start_time": "2025-04-04T05:57:53.616Z"
   },
   {
    "duration": 909,
    "start_time": "2025-04-04T05:58:20.501Z"
   },
   {
    "duration": 909,
    "start_time": "2025-04-04T05:58:41.700Z"
   },
   {
    "duration": 16,
    "start_time": "2025-04-04T06:18:10.837Z"
   },
   {
    "duration": 7,
    "start_time": "2025-04-04T06:18:22.329Z"
   },
   {
    "duration": 14,
    "start_time": "2025-04-04T06:26:05.291Z"
   },
   {
    "duration": 9,
    "start_time": "2025-04-04T06:26:50.073Z"
   },
   {
    "duration": 14,
    "start_time": "2025-04-04T07:20:25.138Z"
   },
   {
    "duration": 76,
    "start_time": "2025-04-04T07:23:31.304Z"
   },
   {
    "duration": 13,
    "start_time": "2025-04-04T07:24:10.513Z"
   },
   {
    "duration": 103,
    "start_time": "2025-04-04T07:24:31.891Z"
   },
   {
    "duration": 2537,
    "start_time": "2025-04-04T08:06:03.380Z"
   },
   {
    "duration": 3244,
    "start_time": "2025-04-04T08:06:05.919Z"
   },
   {
    "duration": 3,
    "start_time": "2025-04-04T08:06:09.165Z"
   },
   {
    "duration": 1362,
    "start_time": "2025-04-04T08:06:09.170Z"
   },
   {
    "duration": 73,
    "start_time": "2025-04-04T08:06:10.534Z"
   },
   {
    "duration": 7,
    "start_time": "2025-04-04T08:06:10.609Z"
   },
   {
    "duration": 62,
    "start_time": "2025-04-04T08:06:10.617Z"
   },
   {
    "duration": 45,
    "start_time": "2025-04-04T08:06:10.681Z"
   },
   {
    "duration": 8,
    "start_time": "2025-04-04T08:06:10.728Z"
   },
   {
    "duration": 60,
    "start_time": "2025-04-04T08:06:10.739Z"
   },
   {
    "duration": 6,
    "start_time": "2025-04-04T08:06:10.800Z"
   },
   {
    "duration": 2451,
    "start_time": "2025-04-04T08:06:10.808Z"
   },
   {
    "duration": 1912,
    "start_time": "2025-04-04T08:06:13.261Z"
   },
   {
    "duration": 390,
    "start_time": "2025-04-04T08:06:15.175Z"
   },
   {
    "duration": 1138,
    "start_time": "2025-04-04T08:06:15.567Z"
   },
   {
    "duration": 16,
    "start_time": "2025-04-04T08:06:16.707Z"
   },
   {
    "duration": 118,
    "start_time": "2025-04-04T08:06:16.725Z"
   },
   {
    "duration": 124,
    "start_time": "2025-04-04T08:06:16.844Z"
   },
   {
    "duration": 0,
    "start_time": "2025-04-04T08:06:16.970Z"
   },
   {
    "duration": 2508,
    "start_time": "2025-04-04T08:08:33.610Z"
   },
   {
    "duration": 3361,
    "start_time": "2025-04-04T08:08:36.121Z"
   },
   {
    "duration": 2,
    "start_time": "2025-04-04T08:08:39.484Z"
   },
   {
    "duration": 1293,
    "start_time": "2025-04-04T08:08:39.488Z"
   },
   {
    "duration": 61,
    "start_time": "2025-04-04T08:08:40.782Z"
   },
   {
    "duration": 7,
    "start_time": "2025-04-04T08:08:40.845Z"
   },
   {
    "duration": 65,
    "start_time": "2025-04-04T08:08:40.854Z"
   },
   {
    "duration": 54,
    "start_time": "2025-04-04T08:08:40.920Z"
   },
   {
    "duration": 8,
    "start_time": "2025-04-04T08:08:40.975Z"
   },
   {
    "duration": 29,
    "start_time": "2025-04-04T08:08:40.985Z"
   },
   {
    "duration": 6,
    "start_time": "2025-04-04T08:08:41.015Z"
   },
   {
    "duration": 2422,
    "start_time": "2025-04-04T08:08:41.023Z"
   },
   {
    "duration": 1929,
    "start_time": "2025-04-04T08:08:43.446Z"
   },
   {
    "duration": 394,
    "start_time": "2025-04-04T08:08:45.377Z"
   },
   {
    "duration": 1156,
    "start_time": "2025-04-04T08:08:45.773Z"
   },
   {
    "duration": 16,
    "start_time": "2025-04-04T08:08:46.931Z"
   },
   {
    "duration": 116,
    "start_time": "2025-04-04T08:08:46.948Z"
   },
   {
    "duration": 118,
    "start_time": "2025-04-04T08:08:47.065Z"
   },
   {
    "duration": 0,
    "start_time": "2025-04-04T08:08:47.185Z"
   },
   {
    "duration": 11,
    "start_time": "2025-04-04T08:09:17.004Z"
   },
   {
    "duration": 55,
    "start_time": "2025-04-04T08:19:15.192Z"
   },
   {
    "duration": 81064,
    "start_time": "2025-04-04T08:20:53.181Z"
   },
   {
    "duration": 3784,
    "start_time": "2025-04-04T15:28:58.775Z"
   },
   {
    "duration": 7822,
    "start_time": "2025-04-04T15:29:02.563Z"
   },
   {
    "duration": 4,
    "start_time": "2025-04-04T15:29:10.389Z"
   },
   {
    "duration": 1840,
    "start_time": "2025-04-04T15:29:10.395Z"
   },
   {
    "duration": 81,
    "start_time": "2025-04-04T15:29:12.238Z"
   },
   {
    "duration": 7,
    "start_time": "2025-04-04T15:29:12.321Z"
   },
   {
    "duration": 82,
    "start_time": "2025-04-04T15:29:12.330Z"
   },
   {
    "duration": 49,
    "start_time": "2025-04-04T15:29:12.414Z"
   },
   {
    "duration": 11,
    "start_time": "2025-04-04T15:29:12.465Z"
   },
   {
    "duration": 54,
    "start_time": "2025-04-04T15:29:12.478Z"
   },
   {
    "duration": 7,
    "start_time": "2025-04-04T15:29:12.536Z"
   },
   {
    "duration": 2689,
    "start_time": "2025-04-04T15:29:12.545Z"
   },
   {
    "duration": 2077,
    "start_time": "2025-04-04T15:29:15.237Z"
   },
   {
    "duration": 571,
    "start_time": "2025-04-04T15:29:17.318Z"
   },
   {
    "duration": 1162,
    "start_time": "2025-04-04T15:29:17.891Z"
   },
   {
    "duration": 15,
    "start_time": "2025-04-04T15:29:19.055Z"
   },
   {
    "duration": 65,
    "start_time": "2025-04-04T15:29:19.074Z"
   },
   {
    "duration": 85016,
    "start_time": "2025-04-04T15:29:19.142Z"
   },
   {
    "duration": 0,
    "start_time": "2025-04-04T15:30:44.161Z"
   },
   {
    "duration": 0,
    "start_time": "2025-04-04T15:30:44.163Z"
   },
   {
    "duration": 2451,
    "start_time": "2025-04-04T15:36:55.138Z"
   },
   {
    "duration": 3190,
    "start_time": "2025-04-04T15:36:57.592Z"
   },
   {
    "duration": 2,
    "start_time": "2025-04-04T15:37:00.784Z"
   },
   {
    "duration": 1495,
    "start_time": "2025-04-04T15:37:00.788Z"
   },
   {
    "duration": 64,
    "start_time": "2025-04-04T15:37:02.284Z"
   },
   {
    "duration": 8,
    "start_time": "2025-04-04T15:37:02.350Z"
   },
   {
    "duration": 188,
    "start_time": "2025-04-04T15:37:02.359Z"
   },
   {
    "duration": 41,
    "start_time": "2025-04-04T15:37:02.549Z"
   },
   {
    "duration": 10,
    "start_time": "2025-04-04T15:37:02.604Z"
   },
   {
    "duration": 47,
    "start_time": "2025-04-04T15:37:02.616Z"
   },
   {
    "duration": 7,
    "start_time": "2025-04-04T15:37:02.664Z"
   },
   {
    "duration": 2317,
    "start_time": "2025-04-04T15:37:02.673Z"
   },
   {
    "duration": 1902,
    "start_time": "2025-04-04T15:37:04.992Z"
   },
   {
    "duration": 394,
    "start_time": "2025-04-04T15:37:06.896Z"
   },
   {
    "duration": 1132,
    "start_time": "2025-04-04T15:37:07.292Z"
   },
   {
    "duration": 11,
    "start_time": "2025-04-04T15:37:08.426Z"
   },
   {
    "duration": 70,
    "start_time": "2025-04-04T15:37:08.439Z"
   },
   {
    "duration": 82501,
    "start_time": "2025-04-04T15:37:08.511Z"
   },
   {
    "duration": 0,
    "start_time": "2025-04-04T15:38:31.013Z"
   },
   {
    "duration": 0,
    "start_time": "2025-04-04T15:38:31.014Z"
   },
   {
    "duration": 41,
    "start_time": "2025-04-04T16:03:54.490Z"
   },
   {
    "duration": 2532,
    "start_time": "2025-04-04T16:04:21.328Z"
   },
   {
    "duration": 3081,
    "start_time": "2025-04-04T16:04:23.862Z"
   },
   {
    "duration": 3,
    "start_time": "2025-04-04T16:04:26.945Z"
   },
   {
    "duration": 1454,
    "start_time": "2025-04-04T16:04:26.950Z"
   },
   {
    "duration": 77,
    "start_time": "2025-04-04T16:04:28.406Z"
   },
   {
    "duration": 7,
    "start_time": "2025-04-04T16:04:28.485Z"
   },
   {
    "duration": 118,
    "start_time": "2025-04-04T16:04:28.493Z"
   },
   {
    "duration": 43,
    "start_time": "2025-04-04T16:04:28.613Z"
   },
   {
    "duration": 8,
    "start_time": "2025-04-04T16:04:28.657Z"
   },
   {
    "duration": 57,
    "start_time": "2025-04-04T16:04:28.666Z"
   },
   {
    "duration": 7,
    "start_time": "2025-04-04T16:04:28.724Z"
   },
   {
    "duration": 2361,
    "start_time": "2025-04-04T16:04:28.732Z"
   },
   {
    "duration": 1913,
    "start_time": "2025-04-04T16:04:31.095Z"
   },
   {
    "duration": 390,
    "start_time": "2025-04-04T16:04:33.011Z"
   },
   {
    "duration": 1109,
    "start_time": "2025-04-04T16:04:33.403Z"
   },
   {
    "duration": 12,
    "start_time": "2025-04-04T16:04:34.514Z"
   },
   {
    "duration": 174,
    "start_time": "2025-04-04T16:04:34.528Z"
   },
   {
    "duration": 118,
    "start_time": "2025-04-04T16:04:34.703Z"
   },
   {
    "duration": 219,
    "start_time": "2025-04-04T16:10:57.016Z"
   },
   {
    "duration": 6,
    "start_time": "2025-04-04T16:12:45.412Z"
   },
   {
    "duration": 6,
    "start_time": "2025-04-04T16:13:28.788Z"
   },
   {
    "duration": 30,
    "start_time": "2025-04-04T16:14:09.215Z"
   },
   {
    "duration": 14,
    "start_time": "2025-04-04T16:15:06.832Z"
   },
   {
    "duration": 13,
    "start_time": "2025-04-04T16:19:15.126Z"
   },
   {
    "duration": 24,
    "start_time": "2025-04-04T16:20:43.532Z"
   },
   {
    "duration": 7,
    "start_time": "2025-04-04T16:22:06.956Z"
   },
   {
    "duration": 3363,
    "start_time": "2025-04-04T16:22:14.370Z"
   },
   {
    "duration": 2455,
    "start_time": "2025-04-04T16:24:32.829Z"
   },
   {
    "duration": 3059,
    "start_time": "2025-04-04T16:24:35.287Z"
   },
   {
    "duration": 3,
    "start_time": "2025-04-04T16:24:38.348Z"
   },
   {
    "duration": 1537,
    "start_time": "2025-04-04T16:24:38.353Z"
   },
   {
    "duration": 61,
    "start_time": "2025-04-04T16:24:39.893Z"
   },
   {
    "duration": 7,
    "start_time": "2025-04-04T16:24:39.956Z"
   },
   {
    "duration": 107,
    "start_time": "2025-04-04T16:24:39.965Z"
   },
   {
    "duration": 52,
    "start_time": "2025-04-04T16:24:40.074Z"
   },
   {
    "duration": 8,
    "start_time": "2025-04-04T16:24:40.128Z"
   },
   {
    "duration": 68,
    "start_time": "2025-04-04T16:24:40.138Z"
   },
   {
    "duration": 12,
    "start_time": "2025-04-04T16:24:40.207Z"
   },
   {
    "duration": 2267,
    "start_time": "2025-04-04T16:24:40.220Z"
   },
   {
    "duration": 1903,
    "start_time": "2025-04-04T16:24:42.489Z"
   },
   {
    "duration": 409,
    "start_time": "2025-04-04T16:24:44.403Z"
   },
   {
    "duration": 1107,
    "start_time": "2025-04-04T16:24:44.813Z"
   },
   {
    "duration": 11,
    "start_time": "2025-04-04T16:24:45.921Z"
   },
   {
    "duration": 60,
    "start_time": "2025-04-04T16:24:45.933Z"
   },
   {
    "duration": 3568,
    "start_time": "2025-04-04T16:24:45.996Z"
   },
   {
    "duration": 2771,
    "start_time": "2025-04-04T16:25:14.206Z"
   },
   {
    "duration": 3207,
    "start_time": "2025-04-04T16:25:32.825Z"
   },
   {
    "duration": 4204,
    "start_time": "2025-04-04T16:25:53.773Z"
   },
   {
    "duration": 3052,
    "start_time": "2025-04-04T16:28:35.036Z"
   },
   {
    "duration": 2896,
    "start_time": "2025-04-04T16:28:57.287Z"
   },
   {
    "duration": 2940,
    "start_time": "2025-04-04T16:29:47.805Z"
   },
   {
    "duration": 68,
    "start_time": "2025-04-04T16:33:31.365Z"
   },
   {
    "duration": 2828,
    "start_time": "2025-04-04T16:33:36.396Z"
   },
   {
    "duration": 2773,
    "start_time": "2025-04-04T16:34:56.376Z"
   },
   {
    "duration": 52,
    "start_time": "2025-04-04T16:35:24.673Z"
   },
   {
    "duration": 2713,
    "start_time": "2025-04-04T16:35:25.122Z"
   },
   {
    "duration": 3224,
    "start_time": "2025-04-04T20:49:39.189Z"
   },
   {
    "duration": 6536,
    "start_time": "2025-04-04T20:49:42.416Z"
   },
   {
    "duration": 2,
    "start_time": "2025-04-04T20:49:48.954Z"
   },
   {
    "duration": 1680,
    "start_time": "2025-04-04T20:49:48.958Z"
   },
   {
    "duration": 61,
    "start_time": "2025-04-04T20:49:50.640Z"
   },
   {
    "duration": 8,
    "start_time": "2025-04-04T20:49:50.703Z"
   },
   {
    "duration": 102,
    "start_time": "2025-04-04T20:49:50.712Z"
   },
   {
    "duration": 46,
    "start_time": "2025-04-04T20:49:50.816Z"
   },
   {
    "duration": 9,
    "start_time": "2025-04-04T20:49:50.863Z"
   },
   {
    "duration": 59,
    "start_time": "2025-04-04T20:49:50.874Z"
   },
   {
    "duration": 6,
    "start_time": "2025-04-04T20:49:50.935Z"
   },
   {
    "duration": 2433,
    "start_time": "2025-04-04T20:49:50.943Z"
   },
   {
    "duration": 1885,
    "start_time": "2025-04-04T20:49:53.377Z"
   },
   {
    "duration": 558,
    "start_time": "2025-04-04T20:49:55.264Z"
   },
   {
    "duration": 1094,
    "start_time": "2025-04-04T20:49:55.823Z"
   },
   {
    "duration": 11,
    "start_time": "2025-04-04T20:49:56.918Z"
   },
   {
    "duration": 104,
    "start_time": "2025-04-04T20:49:56.931Z"
   },
   {
    "duration": 2967,
    "start_time": "2025-04-04T20:49:57.037Z"
   },
   {
    "duration": 2921,
    "start_time": "2025-04-04T20:50:47.838Z"
   },
   {
    "duration": 78,
    "start_time": "2025-04-04T21:29:43.484Z"
   },
   {
    "duration": 2409,
    "start_time": "2025-04-04T21:37:43.407Z"
   },
   {
    "duration": 3092,
    "start_time": "2025-04-04T21:37:45.819Z"
   },
   {
    "duration": 2,
    "start_time": "2025-04-04T21:37:48.913Z"
   },
   {
    "duration": 1415,
    "start_time": "2025-04-04T21:37:48.917Z"
   },
   {
    "duration": 61,
    "start_time": "2025-04-04T21:37:50.334Z"
   },
   {
    "duration": 7,
    "start_time": "2025-04-04T21:37:50.397Z"
   },
   {
    "duration": 81,
    "start_time": "2025-04-04T21:37:50.405Z"
   },
   {
    "duration": 45,
    "start_time": "2025-04-04T21:37:50.488Z"
   },
   {
    "duration": 9,
    "start_time": "2025-04-04T21:37:50.535Z"
   },
   {
    "duration": 36,
    "start_time": "2025-04-04T21:37:50.546Z"
   },
   {
    "duration": 54,
    "start_time": "2025-04-04T21:37:50.603Z"
   },
   {
    "duration": 2313,
    "start_time": "2025-04-04T21:37:50.659Z"
   },
   {
    "duration": 1910,
    "start_time": "2025-04-04T21:37:52.974Z"
   },
   {
    "duration": 402,
    "start_time": "2025-04-04T21:37:54.886Z"
   },
   {
    "duration": 1131,
    "start_time": "2025-04-04T21:37:55.290Z"
   },
   {
    "duration": 13,
    "start_time": "2025-04-04T21:37:56.422Z"
   },
   {
    "duration": 54,
    "start_time": "2025-04-04T21:37:56.436Z"
   },
   {
    "duration": 125,
    "start_time": "2025-04-04T21:37:56.492Z"
   },
   {
    "duration": 0,
    "start_time": "2025-04-04T21:37:56.618Z"
   },
   {
    "duration": 10727,
    "start_time": "2025-04-04T21:40:09.880Z"
   },
   {
    "duration": 13642,
    "start_time": "2025-04-04T21:46:52.176Z"
   },
   {
    "duration": 5321,
    "start_time": "2025-04-04T21:49:32.392Z"
   },
   {
    "duration": 62,
    "start_time": "2025-04-04T21:50:10.037Z"
   },
   {
    "duration": 4336,
    "start_time": "2025-04-04T21:55:20.421Z"
   },
   {
    "duration": 2347,
    "start_time": "2025-04-04T21:55:44.075Z"
   },
   {
    "duration": 2912,
    "start_time": "2025-04-04T21:55:46.425Z"
   },
   {
    "duration": 2,
    "start_time": "2025-04-04T21:55:49.339Z"
   },
   {
    "duration": 1306,
    "start_time": "2025-04-04T21:55:49.342Z"
   },
   {
    "duration": 61,
    "start_time": "2025-04-04T21:55:50.650Z"
   },
   {
    "duration": 7,
    "start_time": "2025-04-04T21:55:50.712Z"
   },
   {
    "duration": 65,
    "start_time": "2025-04-04T21:55:50.720Z"
   },
   {
    "duration": 48,
    "start_time": "2025-04-04T21:55:50.787Z"
   },
   {
    "duration": 8,
    "start_time": "2025-04-04T21:55:50.837Z"
   },
   {
    "duration": 34,
    "start_time": "2025-04-04T21:55:50.846Z"
   },
   {
    "duration": 23,
    "start_time": "2025-04-04T21:55:50.882Z"
   },
   {
    "duration": 2249,
    "start_time": "2025-04-04T21:55:50.907Z"
   },
   {
    "duration": 1824,
    "start_time": "2025-04-04T21:55:53.158Z"
   },
   {
    "duration": 405,
    "start_time": "2025-04-04T21:55:54.985Z"
   },
   {
    "duration": 1126,
    "start_time": "2025-04-04T21:55:55.391Z"
   },
   {
    "duration": 11,
    "start_time": "2025-04-04T21:55:56.518Z"
   },
   {
    "duration": 58,
    "start_time": "2025-04-04T21:55:56.531Z"
   },
   {
    "duration": 4446,
    "start_time": "2025-04-04T21:55:56.591Z"
   },
   {
    "duration": 5818,
    "start_time": "2025-04-04T22:08:19.781Z"
   },
   {
    "duration": 48,
    "start_time": "2025-04-04T22:11:33.023Z"
   },
   {
    "duration": 2674,
    "start_time": "2025-04-04T22:11:38.344Z"
   },
   {
    "duration": 2378,
    "start_time": "2025-04-04T22:12:23.068Z"
   },
   {
    "duration": 2932,
    "start_time": "2025-04-04T22:12:25.448Z"
   },
   {
    "duration": 2,
    "start_time": "2025-04-04T22:12:28.383Z"
   },
   {
    "duration": 1312,
    "start_time": "2025-04-04T22:12:28.387Z"
   },
   {
    "duration": 61,
    "start_time": "2025-04-04T22:12:29.704Z"
   },
   {
    "duration": 29,
    "start_time": "2025-04-04T22:12:29.767Z"
   },
   {
    "duration": 71,
    "start_time": "2025-04-04T22:12:29.797Z"
   },
   {
    "duration": 46,
    "start_time": "2025-04-04T22:12:29.870Z"
   },
   {
    "duration": 8,
    "start_time": "2025-04-04T22:12:29.917Z"
   },
   {
    "duration": 27,
    "start_time": "2025-04-04T22:12:29.927Z"
   },
   {
    "duration": 6,
    "start_time": "2025-04-04T22:12:29.956Z"
   },
   {
    "duration": 2320,
    "start_time": "2025-04-04T22:12:29.964Z"
   },
   {
    "duration": 1902,
    "start_time": "2025-04-04T22:12:32.286Z"
   },
   {
    "duration": 397,
    "start_time": "2025-04-04T22:12:34.191Z"
   },
   {
    "duration": 1094,
    "start_time": "2025-04-04T22:12:34.590Z"
   },
   {
    "duration": 12,
    "start_time": "2025-04-04T22:12:35.686Z"
   },
   {
    "duration": 154,
    "start_time": "2025-04-04T22:12:35.699Z"
   },
   {
    "duration": 2798,
    "start_time": "2025-04-04T22:12:35.855Z"
   },
   {
    "duration": 49,
    "start_time": "2025-04-04T22:15:30.515Z"
   },
   {
    "duration": 5906,
    "start_time": "2025-04-04T22:15:33.660Z"
   },
   {
    "duration": 5832,
    "start_time": "2025-04-04T22:17:09.108Z"
   },
   {
    "duration": 5857,
    "start_time": "2025-04-04T22:17:51.848Z"
   },
   {
    "duration": 2370,
    "start_time": "2025-04-04T22:34:28.020Z"
   },
   {
    "duration": 2982,
    "start_time": "2025-04-04T22:34:30.392Z"
   },
   {
    "duration": 2,
    "start_time": "2025-04-04T22:34:33.376Z"
   },
   {
    "duration": 1326,
    "start_time": "2025-04-04T22:34:33.379Z"
   },
   {
    "duration": 60,
    "start_time": "2025-04-04T22:34:34.708Z"
   },
   {
    "duration": 7,
    "start_time": "2025-04-04T22:34:34.770Z"
   },
   {
    "duration": 69,
    "start_time": "2025-04-04T22:34:34.779Z"
   },
   {
    "duration": 55,
    "start_time": "2025-04-04T22:34:34.850Z"
   },
   {
    "duration": 25,
    "start_time": "2025-04-04T22:34:34.907Z"
   },
   {
    "duration": 43,
    "start_time": "2025-04-04T22:34:34.934Z"
   },
   {
    "duration": 6,
    "start_time": "2025-04-04T22:34:34.979Z"
   },
   {
    "duration": 2263,
    "start_time": "2025-04-04T22:34:34.987Z"
   },
   {
    "duration": 1936,
    "start_time": "2025-04-04T22:34:37.252Z"
   },
   {
    "duration": 398,
    "start_time": "2025-04-04T22:34:39.191Z"
   },
   {
    "duration": 1093,
    "start_time": "2025-04-04T22:34:39.591Z"
   },
   {
    "duration": 49,
    "start_time": "2025-04-04T22:34:40.686Z"
   },
   {
    "duration": 6067,
    "start_time": "2025-04-04T22:34:40.737Z"
   },
   {
    "duration": 2389,
    "start_time": "2025-04-04T22:36:59.239Z"
   },
   {
    "duration": 3082,
    "start_time": "2025-04-04T22:37:01.630Z"
   },
   {
    "duration": 2,
    "start_time": "2025-04-04T22:37:04.714Z"
   },
   {
    "duration": 1329,
    "start_time": "2025-04-04T22:37:04.718Z"
   },
   {
    "duration": 62,
    "start_time": "2025-04-04T22:37:06.049Z"
   },
   {
    "duration": 7,
    "start_time": "2025-04-04T22:37:06.112Z"
   },
   {
    "duration": 79,
    "start_time": "2025-04-04T22:37:06.121Z"
   },
   {
    "duration": 43,
    "start_time": "2025-04-04T22:37:06.202Z"
   },
   {
    "duration": 9,
    "start_time": "2025-04-04T22:37:06.246Z"
   },
   {
    "duration": 51,
    "start_time": "2025-04-04T22:37:06.256Z"
   },
   {
    "duration": 37,
    "start_time": "2025-04-04T22:37:06.308Z"
   },
   {
    "duration": 2333,
    "start_time": "2025-04-04T22:37:06.346Z"
   },
   {
    "duration": 1899,
    "start_time": "2025-04-04T22:37:08.680Z"
   },
   {
    "duration": 395,
    "start_time": "2025-04-04T22:37:10.581Z"
   },
   {
    "duration": 1108,
    "start_time": "2025-04-04T22:37:10.977Z"
   },
   {
    "duration": 52,
    "start_time": "2025-04-04T22:37:12.087Z"
   },
   {
    "duration": 3563,
    "start_time": "2025-04-04T22:37:12.141Z"
   },
   {
    "duration": 3332,
    "start_time": "2025-04-04T22:41:23.075Z"
   },
   {
    "duration": 6045,
    "start_time": "2025-04-04T22:42:23.165Z"
   },
   {
    "duration": 48,
    "start_time": "2025-04-04T22:44:28.812Z"
   },
   {
    "duration": 6038,
    "start_time": "2025-04-04T22:44:29.537Z"
   },
   {
    "duration": 50,
    "start_time": "2025-04-04T22:46:31.255Z"
   },
   {
    "duration": 6824,
    "start_time": "2025-04-04T22:46:32.013Z"
   },
   {
    "duration": 49,
    "start_time": "2025-04-04T22:46:59.837Z"
   },
   {
    "duration": 6191,
    "start_time": "2025-04-04T22:47:00.601Z"
   },
   {
    "duration": 47,
    "start_time": "2025-04-04T22:47:33.921Z"
   },
   {
    "duration": 5999,
    "start_time": "2025-04-04T22:47:34.864Z"
   },
   {
    "duration": 5932,
    "start_time": "2025-04-04T22:50:20.519Z"
   },
   {
    "duration": 3,
    "start_time": "2025-04-04T22:50:41.480Z"
   },
   {
    "duration": 5,
    "start_time": "2025-04-04T22:50:52.179Z"
   },
   {
    "duration": 11080,
    "start_time": "2025-04-04T22:53:59.099Z"
   },
   {
    "duration": 4,
    "start_time": "2025-04-04T22:54:32.207Z"
   },
   {
    "duration": 15129,
    "start_time": "2025-04-04T22:55:50.756Z"
   },
   {
    "duration": 6267,
    "start_time": "2025-04-04T22:58:35.988Z"
   },
   {
    "duration": 10,
    "start_time": "2025-04-04T22:59:01.316Z"
   },
   {
    "duration": 2417,
    "start_time": "2025-04-04T23:00:17.713Z"
   },
   {
    "duration": 2963,
    "start_time": "2025-04-04T23:00:20.132Z"
   },
   {
    "duration": 3,
    "start_time": "2025-04-04T23:00:23.097Z"
   },
   {
    "duration": 1313,
    "start_time": "2025-04-04T23:00:23.102Z"
   },
   {
    "duration": 60,
    "start_time": "2025-04-04T23:00:24.418Z"
   },
   {
    "duration": 7,
    "start_time": "2025-04-04T23:00:24.480Z"
   },
   {
    "duration": 63,
    "start_time": "2025-04-04T23:00:24.488Z"
   },
   {
    "duration": 53,
    "start_time": "2025-04-04T23:00:24.553Z"
   },
   {
    "duration": 8,
    "start_time": "2025-04-04T23:00:24.607Z"
   },
   {
    "duration": 36,
    "start_time": "2025-04-04T23:00:24.617Z"
   },
   {
    "duration": 6,
    "start_time": "2025-04-04T23:00:24.655Z"
   },
   {
    "duration": 2319,
    "start_time": "2025-04-04T23:00:24.662Z"
   },
   {
    "duration": 1909,
    "start_time": "2025-04-04T23:00:26.982Z"
   },
   {
    "duration": 391,
    "start_time": "2025-04-04T23:00:28.893Z"
   },
   {
    "duration": 1104,
    "start_time": "2025-04-04T23:00:29.285Z"
   },
   {
    "duration": 48,
    "start_time": "2025-04-04T23:00:30.390Z"
   },
   {
    "duration": 6524,
    "start_time": "2025-04-04T23:00:30.439Z"
   },
   {
    "duration": 0,
    "start_time": "2025-04-04T23:00:36.965Z"
   },
   {
    "duration": 8566,
    "start_time": "2025-04-04T23:02:51.671Z"
   },
   {
    "duration": 7,
    "start_time": "2025-04-04T23:15:26.140Z"
   },
   {
    "duration": 7,
    "start_time": "2025-04-04T23:15:53.707Z"
   },
   {
    "duration": 11,
    "start_time": "2025-04-04T23:16:18.217Z"
   },
   {
    "duration": 10523,
    "start_time": "2025-04-04T23:16:40.217Z"
   },
   {
    "duration": 5,
    "start_time": "2025-04-04T23:17:34.469Z"
   },
   {
    "duration": 11,
    "start_time": "2025-04-04T23:19:20.064Z"
   },
   {
    "duration": 2469,
    "start_time": "2025-04-04T23:19:55.769Z"
   },
   {
    "duration": 3032,
    "start_time": "2025-04-04T23:19:58.241Z"
   },
   {
    "duration": 2,
    "start_time": "2025-04-04T23:20:01.275Z"
   },
   {
    "duration": 1373,
    "start_time": "2025-04-04T23:20:01.279Z"
   },
   {
    "duration": 62,
    "start_time": "2025-04-04T23:20:02.654Z"
   },
   {
    "duration": 9,
    "start_time": "2025-04-04T23:20:02.717Z"
   },
   {
    "duration": 132,
    "start_time": "2025-04-04T23:20:02.728Z"
   },
   {
    "duration": 56,
    "start_time": "2025-04-04T23:20:02.861Z"
   },
   {
    "duration": 14,
    "start_time": "2025-04-04T23:20:02.919Z"
   },
   {
    "duration": 54,
    "start_time": "2025-04-04T23:20:02.935Z"
   },
   {
    "duration": 7,
    "start_time": "2025-04-04T23:20:02.991Z"
   },
   {
    "duration": 2385,
    "start_time": "2025-04-04T23:20:02.999Z"
   },
   {
    "duration": 1908,
    "start_time": "2025-04-04T23:20:05.386Z"
   },
   {
    "duration": 412,
    "start_time": "2025-04-04T23:20:07.303Z"
   },
   {
    "duration": 1131,
    "start_time": "2025-04-04T23:20:07.717Z"
   },
   {
    "duration": 48,
    "start_time": "2025-04-04T23:20:08.850Z"
   },
   {
    "duration": 8549,
    "start_time": "2025-04-04T23:20:08.903Z"
   },
   {
    "duration": 4,
    "start_time": "2025-04-04T23:20:17.453Z"
   },
   {
    "duration": 3381,
    "start_time": "2025-04-05T08:22:56.744Z"
   },
   {
    "duration": 7221,
    "start_time": "2025-04-05T08:23:00.127Z"
   },
   {
    "duration": 2,
    "start_time": "2025-04-05T08:23:07.350Z"
   },
   {
    "duration": 1447,
    "start_time": "2025-04-05T08:23:07.354Z"
   },
   {
    "duration": 69,
    "start_time": "2025-04-05T08:23:08.804Z"
   },
   {
    "duration": 7,
    "start_time": "2025-04-05T08:23:08.875Z"
   },
   {
    "duration": 71,
    "start_time": "2025-04-05T08:23:08.884Z"
   },
   {
    "duration": 41,
    "start_time": "2025-04-05T08:23:08.957Z"
   },
   {
    "duration": 8,
    "start_time": "2025-04-05T08:23:09.000Z"
   },
   {
    "duration": 40,
    "start_time": "2025-04-05T08:23:09.010Z"
   },
   {
    "duration": 8,
    "start_time": "2025-04-05T08:23:09.062Z"
   },
   {
    "duration": 2158,
    "start_time": "2025-04-05T08:23:09.072Z"
   },
   {
    "duration": 1692,
    "start_time": "2025-04-05T08:23:11.232Z"
   },
   {
    "duration": 420,
    "start_time": "2025-04-05T08:23:12.926Z"
   },
   {
    "duration": 936,
    "start_time": "2025-04-05T08:23:13.348Z"
   },
   {
    "duration": 54,
    "start_time": "2025-04-05T08:23:14.286Z"
   },
   {
    "duration": 7937,
    "start_time": "2025-04-05T08:23:14.342Z"
   },
   {
    "duration": 5,
    "start_time": "2025-04-05T08:23:22.280Z"
   },
   {
    "duration": 64,
    "start_time": "2025-04-05T08:23:22.287Z"
   },
   {
    "duration": 47,
    "start_time": "2025-04-05T08:26:29.433Z"
   },
   {
    "duration": 7855,
    "start_time": "2025-04-05T08:26:30.905Z"
   },
   {
    "duration": 4,
    "start_time": "2025-04-05T08:26:38.763Z"
   },
   {
    "duration": 48,
    "start_time": "2025-04-05T08:35:02.596Z"
   },
   {
    "duration": 8762,
    "start_time": "2025-04-05T08:35:04.140Z"
   },
   {
    "duration": 4,
    "start_time": "2025-04-05T08:35:12.903Z"
   },
   {
    "duration": 2925,
    "start_time": "2025-04-05T08:38:42.869Z"
   },
   {
    "duration": 3107,
    "start_time": "2025-04-05T08:38:45.796Z"
   },
   {
    "duration": 2,
    "start_time": "2025-04-05T08:38:48.905Z"
   },
   {
    "duration": 1201,
    "start_time": "2025-04-05T08:38:48.909Z"
   },
   {
    "duration": 57,
    "start_time": "2025-04-05T08:38:50.112Z"
   },
   {
    "duration": 7,
    "start_time": "2025-04-05T08:38:50.170Z"
   },
   {
    "duration": 54,
    "start_time": "2025-04-05T08:38:50.178Z"
   },
   {
    "duration": 47,
    "start_time": "2025-04-05T08:38:50.233Z"
   },
   {
    "duration": 8,
    "start_time": "2025-04-05T08:38:50.281Z"
   },
   {
    "duration": 25,
    "start_time": "2025-04-05T08:38:50.292Z"
   },
   {
    "duration": 6,
    "start_time": "2025-04-05T08:38:50.318Z"
   },
   {
    "duration": 2107,
    "start_time": "2025-04-05T08:38:50.326Z"
   },
   {
    "duration": 1759,
    "start_time": "2025-04-05T08:38:52.435Z"
   },
   {
    "duration": 340,
    "start_time": "2025-04-05T08:38:54.195Z"
   },
   {
    "duration": 2627,
    "start_time": "2025-04-05T08:40:05.863Z"
   },
   {
    "duration": 3100,
    "start_time": "2025-04-05T08:40:08.493Z"
   },
   {
    "duration": 2,
    "start_time": "2025-04-05T08:40:11.595Z"
   },
   {
    "duration": 1224,
    "start_time": "2025-04-05T08:40:11.598Z"
   },
   {
    "duration": 60,
    "start_time": "2025-04-05T08:40:12.824Z"
   },
   {
    "duration": 6,
    "start_time": "2025-04-05T08:40:12.886Z"
   },
   {
    "duration": 55,
    "start_time": "2025-04-05T08:40:12.893Z"
   },
   {
    "duration": 37,
    "start_time": "2025-04-05T08:40:12.949Z"
   },
   {
    "duration": 7,
    "start_time": "2025-04-05T08:40:12.988Z"
   },
   {
    "duration": 33,
    "start_time": "2025-04-05T08:40:12.996Z"
   },
   {
    "duration": 7,
    "start_time": "2025-04-05T08:40:13.031Z"
   },
   {
    "duration": 2566,
    "start_time": "2025-04-05T08:45:36.417Z"
   },
   {
    "duration": 3148,
    "start_time": "2025-04-05T08:45:38.985Z"
   },
   {
    "duration": 2,
    "start_time": "2025-04-05T08:45:42.136Z"
   },
   {
    "duration": 1279,
    "start_time": "2025-04-05T08:45:42.140Z"
   },
   {
    "duration": 59,
    "start_time": "2025-04-05T08:45:43.421Z"
   },
   {
    "duration": 6,
    "start_time": "2025-04-05T08:45:43.482Z"
   },
   {
    "duration": 59,
    "start_time": "2025-04-05T08:45:43.489Z"
   },
   {
    "duration": 41,
    "start_time": "2025-04-05T08:45:43.549Z"
   },
   {
    "duration": 8,
    "start_time": "2025-04-05T08:45:43.591Z"
   },
   {
    "duration": 27,
    "start_time": "2025-04-05T08:45:43.600Z"
   },
   {
    "duration": 5,
    "start_time": "2025-04-05T08:45:43.629Z"
   },
   {
    "duration": 2176,
    "start_time": "2025-04-05T08:45:43.636Z"
   },
   {
    "duration": 1700,
    "start_time": "2025-04-05T08:45:45.814Z"
   },
   {
    "duration": 346,
    "start_time": "2025-04-05T08:45:47.517Z"
   },
   {
    "duration": 955,
    "start_time": "2025-04-05T08:45:47.864Z"
   },
   {
    "duration": 112,
    "start_time": "2025-04-05T08:45:48.821Z"
   },
   {
    "duration": 0,
    "start_time": "2025-04-05T08:45:48.935Z"
   },
   {
    "duration": 0,
    "start_time": "2025-04-05T08:45:48.936Z"
   },
   {
    "duration": 0,
    "start_time": "2025-04-05T08:45:48.937Z"
   },
   {
    "duration": 0,
    "start_time": "2025-04-05T08:45:48.938Z"
   },
   {
    "duration": 0,
    "start_time": "2025-04-05T08:45:48.939Z"
   },
   {
    "duration": 0,
    "start_time": "2025-04-05T08:45:48.940Z"
   },
   {
    "duration": 0,
    "start_time": "2025-04-05T08:45:48.941Z"
   },
   {
    "duration": 45976,
    "start_time": "2025-04-05T08:47:49.336Z"
   },
   {
    "duration": 2616,
    "start_time": "2025-04-05T08:58:59.904Z"
   },
   {
    "duration": 3214,
    "start_time": "2025-04-05T08:59:02.522Z"
   },
   {
    "duration": 2,
    "start_time": "2025-04-05T08:59:05.738Z"
   },
   {
    "duration": 1249,
    "start_time": "2025-04-05T08:59:05.742Z"
   },
   {
    "duration": 68,
    "start_time": "2025-04-05T08:59:06.992Z"
   },
   {
    "duration": 6,
    "start_time": "2025-04-05T08:59:07.062Z"
   },
   {
    "duration": 57,
    "start_time": "2025-04-05T08:59:07.070Z"
   },
   {
    "duration": 51,
    "start_time": "2025-04-05T08:59:07.128Z"
   },
   {
    "duration": 8,
    "start_time": "2025-04-05T08:59:07.180Z"
   },
   {
    "duration": 26,
    "start_time": "2025-04-05T08:59:07.190Z"
   },
   {
    "duration": 5,
    "start_time": "2025-04-05T08:59:07.218Z"
   },
   {
    "duration": 2095,
    "start_time": "2025-04-05T08:59:07.225Z"
   },
   {
    "duration": 1728,
    "start_time": "2025-04-05T08:59:09.322Z"
   },
   {
    "duration": 367,
    "start_time": "2025-04-05T08:59:11.052Z"
   },
   {
    "duration": 966,
    "start_time": "2025-04-05T08:59:11.421Z"
   },
   {
    "duration": 49,
    "start_time": "2025-04-05T08:59:12.389Z"
   },
   {
    "duration": 114,
    "start_time": "2025-04-05T08:59:12.439Z"
   },
   {
    "duration": 0,
    "start_time": "2025-04-05T08:59:12.554Z"
   },
   {
    "duration": 0,
    "start_time": "2025-04-05T08:59:12.555Z"
   },
   {
    "duration": 0,
    "start_time": "2025-04-05T08:59:12.556Z"
   },
   {
    "duration": 11368,
    "start_time": "2025-04-05T08:59:23.197Z"
   },
   {
    "duration": 71,
    "start_time": "2025-04-05T09:02:28.701Z"
   },
   {
    "duration": 330,
    "start_time": "2025-04-05T09:02:51.928Z"
   },
   {
    "duration": 68,
    "start_time": "2025-04-05T09:03:12.558Z"
   },
   {
    "duration": 14,
    "start_time": "2025-04-05T09:03:43.675Z"
   },
   {
    "duration": 14,
    "start_time": "2025-04-05T09:03:57.776Z"
   },
   {
    "duration": 11589,
    "start_time": "2025-04-05T09:04:29.886Z"
   },
   {
    "duration": 15,
    "start_time": "2025-04-05T09:09:16.770Z"
   },
   {
    "duration": 2698,
    "start_time": "2025-04-05T09:10:32.583Z"
   },
   {
    "duration": 3219,
    "start_time": "2025-04-05T09:10:35.284Z"
   },
   {
    "duration": 3345,
    "start_time": "2025-04-05T09:10:38.505Z"
   },
   {
    "duration": 3,
    "start_time": "2025-04-05T09:10:41.852Z"
   },
   {
    "duration": 1312,
    "start_time": "2025-04-05T09:10:41.858Z"
   },
   {
    "duration": 69,
    "start_time": "2025-04-05T09:10:43.171Z"
   },
   {
    "duration": 7,
    "start_time": "2025-04-05T09:10:43.241Z"
   },
   {
    "duration": 54,
    "start_time": "2025-04-05T09:10:43.250Z"
   },
   {
    "duration": 39,
    "start_time": "2025-04-05T09:10:43.306Z"
   },
   {
    "duration": 23,
    "start_time": "2025-04-05T09:10:43.347Z"
   },
   {
    "duration": 39,
    "start_time": "2025-04-05T09:10:43.372Z"
   },
   {
    "duration": 6,
    "start_time": "2025-04-05T09:10:43.413Z"
   },
   {
    "duration": 2145,
    "start_time": "2025-04-05T09:10:43.420Z"
   },
   {
    "duration": 1726,
    "start_time": "2025-04-05T09:10:45.569Z"
   },
   {
    "duration": 407,
    "start_time": "2025-04-05T09:10:47.297Z"
   },
   {
    "duration": 866,
    "start_time": "2025-04-05T09:10:47.706Z"
   },
   {
    "duration": 132,
    "start_time": "2025-04-05T09:10:48.573Z"
   },
   {
    "duration": 0,
    "start_time": "2025-04-05T09:10:48.706Z"
   },
   {
    "duration": 0,
    "start_time": "2025-04-05T09:10:48.707Z"
   },
   {
    "duration": 0,
    "start_time": "2025-04-05T09:10:48.708Z"
   },
   {
    "duration": 0,
    "start_time": "2025-04-05T09:10:48.709Z"
   },
   {
    "duration": 2671,
    "start_time": "2025-04-05T09:21:53.457Z"
   },
   {
    "duration": 3191,
    "start_time": "2025-04-05T09:21:56.131Z"
   },
   {
    "duration": 2616,
    "start_time": "2025-04-05T09:21:59.324Z"
   },
   {
    "duration": 2,
    "start_time": "2025-04-05T09:22:01.942Z"
   },
   {
    "duration": 1319,
    "start_time": "2025-04-05T09:22:01.946Z"
   },
   {
    "duration": 58,
    "start_time": "2025-04-05T09:22:03.266Z"
   },
   {
    "duration": 7,
    "start_time": "2025-04-05T09:22:03.325Z"
   },
   {
    "duration": 78,
    "start_time": "2025-04-05T09:22:03.334Z"
   },
   {
    "duration": 51,
    "start_time": "2025-04-05T09:22:03.413Z"
   },
   {
    "duration": 8,
    "start_time": "2025-04-05T09:22:03.465Z"
   },
   {
    "duration": 30,
    "start_time": "2025-04-05T09:22:03.475Z"
   },
   {
    "duration": 6,
    "start_time": "2025-04-05T09:22:03.506Z"
   },
   {
    "duration": 2123,
    "start_time": "2025-04-05T09:22:03.513Z"
   },
   {
    "duration": 1725,
    "start_time": "2025-04-05T09:22:05.639Z"
   },
   {
    "duration": 431,
    "start_time": "2025-04-05T09:22:07.366Z"
   },
   {
    "duration": 876,
    "start_time": "2025-04-05T09:22:07.799Z"
   },
   {
    "duration": 49,
    "start_time": "2025-04-05T09:22:08.677Z"
   },
   {
    "duration": 120,
    "start_time": "2025-04-05T09:22:08.728Z"
   },
   {
    "duration": 0,
    "start_time": "2025-04-05T09:22:08.849Z"
   },
   {
    "duration": 0,
    "start_time": "2025-04-05T09:22:08.851Z"
   },
   {
    "duration": 0,
    "start_time": "2025-04-05T09:22:08.852Z"
   },
   {
    "duration": 19,
    "start_time": "2025-04-05T09:22:39.609Z"
   },
   {
    "duration": 11580,
    "start_time": "2025-04-05T09:25:33.236Z"
   },
   {
    "duration": 4,
    "start_time": "2025-04-05T09:25:51.520Z"
   },
   {
    "duration": 9,
    "start_time": "2025-04-05T09:49:49.044Z"
   },
   {
    "duration": 8,
    "start_time": "2025-04-05T09:49:55.981Z"
   },
   {
    "duration": 3,
    "start_time": "2025-04-05T09:50:03.081Z"
   },
   {
    "duration": 4,
    "start_time": "2025-04-05T09:50:09.871Z"
   },
   {
    "duration": 267,
    "start_time": "2025-04-05T09:50:27.360Z"
   },
   {
    "duration": 9,
    "start_time": "2025-04-05T09:51:00.240Z"
   },
   {
    "duration": 3,
    "start_time": "2025-04-05T09:51:12.705Z"
   },
   {
    "duration": 13,
    "start_time": "2025-04-05T09:52:54.594Z"
   },
   {
    "duration": 17,
    "start_time": "2025-04-05T09:53:37.749Z"
   },
   {
    "duration": 9,
    "start_time": "2025-04-05T09:54:00.926Z"
   },
   {
    "duration": 9,
    "start_time": "2025-04-05T09:54:09.318Z"
   },
   {
    "duration": 15,
    "start_time": "2025-04-05T09:57:35.561Z"
   },
   {
    "duration": 20,
    "start_time": "2025-04-05T09:58:33.759Z"
   },
   {
    "duration": 11,
    "start_time": "2025-04-05T10:00:07.975Z"
   },
   {
    "duration": 10,
    "start_time": "2025-04-05T10:03:01.086Z"
   },
   {
    "duration": 5,
    "start_time": "2025-04-05T10:03:49.870Z"
   },
   {
    "duration": 12,
    "start_time": "2025-04-05T10:03:50.054Z"
   },
   {
    "duration": 2646,
    "start_time": "2025-04-05T10:04:01.300Z"
   },
   {
    "duration": 3281,
    "start_time": "2025-04-05T10:04:03.949Z"
   },
   {
    "duration": 2615,
    "start_time": "2025-04-05T10:04:07.232Z"
   },
   {
    "duration": 2,
    "start_time": "2025-04-05T10:04:09.850Z"
   },
   {
    "duration": 1310,
    "start_time": "2025-04-05T10:04:09.854Z"
   },
   {
    "duration": 68,
    "start_time": "2025-04-05T10:04:11.166Z"
   },
   {
    "duration": 7,
    "start_time": "2025-04-05T10:04:11.235Z"
   },
   {
    "duration": 63,
    "start_time": "2025-04-05T10:04:11.243Z"
   },
   {
    "duration": 43,
    "start_time": "2025-04-05T10:04:11.307Z"
   },
   {
    "duration": 8,
    "start_time": "2025-04-05T10:04:11.364Z"
   },
   {
    "duration": 28,
    "start_time": "2025-04-05T10:04:11.374Z"
   },
   {
    "duration": 6,
    "start_time": "2025-04-05T10:04:11.403Z"
   },
   {
    "duration": 2097,
    "start_time": "2025-04-05T10:04:11.410Z"
   },
   {
    "duration": 1825,
    "start_time": "2025-04-05T10:04:13.509Z"
   },
   {
    "duration": 464,
    "start_time": "2025-04-05T10:04:15.336Z"
   },
   {
    "duration": 878,
    "start_time": "2025-04-05T10:04:15.801Z"
   },
   {
    "duration": 47,
    "start_time": "2025-04-05T10:04:16.681Z"
   },
   {
    "duration": 132,
    "start_time": "2025-04-05T10:04:16.730Z"
   },
   {
    "duration": 0,
    "start_time": "2025-04-05T10:04:16.864Z"
   },
   {
    "duration": 0,
    "start_time": "2025-04-05T10:04:16.865Z"
   },
   {
    "duration": 0,
    "start_time": "2025-04-05T10:04:16.866Z"
   },
   {
    "duration": 0,
    "start_time": "2025-04-05T10:04:16.867Z"
   },
   {
    "duration": 0,
    "start_time": "2025-04-05T10:04:16.868Z"
   },
   {
    "duration": 11474,
    "start_time": "2025-04-05T10:06:52.571Z"
   },
   {
    "duration": 12,
    "start_time": "2025-04-05T10:07:19.546Z"
   },
   {
    "duration": 42,
    "start_time": "2025-04-05T10:08:08.327Z"
   },
   {
    "duration": 37,
    "start_time": "2025-04-05T10:08:38.482Z"
   },
   {
    "duration": 41,
    "start_time": "2025-04-05T10:08:54.070Z"
   },
   {
    "duration": 194,
    "start_time": "2025-04-05T10:23:54.414Z"
   },
   {
    "duration": 330,
    "start_time": "2025-04-05T10:24:11.867Z"
   },
   {
    "duration": 347,
    "start_time": "2025-04-05T10:24:25.929Z"
   },
   {
    "duration": 2707,
    "start_time": "2025-04-05T10:24:39.740Z"
   },
   {
    "duration": 3258,
    "start_time": "2025-04-05T10:24:42.450Z"
   },
   {
    "duration": 2654,
    "start_time": "2025-04-05T10:24:45.711Z"
   },
   {
    "duration": 3,
    "start_time": "2025-04-05T10:24:48.366Z"
   },
   {
    "duration": 1305,
    "start_time": "2025-04-05T10:24:48.371Z"
   },
   {
    "duration": 69,
    "start_time": "2025-04-05T10:24:49.677Z"
   },
   {
    "duration": 7,
    "start_time": "2025-04-05T10:24:49.747Z"
   },
   {
    "duration": 62,
    "start_time": "2025-04-05T10:24:49.755Z"
   },
   {
    "duration": 47,
    "start_time": "2025-04-05T10:24:49.819Z"
   },
   {
    "duration": 9,
    "start_time": "2025-04-05T10:24:49.867Z"
   },
   {
    "duration": 30,
    "start_time": "2025-04-05T10:24:49.877Z"
   },
   {
    "duration": 6,
    "start_time": "2025-04-05T10:24:49.909Z"
   },
   {
    "duration": 2182,
    "start_time": "2025-04-05T10:24:49.917Z"
   },
   {
    "duration": 1742,
    "start_time": "2025-04-05T10:24:52.102Z"
   },
   {
    "duration": 444,
    "start_time": "2025-04-05T10:24:53.846Z"
   },
   {
    "duration": 948,
    "start_time": "2025-04-05T10:24:54.292Z"
   },
   {
    "duration": 51,
    "start_time": "2025-04-05T10:24:55.241Z"
   },
   {
    "duration": 123,
    "start_time": "2025-04-05T10:24:55.294Z"
   },
   {
    "duration": 0,
    "start_time": "2025-04-05T10:24:55.419Z"
   },
   {
    "duration": 0,
    "start_time": "2025-04-05T10:24:55.421Z"
   },
   {
    "duration": 0,
    "start_time": "2025-04-05T10:24:55.422Z"
   },
   {
    "duration": 0,
    "start_time": "2025-04-05T10:24:55.423Z"
   },
   {
    "duration": 0,
    "start_time": "2025-04-05T10:24:55.425Z"
   },
   {
    "duration": 17295,
    "start_time": "2025-04-05T10:25:15.705Z"
   },
   {
    "duration": 42,
    "start_time": "2025-04-05T10:25:33.002Z"
   },
   {
    "duration": 45,
    "start_time": "2025-04-05T10:25:37.739Z"
   },
   {
    "duration": 320,
    "start_time": "2025-04-05T10:25:44.018Z"
   },
   {
    "duration": 25280,
    "start_time": "2025-04-05T10:27:36.564Z"
   },
   {
    "duration": 25266,
    "start_time": "2025-04-05T10:29:13.357Z"
   },
   {
    "duration": 4,
    "start_time": "2025-04-05T10:29:38.625Z"
   },
   {
    "duration": 61,
    "start_time": "2025-04-05T10:29:38.631Z"
   },
   {
    "duration": 0,
    "start_time": "2025-04-05T10:29:38.694Z"
   },
   {
    "duration": 25368,
    "start_time": "2025-04-05T10:32:41.859Z"
   },
   {
    "duration": 4,
    "start_time": "2025-04-05T10:33:07.229Z"
   },
   {
    "duration": 128,
    "start_time": "2025-04-05T10:33:07.234Z"
   },
   {
    "duration": 370,
    "start_time": "2025-04-05T10:33:07.364Z"
   },
   {
    "duration": 14,
    "start_time": "2025-04-05T10:33:36.415Z"
   },
   {
    "duration": 30,
    "start_time": "2025-04-05T10:33:50.479Z"
   },
   {
    "duration": 8271,
    "start_time": "2025-04-05T10:34:17.058Z"
   },
   {
    "duration": 2659,
    "start_time": "2025-04-05T10:34:33.501Z"
   },
   {
    "duration": 3115,
    "start_time": "2025-04-05T10:34:36.163Z"
   },
   {
    "duration": 2649,
    "start_time": "2025-04-05T10:34:39.280Z"
   },
   {
    "duration": 2,
    "start_time": "2025-04-05T10:34:41.932Z"
   },
   {
    "duration": 1319,
    "start_time": "2025-04-05T10:34:41.935Z"
   },
   {
    "duration": 63,
    "start_time": "2025-04-05T10:34:43.256Z"
   },
   {
    "duration": 8,
    "start_time": "2025-04-05T10:34:43.320Z"
   },
   {
    "duration": 73,
    "start_time": "2025-04-05T10:34:43.329Z"
   },
   {
    "duration": 38,
    "start_time": "2025-04-05T10:34:43.403Z"
   },
   {
    "duration": 22,
    "start_time": "2025-04-05T10:34:43.443Z"
   },
   {
    "duration": 32,
    "start_time": "2025-04-05T10:34:43.467Z"
   },
   {
    "duration": 6,
    "start_time": "2025-04-05T10:34:43.500Z"
   },
   {
    "duration": 2104,
    "start_time": "2025-04-05T10:34:43.508Z"
   },
   {
    "duration": 1700,
    "start_time": "2025-04-05T10:34:45.614Z"
   },
   {
    "duration": 418,
    "start_time": "2025-04-05T10:34:47.315Z"
   },
   {
    "duration": 898,
    "start_time": "2025-04-05T10:34:47.734Z"
   },
   {
    "duration": 50,
    "start_time": "2025-04-05T10:34:48.634Z"
   },
   {
    "duration": 118,
    "start_time": "2025-04-05T10:34:48.686Z"
   },
   {
    "duration": 0,
    "start_time": "2025-04-05T10:34:48.806Z"
   },
   {
    "duration": 0,
    "start_time": "2025-04-05T10:34:48.808Z"
   },
   {
    "duration": 0,
    "start_time": "2025-04-05T10:34:48.809Z"
   },
   {
    "duration": 0,
    "start_time": "2025-04-05T10:34:48.811Z"
   },
   {
    "duration": 0,
    "start_time": "2025-04-05T10:34:48.812Z"
   },
   {
    "duration": 8287,
    "start_time": "2025-04-05T10:35:11.636Z"
   },
   {
    "duration": 50,
    "start_time": "2025-04-05T10:35:19.925Z"
   },
   {
    "duration": 368,
    "start_time": "2025-04-05T10:35:19.977Z"
   },
   {
    "duration": 8283,
    "start_time": "2025-04-05T10:36:18.473Z"
   },
   {
    "duration": 8431,
    "start_time": "2025-04-05T10:37:10.192Z"
   },
   {
    "duration": 7049,
    "start_time": "2025-04-05T10:42:08.353Z"
   },
   {
    "duration": 2680,
    "start_time": "2025-04-05T10:43:06.287Z"
   },
   {
    "duration": 3213,
    "start_time": "2025-04-05T10:43:08.969Z"
   },
   {
    "duration": 2632,
    "start_time": "2025-04-05T10:43:12.184Z"
   },
   {
    "duration": 2,
    "start_time": "2025-04-05T10:43:14.818Z"
   },
   {
    "duration": 1340,
    "start_time": "2025-04-05T10:43:14.822Z"
   },
   {
    "duration": 59,
    "start_time": "2025-04-05T10:43:16.163Z"
   },
   {
    "duration": 6,
    "start_time": "2025-04-05T10:43:16.224Z"
   },
   {
    "duration": 59,
    "start_time": "2025-04-05T10:43:16.232Z"
   },
   {
    "duration": 37,
    "start_time": "2025-04-05T10:43:16.292Z"
   },
   {
    "duration": 7,
    "start_time": "2025-04-05T10:43:16.331Z"
   },
   {
    "duration": 45,
    "start_time": "2025-04-05T10:43:16.340Z"
   },
   {
    "duration": 6,
    "start_time": "2025-04-05T10:43:16.387Z"
   },
   {
    "duration": 2166,
    "start_time": "2025-04-05T10:43:16.394Z"
   },
   {
    "duration": 1739,
    "start_time": "2025-04-05T10:43:18.563Z"
   },
   {
    "duration": 418,
    "start_time": "2025-04-05T10:43:20.304Z"
   },
   {
    "duration": 904,
    "start_time": "2025-04-05T10:43:20.723Z"
   },
   {
    "duration": 48,
    "start_time": "2025-04-05T10:43:21.629Z"
   },
   {
    "duration": 117,
    "start_time": "2025-04-05T10:43:21.679Z"
   },
   {
    "duration": 1,
    "start_time": "2025-04-05T10:43:21.797Z"
   },
   {
    "duration": 0,
    "start_time": "2025-04-05T10:43:21.799Z"
   },
   {
    "duration": 0,
    "start_time": "2025-04-05T10:43:21.800Z"
   },
   {
    "duration": 0,
    "start_time": "2025-04-05T10:43:21.801Z"
   },
   {
    "duration": 0,
    "start_time": "2025-04-05T10:43:21.802Z"
   },
   {
    "duration": 8643,
    "start_time": "2025-04-05T10:44:02.569Z"
   },
   {
    "duration": 5,
    "start_time": "2025-04-05T10:44:25.317Z"
   },
   {
    "duration": 43,
    "start_time": "2025-04-05T10:44:25.601Z"
   },
   {
    "duration": 345,
    "start_time": "2025-04-05T10:44:25.793Z"
   },
   {
    "duration": 2699,
    "start_time": "2025-04-05T10:50:46.661Z"
   },
   {
    "duration": 3383,
    "start_time": "2025-04-05T10:50:49.362Z"
   },
   {
    "duration": 2666,
    "start_time": "2025-04-05T10:50:52.747Z"
   },
   {
    "duration": 3,
    "start_time": "2025-04-05T10:50:55.414Z"
   },
   {
    "duration": 1282,
    "start_time": "2025-04-05T10:50:55.420Z"
   },
   {
    "duration": 69,
    "start_time": "2025-04-05T10:50:56.704Z"
   },
   {
    "duration": 6,
    "start_time": "2025-04-05T10:50:56.774Z"
   },
   {
    "duration": 51,
    "start_time": "2025-04-05T10:50:56.782Z"
   },
   {
    "duration": 48,
    "start_time": "2025-04-05T10:50:56.835Z"
   },
   {
    "duration": 8,
    "start_time": "2025-04-05T10:50:56.885Z"
   },
   {
    "duration": 35,
    "start_time": "2025-04-05T10:50:56.895Z"
   },
   {
    "duration": 7,
    "start_time": "2025-04-05T10:50:56.932Z"
   },
   {
    "duration": 2079,
    "start_time": "2025-04-05T10:50:56.940Z"
   },
   {
    "duration": 1694,
    "start_time": "2025-04-05T10:50:59.022Z"
   },
   {
    "duration": 428,
    "start_time": "2025-04-05T10:51:00.718Z"
   },
   {
    "duration": 932,
    "start_time": "2025-04-05T10:51:01.148Z"
   },
   {
    "duration": 5,
    "start_time": "2025-04-05T10:51:02.081Z"
   },
   {
    "duration": 4,
    "start_time": "2025-04-05T10:51:02.088Z"
   },
   {
    "duration": 118,
    "start_time": "2025-04-05T10:51:02.094Z"
   },
   {
    "duration": 0,
    "start_time": "2025-04-05T10:51:02.214Z"
   },
   {
    "duration": 0,
    "start_time": "2025-04-05T10:51:02.216Z"
   },
   {
    "duration": 0,
    "start_time": "2025-04-05T10:51:02.217Z"
   },
   {
    "duration": 0,
    "start_time": "2025-04-05T10:51:02.219Z"
   },
   {
    "duration": 0,
    "start_time": "2025-04-05T10:51:02.220Z"
   },
   {
    "duration": 0,
    "start_time": "2025-04-05T10:51:02.221Z"
   },
   {
    "duration": 0,
    "start_time": "2025-04-05T10:51:02.223Z"
   },
   {
    "duration": 0,
    "start_time": "2025-04-05T10:51:02.224Z"
   },
   {
    "duration": 8,
    "start_time": "2025-04-05T10:53:02.331Z"
   },
   {
    "duration": 4,
    "start_time": "2025-04-05T10:53:07.003Z"
   },
   {
    "duration": 7,
    "start_time": "2025-04-05T10:53:45.679Z"
   },
   {
    "duration": 3,
    "start_time": "2025-04-05T10:53:46.184Z"
   },
   {
    "duration": 2311,
    "start_time": "2025-04-05T10:54:24.153Z"
   },
   {
    "duration": 2235,
    "start_time": "2025-04-05T10:54:40.328Z"
   },
   {
    "duration": 13,
    "start_time": "2025-04-05T10:54:43.915Z"
   },
   {
    "duration": 47,
    "start_time": "2025-04-05T10:55:10.208Z"
   },
   {
    "duration": 2658,
    "start_time": "2025-04-05T11:06:43.199Z"
   },
   {
    "duration": 3213,
    "start_time": "2025-04-05T11:06:45.860Z"
   },
   {
    "duration": 2622,
    "start_time": "2025-04-05T11:06:49.076Z"
   },
   {
    "duration": 3,
    "start_time": "2025-04-05T11:06:51.699Z"
   },
   {
    "duration": 1268,
    "start_time": "2025-04-05T11:06:51.704Z"
   },
   {
    "duration": 58,
    "start_time": "2025-04-05T11:06:52.973Z"
   },
   {
    "duration": 6,
    "start_time": "2025-04-05T11:06:53.032Z"
   },
   {
    "duration": 64,
    "start_time": "2025-04-05T11:06:53.039Z"
   },
   {
    "duration": 39,
    "start_time": "2025-04-05T11:06:53.104Z"
   },
   {
    "duration": 26,
    "start_time": "2025-04-05T11:06:53.145Z"
   },
   {
    "duration": 29,
    "start_time": "2025-04-05T11:06:53.172Z"
   },
   {
    "duration": 6,
    "start_time": "2025-04-05T11:06:53.203Z"
   },
   {
    "duration": 2215,
    "start_time": "2025-04-05T11:06:53.211Z"
   },
   {
    "duration": 1702,
    "start_time": "2025-04-05T11:06:55.429Z"
   },
   {
    "duration": 458,
    "start_time": "2025-04-05T11:06:57.133Z"
   },
   {
    "duration": 880,
    "start_time": "2025-04-05T11:06:57.592Z"
   },
   {
    "duration": 46,
    "start_time": "2025-04-05T11:06:58.474Z"
   },
   {
    "duration": 6380,
    "start_time": "2025-04-05T11:06:58.521Z"
   },
   {
    "duration": 4,
    "start_time": "2025-04-05T11:07:04.902Z"
   },
   {
    "duration": 44,
    "start_time": "2025-04-05T11:07:04.907Z"
   },
   {
    "duration": 343,
    "start_time": "2025-04-05T11:07:04.953Z"
   },
   {
    "duration": 45,
    "start_time": "2025-04-05T11:08:26.738Z"
   },
   {
    "duration": 8505,
    "start_time": "2025-04-05T11:08:28.097Z"
   },
   {
    "duration": 8498,
    "start_time": "2025-04-05T12:04:39.668Z"
   },
   {
    "duration": 4,
    "start_time": "2025-04-05T12:04:48.168Z"
   },
   {
    "duration": 42,
    "start_time": "2025-04-05T12:04:48.176Z"
   },
   {
    "duration": 4,
    "start_time": "2025-04-05T12:59:28.842Z"
   },
   {
    "duration": 30,
    "start_time": "2025-04-05T12:59:37.479Z"
   },
   {
    "duration": 44,
    "start_time": "2025-04-05T12:59:50.334Z"
   },
   {
    "duration": 2701,
    "start_time": "2025-04-05T13:06:18.707Z"
   },
   {
    "duration": 3226,
    "start_time": "2025-04-05T13:06:21.411Z"
   },
   {
    "duration": 2718,
    "start_time": "2025-04-05T13:06:24.639Z"
   },
   {
    "duration": 3,
    "start_time": "2025-04-05T13:06:27.359Z"
   },
   {
    "duration": 1314,
    "start_time": "2025-04-05T13:06:27.364Z"
   },
   {
    "duration": 69,
    "start_time": "2025-04-05T13:06:28.679Z"
   },
   {
    "duration": 6,
    "start_time": "2025-04-05T13:06:28.749Z"
   },
   {
    "duration": 73,
    "start_time": "2025-04-05T13:06:28.757Z"
   },
   {
    "duration": 104,
    "start_time": "2025-04-05T13:06:28.832Z"
   },
   {
    "duration": 7,
    "start_time": "2025-04-05T13:06:28.938Z"
   },
   {
    "duration": 28,
    "start_time": "2025-04-05T13:06:28.946Z"
   },
   {
    "duration": 6,
    "start_time": "2025-04-05T13:06:28.975Z"
   },
   {
    "duration": 2149,
    "start_time": "2025-04-05T13:06:28.982Z"
   },
   {
    "duration": 1740,
    "start_time": "2025-04-05T13:06:31.133Z"
   },
   {
    "duration": 431,
    "start_time": "2025-04-05T13:06:32.874Z"
   },
   {
    "duration": 893,
    "start_time": "2025-04-05T13:06:33.306Z"
   },
   {
    "duration": 5,
    "start_time": "2025-04-05T13:06:34.201Z"
   },
   {
    "duration": 65,
    "start_time": "2025-04-05T13:06:34.207Z"
   },
   {
    "duration": 45,
    "start_time": "2025-04-05T13:06:34.274Z"
   },
   {
    "duration": 11395,
    "start_time": "2025-04-05T13:06:34.320Z"
   },
   {
    "duration": 125,
    "start_time": "2025-04-05T13:06:45.716Z"
   },
   {
    "duration": 0,
    "start_time": "2025-04-05T13:06:45.842Z"
   },
   {
    "duration": 0,
    "start_time": "2025-04-05T13:06:45.843Z"
   },
   {
    "duration": 0,
    "start_time": "2025-04-05T13:06:45.844Z"
   },
   {
    "duration": 0,
    "start_time": "2025-04-05T13:06:45.845Z"
   },
   {
    "duration": 0,
    "start_time": "2025-04-05T13:06:45.846Z"
   },
   {
    "duration": 50,
    "start_time": "2025-04-05T13:13:58.864Z"
   },
   {
    "duration": 765,
    "start_time": "2025-04-05T13:14:38.889Z"
   },
   {
    "duration": 72,
    "start_time": "2025-04-05T13:17:04.072Z"
   },
   {
    "duration": 73,
    "start_time": "2025-04-05T13:18:33.323Z"
   },
   {
    "duration": 15,
    "start_time": "2025-04-05T13:18:59.813Z"
   },
   {
    "duration": 11243,
    "start_time": "2025-04-05T13:19:28.020Z"
   },
   {
    "duration": 4,
    "start_time": "2025-04-05T13:24:16.440Z"
   },
   {
    "duration": 5,
    "start_time": "2025-04-05T13:24:45.408Z"
   },
   {
    "duration": 43,
    "start_time": "2025-04-05T13:24:46.433Z"
   },
   {
    "duration": 48,
    "start_time": "2025-04-05T13:24:46.613Z"
   },
   {
    "duration": 11367,
    "start_time": "2025-04-05T13:24:46.776Z"
   },
   {
    "duration": 53,
    "start_time": "2025-04-05T13:24:58.145Z"
   },
   {
    "duration": 511,
    "start_time": "2025-04-05T13:24:58.199Z"
   },
   {
    "duration": 2594,
    "start_time": "2025-04-05T13:51:16.335Z"
   },
   {
    "duration": 3138,
    "start_time": "2025-04-05T13:51:18.931Z"
   },
   {
    "duration": 2628,
    "start_time": "2025-04-05T13:51:22.071Z"
   },
   {
    "duration": 3,
    "start_time": "2025-04-05T13:51:24.701Z"
   },
   {
    "duration": 1267,
    "start_time": "2025-04-05T13:51:24.706Z"
   },
   {
    "duration": 58,
    "start_time": "2025-04-05T13:51:25.975Z"
   },
   {
    "duration": 6,
    "start_time": "2025-04-05T13:51:26.035Z"
   },
   {
    "duration": 56,
    "start_time": "2025-04-05T13:51:26.042Z"
   },
   {
    "duration": 36,
    "start_time": "2025-04-05T13:51:26.100Z"
   },
   {
    "duration": 7,
    "start_time": "2025-04-05T13:51:26.137Z"
   },
   {
    "duration": 27,
    "start_time": "2025-04-05T13:51:26.162Z"
   },
   {
    "duration": 6,
    "start_time": "2025-04-05T13:51:26.190Z"
   },
   {
    "duration": 2116,
    "start_time": "2025-04-05T13:51:26.197Z"
   },
   {
    "duration": 1696,
    "start_time": "2025-04-05T13:51:28.315Z"
   },
   {
    "duration": 419,
    "start_time": "2025-04-05T13:51:30.013Z"
   },
   {
    "duration": 917,
    "start_time": "2025-04-05T13:51:30.434Z"
   },
   {
    "duration": 49,
    "start_time": "2025-04-05T13:51:31.353Z"
   },
   {
    "duration": 8572,
    "start_time": "2025-04-05T13:51:31.403Z"
   },
   {
    "duration": 4,
    "start_time": "2025-04-05T13:51:39.976Z"
   },
   {
    "duration": 118,
    "start_time": "2025-04-05T13:51:39.982Z"
   },
   {
    "duration": 354,
    "start_time": "2025-04-05T13:51:40.102Z"
   },
   {
    "duration": 57,
    "start_time": "2025-04-05T13:58:26.992Z"
   },
   {
    "duration": 7,
    "start_time": "2025-04-05T13:58:58.140Z"
   },
   {
    "duration": 7,
    "start_time": "2025-04-05T13:59:21.205Z"
   },
   {
    "duration": 2636,
    "start_time": "2025-04-05T13:59:38.304Z"
   },
   {
    "duration": 3201,
    "start_time": "2025-04-05T13:59:40.942Z"
   },
   {
    "duration": 2650,
    "start_time": "2025-04-05T13:59:44.145Z"
   },
   {
    "duration": 3,
    "start_time": "2025-04-05T13:59:46.798Z"
   },
   {
    "duration": 1279,
    "start_time": "2025-04-05T13:59:46.803Z"
   },
   {
    "duration": 58,
    "start_time": "2025-04-05T13:59:48.084Z"
   },
   {
    "duration": 8,
    "start_time": "2025-04-05T13:59:48.143Z"
   },
   {
    "duration": 55,
    "start_time": "2025-04-05T13:59:48.153Z"
   },
   {
    "duration": 54,
    "start_time": "2025-04-05T13:59:48.210Z"
   },
   {
    "duration": 8,
    "start_time": "2025-04-05T13:59:48.267Z"
   },
   {
    "duration": 28,
    "start_time": "2025-04-05T13:59:48.276Z"
   },
   {
    "duration": 6,
    "start_time": "2025-04-05T13:59:48.305Z"
   },
   {
    "duration": 2116,
    "start_time": "2025-04-05T13:59:48.312Z"
   },
   {
    "duration": 1743,
    "start_time": "2025-04-05T13:59:50.429Z"
   },
   {
    "duration": 431,
    "start_time": "2025-04-05T13:59:52.174Z"
   },
   {
    "duration": 872,
    "start_time": "2025-04-05T13:59:52.607Z"
   },
   {
    "duration": 122,
    "start_time": "2025-04-05T13:59:53.481Z"
   },
   {
    "duration": 0,
    "start_time": "2025-04-05T13:59:53.604Z"
   },
   {
    "duration": 0,
    "start_time": "2025-04-05T13:59:53.606Z"
   },
   {
    "duration": 0,
    "start_time": "2025-04-05T13:59:53.607Z"
   },
   {
    "duration": 0,
    "start_time": "2025-04-05T13:59:53.608Z"
   },
   {
    "duration": 0,
    "start_time": "2025-04-05T13:59:53.609Z"
   },
   {
    "duration": 6,
    "start_time": "2025-04-05T14:00:55.929Z"
   },
   {
    "duration": 48,
    "start_time": "2025-04-05T14:00:57.380Z"
   },
   {
    "duration": 8710,
    "start_time": "2025-04-05T14:01:00.468Z"
   },
   {
    "duration": 2632,
    "start_time": "2025-04-05T14:06:29.463Z"
   },
   {
    "duration": 3256,
    "start_time": "2025-04-05T14:06:32.097Z"
   },
   {
    "duration": 2674,
    "start_time": "2025-04-05T14:06:35.355Z"
   },
   {
    "duration": 2,
    "start_time": "2025-04-05T14:06:38.031Z"
   },
   {
    "duration": 1331,
    "start_time": "2025-04-05T14:06:38.035Z"
   },
   {
    "duration": 58,
    "start_time": "2025-04-05T14:06:39.368Z"
   },
   {
    "duration": 6,
    "start_time": "2025-04-05T14:06:39.428Z"
   },
   {
    "duration": 60,
    "start_time": "2025-04-05T14:06:39.435Z"
   },
   {
    "duration": 37,
    "start_time": "2025-04-05T14:06:39.496Z"
   },
   {
    "duration": 28,
    "start_time": "2025-04-05T14:06:39.535Z"
   },
   {
    "duration": 92,
    "start_time": "2025-04-05T14:06:39.565Z"
   },
   {
    "duration": 6,
    "start_time": "2025-04-05T14:06:39.659Z"
   },
   {
    "duration": 2060,
    "start_time": "2025-04-05T14:06:39.666Z"
   },
   {
    "duration": 1810,
    "start_time": "2025-04-05T14:06:41.728Z"
   },
   {
    "duration": 474,
    "start_time": "2025-04-05T14:06:43.539Z"
   },
   {
    "duration": 989,
    "start_time": "2025-04-05T14:06:44.015Z"
   },
   {
    "duration": 8,
    "start_time": "2025-04-05T14:06:45.006Z"
   },
   {
    "duration": 151,
    "start_time": "2025-04-05T14:06:45.016Z"
   },
   {
    "duration": 18838,
    "start_time": "2025-04-05T14:06:45.169Z"
   },
   {
    "duration": 5,
    "start_time": "2025-04-05T14:07:04.008Z"
   },
   {
    "duration": 93,
    "start_time": "2025-04-05T14:07:04.014Z"
   },
   {
    "duration": 344,
    "start_time": "2025-04-05T14:07:04.108Z"
   },
   {
    "duration": 48,
    "start_time": "2025-04-05T14:07:50.808Z"
   },
   {
    "duration": 19014,
    "start_time": "2025-04-05T14:07:51.524Z"
   },
   {
    "duration": 2617,
    "start_time": "2025-04-05T14:08:48.806Z"
   },
   {
    "duration": 3259,
    "start_time": "2025-04-05T14:08:51.425Z"
   },
   {
    "duration": 2720,
    "start_time": "2025-04-05T14:08:54.686Z"
   },
   {
    "duration": 2,
    "start_time": "2025-04-05T14:08:57.408Z"
   },
   {
    "duration": 1252,
    "start_time": "2025-04-05T14:08:57.412Z"
   },
   {
    "duration": 58,
    "start_time": "2025-04-05T14:08:58.666Z"
   },
   {
    "duration": 6,
    "start_time": "2025-04-05T14:08:58.726Z"
   },
   {
    "duration": 56,
    "start_time": "2025-04-05T14:08:58.733Z"
   },
   {
    "duration": 38,
    "start_time": "2025-04-05T14:08:58.791Z"
   },
   {
    "duration": 8,
    "start_time": "2025-04-05T14:08:58.830Z"
   },
   {
    "duration": 48,
    "start_time": "2025-04-05T14:08:58.839Z"
   },
   {
    "duration": 6,
    "start_time": "2025-04-05T14:08:58.889Z"
   },
   {
    "duration": 2120,
    "start_time": "2025-04-05T14:08:58.896Z"
   },
   {
    "duration": 1699,
    "start_time": "2025-04-05T14:09:01.018Z"
   },
   {
    "duration": 422,
    "start_time": "2025-04-05T14:09:02.719Z"
   },
   {
    "duration": 921,
    "start_time": "2025-04-05T14:09:03.143Z"
   },
   {
    "duration": 6,
    "start_time": "2025-04-05T14:09:04.065Z"
   },
   {
    "duration": 51,
    "start_time": "2025-04-05T14:09:04.073Z"
   },
   {
    "duration": 16437,
    "start_time": "2025-04-05T14:09:04.126Z"
   },
   {
    "duration": 5,
    "start_time": "2025-04-05T14:09:20.564Z"
   },
   {
    "duration": 58,
    "start_time": "2025-04-05T14:09:20.570Z"
   },
   {
    "duration": 320,
    "start_time": "2025-04-05T14:09:20.629Z"
   },
   {
    "duration": 16528,
    "start_time": "2025-04-05T14:13:11.156Z"
   },
   {
    "duration": 124,
    "start_time": "2025-04-05T14:13:43.127Z"
   },
   {
    "duration": 2684,
    "start_time": "2025-04-05T14:14:31.740Z"
   },
   {
    "duration": 3367,
    "start_time": "2025-04-05T14:14:34.426Z"
   },
   {
    "duration": 2753,
    "start_time": "2025-04-05T14:14:37.795Z"
   },
   {
    "duration": 3,
    "start_time": "2025-04-05T14:14:40.550Z"
   },
   {
    "duration": 1344,
    "start_time": "2025-04-05T14:14:40.555Z"
   },
   {
    "duration": 58,
    "start_time": "2025-04-05T14:14:41.901Z"
   },
   {
    "duration": 11,
    "start_time": "2025-04-05T14:14:41.960Z"
   },
   {
    "duration": 102,
    "start_time": "2025-04-05T14:14:41.972Z"
   },
   {
    "duration": 44,
    "start_time": "2025-04-05T14:14:42.075Z"
   },
   {
    "duration": 8,
    "start_time": "2025-04-05T14:14:42.121Z"
   },
   {
    "duration": 44,
    "start_time": "2025-04-05T14:14:42.131Z"
   },
   {
    "duration": 7,
    "start_time": "2025-04-05T14:14:42.177Z"
   },
   {
    "duration": 2156,
    "start_time": "2025-04-05T14:14:42.185Z"
   },
   {
    "duration": 1775,
    "start_time": "2025-04-05T14:14:44.344Z"
   },
   {
    "duration": 422,
    "start_time": "2025-04-05T14:14:46.120Z"
   },
   {
    "duration": 936,
    "start_time": "2025-04-05T14:14:46.543Z"
   },
   {
    "duration": 6,
    "start_time": "2025-04-05T14:14:47.481Z"
   },
   {
    "duration": 48,
    "start_time": "2025-04-05T14:14:47.488Z"
   },
   {
    "duration": 141,
    "start_time": "2025-04-05T14:14:47.538Z"
   },
   {
    "duration": 0,
    "start_time": "2025-04-05T14:14:47.681Z"
   },
   {
    "duration": 0,
    "start_time": "2025-04-05T14:14:47.682Z"
   },
   {
    "duration": 0,
    "start_time": "2025-04-05T14:14:47.683Z"
   },
   {
    "duration": 0,
    "start_time": "2025-04-05T14:14:47.684Z"
   },
   {
    "duration": 0,
    "start_time": "2025-04-05T14:14:47.684Z"
   },
   {
    "duration": 2652,
    "start_time": "2025-04-05T14:20:50.804Z"
   },
   {
    "duration": 3215,
    "start_time": "2025-04-05T14:20:53.458Z"
   },
   {
    "duration": 2646,
    "start_time": "2025-04-05T14:20:56.675Z"
   },
   {
    "duration": 2,
    "start_time": "2025-04-05T14:20:59.323Z"
   },
   {
    "duration": 1453,
    "start_time": "2025-04-05T14:20:59.328Z"
   },
   {
    "duration": 0,
    "start_time": "2025-04-05T14:21:00.783Z"
   },
   {
    "duration": 0,
    "start_time": "2025-04-05T14:21:00.784Z"
   },
   {
    "duration": 0,
    "start_time": "2025-04-05T14:21:00.785Z"
   },
   {
    "duration": 0,
    "start_time": "2025-04-05T14:21:00.787Z"
   },
   {
    "duration": 0,
    "start_time": "2025-04-05T14:21:00.788Z"
   },
   {
    "duration": 0,
    "start_time": "2025-04-05T14:21:00.789Z"
   },
   {
    "duration": 1,
    "start_time": "2025-04-05T14:21:00.789Z"
   },
   {
    "duration": 0,
    "start_time": "2025-04-05T14:21:00.791Z"
   },
   {
    "duration": 0,
    "start_time": "2025-04-05T14:21:00.792Z"
   },
   {
    "duration": 0,
    "start_time": "2025-04-05T14:21:00.792Z"
   },
   {
    "duration": 0,
    "start_time": "2025-04-05T14:21:00.793Z"
   },
   {
    "duration": 0,
    "start_time": "2025-04-05T14:21:00.794Z"
   },
   {
    "duration": 0,
    "start_time": "2025-04-05T14:21:00.795Z"
   },
   {
    "duration": 0,
    "start_time": "2025-04-05T14:21:00.796Z"
   },
   {
    "duration": 0,
    "start_time": "2025-04-05T14:21:00.797Z"
   },
   {
    "duration": 0,
    "start_time": "2025-04-05T14:21:00.798Z"
   },
   {
    "duration": 0,
    "start_time": "2025-04-05T14:21:00.798Z"
   },
   {
    "duration": 0,
    "start_time": "2025-04-05T14:21:00.799Z"
   },
   {
    "duration": 0,
    "start_time": "2025-04-05T14:21:00.800Z"
   },
   {
    "duration": 2619,
    "start_time": "2025-04-05T14:23:48.087Z"
   },
   {
    "duration": 3115,
    "start_time": "2025-04-05T14:23:50.709Z"
   },
   {
    "duration": 2647,
    "start_time": "2025-04-05T14:23:53.826Z"
   },
   {
    "duration": 2,
    "start_time": "2025-04-05T14:23:56.476Z"
   },
   {
    "duration": 3544,
    "start_time": "2025-04-05T14:23:56.479Z"
   },
   {
    "duration": 1932,
    "start_time": "2025-04-05T14:24:00.025Z"
   },
   {
    "duration": 0,
    "start_time": "2025-04-05T14:24:01.960Z"
   },
   {
    "duration": 0,
    "start_time": "2025-04-05T14:24:01.961Z"
   },
   {
    "duration": 0,
    "start_time": "2025-04-05T14:24:01.962Z"
   },
   {
    "duration": 0,
    "start_time": "2025-04-05T14:24:01.963Z"
   },
   {
    "duration": 0,
    "start_time": "2025-04-05T14:24:01.964Z"
   },
   {
    "duration": 0,
    "start_time": "2025-04-05T14:24:01.965Z"
   },
   {
    "duration": 0,
    "start_time": "2025-04-05T14:24:01.967Z"
   },
   {
    "duration": 0,
    "start_time": "2025-04-05T14:24:01.968Z"
   },
   {
    "duration": 0,
    "start_time": "2025-04-05T14:24:01.969Z"
   },
   {
    "duration": 0,
    "start_time": "2025-04-05T14:24:01.970Z"
   },
   {
    "duration": 0,
    "start_time": "2025-04-05T14:24:01.971Z"
   },
   {
    "duration": 0,
    "start_time": "2025-04-05T14:24:01.972Z"
   },
   {
    "duration": 0,
    "start_time": "2025-04-05T14:24:01.973Z"
   },
   {
    "duration": 0,
    "start_time": "2025-04-05T14:24:01.974Z"
   },
   {
    "duration": 0,
    "start_time": "2025-04-05T14:24:01.975Z"
   },
   {
    "duration": 1,
    "start_time": "2025-04-05T14:24:01.976Z"
   },
   {
    "duration": 0,
    "start_time": "2025-04-05T14:24:01.977Z"
   },
   {
    "duration": 0,
    "start_time": "2025-04-05T14:24:01.979Z"
   },
   {
    "duration": 0,
    "start_time": "2025-04-05T14:24:01.979Z"
   },
   {
    "duration": 3445,
    "start_time": "2025-04-05T14:24:38.892Z"
   },
   {
    "duration": 86,
    "start_time": "2025-04-05T14:24:42.339Z"
   },
   {
    "duration": 2731,
    "start_time": "2025-04-05T14:24:51.673Z"
   },
   {
    "duration": 3313,
    "start_time": "2025-04-05T14:24:54.407Z"
   },
   {
    "duration": 2715,
    "start_time": "2025-04-05T14:24:57.722Z"
   },
   {
    "duration": 3,
    "start_time": "2025-04-05T14:25:00.439Z"
   },
   {
    "duration": 2781,
    "start_time": "2025-04-05T14:25:00.444Z"
   },
   {
    "duration": 2794,
    "start_time": "2025-04-05T14:25:03.228Z"
   },
   {
    "duration": 1284,
    "start_time": "2025-04-05T14:25:06.024Z"
   },
   {
    "duration": 58,
    "start_time": "2025-04-05T14:25:07.309Z"
   },
   {
    "duration": 6,
    "start_time": "2025-04-05T14:25:07.369Z"
   },
   {
    "duration": 176,
    "start_time": "2025-04-05T14:25:07.376Z"
   },
   {
    "duration": 38,
    "start_time": "2025-04-05T14:25:07.553Z"
   },
   {
    "duration": 8,
    "start_time": "2025-04-05T14:25:07.593Z"
   },
   {
    "duration": 111,
    "start_time": "2025-04-05T14:25:07.602Z"
   },
   {
    "duration": 6,
    "start_time": "2025-04-05T14:25:07.716Z"
   },
   {
    "duration": 2102,
    "start_time": "2025-04-05T14:25:07.723Z"
   },
   {
    "duration": 1742,
    "start_time": "2025-04-05T14:25:09.827Z"
   },
   {
    "duration": 444,
    "start_time": "2025-04-05T14:25:11.571Z"
   },
   {
    "duration": 907,
    "start_time": "2025-04-05T14:25:12.016Z"
   },
   {
    "duration": 6,
    "start_time": "2025-04-05T14:25:12.925Z"
   },
   {
    "duration": 47,
    "start_time": "2025-04-05T14:25:12.933Z"
   },
   {
    "duration": 145,
    "start_time": "2025-04-05T14:25:12.981Z"
   },
   {
    "duration": 0,
    "start_time": "2025-04-05T14:25:13.127Z"
   },
   {
    "duration": 0,
    "start_time": "2025-04-05T14:25:13.128Z"
   },
   {
    "duration": 0,
    "start_time": "2025-04-05T14:25:13.129Z"
   },
   {
    "duration": 0,
    "start_time": "2025-04-05T14:25:13.130Z"
   },
   {
    "duration": 0,
    "start_time": "2025-04-05T14:25:13.131Z"
   },
   {
    "duration": 16,
    "start_time": "2025-04-05T14:26:53.451Z"
   },
   {
    "duration": 2761,
    "start_time": "2025-04-05T14:29:54.878Z"
   },
   {
    "duration": 3287,
    "start_time": "2025-04-05T14:29:57.641Z"
   },
   {
    "duration": 2708,
    "start_time": "2025-04-05T14:30:00.930Z"
   },
   {
    "duration": 2,
    "start_time": "2025-04-05T14:30:03.641Z"
   },
   {
    "duration": 1407,
    "start_time": "2025-04-05T14:30:03.645Z"
   },
   {
    "duration": 59,
    "start_time": "2025-04-05T14:30:05.054Z"
   },
   {
    "duration": 7,
    "start_time": "2025-04-05T14:30:05.115Z"
   },
   {
    "duration": 66,
    "start_time": "2025-04-05T14:30:05.124Z"
   },
   {
    "duration": 40,
    "start_time": "2025-04-05T14:30:05.191Z"
   },
   {
    "duration": 28,
    "start_time": "2025-04-05T14:30:05.235Z"
   },
   {
    "duration": 28,
    "start_time": "2025-04-05T14:30:05.265Z"
   },
   {
    "duration": 6,
    "start_time": "2025-04-05T14:30:05.294Z"
   },
   {
    "duration": 2131,
    "start_time": "2025-04-05T14:30:05.301Z"
   },
   {
    "duration": 1693,
    "start_time": "2025-04-05T14:30:07.433Z"
   },
   {
    "duration": 455,
    "start_time": "2025-04-05T14:30:09.128Z"
   },
   {
    "duration": 892,
    "start_time": "2025-04-05T14:30:09.584Z"
   },
   {
    "duration": 6,
    "start_time": "2025-04-05T14:30:10.477Z"
   },
   {
    "duration": 47,
    "start_time": "2025-04-05T14:30:10.485Z"
   },
   {
    "duration": 121,
    "start_time": "2025-04-05T14:30:10.533Z"
   },
   {
    "duration": 0,
    "start_time": "2025-04-05T14:30:10.656Z"
   },
   {
    "duration": 0,
    "start_time": "2025-04-05T14:30:10.662Z"
   },
   {
    "duration": 0,
    "start_time": "2025-04-05T14:30:10.664Z"
   },
   {
    "duration": 0,
    "start_time": "2025-04-05T14:30:10.665Z"
   },
   {
    "duration": 0,
    "start_time": "2025-04-05T14:30:10.666Z"
   },
   {
    "duration": 0,
    "start_time": "2025-04-05T14:30:10.668Z"
   },
   {
    "duration": 15110,
    "start_time": "2025-04-05T14:30:33.239Z"
   },
   {
    "duration": 5,
    "start_time": "2025-04-05T14:31:44.492Z"
   },
   {
    "duration": 34,
    "start_time": "2025-04-05T14:31:54.040Z"
   },
   {
    "duration": 2727,
    "start_time": "2025-04-05T14:34:55.538Z"
   },
   {
    "duration": 3295,
    "start_time": "2025-04-05T14:34:58.268Z"
   },
   {
    "duration": 2765,
    "start_time": "2025-04-05T14:35:01.566Z"
   },
   {
    "duration": 3,
    "start_time": "2025-04-05T14:35:04.332Z"
   },
   {
    "duration": 1358,
    "start_time": "2025-04-05T14:35:04.338Z"
   },
   {
    "duration": 58,
    "start_time": "2025-04-05T14:35:05.697Z"
   },
   {
    "duration": 7,
    "start_time": "2025-04-05T14:35:05.757Z"
   },
   {
    "duration": 73,
    "start_time": "2025-04-05T14:35:05.765Z"
   },
   {
    "duration": 41,
    "start_time": "2025-04-05T14:35:05.840Z"
   },
   {
    "duration": 8,
    "start_time": "2025-04-05T14:35:05.882Z"
   },
   {
    "duration": 57,
    "start_time": "2025-04-05T14:35:05.892Z"
   },
   {
    "duration": 5,
    "start_time": "2025-04-05T14:35:05.951Z"
   },
   {
    "duration": 2097,
    "start_time": "2025-04-05T14:35:05.957Z"
   },
   {
    "duration": 1666,
    "start_time": "2025-04-05T14:35:08.056Z"
   },
   {
    "duration": 431,
    "start_time": "2025-04-05T14:35:09.723Z"
   },
   {
    "duration": 885,
    "start_time": "2025-04-05T14:35:10.163Z"
   },
   {
    "duration": 7,
    "start_time": "2025-04-05T14:35:11.049Z"
   },
   {
    "duration": 63,
    "start_time": "2025-04-05T14:35:11.058Z"
   },
   {
    "duration": 129,
    "start_time": "2025-04-05T14:35:11.122Z"
   },
   {
    "duration": 0,
    "start_time": "2025-04-05T14:35:11.252Z"
   },
   {
    "duration": 0,
    "start_time": "2025-04-05T14:35:11.254Z"
   },
   {
    "duration": 0,
    "start_time": "2025-04-05T14:35:11.263Z"
   },
   {
    "duration": 0,
    "start_time": "2025-04-05T14:35:11.264Z"
   },
   {
    "duration": 0,
    "start_time": "2025-04-05T14:35:11.265Z"
   },
   {
    "duration": 0,
    "start_time": "2025-04-05T14:35:11.266Z"
   },
   {
    "duration": 19752,
    "start_time": "2025-04-05T14:35:19.880Z"
   },
   {
    "duration": 2650,
    "start_time": "2025-04-05T14:36:09.364Z"
   },
   {
    "duration": 3200,
    "start_time": "2025-04-05T14:36:12.016Z"
   },
   {
    "duration": 2676,
    "start_time": "2025-04-05T14:36:15.217Z"
   },
   {
    "duration": 3,
    "start_time": "2025-04-05T14:36:17.895Z"
   },
   {
    "duration": 1268,
    "start_time": "2025-04-05T14:36:17.899Z"
   },
   {
    "duration": 69,
    "start_time": "2025-04-05T14:36:19.168Z"
   },
   {
    "duration": 7,
    "start_time": "2025-04-05T14:36:19.238Z"
   },
   {
    "duration": 55,
    "start_time": "2025-04-05T14:36:19.246Z"
   },
   {
    "duration": 39,
    "start_time": "2025-04-05T14:36:19.303Z"
   },
   {
    "duration": 8,
    "start_time": "2025-04-05T14:36:19.364Z"
   },
   {
    "duration": 32,
    "start_time": "2025-04-05T14:36:19.374Z"
   },
   {
    "duration": 6,
    "start_time": "2025-04-05T14:36:19.407Z"
   },
   {
    "duration": 2096,
    "start_time": "2025-04-05T14:36:19.414Z"
   },
   {
    "duration": 1705,
    "start_time": "2025-04-05T14:36:21.511Z"
   },
   {
    "duration": 428,
    "start_time": "2025-04-05T14:36:23.218Z"
   },
   {
    "duration": 908,
    "start_time": "2025-04-05T14:36:23.647Z"
   },
   {
    "duration": 6,
    "start_time": "2025-04-05T14:36:24.557Z"
   },
   {
    "duration": 47,
    "start_time": "2025-04-05T14:36:24.564Z"
   },
   {
    "duration": 16266,
    "start_time": "2025-04-05T14:36:24.612Z"
   },
   {
    "duration": 5,
    "start_time": "2025-04-05T14:36:40.879Z"
   },
   {
    "duration": 54,
    "start_time": "2025-04-05T14:36:40.885Z"
   },
   {
    "duration": 354,
    "start_time": "2025-04-05T14:36:40.940Z"
   },
   {
    "duration": 15364,
    "start_time": "2025-04-05T14:37:55.014Z"
   },
   {
    "duration": 4,
    "start_time": "2025-04-05T14:38:10.380Z"
   },
   {
    "duration": 42,
    "start_time": "2025-04-05T14:38:10.385Z"
   },
   {
    "duration": 373,
    "start_time": "2025-04-05T14:38:10.428Z"
   },
   {
    "duration": 2707,
    "start_time": "2025-04-05T14:44:38.901Z"
   },
   {
    "duration": 3336,
    "start_time": "2025-04-05T14:44:41.610Z"
   },
   {
    "duration": 2790,
    "start_time": "2025-04-05T14:44:44.949Z"
   },
   {
    "duration": 3,
    "start_time": "2025-04-05T14:44:47.741Z"
   },
   {
    "duration": 1305,
    "start_time": "2025-04-05T14:44:47.745Z"
   },
   {
    "duration": 62,
    "start_time": "2025-04-05T14:44:49.052Z"
   },
   {
    "duration": 10,
    "start_time": "2025-04-05T14:44:49.116Z"
   },
   {
    "duration": 191,
    "start_time": "2025-04-05T14:44:49.127Z"
   },
   {
    "duration": 46,
    "start_time": "2025-04-05T14:44:49.319Z"
   },
   {
    "duration": 8,
    "start_time": "2025-04-05T14:44:49.368Z"
   },
   {
    "duration": 29,
    "start_time": "2025-04-05T14:44:49.378Z"
   },
   {
    "duration": 6,
    "start_time": "2025-04-05T14:44:49.408Z"
   },
   {
    "duration": 2114,
    "start_time": "2025-04-05T14:44:49.416Z"
   },
   {
    "duration": 1771,
    "start_time": "2025-04-05T14:44:51.531Z"
   },
   {
    "duration": 412,
    "start_time": "2025-04-05T14:44:53.304Z"
   },
   {
    "duration": 904,
    "start_time": "2025-04-05T14:44:53.719Z"
   },
   {
    "duration": 8,
    "start_time": "2025-04-05T14:44:54.625Z"
   },
   {
    "duration": 70,
    "start_time": "2025-04-05T14:44:54.635Z"
   },
   {
    "duration": 22729,
    "start_time": "2025-04-05T14:44:54.707Z"
   },
   {
    "duration": 125,
    "start_time": "2025-04-05T14:45:17.437Z"
   },
   {
    "duration": 0,
    "start_time": "2025-04-05T14:45:17.564Z"
   },
   {
    "duration": 0,
    "start_time": "2025-04-05T14:45:17.565Z"
   },
   {
    "duration": 0,
    "start_time": "2025-04-05T14:45:17.566Z"
   },
   {
    "duration": 0,
    "start_time": "2025-04-05T14:45:17.567Z"
   },
   {
    "duration": 16331,
    "start_time": "2025-04-05T14:48:47.852Z"
   },
   {
    "duration": 2738,
    "start_time": "2025-04-05T14:51:48.477Z"
   },
   {
    "duration": 3343,
    "start_time": "2025-04-05T14:51:51.218Z"
   },
   {
    "duration": 2792,
    "start_time": "2025-04-05T14:51:54.563Z"
   },
   {
    "duration": 2,
    "start_time": "2025-04-05T14:51:57.357Z"
   },
   {
    "duration": 1305,
    "start_time": "2025-04-05T14:51:57.361Z"
   },
   {
    "duration": 58,
    "start_time": "2025-04-05T14:51:58.668Z"
   },
   {
    "duration": 7,
    "start_time": "2025-04-05T14:51:58.728Z"
   },
   {
    "duration": 63,
    "start_time": "2025-04-05T14:51:58.736Z"
   },
   {
    "duration": 69,
    "start_time": "2025-04-05T14:51:58.801Z"
   },
   {
    "duration": 12,
    "start_time": "2025-04-05T14:51:58.872Z"
   },
   {
    "duration": 39,
    "start_time": "2025-04-05T14:51:58.885Z"
   },
   {
    "duration": 7,
    "start_time": "2025-04-05T14:51:58.925Z"
   },
   {
    "duration": 2110,
    "start_time": "2025-04-05T14:51:58.933Z"
   },
   {
    "duration": 1771,
    "start_time": "2025-04-05T14:52:01.045Z"
   },
   {
    "duration": 424,
    "start_time": "2025-04-05T14:52:02.818Z"
   },
   {
    "duration": 936,
    "start_time": "2025-04-05T14:52:03.244Z"
   },
   {
    "duration": 8,
    "start_time": "2025-04-05T14:52:04.182Z"
   },
   {
    "duration": 97,
    "start_time": "2025-04-05T14:52:04.191Z"
   },
   {
    "duration": 31339,
    "start_time": "2025-04-05T14:52:04.290Z"
   },
   {
    "duration": 4,
    "start_time": "2025-04-05T14:52:35.630Z"
   },
   {
    "duration": 63,
    "start_time": "2025-04-05T14:52:35.636Z"
   },
   {
    "duration": 312,
    "start_time": "2025-04-05T14:52:35.701Z"
   },
   {
    "duration": 2793,
    "start_time": "2025-04-05T15:03:48.971Z"
   },
   {
    "duration": 3216,
    "start_time": "2025-04-05T15:03:51.766Z"
   },
   {
    "duration": 2700,
    "start_time": "2025-04-05T15:03:54.984Z"
   },
   {
    "duration": 3,
    "start_time": "2025-04-05T15:03:57.686Z"
   },
   {
    "duration": 1265,
    "start_time": "2025-04-05T15:03:57.691Z"
   },
   {
    "duration": 163,
    "start_time": "2025-04-05T15:03:58.958Z"
   },
   {
    "duration": 6,
    "start_time": "2025-04-05T15:03:59.123Z"
   },
   {
    "duration": 67,
    "start_time": "2025-04-05T15:03:59.131Z"
   },
   {
    "duration": 36,
    "start_time": "2025-04-05T15:03:59.200Z"
   },
   {
    "duration": 28,
    "start_time": "2025-04-05T15:03:59.238Z"
   },
   {
    "duration": 27,
    "start_time": "2025-04-05T15:03:59.268Z"
   },
   {
    "duration": 6,
    "start_time": "2025-04-05T15:03:59.297Z"
   },
   {
    "duration": 2099,
    "start_time": "2025-04-05T15:03:59.304Z"
   },
   {
    "duration": 1694,
    "start_time": "2025-04-05T15:04:01.405Z"
   },
   {
    "duration": 409,
    "start_time": "2025-04-05T15:04:03.100Z"
   },
   {
    "duration": 884,
    "start_time": "2025-04-05T15:04:03.511Z"
   },
   {
    "duration": 6,
    "start_time": "2025-04-05T15:04:04.397Z"
   },
   {
    "duration": 53,
    "start_time": "2025-04-05T15:04:04.404Z"
   },
   {
    "duration": 44647,
    "start_time": "2025-04-05T15:04:04.459Z"
   },
   {
    "duration": 4,
    "start_time": "2025-04-05T15:04:49.107Z"
   },
   {
    "duration": 55,
    "start_time": "2025-04-05T15:04:49.112Z"
   },
   {
    "duration": 356,
    "start_time": "2025-04-05T15:04:49.168Z"
   },
   {
    "duration": 33577,
    "start_time": "2025-04-05T15:09:21.294Z"
   },
   {
    "duration": 2741,
    "start_time": "2025-04-05T15:10:29.044Z"
   },
   {
    "duration": 3961,
    "start_time": "2025-04-05T15:10:31.787Z"
   },
   {
    "duration": 2730,
    "start_time": "2025-04-05T15:10:35.750Z"
   },
   {
    "duration": 2,
    "start_time": "2025-04-05T15:10:38.482Z"
   },
   {
    "duration": 1289,
    "start_time": "2025-04-05T15:10:38.487Z"
   },
   {
    "duration": 59,
    "start_time": "2025-04-05T15:10:39.778Z"
   },
   {
    "duration": 6,
    "start_time": "2025-04-05T15:10:39.839Z"
   },
   {
    "duration": 54,
    "start_time": "2025-04-05T15:10:39.846Z"
   },
   {
    "duration": 38,
    "start_time": "2025-04-05T15:10:39.901Z"
   },
   {
    "duration": 7,
    "start_time": "2025-04-05T15:10:39.941Z"
   },
   {
    "duration": 39,
    "start_time": "2025-04-05T15:10:39.949Z"
   },
   {
    "duration": 6,
    "start_time": "2025-04-05T15:10:39.989Z"
   },
   {
    "duration": 2129,
    "start_time": "2025-04-05T15:10:39.996Z"
   },
   {
    "duration": 1774,
    "start_time": "2025-04-05T15:10:42.127Z"
   },
   {
    "duration": 412,
    "start_time": "2025-04-05T15:10:43.902Z"
   },
   {
    "duration": 949,
    "start_time": "2025-04-05T15:10:44.315Z"
   },
   {
    "duration": 6,
    "start_time": "2025-04-05T15:10:45.266Z"
   },
   {
    "duration": 87,
    "start_time": "2025-04-05T15:10:45.273Z"
   },
   {
    "duration": 29450,
    "start_time": "2025-04-05T15:10:45.362Z"
   },
   {
    "duration": 126,
    "start_time": "2025-04-05T15:11:14.814Z"
   },
   {
    "duration": 0,
    "start_time": "2025-04-05T15:11:14.942Z"
   },
   {
    "duration": 0,
    "start_time": "2025-04-05T15:11:14.943Z"
   },
   {
    "duration": 0,
    "start_time": "2025-04-05T15:11:14.945Z"
   },
   {
    "duration": 0,
    "start_time": "2025-04-05T15:11:14.946Z"
   },
   {
    "duration": 2737,
    "start_time": "2025-04-05T15:12:36.685Z"
   },
   {
    "duration": 3281,
    "start_time": "2025-04-05T15:12:39.425Z"
   },
   {
    "duration": 2798,
    "start_time": "2025-04-05T15:12:42.707Z"
   },
   {
    "duration": 3,
    "start_time": "2025-04-05T15:12:45.508Z"
   },
   {
    "duration": 1273,
    "start_time": "2025-04-05T15:12:45.512Z"
   },
   {
    "duration": 57,
    "start_time": "2025-04-05T15:12:46.787Z"
   },
   {
    "duration": 6,
    "start_time": "2025-04-05T15:12:46.846Z"
   },
   {
    "duration": 55,
    "start_time": "2025-04-05T15:12:46.853Z"
   },
   {
    "duration": 39,
    "start_time": "2025-04-05T15:12:46.909Z"
   },
   {
    "duration": 8,
    "start_time": "2025-04-05T15:12:46.962Z"
   },
   {
    "duration": 34,
    "start_time": "2025-04-05T15:12:46.971Z"
   },
   {
    "duration": 5,
    "start_time": "2025-04-05T15:12:47.007Z"
   },
   {
    "duration": 2116,
    "start_time": "2025-04-05T15:12:47.013Z"
   },
   {
    "duration": 1736,
    "start_time": "2025-04-05T15:12:49.130Z"
   },
   {
    "duration": 434,
    "start_time": "2025-04-05T15:12:50.868Z"
   },
   {
    "duration": 895,
    "start_time": "2025-04-05T15:12:51.304Z"
   },
   {
    "duration": 6,
    "start_time": "2025-04-05T15:12:52.201Z"
   },
   {
    "duration": 45,
    "start_time": "2025-04-05T15:12:52.209Z"
   },
   {
    "duration": 2801,
    "start_time": "2025-04-05T15:17:42.939Z"
   },
   {
    "duration": 3267,
    "start_time": "2025-04-05T15:17:45.743Z"
   },
   {
    "duration": 2794,
    "start_time": "2025-04-05T15:17:49.012Z"
   },
   {
    "duration": 3,
    "start_time": "2025-04-05T15:17:51.808Z"
   },
   {
    "duration": 1355,
    "start_time": "2025-04-05T15:17:51.813Z"
   },
   {
    "duration": 69,
    "start_time": "2025-04-05T15:17:53.169Z"
   },
   {
    "duration": 6,
    "start_time": "2025-04-05T15:17:53.240Z"
   },
   {
    "duration": 53,
    "start_time": "2025-04-05T15:17:53.248Z"
   },
   {
    "duration": 96,
    "start_time": "2025-04-05T15:17:53.303Z"
   },
   {
    "duration": 7,
    "start_time": "2025-04-05T15:17:53.400Z"
   },
   {
    "duration": 30,
    "start_time": "2025-04-05T15:17:53.409Z"
   },
   {
    "duration": 22,
    "start_time": "2025-04-05T15:17:53.441Z"
   },
   {
    "duration": 2066,
    "start_time": "2025-04-05T15:17:53.464Z"
   },
   {
    "duration": 1742,
    "start_time": "2025-04-05T15:17:55.532Z"
   },
   {
    "duration": 429,
    "start_time": "2025-04-05T15:17:57.276Z"
   },
   {
    "duration": 882,
    "start_time": "2025-04-05T15:17:57.706Z"
   },
   {
    "duration": 6,
    "start_time": "2025-04-05T15:17:58.589Z"
   },
   {
    "duration": 45,
    "start_time": "2025-04-05T15:17:58.597Z"
   },
   {
    "duration": 143,
    "start_time": "2025-04-05T15:17:58.644Z"
   },
   {
    "duration": 0,
    "start_time": "2025-04-05T15:17:58.788Z"
   },
   {
    "duration": 0,
    "start_time": "2025-04-05T15:17:58.789Z"
   },
   {
    "duration": 0,
    "start_time": "2025-04-05T15:17:58.790Z"
   },
   {
    "duration": 51,
    "start_time": "2025-04-05T15:19:48.209Z"
   },
   {
    "duration": 45535,
    "start_time": "2025-04-05T15:19:50.401Z"
   },
   {
    "duration": 2737,
    "start_time": "2025-04-05T15:24:35.404Z"
   },
   {
    "duration": 3300,
    "start_time": "2025-04-05T15:24:38.143Z"
   },
   {
    "duration": 2763,
    "start_time": "2025-04-05T15:24:41.445Z"
   },
   {
    "duration": 3,
    "start_time": "2025-04-05T15:24:44.210Z"
   },
   {
    "duration": 1292,
    "start_time": "2025-04-05T15:24:44.214Z"
   },
   {
    "duration": 59,
    "start_time": "2025-04-05T15:24:45.508Z"
   },
   {
    "duration": 7,
    "start_time": "2025-04-05T15:24:45.568Z"
   },
   {
    "duration": 58,
    "start_time": "2025-04-05T15:24:45.577Z"
   },
   {
    "duration": 63,
    "start_time": "2025-04-05T15:24:45.637Z"
   },
   {
    "duration": 7,
    "start_time": "2025-04-05T15:24:45.702Z"
   },
   {
    "duration": 33,
    "start_time": "2025-04-05T15:24:45.711Z"
   },
   {
    "duration": 18,
    "start_time": "2025-04-05T15:24:45.745Z"
   },
   {
    "duration": 2070,
    "start_time": "2025-04-05T15:24:45.764Z"
   },
   {
    "duration": 1741,
    "start_time": "2025-04-05T15:24:47.836Z"
   },
   {
    "duration": 438,
    "start_time": "2025-04-05T15:24:49.579Z"
   },
   {
    "duration": 885,
    "start_time": "2025-04-05T15:24:50.018Z"
   },
   {
    "duration": 6,
    "start_time": "2025-04-05T15:24:50.905Z"
   },
   {
    "duration": 50,
    "start_time": "2025-04-05T15:24:50.913Z"
   },
   {
    "duration": 96,
    "start_time": "2025-04-05T15:24:50.964Z"
   },
   {
    "duration": 0,
    "start_time": "2025-04-05T15:24:51.062Z"
   },
   {
    "duration": 0,
    "start_time": "2025-04-05T15:24:51.063Z"
   },
   {
    "duration": 0,
    "start_time": "2025-04-05T15:24:51.064Z"
   },
   {
    "duration": 0,
    "start_time": "2025-04-05T15:24:51.065Z"
   },
   {
    "duration": 0,
    "start_time": "2025-04-05T15:24:51.066Z"
   },
   {
    "duration": 26671,
    "start_time": "2025-04-05T15:25:52.285Z"
   },
   {
    "duration": 5,
    "start_time": "2025-04-05T15:26:46.848Z"
   },
   {
    "duration": 45,
    "start_time": "2025-04-05T15:26:52.208Z"
   },
   {
    "duration": 356,
    "start_time": "2025-04-05T15:26:53.335Z"
   },
   {
    "duration": 2893,
    "start_time": "2025-04-05T15:28:02.269Z"
   },
   {
    "duration": 3370,
    "start_time": "2025-04-05T15:28:05.164Z"
   },
   {
    "duration": 2786,
    "start_time": "2025-04-05T15:28:08.536Z"
   },
   {
    "duration": 3,
    "start_time": "2025-04-05T15:28:11.324Z"
   },
   {
    "duration": 1348,
    "start_time": "2025-04-05T15:28:11.329Z"
   },
   {
    "duration": 69,
    "start_time": "2025-04-05T15:28:12.679Z"
   },
   {
    "duration": 6,
    "start_time": "2025-04-05T15:28:12.750Z"
   },
   {
    "duration": 70,
    "start_time": "2025-04-05T15:28:12.758Z"
   },
   {
    "duration": 41,
    "start_time": "2025-04-05T15:28:12.829Z"
   },
   {
    "duration": 9,
    "start_time": "2025-04-05T15:28:12.871Z"
   },
   {
    "duration": 27,
    "start_time": "2025-04-05T15:28:12.882Z"
   },
   {
    "duration": 7,
    "start_time": "2025-04-05T15:28:12.910Z"
   },
   {
    "duration": 2221,
    "start_time": "2025-04-05T15:28:12.918Z"
   },
   {
    "duration": 1726,
    "start_time": "2025-04-05T15:28:15.143Z"
   },
   {
    "duration": 428,
    "start_time": "2025-04-05T15:28:16.870Z"
   },
   {
    "duration": 892,
    "start_time": "2025-04-05T15:28:17.300Z"
   },
   {
    "duration": 6,
    "start_time": "2025-04-05T15:28:18.193Z"
   },
   {
    "duration": 58,
    "start_time": "2025-04-05T15:28:18.201Z"
   },
   {
    "duration": 47161,
    "start_time": "2025-04-05T15:28:18.261Z"
   },
   {
    "duration": 4,
    "start_time": "2025-04-05T15:29:05.423Z"
   },
   {
    "duration": 67,
    "start_time": "2025-04-05T15:29:05.429Z"
   },
   {
    "duration": 358,
    "start_time": "2025-04-05T15:29:05.498Z"
   },
   {
    "duration": 2690,
    "start_time": "2025-04-05T15:29:36.849Z"
   },
   {
    "duration": 3285,
    "start_time": "2025-04-05T15:29:39.542Z"
   },
   {
    "duration": 2758,
    "start_time": "2025-04-05T15:29:42.829Z"
   },
   {
    "duration": 2,
    "start_time": "2025-04-05T15:29:45.589Z"
   },
   {
    "duration": 1370,
    "start_time": "2025-04-05T15:29:45.593Z"
   },
   {
    "duration": 59,
    "start_time": "2025-04-05T15:29:46.964Z"
   },
   {
    "duration": 7,
    "start_time": "2025-04-05T15:29:47.024Z"
   },
   {
    "duration": 54,
    "start_time": "2025-04-05T15:29:47.032Z"
   },
   {
    "duration": 40,
    "start_time": "2025-04-05T15:29:47.088Z"
   },
   {
    "duration": 9,
    "start_time": "2025-04-05T15:29:47.129Z"
   },
   {
    "duration": 27,
    "start_time": "2025-04-05T15:29:47.164Z"
   },
   {
    "duration": 6,
    "start_time": "2025-04-05T15:29:47.193Z"
   },
   {
    "duration": 2129,
    "start_time": "2025-04-05T15:29:47.201Z"
   },
   {
    "duration": 1835,
    "start_time": "2025-04-05T15:29:49.333Z"
   },
   {
    "duration": 435,
    "start_time": "2025-04-05T15:29:51.170Z"
   },
   {
    "duration": 911,
    "start_time": "2025-04-05T15:29:51.607Z"
   },
   {
    "duration": 5,
    "start_time": "2025-04-05T15:29:52.520Z"
   },
   {
    "duration": 74,
    "start_time": "2025-04-05T15:29:52.527Z"
   },
   {
    "duration": 10020,
    "start_time": "2025-04-05T15:29:52.602Z"
   },
   {
    "duration": 4,
    "start_time": "2025-04-05T15:30:02.623Z"
   },
   {
    "duration": 109,
    "start_time": "2025-04-05T15:30:02.629Z"
   },
   {
    "duration": 401,
    "start_time": "2025-04-05T15:30:02.740Z"
   },
   {
    "duration": 2732,
    "start_time": "2025-04-05T15:37:03.845Z"
   },
   {
    "duration": 3371,
    "start_time": "2025-04-05T15:37:06.579Z"
   },
   {
    "duration": 2674,
    "start_time": "2025-04-05T15:37:09.952Z"
   },
   {
    "duration": 3,
    "start_time": "2025-04-05T15:37:12.627Z"
   },
   {
    "duration": 1319,
    "start_time": "2025-04-05T15:37:12.633Z"
   },
   {
    "duration": 59,
    "start_time": "2025-04-05T15:37:13.954Z"
   },
   {
    "duration": 7,
    "start_time": "2025-04-05T15:37:14.015Z"
   },
   {
    "duration": 67,
    "start_time": "2025-04-05T15:37:14.023Z"
   },
   {
    "duration": 39,
    "start_time": "2025-04-05T15:37:14.091Z"
   },
   {
    "duration": 7,
    "start_time": "2025-04-05T15:37:14.131Z"
   },
   {
    "duration": 48,
    "start_time": "2025-04-05T15:37:14.140Z"
   },
   {
    "duration": 6,
    "start_time": "2025-04-05T15:37:14.189Z"
   },
   {
    "duration": 2111,
    "start_time": "2025-04-05T15:37:14.197Z"
   },
   {
    "duration": 1697,
    "start_time": "2025-04-05T15:37:16.311Z"
   },
   {
    "duration": 408,
    "start_time": "2025-04-05T15:37:18.009Z"
   },
   {
    "duration": 880,
    "start_time": "2025-04-05T15:37:18.419Z"
   },
   {
    "duration": 6,
    "start_time": "2025-04-05T15:37:19.301Z"
   },
   {
    "duration": 126,
    "start_time": "2025-04-05T15:37:19.308Z"
   },
   {
    "duration": 0,
    "start_time": "2025-04-05T15:37:19.435Z"
   },
   {
    "duration": 0,
    "start_time": "2025-04-05T15:37:19.437Z"
   },
   {
    "duration": 1,
    "start_time": "2025-04-05T15:37:19.437Z"
   },
   {
    "duration": 0,
    "start_time": "2025-04-05T15:37:19.438Z"
   },
   {
    "duration": 0,
    "start_time": "2025-04-05T15:37:19.439Z"
   },
   {
    "duration": 0,
    "start_time": "2025-04-05T15:37:19.440Z"
   },
   {
    "duration": 23418,
    "start_time": "2025-04-05T15:38:33.355Z"
   },
   {
    "duration": 2681,
    "start_time": "2025-04-05T15:39:57.089Z"
   },
   {
    "duration": 3304,
    "start_time": "2025-04-05T15:39:59.772Z"
   },
   {
    "duration": 2746,
    "start_time": "2025-04-05T15:40:03.078Z"
   },
   {
    "duration": 2,
    "start_time": "2025-04-05T15:40:05.826Z"
   },
   {
    "duration": 1325,
    "start_time": "2025-04-05T15:40:05.830Z"
   },
   {
    "duration": 63,
    "start_time": "2025-04-05T15:40:07.156Z"
   },
   {
    "duration": 6,
    "start_time": "2025-04-05T15:40:07.221Z"
   },
   {
    "duration": 67,
    "start_time": "2025-04-05T15:40:07.228Z"
   },
   {
    "duration": 39,
    "start_time": "2025-04-05T15:40:07.297Z"
   },
   {
    "duration": 28,
    "start_time": "2025-04-05T15:40:07.337Z"
   },
   {
    "duration": 27,
    "start_time": "2025-04-05T15:40:07.367Z"
   },
   {
    "duration": 6,
    "start_time": "2025-04-05T15:40:07.395Z"
   },
   {
    "duration": 2115,
    "start_time": "2025-04-05T15:40:07.402Z"
   },
   {
    "duration": 1694,
    "start_time": "2025-04-05T15:40:09.520Z"
   },
   {
    "duration": 414,
    "start_time": "2025-04-05T15:40:11.216Z"
   },
   {
    "duration": 920,
    "start_time": "2025-04-05T15:40:11.632Z"
   },
   {
    "duration": 6,
    "start_time": "2025-04-05T15:40:12.553Z"
   },
   {
    "duration": 51,
    "start_time": "2025-04-05T15:40:12.560Z"
   },
   {
    "duration": 9957,
    "start_time": "2025-04-05T15:40:12.612Z"
   },
   {
    "duration": 5,
    "start_time": "2025-04-05T15:40:22.571Z"
   },
   {
    "duration": 43,
    "start_time": "2025-04-05T15:40:22.577Z"
   },
   {
    "duration": 347,
    "start_time": "2025-04-05T15:40:22.621Z"
   },
   {
    "duration": 2781,
    "start_time": "2025-04-05T15:48:05.699Z"
   },
   {
    "duration": 3261,
    "start_time": "2025-04-05T15:48:08.483Z"
   },
   {
    "duration": 2678,
    "start_time": "2025-04-05T15:48:11.747Z"
   },
   {
    "duration": 2,
    "start_time": "2025-04-05T15:48:14.427Z"
   },
   {
    "duration": 1347,
    "start_time": "2025-04-05T15:48:14.431Z"
   },
   {
    "duration": 58,
    "start_time": "2025-04-05T15:48:15.780Z"
   },
   {
    "duration": 6,
    "start_time": "2025-04-05T15:48:15.840Z"
   },
   {
    "duration": 56,
    "start_time": "2025-04-05T15:48:15.847Z"
   },
   {
    "duration": 40,
    "start_time": "2025-04-05T15:48:15.904Z"
   },
   {
    "duration": 24,
    "start_time": "2025-04-05T15:48:15.947Z"
   },
   {
    "duration": 26,
    "start_time": "2025-04-05T15:48:15.973Z"
   },
   {
    "duration": 6,
    "start_time": "2025-04-05T15:48:16.001Z"
   },
   {
    "duration": 2110,
    "start_time": "2025-04-05T15:48:16.009Z"
   },
   {
    "duration": 1784,
    "start_time": "2025-04-05T15:48:18.121Z"
   },
   {
    "duration": 403,
    "start_time": "2025-04-05T15:48:19.906Z"
   },
   {
    "duration": 865,
    "start_time": "2025-04-05T15:48:20.310Z"
   },
   {
    "duration": 6,
    "start_time": "2025-04-05T15:48:21.177Z"
   },
   {
    "duration": 4379,
    "start_time": "2025-04-05T15:48:21.185Z"
   },
   {
    "duration": 0,
    "start_time": "2025-04-05T15:48:25.566Z"
   },
   {
    "duration": 0,
    "start_time": "2025-04-05T15:48:25.567Z"
   },
   {
    "duration": 0,
    "start_time": "2025-04-05T15:48:25.568Z"
   },
   {
    "duration": 0,
    "start_time": "2025-04-05T15:48:25.569Z"
   },
   {
    "duration": 0,
    "start_time": "2025-04-05T15:48:25.570Z"
   },
   {
    "duration": 0,
    "start_time": "2025-04-05T15:48:25.571Z"
   },
   {
    "duration": 4443,
    "start_time": "2025-04-05T15:50:05.567Z"
   },
   {
    "duration": 2751,
    "start_time": "2025-04-05T15:53:29.089Z"
   },
   {
    "duration": 3416,
    "start_time": "2025-04-05T15:53:31.842Z"
   },
   {
    "duration": 2693,
    "start_time": "2025-04-05T15:53:35.260Z"
   },
   {
    "duration": 2,
    "start_time": "2025-04-05T15:53:37.955Z"
   },
   {
    "duration": 1312,
    "start_time": "2025-04-05T15:53:37.959Z"
   },
   {
    "duration": 60,
    "start_time": "2025-04-05T15:53:39.272Z"
   },
   {
    "duration": 7,
    "start_time": "2025-04-05T15:53:39.333Z"
   },
   {
    "duration": 53,
    "start_time": "2025-04-05T15:53:39.341Z"
   },
   {
    "duration": 38,
    "start_time": "2025-04-05T15:53:39.395Z"
   },
   {
    "duration": 29,
    "start_time": "2025-04-05T15:53:39.434Z"
   },
   {
    "duration": 26,
    "start_time": "2025-04-05T15:53:39.465Z"
   },
   {
    "duration": 6,
    "start_time": "2025-04-05T15:53:39.493Z"
   },
   {
    "duration": 2112,
    "start_time": "2025-04-05T15:53:39.500Z"
   },
   {
    "duration": 1700,
    "start_time": "2025-04-05T15:53:41.615Z"
   },
   {
    "duration": 421,
    "start_time": "2025-04-05T15:53:43.316Z"
   },
   {
    "duration": 930,
    "start_time": "2025-04-05T15:53:43.738Z"
   },
   {
    "duration": 6,
    "start_time": "2025-04-05T15:53:44.669Z"
   },
   {
    "duration": 58,
    "start_time": "2025-04-05T15:53:44.676Z"
   },
   {
    "duration": 9475,
    "start_time": "2025-04-05T15:53:44.737Z"
   },
   {
    "duration": 3,
    "start_time": "2025-04-05T15:53:54.214Z"
   },
   {
    "duration": 50,
    "start_time": "2025-04-05T15:53:54.219Z"
   },
   {
    "duration": 373,
    "start_time": "2025-04-05T15:53:54.271Z"
   },
   {
    "duration": 2725,
    "start_time": "2025-04-05T16:56:01.771Z"
   },
   {
    "duration": 3273,
    "start_time": "2025-04-05T16:56:04.498Z"
   },
   {
    "duration": 2685,
    "start_time": "2025-04-05T16:56:07.773Z"
   },
   {
    "duration": 2,
    "start_time": "2025-04-05T16:56:10.460Z"
   },
   {
    "duration": 1294,
    "start_time": "2025-04-05T16:56:10.464Z"
   },
   {
    "duration": 59,
    "start_time": "2025-04-05T16:56:11.762Z"
   },
   {
    "duration": 6,
    "start_time": "2025-04-05T16:56:11.822Z"
   },
   {
    "duration": 58,
    "start_time": "2025-04-05T16:56:11.829Z"
   },
   {
    "duration": 37,
    "start_time": "2025-04-05T16:56:11.888Z"
   },
   {
    "duration": 7,
    "start_time": "2025-04-05T16:56:11.926Z"
   },
   {
    "duration": 84,
    "start_time": "2025-04-05T16:56:11.934Z"
   },
   {
    "duration": 6,
    "start_time": "2025-04-05T16:56:12.019Z"
   },
   {
    "duration": 2102,
    "start_time": "2025-04-05T16:56:12.026Z"
   },
   {
    "duration": 1769,
    "start_time": "2025-04-05T16:56:14.130Z"
   },
   {
    "duration": 410,
    "start_time": "2025-04-05T16:56:15.900Z"
   },
   {
    "duration": 865,
    "start_time": "2025-04-05T16:56:16.311Z"
   },
   {
    "duration": 52,
    "start_time": "2025-04-05T16:56:17.177Z"
   },
   {
    "duration": 9395,
    "start_time": "2025-04-05T16:56:17.231Z"
   },
   {
    "duration": 155,
    "start_time": "2025-04-05T16:56:26.627Z"
   },
   {
    "duration": 0,
    "start_time": "2025-04-05T16:56:26.783Z"
   },
   {
    "duration": 44,
    "start_time": "2025-04-05T16:57:20.439Z"
   },
   {
    "duration": 44,
    "start_time": "2025-04-05T16:57:48.566Z"
   },
   {
    "duration": 54,
    "start_time": "2025-04-05T16:58:42.193Z"
   },
   {
    "duration": 14,
    "start_time": "2025-04-05T16:58:42.546Z"
   },
   {
    "duration": 2781,
    "start_time": "2025-04-05T17:00:42.296Z"
   },
   {
    "duration": 3263,
    "start_time": "2025-04-05T17:00:45.079Z"
   },
   {
    "duration": 2712,
    "start_time": "2025-04-05T17:00:48.344Z"
   },
   {
    "duration": 2,
    "start_time": "2025-04-05T17:00:51.058Z"
   },
   {
    "duration": 1346,
    "start_time": "2025-04-05T17:00:51.062Z"
   },
   {
    "duration": 58,
    "start_time": "2025-04-05T17:00:52.410Z"
   },
   {
    "duration": 7,
    "start_time": "2025-04-05T17:00:52.470Z"
   },
   {
    "duration": 59,
    "start_time": "2025-04-05T17:00:52.478Z"
   },
   {
    "duration": 46,
    "start_time": "2025-04-05T17:00:52.539Z"
   },
   {
    "duration": 8,
    "start_time": "2025-04-05T17:00:52.586Z"
   },
   {
    "duration": 31,
    "start_time": "2025-04-05T17:00:52.595Z"
   },
   {
    "duration": 6,
    "start_time": "2025-04-05T17:00:52.627Z"
   },
   {
    "duration": 2111,
    "start_time": "2025-04-05T17:00:52.634Z"
   },
   {
    "duration": 1756,
    "start_time": "2025-04-05T17:00:54.748Z"
   },
   {
    "duration": 404,
    "start_time": "2025-04-05T17:00:56.505Z"
   },
   {
    "duration": 885,
    "start_time": "2025-04-05T17:00:56.910Z"
   },
   {
    "duration": 52,
    "start_time": "2025-04-05T17:00:57.797Z"
   },
   {
    "duration": 9670,
    "start_time": "2025-04-05T17:00:57.851Z"
   },
   {
    "duration": 52,
    "start_time": "2025-04-05T17:01:07.522Z"
   },
   {
    "duration": 129,
    "start_time": "2025-04-05T17:01:07.575Z"
   },
   {
    "duration": 9,
    "start_time": "2025-04-05T17:03:49.715Z"
   },
   {
    "duration": 14,
    "start_time": "2025-04-05T17:04:27.636Z"
   },
   {
    "duration": 3,
    "start_time": "2025-04-05T17:11:45.517Z"
   },
   {
    "duration": 4,
    "start_time": "2025-04-05T17:12:00.671Z"
   },
   {
    "duration": 15,
    "start_time": "2025-04-05T17:12:24.548Z"
   },
   {
    "duration": 12,
    "start_time": "2025-04-05T17:13:39.839Z"
   },
   {
    "duration": 11,
    "start_time": "2025-04-05T17:14:20.330Z"
   },
   {
    "duration": 4,
    "start_time": "2025-04-05T17:14:31.593Z"
   },
   {
    "duration": 9,
    "start_time": "2025-04-05T17:15:13.339Z"
   },
   {
    "duration": 13,
    "start_time": "2025-04-05T17:15:21.797Z"
   },
   {
    "duration": 42,
    "start_time": "2025-04-05T17:16:25.648Z"
   },
   {
    "duration": 45,
    "start_time": "2025-04-05T17:17:14.602Z"
   },
   {
    "duration": 49,
    "start_time": "2025-04-05T17:17:34.892Z"
   },
   {
    "duration": 44,
    "start_time": "2025-04-05T17:17:58.547Z"
   },
   {
    "duration": 2757,
    "start_time": "2025-04-05T17:32:32.039Z"
   },
   {
    "duration": 3306,
    "start_time": "2025-04-05T17:32:34.799Z"
   },
   {
    "duration": 2719,
    "start_time": "2025-04-05T17:32:38.108Z"
   },
   {
    "duration": 3,
    "start_time": "2025-04-05T17:32:40.828Z"
   },
   {
    "duration": 1330,
    "start_time": "2025-04-05T17:32:40.833Z"
   },
   {
    "duration": 70,
    "start_time": "2025-04-05T17:32:42.165Z"
   },
   {
    "duration": 7,
    "start_time": "2025-04-05T17:32:42.236Z"
   },
   {
    "duration": 104,
    "start_time": "2025-04-05T17:32:42.245Z"
   },
   {
    "duration": 47,
    "start_time": "2025-04-05T17:32:42.351Z"
   },
   {
    "duration": 10,
    "start_time": "2025-04-05T17:32:42.400Z"
   },
   {
    "duration": 36,
    "start_time": "2025-04-05T17:32:42.411Z"
   },
   {
    "duration": 19,
    "start_time": "2025-04-05T17:32:42.448Z"
   },
   {
    "duration": 2108,
    "start_time": "2025-04-05T17:32:42.468Z"
   },
   {
    "duration": 1805,
    "start_time": "2025-04-05T17:32:44.578Z"
   },
   {
    "duration": 423,
    "start_time": "2025-04-05T17:32:46.385Z"
   },
   {
    "duration": 894,
    "start_time": "2025-04-05T17:32:46.810Z"
   },
   {
    "duration": 52,
    "start_time": "2025-04-05T17:32:47.705Z"
   },
   {
    "duration": 9538,
    "start_time": "2025-04-05T17:32:47.758Z"
   },
   {
    "duration": 42,
    "start_time": "2025-04-05T17:32:57.297Z"
   },
   {
    "duration": 53,
    "start_time": "2025-04-05T17:32:57.341Z"
   },
   {
    "duration": 74,
    "start_time": "2025-04-05T17:42:34.382Z"
   },
   {
    "duration": 26,
    "start_time": "2025-04-05T17:42:54.774Z"
   },
   {
    "duration": 28,
    "start_time": "2025-04-05T17:43:11.696Z"
   },
   {
    "duration": 19,
    "start_time": "2025-04-05T17:44:32.556Z"
   },
   {
    "duration": 19,
    "start_time": "2025-04-05T17:46:27.110Z"
   },
   {
    "duration": 62,
    "start_time": "2025-04-05T17:48:02.072Z"
   },
   {
    "duration": 27,
    "start_time": "2025-04-05T17:48:57.544Z"
   },
   {
    "duration": 56,
    "start_time": "2025-04-05T17:49:20.584Z"
   },
   {
    "duration": 43,
    "start_time": "2025-04-05T17:50:57.357Z"
   },
   {
    "duration": 26,
    "start_time": "2025-04-05T17:58:19.845Z"
   },
   {
    "duration": 5,
    "start_time": "2025-04-05T18:00:57.370Z"
   },
   {
    "duration": 5,
    "start_time": "2025-04-05T18:02:01.507Z"
   },
   {
    "duration": 6,
    "start_time": "2025-04-05T18:04:05.060Z"
   },
   {
    "duration": 6,
    "start_time": "2025-04-05T18:04:42.889Z"
   },
   {
    "duration": 6,
    "start_time": "2025-04-05T18:04:43.023Z"
   },
   {
    "duration": 566,
    "start_time": "2025-04-05T18:04:43.206Z"
   },
   {
    "duration": 69,
    "start_time": "2025-04-05T18:06:00.581Z"
   },
   {
    "duration": 37,
    "start_time": "2025-04-05T18:18:24.805Z"
   },
   {
    "duration": 116,
    "start_time": "2025-04-05T18:26:09.713Z"
   },
   {
    "duration": 3397,
    "start_time": "2025-04-06T18:52:47.338Z"
   },
   {
    "duration": 6864,
    "start_time": "2025-04-06T18:52:50.738Z"
   },
   {
    "duration": 3623,
    "start_time": "2025-04-06T18:52:57.604Z"
   },
   {
    "duration": 3,
    "start_time": "2025-04-06T18:53:01.230Z"
   },
   {
    "duration": 1698,
    "start_time": "2025-04-06T18:53:01.236Z"
   },
   {
    "duration": 185,
    "start_time": "2025-04-06T18:53:02.938Z"
   },
   {
    "duration": 8,
    "start_time": "2025-04-06T18:53:03.125Z"
   },
   {
    "duration": 113,
    "start_time": "2025-04-06T18:53:03.134Z"
   },
   {
    "duration": 86,
    "start_time": "2025-04-06T18:53:03.249Z"
   },
   {
    "duration": 36,
    "start_time": "2025-04-06T18:53:03.337Z"
   },
   {
    "duration": 68,
    "start_time": "2025-04-06T18:53:03.375Z"
   },
   {
    "duration": 8,
    "start_time": "2025-04-06T18:53:03.445Z"
   },
   {
    "duration": 2547,
    "start_time": "2025-04-06T18:53:03.455Z"
   },
   {
    "duration": 2027,
    "start_time": "2025-04-06T18:53:06.006Z"
   },
   {
    "duration": 511,
    "start_time": "2025-04-06T18:53:08.037Z"
   },
   {
    "duration": 1109,
    "start_time": "2025-04-06T18:53:08.549Z"
   },
   {
    "duration": 58,
    "start_time": "2025-04-06T18:53:09.660Z"
   },
   {
    "duration": 11483,
    "start_time": "2025-04-06T18:53:09.720Z"
   },
   {
    "duration": 66,
    "start_time": "2025-04-06T18:53:21.205Z"
   },
   {
    "duration": 50,
    "start_time": "2025-04-06T18:53:21.273Z"
   },
   {
    "duration": 135,
    "start_time": "2025-04-06T18:53:21.337Z"
   },
   {
    "duration": 55,
    "start_time": "2025-04-06T18:53:21.474Z"
   },
   {
    "duration": 49,
    "start_time": "2025-04-06T18:53:21.531Z"
   },
   {
    "duration": 31,
    "start_time": "2025-04-06T18:53:21.582Z"
   },
   {
    "duration": 7,
    "start_time": "2025-04-06T18:53:21.637Z"
   },
   {
    "duration": 8,
    "start_time": "2025-04-06T18:53:21.646Z"
   },
   {
    "duration": 145,
    "start_time": "2025-04-06T18:53:21.655Z"
   },
   {
    "duration": 0,
    "start_time": "2025-04-06T18:53:21.802Z"
   },
   {
    "duration": 8,
    "start_time": "2025-04-06T18:57:09.851Z"
   },
   {
    "duration": 21,
    "start_time": "2025-04-06T18:57:48.289Z"
   },
   {
    "duration": 132,
    "start_time": "2025-04-06T18:58:54.719Z"
   },
   {
    "duration": 4,
    "start_time": "2025-04-06T19:00:22.044Z"
   },
   {
    "duration": 4,
    "start_time": "2025-04-06T19:00:31.329Z"
   },
   {
    "duration": 2830,
    "start_time": "2025-04-06T19:01:03.918Z"
   },
   {
    "duration": 3673,
    "start_time": "2025-04-06T19:01:06.750Z"
   },
   {
    "duration": 3130,
    "start_time": "2025-04-06T19:01:10.425Z"
   },
   {
    "duration": 3,
    "start_time": "2025-04-06T19:01:13.557Z"
   },
   {
    "duration": 1537,
    "start_time": "2025-04-06T19:01:13.562Z"
   },
   {
    "duration": 69,
    "start_time": "2025-04-06T19:01:15.101Z"
   },
   {
    "duration": 7,
    "start_time": "2025-04-06T19:01:15.172Z"
   },
   {
    "duration": 178,
    "start_time": "2025-04-06T19:01:15.181Z"
   },
   {
    "duration": 51,
    "start_time": "2025-04-06T19:01:15.361Z"
   },
   {
    "duration": 9,
    "start_time": "2025-04-06T19:01:15.437Z"
   },
   {
    "duration": 49,
    "start_time": "2025-04-06T19:01:15.448Z"
   },
   {
    "duration": 7,
    "start_time": "2025-04-06T19:01:15.498Z"
   },
   {
    "duration": 2564,
    "start_time": "2025-04-06T19:01:15.507Z"
   },
   {
    "duration": 2098,
    "start_time": "2025-04-06T19:01:18.074Z"
   },
   {
    "duration": 522,
    "start_time": "2025-04-06T19:01:20.174Z"
   },
   {
    "duration": 1163,
    "start_time": "2025-04-06T19:01:20.699Z"
   },
   {
    "duration": 62,
    "start_time": "2025-04-06T19:01:21.865Z"
   },
   {
    "duration": 11682,
    "start_time": "2025-04-06T19:01:21.929Z"
   },
   {
    "duration": 59,
    "start_time": "2025-04-06T19:01:33.612Z"
   },
   {
    "duration": 85,
    "start_time": "2025-04-06T19:01:33.672Z"
   },
   {
    "duration": 64,
    "start_time": "2025-04-06T19:01:33.759Z"
   },
   {
    "duration": 57,
    "start_time": "2025-04-06T19:01:33.825Z"
   },
   {
    "duration": 63,
    "start_time": "2025-04-06T19:01:33.884Z"
   },
   {
    "duration": 33,
    "start_time": "2025-04-06T19:01:33.949Z"
   },
   {
    "duration": 31,
    "start_time": "2025-04-06T19:01:33.984Z"
   },
   {
    "duration": 48,
    "start_time": "2025-04-06T19:01:34.016Z"
   },
   {
    "duration": 174,
    "start_time": "2025-04-06T19:01:34.065Z"
   },
   {
    "duration": 4,
    "start_time": "2025-04-06T19:01:34.243Z"
   },
   {
    "duration": 761,
    "start_time": "2025-04-06T19:02:52.638Z"
   },
   {
    "duration": 4,
    "start_time": "2025-04-06T19:14:21.916Z"
   },
   {
    "duration": 761,
    "start_time": "2025-04-06T19:14:27.909Z"
   },
   {
    "duration": 4,
    "start_time": "2025-04-06T19:14:48.733Z"
   },
   {
    "duration": 662,
    "start_time": "2025-04-06T19:14:49.482Z"
   },
   {
    "duration": 4,
    "start_time": "2025-04-06T19:15:03.153Z"
   },
   {
    "duration": 665,
    "start_time": "2025-04-06T19:15:03.337Z"
   },
   {
    "duration": 5,
    "start_time": "2025-04-06T19:17:25.315Z"
   },
   {
    "duration": 766,
    "start_time": "2025-04-06T19:17:25.534Z"
   },
   {
    "duration": 4,
    "start_time": "2025-04-06T19:17:42.203Z"
   },
   {
    "duration": 665,
    "start_time": "2025-04-06T19:17:44.274Z"
   },
   {
    "duration": 128,
    "start_time": "2025-04-06T19:18:27.968Z"
   },
   {
    "duration": 384,
    "start_time": "2025-04-06T19:18:57.968Z"
   },
   {
    "duration": 39,
    "start_time": "2025-04-06T20:32:50.054Z"
   },
   {
    "duration": 6,
    "start_time": "2025-04-06T20:33:42.449Z"
   },
   {
    "duration": 191,
    "start_time": "2025-04-06T20:35:31.006Z"
   },
   {
    "duration": 261,
    "start_time": "2025-04-06T20:36:55.663Z"
   },
   {
    "duration": 375,
    "start_time": "2025-04-06T20:38:22.993Z"
   },
   {
    "duration": 267,
    "start_time": "2025-04-06T20:38:48.981Z"
   },
   {
    "duration": 3454,
    "start_time": "2025-04-07T05:16:27.814Z"
   },
   {
    "duration": 7078,
    "start_time": "2025-04-07T05:16:31.271Z"
   },
   {
    "duration": 3415,
    "start_time": "2025-04-07T05:16:38.351Z"
   },
   {
    "duration": 2,
    "start_time": "2025-04-07T05:16:41.769Z"
   },
   {
    "duration": 1742,
    "start_time": "2025-04-07T05:16:41.775Z"
   },
   {
    "duration": 77,
    "start_time": "2025-04-07T05:16:43.520Z"
   },
   {
    "duration": 8,
    "start_time": "2025-04-07T05:16:43.599Z"
   },
   {
    "duration": 126,
    "start_time": "2025-04-07T05:16:43.609Z"
   },
   {
    "duration": 48,
    "start_time": "2025-04-07T05:16:43.737Z"
   },
   {
    "duration": 9,
    "start_time": "2025-04-07T05:16:43.787Z"
   },
   {
    "duration": 63,
    "start_time": "2025-04-07T05:16:43.798Z"
   },
   {
    "duration": 8,
    "start_time": "2025-04-07T05:16:43.863Z"
   },
   {
    "duration": 2502,
    "start_time": "2025-04-07T05:16:43.873Z"
   },
   {
    "duration": 2100,
    "start_time": "2025-04-07T05:16:46.379Z"
   },
   {
    "duration": 502,
    "start_time": "2025-04-07T05:16:48.481Z"
   },
   {
    "duration": 1121,
    "start_time": "2025-04-07T05:16:48.985Z"
   },
   {
    "duration": 59,
    "start_time": "2025-04-07T05:16:50.108Z"
   },
   {
    "duration": 11395,
    "start_time": "2025-04-07T05:16:50.169Z"
   },
   {
    "duration": 64,
    "start_time": "2025-04-07T05:17:01.567Z"
   },
   {
    "duration": 67,
    "start_time": "2025-04-07T05:17:01.633Z"
   },
   {
    "duration": 63,
    "start_time": "2025-04-07T05:17:01.702Z"
   },
   {
    "duration": 60,
    "start_time": "2025-04-07T05:17:01.766Z"
   },
   {
    "duration": 74,
    "start_time": "2025-04-07T05:17:01.827Z"
   },
   {
    "duration": 30,
    "start_time": "2025-04-07T05:17:01.903Z"
   },
   {
    "duration": 51,
    "start_time": "2025-04-07T05:17:01.934Z"
   },
   {
    "duration": 38,
    "start_time": "2025-04-07T05:17:01.987Z"
   },
   {
    "duration": 169,
    "start_time": "2025-04-07T05:17:02.027Z"
   },
   {
    "duration": 5,
    "start_time": "2025-04-07T05:17:02.198Z"
   },
   {
    "duration": 738,
    "start_time": "2025-04-07T05:17:02.204Z"
   },
   {
    "duration": 532,
    "start_time": "2025-04-07T05:17:02.945Z"
   },
   {
    "duration": 290,
    "start_time": "2025-04-07T05:17:03.479Z"
   },
   {
    "duration": 94,
    "start_time": "2025-04-07T05:17:03.770Z"
   },
   {
    "duration": 110,
    "start_time": "2025-04-07T05:19:17.057Z"
   },
   {
    "duration": 82,
    "start_time": "2025-04-07T05:20:02.291Z"
   },
   {
    "duration": 54,
    "start_time": "2025-04-07T05:21:17.226Z"
   },
   {
    "duration": 58,
    "start_time": "2025-04-07T05:21:31.317Z"
   },
   {
    "duration": 362,
    "start_time": "2025-04-07T05:22:59.535Z"
   },
   {
    "duration": 329,
    "start_time": "2025-04-07T05:23:16.450Z"
   },
   {
    "duration": 109,
    "start_time": "2025-04-07T05:23:35.660Z"
   },
   {
    "duration": 344,
    "start_time": "2025-04-07T05:23:51.417Z"
   },
   {
    "duration": 152,
    "start_time": "2025-04-07T05:25:27.611Z"
   },
   {
    "duration": 215,
    "start_time": "2025-04-07T05:25:49.067Z"
   },
   {
    "duration": 3509,
    "start_time": "2025-04-07T05:26:39.582Z"
   },
   {
    "duration": 3249,
    "start_time": "2025-04-07T05:26:43.094Z"
   },
   {
    "duration": 2628,
    "start_time": "2025-04-07T05:26:46.346Z"
   },
   {
    "duration": 2,
    "start_time": "2025-04-07T05:26:48.977Z"
   },
   {
    "duration": 1403,
    "start_time": "2025-04-07T05:26:48.982Z"
   },
   {
    "duration": 66,
    "start_time": "2025-04-07T05:26:50.387Z"
   },
   {
    "duration": 7,
    "start_time": "2025-04-07T05:26:50.455Z"
   },
   {
    "duration": 101,
    "start_time": "2025-04-07T05:26:50.464Z"
   },
   {
    "duration": 49,
    "start_time": "2025-04-07T05:26:50.568Z"
   },
   {
    "duration": 9,
    "start_time": "2025-04-07T05:26:50.619Z"
   },
   {
    "duration": 61,
    "start_time": "2025-04-07T05:26:50.630Z"
   },
   {
    "duration": 8,
    "start_time": "2025-04-07T05:26:50.693Z"
   },
   {
    "duration": 2452,
    "start_time": "2025-04-07T05:26:50.703Z"
   },
   {
    "duration": 1996,
    "start_time": "2025-04-07T05:26:53.162Z"
   },
   {
    "duration": 512,
    "start_time": "2025-04-07T05:26:55.160Z"
   },
   {
    "duration": 1250,
    "start_time": "2025-04-07T05:26:55.675Z"
   },
   {
    "duration": 58,
    "start_time": "2025-04-07T05:26:56.927Z"
   },
   {
    "duration": 11193,
    "start_time": "2025-04-07T05:26:56.987Z"
   },
   {
    "duration": 52,
    "start_time": "2025-04-07T05:27:08.183Z"
   },
   {
    "duration": 66,
    "start_time": "2025-04-07T05:27:08.237Z"
   },
   {
    "duration": 62,
    "start_time": "2025-04-07T05:27:08.305Z"
   },
   {
    "duration": 54,
    "start_time": "2025-04-07T05:27:08.369Z"
   },
   {
    "duration": 66,
    "start_time": "2025-04-07T05:27:08.425Z"
   },
   {
    "duration": 30,
    "start_time": "2025-04-07T05:27:08.493Z"
   },
   {
    "duration": 69,
    "start_time": "2025-04-07T05:27:08.525Z"
   },
   {
    "duration": 62,
    "start_time": "2025-04-07T05:27:08.595Z"
   },
   {
    "duration": 115,
    "start_time": "2025-04-07T05:27:08.659Z"
   },
   {
    "duration": 5,
    "start_time": "2025-04-07T05:27:08.776Z"
   },
   {
    "duration": 660,
    "start_time": "2025-04-07T05:27:08.783Z"
   },
   {
    "duration": 392,
    "start_time": "2025-04-07T05:27:09.445Z"
   },
   {
    "duration": 393,
    "start_time": "2025-04-07T05:27:09.839Z"
   },
   {
    "duration": 229,
    "start_time": "2025-04-07T05:27:10.234Z"
   },
   {
    "duration": 309,
    "start_time": "2025-04-07T05:28:28.596Z"
   },
   {
    "duration": 67,
    "start_time": "2025-04-07T05:28:54.000Z"
   },
   {
    "duration": 312,
    "start_time": "2025-04-07T05:29:10.556Z"
   },
   {
    "duration": 82,
    "start_time": "2025-04-07T05:29:39.633Z"
   },
   {
    "duration": 226,
    "start_time": "2025-04-07T05:29:50.449Z"
   },
   {
    "duration": 2618,
    "start_time": "2025-04-07T05:30:43.571Z"
   },
   {
    "duration": 3166,
    "start_time": "2025-04-07T05:30:46.192Z"
   },
   {
    "duration": 2509,
    "start_time": "2025-04-07T05:30:49.359Z"
   },
   {
    "duration": 3,
    "start_time": "2025-04-07T05:30:51.870Z"
   },
   {
    "duration": 1493,
    "start_time": "2025-04-07T05:30:51.876Z"
   },
   {
    "duration": 65,
    "start_time": "2025-04-07T05:30:53.371Z"
   },
   {
    "duration": 7,
    "start_time": "2025-04-07T05:30:53.438Z"
   },
   {
    "duration": 90,
    "start_time": "2025-04-07T05:30:53.447Z"
   },
   {
    "duration": 46,
    "start_time": "2025-04-07T05:30:53.539Z"
   },
   {
    "duration": 9,
    "start_time": "2025-04-07T05:30:53.587Z"
   },
   {
    "duration": 40,
    "start_time": "2025-04-07T05:30:53.597Z"
   },
   {
    "duration": 26,
    "start_time": "2025-04-07T05:30:53.639Z"
   },
   {
    "duration": 2508,
    "start_time": "2025-04-07T05:30:53.668Z"
   },
   {
    "duration": 2154,
    "start_time": "2025-04-07T05:30:56.179Z"
   },
   {
    "duration": 532,
    "start_time": "2025-04-07T05:30:58.335Z"
   },
   {
    "duration": 1089,
    "start_time": "2025-04-07T05:30:58.868Z"
   },
   {
    "duration": 56,
    "start_time": "2025-04-07T05:30:59.960Z"
   },
   {
    "duration": 11583,
    "start_time": "2025-04-07T05:31:00.018Z"
   },
   {
    "duration": 60,
    "start_time": "2025-04-07T05:31:11.602Z"
   },
   {
    "duration": 48,
    "start_time": "2025-04-07T05:31:11.663Z"
   },
   {
    "duration": 74,
    "start_time": "2025-04-07T05:31:11.712Z"
   },
   {
    "duration": 55,
    "start_time": "2025-04-07T05:31:11.788Z"
   },
   {
    "duration": 46,
    "start_time": "2025-04-07T05:31:11.844Z"
   },
   {
    "duration": 30,
    "start_time": "2025-04-07T05:31:11.892Z"
   },
   {
    "duration": 6,
    "start_time": "2025-04-07T05:31:11.923Z"
   },
   {
    "duration": 38,
    "start_time": "2025-04-07T05:31:11.931Z"
   },
   {
    "duration": 118,
    "start_time": "2025-04-07T05:31:11.971Z"
   },
   {
    "duration": 5,
    "start_time": "2025-04-07T05:31:12.091Z"
   },
   {
    "duration": 675,
    "start_time": "2025-04-07T05:31:12.098Z"
   },
   {
    "duration": 440,
    "start_time": "2025-04-07T05:31:12.776Z"
   },
   {
    "duration": 401,
    "start_time": "2025-04-07T05:31:13.217Z"
   },
   {
    "duration": 345,
    "start_time": "2025-04-07T05:31:13.620Z"
   },
   {
    "duration": 133,
    "start_time": "2025-04-07T05:36:20.737Z"
   },
   {
    "duration": 271,
    "start_time": "2025-04-07T05:37:23.999Z"
   },
   {
    "duration": 8,
    "start_time": "2025-04-07T05:37:56.063Z"
   },
   {
    "duration": 2846,
    "start_time": "2025-04-07T05:41:46.625Z"
   },
   {
    "duration": 3535,
    "start_time": "2025-04-07T05:41:49.477Z"
   },
   {
    "duration": 2781,
    "start_time": "2025-04-07T05:41:53.014Z"
   },
   {
    "duration": 3,
    "start_time": "2025-04-07T05:41:55.797Z"
   },
   {
    "duration": 1510,
    "start_time": "2025-04-07T05:41:55.802Z"
   },
   {
    "duration": 67,
    "start_time": "2025-04-07T05:41:57.313Z"
   },
   {
    "duration": 8,
    "start_time": "2025-04-07T05:41:57.382Z"
   },
   {
    "duration": 97,
    "start_time": "2025-04-07T05:41:57.392Z"
   },
   {
    "duration": 80,
    "start_time": "2025-04-07T05:41:57.491Z"
   },
   {
    "duration": 53,
    "start_time": "2025-04-07T05:41:57.573Z"
   },
   {
    "duration": 149,
    "start_time": "2025-04-07T05:41:57.628Z"
   },
   {
    "duration": 8,
    "start_time": "2025-04-07T05:41:57.778Z"
   },
   {
    "duration": 2605,
    "start_time": "2025-04-07T05:41:57.787Z"
   },
   {
    "duration": 2161,
    "start_time": "2025-04-07T05:42:00.395Z"
   },
   {
    "duration": 535,
    "start_time": "2025-04-07T05:42:02.561Z"
   },
   {
    "duration": 1160,
    "start_time": "2025-04-07T05:42:03.098Z"
   },
   {
    "duration": 60,
    "start_time": "2025-04-07T05:42:04.260Z"
   },
   {
    "duration": 11888,
    "start_time": "2025-04-07T05:42:04.322Z"
   },
   {
    "duration": 67,
    "start_time": "2025-04-07T05:42:16.212Z"
   },
   {
    "duration": 48,
    "start_time": "2025-04-07T05:42:16.281Z"
   },
   {
    "duration": 50,
    "start_time": "2025-04-07T05:42:16.330Z"
   },
   {
    "duration": 56,
    "start_time": "2025-04-07T05:42:16.382Z"
   },
   {
    "duration": 61,
    "start_time": "2025-04-07T05:42:16.440Z"
   },
   {
    "duration": 29,
    "start_time": "2025-04-07T05:42:16.503Z"
   },
   {
    "duration": 6,
    "start_time": "2025-04-07T05:42:16.534Z"
   },
   {
    "duration": 13,
    "start_time": "2025-04-07T05:42:16.565Z"
   },
   {
    "duration": 156,
    "start_time": "2025-04-07T05:42:16.579Z"
   },
   {
    "duration": 7,
    "start_time": "2025-04-07T05:42:16.738Z"
   },
   {
    "duration": 704,
    "start_time": "2025-04-07T05:42:16.747Z"
   },
   {
    "duration": 453,
    "start_time": "2025-04-07T05:42:17.453Z"
   },
   {
    "duration": 404,
    "start_time": "2025-04-07T05:42:17.908Z"
   },
   {
    "duration": 256,
    "start_time": "2025-04-07T05:42:18.313Z"
   },
   {
    "duration": 93,
    "start_time": "2025-04-07T05:42:18.571Z"
   },
   {
    "duration": 290,
    "start_time": "2025-04-07T05:43:15.873Z"
   },
   {
    "duration": 58,
    "start_time": "2025-04-07T05:48:47.565Z"
   },
   {
    "duration": 59,
    "start_time": "2025-04-07T05:56:23.733Z"
   },
   {
    "duration": 10486,
    "start_time": "2025-04-07T06:06:51.612Z"
   },
   {
    "duration": 2722,
    "start_time": "2025-04-07T06:08:17.397Z"
   },
   {
    "duration": 3251,
    "start_time": "2025-04-07T06:08:20.122Z"
   },
   {
    "duration": 2651,
    "start_time": "2025-04-07T06:08:23.375Z"
   },
   {
    "duration": 3,
    "start_time": "2025-04-07T06:08:26.028Z"
   },
   {
    "duration": 1622,
    "start_time": "2025-04-07T06:08:26.034Z"
   },
   {
    "duration": 65,
    "start_time": "2025-04-07T06:08:27.658Z"
   },
   {
    "duration": 8,
    "start_time": "2025-04-07T06:08:27.725Z"
   },
   {
    "duration": 92,
    "start_time": "2025-04-07T06:08:27.735Z"
   },
   {
    "duration": 57,
    "start_time": "2025-04-07T06:08:27.829Z"
   },
   {
    "duration": 13,
    "start_time": "2025-04-07T06:08:27.888Z"
   },
   {
    "duration": 52,
    "start_time": "2025-04-07T06:08:27.902Z"
   },
   {
    "duration": 6,
    "start_time": "2025-04-07T06:08:27.956Z"
   },
   {
    "duration": 2514,
    "start_time": "2025-04-07T06:08:27.964Z"
   },
   {
    "duration": 2089,
    "start_time": "2025-04-07T06:08:30.481Z"
   },
   {
    "duration": 517,
    "start_time": "2025-04-07T06:08:32.572Z"
   },
   {
    "duration": 1109,
    "start_time": "2025-04-07T06:08:33.091Z"
   },
   {
    "duration": 72,
    "start_time": "2025-04-07T06:08:34.202Z"
   },
   {
    "duration": 11881,
    "start_time": "2025-04-07T06:08:34.276Z"
   },
   {
    "duration": 52,
    "start_time": "2025-04-07T06:08:46.160Z"
   },
   {
    "duration": 68,
    "start_time": "2025-04-07T06:08:46.214Z"
   },
   {
    "duration": 46,
    "start_time": "2025-04-07T06:08:46.284Z"
   },
   {
    "duration": 59,
    "start_time": "2025-04-07T06:08:46.332Z"
   },
   {
    "duration": 47,
    "start_time": "2025-04-07T06:08:46.392Z"
   },
   {
    "duration": 43,
    "start_time": "2025-04-07T06:08:46.441Z"
   },
   {
    "duration": 6,
    "start_time": "2025-04-07T06:08:46.486Z"
   },
   {
    "duration": 17,
    "start_time": "2025-04-07T06:08:46.494Z"
   },
   {
    "duration": 130,
    "start_time": "2025-04-07T06:08:46.512Z"
   },
   {
    "duration": 6,
    "start_time": "2025-04-07T06:08:46.644Z"
   },
   {
    "duration": 710,
    "start_time": "2025-04-07T06:08:46.651Z"
   },
   {
    "duration": 445,
    "start_time": "2025-04-07T06:08:47.362Z"
   },
   {
    "duration": 392,
    "start_time": "2025-04-07T06:08:47.809Z"
   },
   {
    "duration": 68,
    "start_time": "2025-04-07T06:08:48.203Z"
   },
   {
    "duration": 58,
    "start_time": "2025-04-07T06:08:48.273Z"
   },
   {
    "duration": 9738,
    "start_time": "2025-04-07T06:08:48.343Z"
   },
   {
    "duration": 4,
    "start_time": "2025-04-07T06:12:02.577Z"
   },
   {
    "duration": 22,
    "start_time": "2025-04-07T06:13:53.369Z"
   },
   {
    "duration": 65,
    "start_time": "2025-04-07T06:17:19.118Z"
   },
   {
    "duration": 15,
    "start_time": "2025-04-07T06:17:21.646Z"
   },
   {
    "duration": 5,
    "start_time": "2025-04-07T06:17:36.876Z"
   },
   {
    "duration": 22,
    "start_time": "2025-04-07T06:17:43.813Z"
   },
   {
    "duration": 14666,
    "start_time": "2025-04-07T06:18:17.437Z"
   },
   {
    "duration": 15,
    "start_time": "2025-04-07T06:25:15.141Z"
   },
   {
    "duration": 13949,
    "start_time": "2025-04-07T06:25:57.724Z"
   },
   {
    "duration": 13928,
    "start_time": "2025-04-07T06:29:25.026Z"
   },
   {
    "duration": 2706,
    "start_time": "2025-04-07T06:30:02.606Z"
   },
   {
    "duration": 3448,
    "start_time": "2025-04-07T06:30:05.315Z"
   },
   {
    "duration": 2660,
    "start_time": "2025-04-07T06:30:08.765Z"
   },
   {
    "duration": 3,
    "start_time": "2025-04-07T06:30:11.428Z"
   },
   {
    "duration": 1515,
    "start_time": "2025-04-07T06:30:11.434Z"
   },
   {
    "duration": 78,
    "start_time": "2025-04-07T06:30:12.950Z"
   },
   {
    "duration": 12,
    "start_time": "2025-04-07T06:30:13.031Z"
   },
   {
    "duration": 135,
    "start_time": "2025-04-07T06:30:13.045Z"
   },
   {
    "duration": 51,
    "start_time": "2025-04-07T06:30:13.182Z"
   },
   {
    "duration": 32,
    "start_time": "2025-04-07T06:30:13.235Z"
   },
   {
    "duration": 44,
    "start_time": "2025-04-07T06:30:13.269Z"
   },
   {
    "duration": 8,
    "start_time": "2025-04-07T06:30:13.314Z"
   },
   {
    "duration": 2558,
    "start_time": "2025-04-07T06:30:13.324Z"
   },
   {
    "duration": 2202,
    "start_time": "2025-04-07T06:30:15.885Z"
   },
   {
    "duration": 516,
    "start_time": "2025-04-07T06:30:18.089Z"
   },
   {
    "duration": 1096,
    "start_time": "2025-04-07T06:30:18.607Z"
   },
   {
    "duration": 69,
    "start_time": "2025-04-07T06:30:19.705Z"
   },
   {
    "duration": 9108,
    "start_time": "2025-04-07T06:30:19.776Z"
   },
   {
    "duration": 0,
    "start_time": "2025-04-07T06:30:28.885Z"
   },
   {
    "duration": 0,
    "start_time": "2025-04-07T06:30:28.887Z"
   },
   {
    "duration": 0,
    "start_time": "2025-04-07T06:30:28.888Z"
   },
   {
    "duration": 0,
    "start_time": "2025-04-07T06:30:28.889Z"
   },
   {
    "duration": 0,
    "start_time": "2025-04-07T06:30:28.890Z"
   },
   {
    "duration": 0,
    "start_time": "2025-04-07T06:30:28.891Z"
   },
   {
    "duration": 0,
    "start_time": "2025-04-07T06:30:28.893Z"
   },
   {
    "duration": 0,
    "start_time": "2025-04-07T06:30:28.894Z"
   },
   {
    "duration": 0,
    "start_time": "2025-04-07T06:30:28.895Z"
   },
   {
    "duration": 0,
    "start_time": "2025-04-07T06:30:28.896Z"
   },
   {
    "duration": 0,
    "start_time": "2025-04-07T06:30:28.897Z"
   },
   {
    "duration": 0,
    "start_time": "2025-04-07T06:30:28.898Z"
   },
   {
    "duration": 0,
    "start_time": "2025-04-07T06:30:28.899Z"
   },
   {
    "duration": 0,
    "start_time": "2025-04-07T06:30:28.900Z"
   },
   {
    "duration": 0,
    "start_time": "2025-04-07T06:30:28.901Z"
   },
   {
    "duration": 0,
    "start_time": "2025-04-07T06:30:28.902Z"
   },
   {
    "duration": 0,
    "start_time": "2025-04-07T06:30:28.903Z"
   },
   {
    "duration": 31,
    "start_time": "2025-04-07T06:31:51.407Z"
   },
   {
    "duration": 2658,
    "start_time": "2025-04-07T06:32:07.942Z"
   },
   {
    "duration": 3313,
    "start_time": "2025-04-07T06:32:10.604Z"
   },
   {
    "duration": 2696,
    "start_time": "2025-04-07T06:32:13.919Z"
   },
   {
    "duration": 3,
    "start_time": "2025-04-07T06:32:16.618Z"
   },
   {
    "duration": 1608,
    "start_time": "2025-04-07T06:32:16.622Z"
   },
   {
    "duration": 66,
    "start_time": "2025-04-07T06:32:18.232Z"
   },
   {
    "duration": 8,
    "start_time": "2025-04-07T06:32:18.300Z"
   },
   {
    "duration": 100,
    "start_time": "2025-04-07T06:32:18.309Z"
   },
   {
    "duration": 71,
    "start_time": "2025-04-07T06:32:18.411Z"
   },
   {
    "duration": 12,
    "start_time": "2025-04-07T06:32:18.486Z"
   },
   {
    "duration": 61,
    "start_time": "2025-04-07T06:32:18.500Z"
   },
   {
    "duration": 11,
    "start_time": "2025-04-07T06:32:18.563Z"
   },
   {
    "duration": 2516,
    "start_time": "2025-04-07T06:32:18.576Z"
   },
   {
    "duration": 2133,
    "start_time": "2025-04-07T06:32:21.094Z"
   },
   {
    "duration": 543,
    "start_time": "2025-04-07T06:32:23.228Z"
   },
   {
    "duration": 1140,
    "start_time": "2025-04-07T06:32:23.774Z"
   },
   {
    "duration": 71,
    "start_time": "2025-04-07T06:32:24.917Z"
   },
   {
    "duration": 158,
    "start_time": "2025-04-07T06:32:24.990Z"
   },
   {
    "duration": 0,
    "start_time": "2025-04-07T06:32:25.151Z"
   },
   {
    "duration": 0,
    "start_time": "2025-04-07T06:32:25.153Z"
   },
   {
    "duration": 0,
    "start_time": "2025-04-07T06:32:25.161Z"
   },
   {
    "duration": 0,
    "start_time": "2025-04-07T06:32:25.163Z"
   },
   {
    "duration": 0,
    "start_time": "2025-04-07T06:32:25.165Z"
   },
   {
    "duration": 0,
    "start_time": "2025-04-07T06:32:25.166Z"
   },
   {
    "duration": 0,
    "start_time": "2025-04-07T06:32:25.168Z"
   },
   {
    "duration": 0,
    "start_time": "2025-04-07T06:32:25.169Z"
   },
   {
    "duration": 0,
    "start_time": "2025-04-07T06:32:25.171Z"
   },
   {
    "duration": 0,
    "start_time": "2025-04-07T06:32:25.172Z"
   },
   {
    "duration": 0,
    "start_time": "2025-04-07T06:32:25.174Z"
   },
   {
    "duration": 0,
    "start_time": "2025-04-07T06:32:25.176Z"
   },
   {
    "duration": 0,
    "start_time": "2025-04-07T06:32:25.177Z"
   },
   {
    "duration": 0,
    "start_time": "2025-04-07T06:32:25.178Z"
   },
   {
    "duration": 0,
    "start_time": "2025-04-07T06:32:25.180Z"
   },
   {
    "duration": 0,
    "start_time": "2025-04-07T06:32:25.181Z"
   },
   {
    "duration": 0,
    "start_time": "2025-04-07T06:32:25.182Z"
   },
   {
    "duration": 11882,
    "start_time": "2025-04-07T06:34:04.359Z"
   },
   {
    "duration": 2557,
    "start_time": "2025-04-07T06:36:09.094Z"
   },
   {
    "duration": 3187,
    "start_time": "2025-04-07T06:36:11.655Z"
   },
   {
    "duration": 2704,
    "start_time": "2025-04-07T06:36:14.844Z"
   },
   {
    "duration": 2,
    "start_time": "2025-04-07T06:36:17.551Z"
   },
   {
    "duration": 1444,
    "start_time": "2025-04-07T06:36:17.555Z"
   },
   {
    "duration": 66,
    "start_time": "2025-04-07T06:36:19.001Z"
   },
   {
    "duration": 7,
    "start_time": "2025-04-07T06:36:19.069Z"
   },
   {
    "duration": 213,
    "start_time": "2025-04-07T06:36:19.077Z"
   },
   {
    "duration": 46,
    "start_time": "2025-04-07T06:36:19.292Z"
   },
   {
    "duration": 23,
    "start_time": "2025-04-07T06:36:19.340Z"
   },
   {
    "duration": 47,
    "start_time": "2025-04-07T06:36:19.365Z"
   },
   {
    "duration": 7,
    "start_time": "2025-04-07T06:36:19.413Z"
   },
   {
    "duration": 2334,
    "start_time": "2025-04-07T06:36:19.422Z"
   },
   {
    "duration": 1915,
    "start_time": "2025-04-07T06:36:21.760Z"
   },
   {
    "duration": 494,
    "start_time": "2025-04-07T06:36:23.677Z"
   },
   {
    "duration": 1021,
    "start_time": "2025-04-07T06:36:24.173Z"
   },
   {
    "duration": 71,
    "start_time": "2025-04-07T06:36:25.196Z"
   },
   {
    "duration": 10966,
    "start_time": "2025-04-07T06:36:25.269Z"
   },
   {
    "duration": 62,
    "start_time": "2025-04-07T06:36:36.237Z"
   },
   {
    "duration": 47,
    "start_time": "2025-04-07T06:36:36.300Z"
   },
   {
    "duration": 47,
    "start_time": "2025-04-07T06:36:36.349Z"
   },
   {
    "duration": 54,
    "start_time": "2025-04-07T06:36:36.398Z"
   },
   {
    "duration": 48,
    "start_time": "2025-04-07T06:36:36.454Z"
   },
   {
    "duration": 29,
    "start_time": "2025-04-07T06:36:36.504Z"
   },
   {
    "duration": 66,
    "start_time": "2025-04-07T06:36:36.535Z"
   },
   {
    "duration": 57,
    "start_time": "2025-04-07T06:36:36.603Z"
   },
   {
    "duration": 155,
    "start_time": "2025-04-07T06:36:36.662Z"
   },
   {
    "duration": 5,
    "start_time": "2025-04-07T06:36:36.819Z"
   },
   {
    "duration": 729,
    "start_time": "2025-04-07T06:36:36.826Z"
   },
   {
    "duration": 394,
    "start_time": "2025-04-07T06:36:37.560Z"
   },
   {
    "duration": 386,
    "start_time": "2025-04-07T06:36:37.960Z"
   },
   {
    "duration": 65,
    "start_time": "2025-04-07T06:36:38.348Z"
   },
   {
    "duration": 71,
    "start_time": "2025-04-07T06:36:38.414Z"
   },
   {
    "duration": 4,
    "start_time": "2025-04-07T06:36:38.486Z"
   },
   {
    "duration": 14423,
    "start_time": "2025-04-07T06:36:38.491Z"
   },
   {
    "duration": 2799,
    "start_time": "2025-04-07T07:04:46.877Z"
   },
   {
    "duration": 3421,
    "start_time": "2025-04-07T07:04:49.678Z"
   },
   {
    "duration": 2582,
    "start_time": "2025-04-07T07:04:53.101Z"
   },
   {
    "duration": 2,
    "start_time": "2025-04-07T07:04:55.685Z"
   },
   {
    "duration": 1434,
    "start_time": "2025-04-07T07:04:55.689Z"
   },
   {
    "duration": 75,
    "start_time": "2025-04-07T07:04:57.125Z"
   },
   {
    "duration": 7,
    "start_time": "2025-04-07T07:04:57.202Z"
   },
   {
    "duration": 109,
    "start_time": "2025-04-07T07:04:57.210Z"
   },
   {
    "duration": 60,
    "start_time": "2025-04-07T07:04:57.320Z"
   },
   {
    "duration": 119,
    "start_time": "2025-04-07T07:04:57.381Z"
   },
   {
    "duration": 76,
    "start_time": "2025-04-07T07:04:57.502Z"
   },
   {
    "duration": 72,
    "start_time": "2025-04-07T07:04:57.579Z"
   },
   {
    "duration": 2442,
    "start_time": "2025-04-07T07:04:57.653Z"
   },
   {
    "duration": 2047,
    "start_time": "2025-04-07T07:05:00.098Z"
   },
   {
    "duration": 528,
    "start_time": "2025-04-07T07:05:02.147Z"
   },
   {
    "duration": 1062,
    "start_time": "2025-04-07T07:05:02.677Z"
   },
   {
    "duration": 64,
    "start_time": "2025-04-07T07:05:03.741Z"
   },
   {
    "duration": 10831,
    "start_time": "2025-04-07T07:05:03.807Z"
   },
   {
    "duration": 60,
    "start_time": "2025-04-07T07:05:14.640Z"
   },
   {
    "duration": 64,
    "start_time": "2025-04-07T07:05:14.702Z"
   },
   {
    "duration": 47,
    "start_time": "2025-04-07T07:05:14.768Z"
   },
   {
    "duration": 52,
    "start_time": "2025-04-07T07:05:14.817Z"
   },
   {
    "duration": 46,
    "start_time": "2025-04-07T07:05:14.871Z"
   },
   {
    "duration": 57,
    "start_time": "2025-04-07T07:05:14.919Z"
   },
   {
    "duration": 5,
    "start_time": "2025-04-07T07:05:14.978Z"
   },
   {
    "duration": 136,
    "start_time": "2025-04-07T07:05:14.985Z"
   },
   {
    "duration": 259,
    "start_time": "2025-04-07T07:05:15.123Z"
   },
   {
    "duration": 5,
    "start_time": "2025-04-07T07:05:15.384Z"
   },
   {
    "duration": 664,
    "start_time": "2025-04-07T07:05:15.390Z"
   },
   {
    "duration": 385,
    "start_time": "2025-04-07T07:05:16.060Z"
   },
   {
    "duration": 409,
    "start_time": "2025-04-07T07:05:16.446Z"
   },
   {
    "duration": 54,
    "start_time": "2025-04-07T07:05:16.861Z"
   },
   {
    "duration": 80,
    "start_time": "2025-04-07T07:05:16.917Z"
   },
   {
    "duration": 13580,
    "start_time": "2025-04-07T07:05:16.999Z"
   },
   {
    "duration": 10417,
    "start_time": "2025-04-07T10:00:12.623Z"
   },
   {
    "duration": 11,
    "start_time": "2025-04-07T10:00:34.502Z"
   },
   {
    "duration": 11,
    "start_time": "2025-04-07T10:00:39.702Z"
   },
   {
    "duration": 3350,
    "start_time": "2025-04-08T06:38:42.383Z"
   },
   {
    "duration": 6396,
    "start_time": "2025-04-08T06:38:45.736Z"
   },
   {
    "duration": 3075,
    "start_time": "2025-04-08T06:38:52.135Z"
   },
   {
    "duration": 2,
    "start_time": "2025-04-08T06:38:55.212Z"
   },
   {
    "duration": 1636,
    "start_time": "2025-04-08T06:38:55.217Z"
   },
   {
    "duration": 75,
    "start_time": "2025-04-08T06:38:56.855Z"
   },
   {
    "duration": 14,
    "start_time": "2025-04-08T06:38:56.932Z"
   },
   {
    "duration": 78,
    "start_time": "2025-04-08T06:38:56.948Z"
   },
   {
    "duration": 54,
    "start_time": "2025-04-08T06:38:57.027Z"
   },
   {
    "duration": 8,
    "start_time": "2025-04-08T06:38:57.082Z"
   },
   {
    "duration": 36,
    "start_time": "2025-04-08T06:38:57.092Z"
   },
   {
    "duration": 7,
    "start_time": "2025-04-08T06:38:57.129Z"
   },
   {
    "duration": 2409,
    "start_time": "2025-04-08T06:38:57.137Z"
   },
   {
    "duration": 1918,
    "start_time": "2025-04-08T06:38:59.549Z"
   },
   {
    "duration": 512,
    "start_time": "2025-04-08T06:39:01.469Z"
   },
   {
    "duration": 1122,
    "start_time": "2025-04-08T06:39:01.983Z"
   },
   {
    "duration": 53,
    "start_time": "2025-04-08T06:39:03.107Z"
   },
   {
    "duration": 11186,
    "start_time": "2025-04-08T06:39:03.162Z"
   },
   {
    "duration": 60,
    "start_time": "2025-04-08T06:39:14.350Z"
   },
   {
    "duration": 66,
    "start_time": "2025-04-08T06:39:14.411Z"
   },
   {
    "duration": 43,
    "start_time": "2025-04-08T06:39:14.479Z"
   },
   {
    "duration": 48,
    "start_time": "2025-04-08T06:39:14.524Z"
   },
   {
    "duration": 41,
    "start_time": "2025-04-08T06:39:14.574Z"
   },
   {
    "duration": 25,
    "start_time": "2025-04-08T06:39:14.617Z"
   },
   {
    "duration": 20,
    "start_time": "2025-04-08T06:39:14.643Z"
   },
   {
    "duration": 32,
    "start_time": "2025-04-08T06:39:14.665Z"
   },
   {
    "duration": 177,
    "start_time": "2025-04-08T06:39:14.699Z"
   },
   {
    "duration": 4,
    "start_time": "2025-04-08T06:39:14.878Z"
   },
   {
    "duration": 827,
    "start_time": "2025-04-08T06:39:14.883Z"
   },
   {
    "duration": 494,
    "start_time": "2025-04-08T06:39:15.712Z"
   },
   {
    "duration": 265,
    "start_time": "2025-04-08T06:39:16.207Z"
   },
   {
    "duration": 54,
    "start_time": "2025-04-08T06:39:16.475Z"
   },
   {
    "duration": 72,
    "start_time": "2025-04-08T06:39:16.530Z"
   },
   {
    "duration": 13177,
    "start_time": "2025-04-08T06:39:16.604Z"
   },
   {
    "duration": 10,
    "start_time": "2025-04-08T07:04:07.302Z"
   },
   {
    "duration": 10,
    "start_time": "2025-04-08T07:04:44.308Z"
   },
   {
    "duration": 8,
    "start_time": "2025-04-08T07:05:22.492Z"
   },
   {
    "duration": 8,
    "start_time": "2025-04-08T07:05:45.148Z"
   },
   {
    "duration": 9,
    "start_time": "2025-04-08T07:06:58.855Z"
   },
   {
    "duration": 7,
    "start_time": "2025-04-08T07:22:20.190Z"
   },
   {
    "duration": 3128,
    "start_time": "2025-04-08T07:22:21.531Z"
   },
   {
    "duration": 3273,
    "start_time": "2025-04-08T07:24:05.024Z"
   },
   {
    "duration": 1012,
    "start_time": "2025-04-08T07:26:03.290Z"
   },
   {
    "duration": 3664,
    "start_time": "2025-04-08T18:11:51.813Z"
   },
   {
    "duration": 7218,
    "start_time": "2025-04-08T18:11:55.481Z"
   },
   {
    "duration": 3630,
    "start_time": "2025-04-08T18:12:02.701Z"
   },
   {
    "duration": 3,
    "start_time": "2025-04-08T18:12:06.333Z"
   },
   {
    "duration": 1767,
    "start_time": "2025-04-08T18:12:06.338Z"
   },
   {
    "duration": 2,
    "start_time": "2025-04-08T18:12:08.107Z"
   },
   {
    "duration": 120,
    "start_time": "2025-04-08T18:12:08.111Z"
   },
   {
    "duration": 9,
    "start_time": "2025-04-08T18:12:08.233Z"
   },
   {
    "duration": 89,
    "start_time": "2025-04-08T18:12:08.244Z"
   },
   {
    "duration": 59,
    "start_time": "2025-04-08T18:12:08.335Z"
   },
   {
    "duration": 10,
    "start_time": "2025-04-08T18:12:08.396Z"
   },
   {
    "duration": 42,
    "start_time": "2025-04-08T18:12:08.408Z"
   },
   {
    "duration": 23,
    "start_time": "2025-04-08T18:12:08.451Z"
   },
   {
    "duration": 3274,
    "start_time": "2025-04-08T18:12:08.478Z"
   },
   {
    "duration": 2603,
    "start_time": "2025-04-08T18:12:11.754Z"
   },
   {
    "duration": 631,
    "start_time": "2025-04-08T18:12:14.364Z"
   },
   {
    "duration": 1163,
    "start_time": "2025-04-08T18:12:14.996Z"
   },
   {
    "duration": 64,
    "start_time": "2025-04-08T18:12:16.160Z"
   },
   {
    "duration": 11150,
    "start_time": "2025-04-08T18:12:16.226Z"
   },
   {
    "duration": 48,
    "start_time": "2025-04-08T18:12:27.385Z"
   },
   {
    "duration": 84,
    "start_time": "2025-04-08T18:12:27.435Z"
   },
   {
    "duration": 54,
    "start_time": "2025-04-08T18:12:27.520Z"
   },
   {
    "duration": 51,
    "start_time": "2025-04-08T18:12:27.578Z"
   },
   {
    "duration": 62,
    "start_time": "2025-04-08T18:12:27.631Z"
   },
   {
    "duration": 29,
    "start_time": "2025-04-08T18:12:27.695Z"
   },
   {
    "duration": 6,
    "start_time": "2025-04-08T18:12:27.725Z"
   },
   {
    "duration": 10,
    "start_time": "2025-04-08T18:12:27.732Z"
   },
   {
    "duration": 125,
    "start_time": "2025-04-08T18:12:27.761Z"
   },
   {
    "duration": 5,
    "start_time": "2025-04-08T18:12:27.887Z"
   },
   {
    "duration": 657,
    "start_time": "2025-04-08T18:12:27.893Z"
   },
   {
    "duration": 393,
    "start_time": "2025-04-08T18:12:28.551Z"
   },
   {
    "duration": 276,
    "start_time": "2025-04-08T18:12:28.946Z"
   },
   {
    "duration": 71,
    "start_time": "2025-04-08T18:12:29.224Z"
   },
   {
    "duration": 74,
    "start_time": "2025-04-08T18:12:29.296Z"
   },
   {
    "duration": 14643,
    "start_time": "2025-04-08T18:12:29.373Z"
   },
   {
    "duration": 2721,
    "start_time": "2025-04-08T18:12:54.588Z"
   },
   {
    "duration": 3374,
    "start_time": "2025-04-08T18:12:57.314Z"
   },
   {
    "duration": 2683,
    "start_time": "2025-04-08T18:13:00.690Z"
   },
   {
    "duration": 3,
    "start_time": "2025-04-08T18:13:03.378Z"
   },
   {
    "duration": 1516,
    "start_time": "2025-04-08T18:13:03.383Z"
   },
   {
    "duration": 2,
    "start_time": "2025-04-08T18:13:04.901Z"
   },
   {
    "duration": 110,
    "start_time": "2025-04-08T18:13:04.905Z"
   },
   {
    "duration": 10,
    "start_time": "2025-04-08T18:13:05.016Z"
   },
   {
    "duration": 174,
    "start_time": "2025-04-08T18:13:05.028Z"
   },
   {
    "duration": 58,
    "start_time": "2025-04-08T18:13:05.204Z"
   },
   {
    "duration": 16,
    "start_time": "2025-04-08T18:13:05.264Z"
   },
   {
    "duration": 44,
    "start_time": "2025-04-08T18:13:05.281Z"
   },
   {
    "duration": 12,
    "start_time": "2025-04-08T18:13:05.327Z"
   },
   {
    "duration": 3306,
    "start_time": "2025-04-08T18:13:05.344Z"
   },
   {
    "duration": 2651,
    "start_time": "2025-04-08T18:13:08.651Z"
   },
   {
    "duration": 591,
    "start_time": "2025-04-08T18:13:11.304Z"
   },
   {
    "duration": 1173,
    "start_time": "2025-04-08T18:13:11.897Z"
   },
   {
    "duration": 70,
    "start_time": "2025-04-08T18:13:13.072Z"
   },
   {
    "duration": 11694,
    "start_time": "2025-04-08T18:13:13.144Z"
   },
   {
    "duration": 64,
    "start_time": "2025-04-08T18:13:24.839Z"
   },
   {
    "duration": 48,
    "start_time": "2025-04-08T18:13:24.904Z"
   },
   {
    "duration": 61,
    "start_time": "2025-04-08T18:13:24.962Z"
   },
   {
    "duration": 61,
    "start_time": "2025-04-08T18:13:25.024Z"
   },
   {
    "duration": 101,
    "start_time": "2025-04-08T18:13:25.086Z"
   },
   {
    "duration": 27,
    "start_time": "2025-04-08T18:13:25.189Z"
   },
   {
    "duration": 5,
    "start_time": "2025-04-08T18:13:25.217Z"
   },
   {
    "duration": 5,
    "start_time": "2025-04-08T18:13:25.224Z"
   },
   {
    "duration": 143,
    "start_time": "2025-04-08T18:13:25.231Z"
   },
   {
    "duration": 7,
    "start_time": "2025-04-08T18:13:25.376Z"
   },
   {
    "duration": 751,
    "start_time": "2025-04-08T18:13:25.385Z"
   },
   {
    "duration": 397,
    "start_time": "2025-04-08T18:13:26.138Z"
   },
   {
    "duration": 290,
    "start_time": "2025-04-08T18:13:26.536Z"
   },
   {
    "duration": 68,
    "start_time": "2025-04-08T18:13:26.828Z"
   },
   {
    "duration": 70,
    "start_time": "2025-04-08T18:13:26.898Z"
   },
   {
    "duration": 14365,
    "start_time": "2025-04-08T18:13:26.971Z"
   },
   {
    "duration": 2697,
    "start_time": "2025-04-08T18:22:31.314Z"
   },
   {
    "duration": 3519,
    "start_time": "2025-04-08T18:22:34.014Z"
   },
   {
    "duration": 2669,
    "start_time": "2025-04-08T18:22:37.536Z"
   },
   {
    "duration": 3,
    "start_time": "2025-04-08T18:22:40.206Z"
   },
   {
    "duration": 1484,
    "start_time": "2025-04-08T18:22:40.211Z"
   },
   {
    "duration": 2,
    "start_time": "2025-04-08T18:22:41.696Z"
   },
   {
    "duration": 66,
    "start_time": "2025-04-08T18:22:41.700Z"
   },
   {
    "duration": 22,
    "start_time": "2025-04-08T18:22:41.768Z"
   },
   {
    "duration": 58,
    "start_time": "2025-04-08T18:22:41.792Z"
   },
   {
    "duration": 68,
    "start_time": "2025-04-08T18:22:41.851Z"
   },
   {
    "duration": 9,
    "start_time": "2025-04-08T18:22:41.921Z"
   },
   {
    "duration": 78,
    "start_time": "2025-04-08T18:22:41.932Z"
   },
   {
    "duration": 7,
    "start_time": "2025-04-08T18:22:42.012Z"
   },
   {
    "duration": 3385,
    "start_time": "2025-04-08T18:22:42.022Z"
   },
   {
    "duration": 2681,
    "start_time": "2025-04-08T18:22:45.408Z"
   },
   {
    "duration": 612,
    "start_time": "2025-04-08T18:22:48.093Z"
   },
   {
    "duration": 1140,
    "start_time": "2025-04-08T18:22:48.707Z"
   },
   {
    "duration": 68,
    "start_time": "2025-04-08T18:22:49.849Z"
   },
   {
    "duration": 11118,
    "start_time": "2025-04-08T18:22:49.919Z"
   },
   {
    "duration": 156,
    "start_time": "2025-04-08T18:23:01.039Z"
   },
   {
    "duration": 0,
    "start_time": "2025-04-08T18:23:01.197Z"
   },
   {
    "duration": 0,
    "start_time": "2025-04-08T18:23:01.198Z"
   },
   {
    "duration": 0,
    "start_time": "2025-04-08T18:23:01.199Z"
   },
   {
    "duration": 0,
    "start_time": "2025-04-08T18:23:01.200Z"
   },
   {
    "duration": 0,
    "start_time": "2025-04-08T18:23:01.201Z"
   },
   {
    "duration": 0,
    "start_time": "2025-04-08T18:23:01.202Z"
   },
   {
    "duration": 0,
    "start_time": "2025-04-08T18:23:01.203Z"
   },
   {
    "duration": 0,
    "start_time": "2025-04-08T18:23:01.204Z"
   },
   {
    "duration": 0,
    "start_time": "2025-04-08T18:23:01.205Z"
   },
   {
    "duration": 0,
    "start_time": "2025-04-08T18:23:01.206Z"
   },
   {
    "duration": 0,
    "start_time": "2025-04-08T18:23:01.207Z"
   },
   {
    "duration": 0,
    "start_time": "2025-04-08T18:23:01.208Z"
   },
   {
    "duration": 0,
    "start_time": "2025-04-08T18:23:01.209Z"
   },
   {
    "duration": 0,
    "start_time": "2025-04-08T18:23:01.210Z"
   },
   {
    "duration": 0,
    "start_time": "2025-04-08T18:23:01.211Z"
   },
   {
    "duration": 0,
    "start_time": "2025-04-08T18:23:01.213Z"
   },
   {
    "duration": 28715,
    "start_time": "2025-04-08T18:28:18.379Z"
   },
   {
    "duration": 30621,
    "start_time": "2025-04-08T18:34:29.325Z"
   },
   {
    "duration": 30003,
    "start_time": "2025-04-08T18:35:39.979Z"
   },
   {
    "duration": 27391,
    "start_time": "2025-04-08T18:40:08.237Z"
   },
   {
    "duration": 27329,
    "start_time": "2025-04-08T18:40:55.514Z"
   },
   {
    "duration": 70,
    "start_time": "2025-04-08T18:56:29.751Z"
   },
   {
    "duration": 58,
    "start_time": "2025-04-08T18:56:35.246Z"
   },
   {
    "duration": 2767,
    "start_time": "2025-04-08T18:57:45.061Z"
   },
   {
    "duration": 3421,
    "start_time": "2025-04-08T18:57:47.831Z"
   },
   {
    "duration": 2691,
    "start_time": "2025-04-08T18:57:51.254Z"
   },
   {
    "duration": 3,
    "start_time": "2025-04-08T18:57:53.947Z"
   },
   {
    "duration": 1550,
    "start_time": "2025-04-08T18:57:53.952Z"
   },
   {
    "duration": 3,
    "start_time": "2025-04-08T18:57:55.504Z"
   },
   {
    "duration": 68,
    "start_time": "2025-04-08T18:57:55.509Z"
   },
   {
    "duration": 10,
    "start_time": "2025-04-08T18:57:55.580Z"
   },
   {
    "duration": 63,
    "start_time": "2025-04-08T18:57:55.592Z"
   },
   {
    "duration": 57,
    "start_time": "2025-04-08T18:57:55.657Z"
   },
   {
    "duration": 9,
    "start_time": "2025-04-08T18:57:55.716Z"
   },
   {
    "duration": 62,
    "start_time": "2025-04-08T18:57:55.727Z"
   },
   {
    "duration": 8,
    "start_time": "2025-04-08T18:57:55.790Z"
   },
   {
    "duration": 3283,
    "start_time": "2025-04-08T18:57:55.801Z"
   },
   {
    "duration": 2617,
    "start_time": "2025-04-08T18:57:59.085Z"
   },
   {
    "duration": 597,
    "start_time": "2025-04-08T18:58:01.704Z"
   },
   {
    "duration": 1160,
    "start_time": "2025-04-08T18:58:02.303Z"
   },
   {
    "duration": 65,
    "start_time": "2025-04-08T18:58:03.465Z"
   },
   {
    "duration": 27867,
    "start_time": "2025-04-08T18:58:03.532Z"
   },
   {
    "duration": 53,
    "start_time": "2025-04-08T18:58:31.401Z"
   },
   {
    "duration": 60,
    "start_time": "2025-04-08T18:58:31.463Z"
   },
   {
    "duration": 51,
    "start_time": "2025-04-08T18:58:31.526Z"
   },
   {
    "duration": 61,
    "start_time": "2025-04-08T18:58:31.579Z"
   },
   {
    "duration": 63,
    "start_time": "2025-04-08T18:58:31.642Z"
   },
   {
    "duration": 28,
    "start_time": "2025-04-08T18:58:31.707Z"
   },
   {
    "duration": 30,
    "start_time": "2025-04-08T18:58:31.737Z"
   },
   {
    "duration": 19,
    "start_time": "2025-04-08T18:58:31.769Z"
   },
   {
    "duration": 130,
    "start_time": "2025-04-08T18:58:31.790Z"
   },
   {
    "duration": 5,
    "start_time": "2025-04-08T18:58:31.922Z"
   },
   {
    "duration": 780,
    "start_time": "2025-04-08T18:58:31.928Z"
   },
   {
    "duration": 396,
    "start_time": "2025-04-08T18:58:32.710Z"
   },
   {
    "duration": 297,
    "start_time": "2025-04-08T18:58:33.108Z"
   },
   {
    "duration": 140,
    "start_time": "2025-04-08T18:58:33.406Z"
   },
   {
    "duration": 0,
    "start_time": "2025-04-08T18:58:33.548Z"
   },
   {
    "duration": 0,
    "start_time": "2025-04-08T18:58:33.549Z"
   },
   {
    "duration": 19,
    "start_time": "2025-04-08T19:05:41.690Z"
   },
   {
    "duration": 55,
    "start_time": "2025-04-08T19:06:44.173Z"
   },
   {
    "duration": 21,
    "start_time": "2025-04-08T19:06:59.060Z"
   },
   {
    "duration": 74,
    "start_time": "2025-04-08T19:07:54.286Z"
   },
   {
    "duration": 282,
    "start_time": "2025-04-08T19:08:09.131Z"
   },
   {
    "duration": 97,
    "start_time": "2025-04-08T19:11:17.131Z"
   },
   {
    "duration": 12,
    "start_time": "2025-04-08T19:11:34.891Z"
   },
   {
    "duration": 11,
    "start_time": "2025-04-08T19:20:30.142Z"
   },
   {
    "duration": 21,
    "start_time": "2025-04-08T19:21:10.759Z"
   },
   {
    "duration": 8,
    "start_time": "2025-04-08T19:21:25.509Z"
   },
   {
    "duration": 97,
    "start_time": "2025-04-08T19:26:11.774Z"
   },
   {
    "duration": 2704,
    "start_time": "2025-04-08T19:29:48.717Z"
   },
   {
    "duration": 3430,
    "start_time": "2025-04-08T19:29:51.424Z"
   },
   {
    "duration": 2773,
    "start_time": "2025-04-08T19:29:54.857Z"
   },
   {
    "duration": 2,
    "start_time": "2025-04-08T19:29:57.632Z"
   },
   {
    "duration": 1482,
    "start_time": "2025-04-08T19:29:57.637Z"
   },
   {
    "duration": 2,
    "start_time": "2025-04-08T19:29:59.121Z"
   },
   {
    "duration": 96,
    "start_time": "2025-04-08T19:29:59.125Z"
   },
   {
    "duration": 8,
    "start_time": "2025-04-08T19:29:59.223Z"
   },
   {
    "duration": 69,
    "start_time": "2025-04-08T19:29:59.233Z"
   },
   {
    "duration": 64,
    "start_time": "2025-04-08T19:29:59.304Z"
   },
   {
    "duration": 10,
    "start_time": "2025-04-08T19:29:59.369Z"
   },
   {
    "duration": 34,
    "start_time": "2025-04-08T19:29:59.380Z"
   },
   {
    "duration": 8,
    "start_time": "2025-04-08T19:29:59.416Z"
   },
   {
    "duration": 3467,
    "start_time": "2025-04-08T19:29:59.428Z"
   },
   {
    "duration": 2792,
    "start_time": "2025-04-08T19:30:02.896Z"
   },
   {
    "duration": 610,
    "start_time": "2025-04-08T19:30:05.690Z"
   },
   {
    "duration": 1197,
    "start_time": "2025-04-08T19:30:06.302Z"
   },
   {
    "duration": 56,
    "start_time": "2025-04-08T19:30:07.501Z"
   },
   {
    "duration": 28502,
    "start_time": "2025-04-08T19:30:07.560Z"
   },
   {
    "duration": 50,
    "start_time": "2025-04-08T19:30:36.064Z"
   },
   {
    "duration": 74,
    "start_time": "2025-04-08T19:30:36.116Z"
   },
   {
    "duration": 44,
    "start_time": "2025-04-08T19:30:36.192Z"
   },
   {
    "duration": 54,
    "start_time": "2025-04-08T19:30:36.238Z"
   },
   {
    "duration": 45,
    "start_time": "2025-04-08T19:30:36.294Z"
   },
   {
    "duration": 44,
    "start_time": "2025-04-08T19:30:36.341Z"
   },
   {
    "duration": 92,
    "start_time": "2025-04-08T19:30:36.386Z"
   },
   {
    "duration": 31,
    "start_time": "2025-04-08T19:30:36.480Z"
   },
   {
    "duration": 133,
    "start_time": "2025-04-08T19:30:36.513Z"
   },
   {
    "duration": 5,
    "start_time": "2025-04-08T19:30:36.648Z"
   },
   {
    "duration": 778,
    "start_time": "2025-04-08T19:30:36.662Z"
   },
   {
    "duration": 403,
    "start_time": "2025-04-08T19:30:37.445Z"
   },
   {
    "duration": 270,
    "start_time": "2025-04-08T19:30:37.850Z"
   },
   {
    "duration": 9,
    "start_time": "2025-04-08T19:30:38.122Z"
   },
   {
    "duration": 108,
    "start_time": "2025-04-08T19:30:38.133Z"
   },
   {
    "duration": 66,
    "start_time": "2025-04-08T19:30:38.243Z"
   },
   {
    "duration": 13418,
    "start_time": "2025-04-08T19:30:38.311Z"
   },
   {
    "duration": 5,
    "start_time": "2025-04-08T19:36:16.689Z"
   },
   {
    "duration": 5,
    "start_time": "2025-04-08T19:36:21.189Z"
   },
   {
    "duration": 2465,
    "start_time": "2025-04-08T19:43:11.589Z"
   },
   {
    "duration": 3141,
    "start_time": "2025-04-08T19:43:14.057Z"
   },
   {
    "duration": 2504,
    "start_time": "2025-04-08T19:43:17.200Z"
   },
   {
    "duration": 2,
    "start_time": "2025-04-08T19:43:19.706Z"
   },
   {
    "duration": 1330,
    "start_time": "2025-04-08T19:43:19.710Z"
   },
   {
    "duration": 2,
    "start_time": "2025-04-08T19:43:21.042Z"
   },
   {
    "duration": 76,
    "start_time": "2025-04-08T19:43:21.046Z"
   },
   {
    "duration": 9,
    "start_time": "2025-04-08T19:43:21.124Z"
   },
   {
    "duration": 149,
    "start_time": "2025-04-08T19:43:21.135Z"
   },
   {
    "duration": 45,
    "start_time": "2025-04-08T19:43:21.285Z"
   },
   {
    "duration": 31,
    "start_time": "2025-04-08T19:43:21.332Z"
   },
   {
    "duration": 30,
    "start_time": "2025-04-08T19:43:21.365Z"
   },
   {
    "duration": 8,
    "start_time": "2025-04-08T19:43:21.397Z"
   },
   {
    "duration": 3226,
    "start_time": "2025-04-08T19:43:21.409Z"
   },
   {
    "duration": 2494,
    "start_time": "2025-04-08T19:43:24.637Z"
   },
   {
    "duration": 614,
    "start_time": "2025-04-08T19:43:27.132Z"
   },
   {
    "duration": 1017,
    "start_time": "2025-04-08T19:43:27.748Z"
   },
   {
    "duration": 55,
    "start_time": "2025-04-08T19:43:28.767Z"
   },
   {
    "duration": 151,
    "start_time": "2025-04-08T19:43:28.823Z"
   },
   {
    "duration": 0,
    "start_time": "2025-04-08T19:43:28.975Z"
   },
   {
    "duration": 0,
    "start_time": "2025-04-08T19:43:28.976Z"
   },
   {
    "duration": 0,
    "start_time": "2025-04-08T19:43:28.977Z"
   },
   {
    "duration": 0,
    "start_time": "2025-04-08T19:43:28.978Z"
   },
   {
    "duration": 0,
    "start_time": "2025-04-08T19:43:28.980Z"
   },
   {
    "duration": 0,
    "start_time": "2025-04-08T19:43:28.981Z"
   },
   {
    "duration": 0,
    "start_time": "2025-04-08T19:43:28.982Z"
   },
   {
    "duration": 0,
    "start_time": "2025-04-08T19:43:28.983Z"
   },
   {
    "duration": 0,
    "start_time": "2025-04-08T19:43:28.984Z"
   },
   {
    "duration": 0,
    "start_time": "2025-04-08T19:43:28.985Z"
   },
   {
    "duration": 0,
    "start_time": "2025-04-08T19:43:28.986Z"
   },
   {
    "duration": 0,
    "start_time": "2025-04-08T19:43:28.987Z"
   },
   {
    "duration": 0,
    "start_time": "2025-04-08T19:43:28.988Z"
   },
   {
    "duration": 0,
    "start_time": "2025-04-08T19:43:28.989Z"
   },
   {
    "duration": 0,
    "start_time": "2025-04-08T19:43:28.991Z"
   },
   {
    "duration": 0,
    "start_time": "2025-04-08T19:43:28.992Z"
   },
   {
    "duration": 0,
    "start_time": "2025-04-08T19:43:28.993Z"
   },
   {
    "duration": 0,
    "start_time": "2025-04-08T19:43:28.994Z"
   },
   {
    "duration": 2562,
    "start_time": "2025-04-08T19:49:33.227Z"
   },
   {
    "duration": 3224,
    "start_time": "2025-04-08T19:49:35.791Z"
   },
   {
    "duration": 2489,
    "start_time": "2025-04-08T19:49:39.016Z"
   },
   {
    "duration": 3,
    "start_time": "2025-04-08T19:49:41.507Z"
   },
   {
    "duration": 1321,
    "start_time": "2025-04-08T19:49:41.513Z"
   },
   {
    "duration": 2,
    "start_time": "2025-04-08T19:49:42.836Z"
   },
   {
    "duration": 65,
    "start_time": "2025-04-08T19:49:42.840Z"
   },
   {
    "duration": 9,
    "start_time": "2025-04-08T19:49:42.907Z"
   },
   {
    "duration": 59,
    "start_time": "2025-04-08T19:49:42.917Z"
   },
   {
    "duration": 44,
    "start_time": "2025-04-08T19:49:42.977Z"
   },
   {
    "duration": 8,
    "start_time": "2025-04-08T19:49:43.023Z"
   },
   {
    "duration": 56,
    "start_time": "2025-04-08T19:49:43.032Z"
   },
   {
    "duration": 7,
    "start_time": "2025-04-08T19:49:43.090Z"
   },
   {
    "duration": 3073,
    "start_time": "2025-04-08T19:49:43.100Z"
   },
   {
    "duration": 2494,
    "start_time": "2025-04-08T19:49:46.174Z"
   },
   {
    "duration": 578,
    "start_time": "2025-04-08T19:49:48.670Z"
   },
   {
    "duration": 1046,
    "start_time": "2025-04-08T19:49:49.249Z"
   },
   {
    "duration": 54,
    "start_time": "2025-04-08T19:49:50.297Z"
   },
   {
    "duration": 25501,
    "start_time": "2025-04-08T19:49:50.352Z"
   },
   {
    "duration": 53,
    "start_time": "2025-04-08T19:50:15.855Z"
   },
   {
    "duration": 66,
    "start_time": "2025-04-08T19:50:15.909Z"
   },
   {
    "duration": 46,
    "start_time": "2025-04-08T19:50:15.977Z"
   },
   {
    "duration": 55,
    "start_time": "2025-04-08T19:50:16.025Z"
   },
   {
    "duration": 45,
    "start_time": "2025-04-08T19:50:16.081Z"
   },
   {
    "duration": 55,
    "start_time": "2025-04-08T19:50:16.127Z"
   },
   {
    "duration": 6,
    "start_time": "2025-04-08T19:50:16.183Z"
   },
   {
    "duration": 7,
    "start_time": "2025-04-08T19:50:16.190Z"
   },
   {
    "duration": 129,
    "start_time": "2025-04-08T19:50:16.198Z"
   },
   {
    "duration": 4,
    "start_time": "2025-04-08T19:50:16.329Z"
   },
   {
    "duration": 732,
    "start_time": "2025-04-08T19:50:16.335Z"
   },
   {
    "duration": 419,
    "start_time": "2025-04-08T19:50:17.068Z"
   },
   {
    "duration": 276,
    "start_time": "2025-04-08T19:50:17.489Z"
   },
   {
    "duration": 8,
    "start_time": "2025-04-08T19:50:17.766Z"
   },
   {
    "duration": 100,
    "start_time": "2025-04-08T19:50:17.776Z"
   },
   {
    "duration": 54,
    "start_time": "2025-04-08T19:50:17.878Z"
   },
   {
    "duration": 13148,
    "start_time": "2025-04-08T19:50:17.934Z"
   },
   {
    "duration": 130,
    "start_time": "2025-04-08T19:50:31.084Z"
   },
   {
    "duration": 392,
    "start_time": "2025-04-08T19:54:49.017Z"
   },
   {
    "duration": 414,
    "start_time": "2025-04-08T19:55:16.518Z"
   },
   {
    "duration": 3642,
    "start_time": "2025-04-09T09:45:46.575Z"
   },
   {
    "duration": 6448,
    "start_time": "2025-04-09T09:45:50.220Z"
   },
   {
    "duration": 3295,
    "start_time": "2025-04-09T09:45:56.671Z"
   },
   {
    "duration": 3,
    "start_time": "2025-04-09T09:45:59.968Z"
   },
   {
    "duration": 1803,
    "start_time": "2025-04-09T09:45:59.973Z"
   },
   {
    "duration": 3,
    "start_time": "2025-04-09T09:46:01.778Z"
   },
   {
    "duration": 135,
    "start_time": "2025-04-09T09:46:01.783Z"
   },
   {
    "duration": 10,
    "start_time": "2025-04-09T09:46:01.920Z"
   },
   {
    "duration": 86,
    "start_time": "2025-04-09T09:46:01.932Z"
   },
   {
    "duration": 91,
    "start_time": "2025-04-09T09:46:02.020Z"
   },
   {
    "duration": 10,
    "start_time": "2025-04-09T09:46:02.113Z"
   },
   {
    "duration": 50,
    "start_time": "2025-04-09T09:46:02.124Z"
   },
   {
    "duration": 8,
    "start_time": "2025-04-09T09:46:02.176Z"
   },
   {
    "duration": 3116,
    "start_time": "2025-04-09T09:46:02.187Z"
   },
   {
    "duration": 2553,
    "start_time": "2025-04-09T09:46:05.305Z"
   },
   {
    "duration": 601,
    "start_time": "2025-04-09T09:46:07.860Z"
   },
   {
    "duration": 1066,
    "start_time": "2025-04-09T09:46:08.463Z"
   },
   {
    "duration": 55,
    "start_time": "2025-04-09T09:46:09.531Z"
   },
   {
    "duration": 26846,
    "start_time": "2025-04-09T09:46:09.588Z"
   },
   {
    "duration": 62,
    "start_time": "2025-04-09T09:46:36.436Z"
   },
   {
    "duration": 76,
    "start_time": "2025-04-09T09:46:36.499Z"
   },
   {
    "duration": 47,
    "start_time": "2025-04-09T09:46:36.577Z"
   },
   {
    "duration": 55,
    "start_time": "2025-04-09T09:46:36.626Z"
   },
   {
    "duration": 47,
    "start_time": "2025-04-09T09:46:36.683Z"
   },
   {
    "duration": 52,
    "start_time": "2025-04-09T09:46:36.732Z"
   },
   {
    "duration": 5,
    "start_time": "2025-04-09T09:46:36.786Z"
   },
   {
    "duration": 11,
    "start_time": "2025-04-09T09:46:36.792Z"
   },
   {
    "duration": 146,
    "start_time": "2025-04-09T09:46:36.805Z"
   },
   {
    "duration": 9,
    "start_time": "2025-04-09T09:46:36.953Z"
   },
   {
    "duration": 693,
    "start_time": "2025-04-09T09:46:36.964Z"
   },
   {
    "duration": 393,
    "start_time": "2025-04-09T09:46:37.659Z"
   },
   {
    "duration": 267,
    "start_time": "2025-04-09T09:46:38.054Z"
   },
   {
    "duration": 8,
    "start_time": "2025-04-09T09:46:38.323Z"
   },
   {
    "duration": 108,
    "start_time": "2025-04-09T09:46:38.332Z"
   },
   {
    "duration": 67,
    "start_time": "2025-04-09T09:46:38.442Z"
   },
   {
    "duration": 13711,
    "start_time": "2025-04-09T09:46:38.511Z"
   },
   {
    "duration": 388,
    "start_time": "2025-04-09T09:46:52.225Z"
   },
   {
    "duration": 168,
    "start_time": "2025-04-09T09:59:29.902Z"
   },
   {
    "duration": 57,
    "start_time": "2025-04-09T09:59:45.874Z"
   },
   {
    "duration": 57,
    "start_time": "2025-04-09T10:00:10.452Z"
   },
   {
    "duration": 85,
    "start_time": "2025-04-09T10:01:42.067Z"
   },
   {
    "duration": 58,
    "start_time": "2025-04-09T10:01:58.653Z"
   },
   {
    "duration": 57,
    "start_time": "2025-04-09T10:03:58.408Z"
   },
   {
    "duration": 60,
    "start_time": "2025-04-09T10:05:02.367Z"
   },
   {
    "duration": 126,
    "start_time": "2025-04-09T10:26:05.560Z"
   },
   {
    "duration": 11,
    "start_time": "2025-04-09T10:29:20.632Z"
   },
   {
    "duration": 3891,
    "start_time": "2025-04-09T10:30:17.810Z"
   },
   {
    "duration": 2576,
    "start_time": "2025-04-09T10:30:31.008Z"
   },
   {
    "duration": 396,
    "start_time": "2025-04-09T10:30:36.065Z"
   },
   {
    "duration": 53,
    "start_time": "2025-04-09T10:32:07.311Z"
   },
   {
    "duration": 8662,
    "start_time": "2025-04-09T10:35:52.799Z"
   },
   {
    "duration": 8489,
    "start_time": "2025-04-09T10:39:58.560Z"
   },
   {
    "duration": 6795,
    "start_time": "2025-04-09T10:40:43.576Z"
   },
   {
    "duration": 8549,
    "start_time": "2025-04-09T10:42:28.694Z"
   },
   {
    "duration": 8335,
    "start_time": "2025-04-09T10:42:51.195Z"
   },
   {
    "duration": 8569,
    "start_time": "2025-04-09T10:45:00.740Z"
   },
   {
    "duration": 141,
    "start_time": "2025-04-09T10:58:30.471Z"
   },
   {
    "duration": 29,
    "start_time": "2025-04-09T11:01:45.886Z"
   },
   {
    "duration": 30,
    "start_time": "2025-04-09T11:03:42.352Z"
   },
   {
    "duration": 29,
    "start_time": "2025-04-09T11:05:35.883Z"
   },
   {
    "duration": 45,
    "start_time": "2025-04-09T11:06:17.340Z"
   },
   {
    "duration": 2483,
    "start_time": "2025-04-09T11:38:37.602Z"
   },
   {
    "duration": 3055,
    "start_time": "2025-04-09T11:38:40.088Z"
   },
   {
    "duration": 2518,
    "start_time": "2025-04-09T11:38:43.145Z"
   },
   {
    "duration": 2506,
    "start_time": "2025-04-09T11:38:45.665Z"
   },
   {
    "duration": 1799,
    "start_time": "2025-04-09T11:38:48.175Z"
   },
   {
    "duration": 3,
    "start_time": "2025-04-09T11:38:49.975Z"
   },
   {
    "duration": 74,
    "start_time": "2025-04-09T11:38:49.979Z"
   },
   {
    "duration": 9,
    "start_time": "2025-04-09T11:38:50.055Z"
   },
   {
    "duration": 72,
    "start_time": "2025-04-09T11:38:50.065Z"
   },
   {
    "duration": 59,
    "start_time": "2025-04-09T11:38:50.139Z"
   },
   {
    "duration": 9,
    "start_time": "2025-04-09T11:38:50.199Z"
   },
   {
    "duration": 58,
    "start_time": "2025-04-09T11:38:50.210Z"
   },
   {
    "duration": 7,
    "start_time": "2025-04-09T11:38:50.270Z"
   },
   {
    "duration": 3185,
    "start_time": "2025-04-09T11:38:50.280Z"
   },
   {
    "duration": 87,
    "start_time": "2025-04-09T11:38:53.467Z"
   },
   {
    "duration": 0,
    "start_time": "2025-04-09T11:38:53.556Z"
   },
   {
    "duration": 0,
    "start_time": "2025-04-09T11:38:53.558Z"
   },
   {
    "duration": 0,
    "start_time": "2025-04-09T11:38:53.559Z"
   },
   {
    "duration": 0,
    "start_time": "2025-04-09T11:38:53.560Z"
   },
   {
    "duration": 0,
    "start_time": "2025-04-09T11:38:53.562Z"
   },
   {
    "duration": 0,
    "start_time": "2025-04-09T11:38:53.563Z"
   },
   {
    "duration": 0,
    "start_time": "2025-04-09T11:38:53.564Z"
   },
   {
    "duration": 0,
    "start_time": "2025-04-09T11:38:53.565Z"
   },
   {
    "duration": 0,
    "start_time": "2025-04-09T11:38:53.566Z"
   },
   {
    "duration": 0,
    "start_time": "2025-04-09T11:38:53.568Z"
   },
   {
    "duration": 0,
    "start_time": "2025-04-09T11:38:53.569Z"
   },
   {
    "duration": 0,
    "start_time": "2025-04-09T11:38:53.570Z"
   },
   {
    "duration": 0,
    "start_time": "2025-04-09T11:38:53.571Z"
   },
   {
    "duration": 0,
    "start_time": "2025-04-09T11:38:53.571Z"
   },
   {
    "duration": 0,
    "start_time": "2025-04-09T11:38:53.572Z"
   },
   {
    "duration": 0,
    "start_time": "2025-04-09T11:38:53.573Z"
   },
   {
    "duration": 0,
    "start_time": "2025-04-09T11:38:53.574Z"
   },
   {
    "duration": 0,
    "start_time": "2025-04-09T11:38:53.575Z"
   },
   {
    "duration": 0,
    "start_time": "2025-04-09T11:38:53.576Z"
   },
   {
    "duration": 0,
    "start_time": "2025-04-09T11:38:53.577Z"
   },
   {
    "duration": 0,
    "start_time": "2025-04-09T11:38:53.578Z"
   },
   {
    "duration": 0,
    "start_time": "2025-04-09T11:38:53.579Z"
   },
   {
    "duration": 0,
    "start_time": "2025-04-09T11:38:53.580Z"
   },
   {
    "duration": 0,
    "start_time": "2025-04-09T11:38:53.581Z"
   },
   {
    "duration": 0,
    "start_time": "2025-04-09T11:38:53.582Z"
   },
   {
    "duration": 0,
    "start_time": "2025-04-09T11:38:53.583Z"
   },
   {
    "duration": 2477,
    "start_time": "2025-04-09T11:43:10.070Z"
   },
   {
    "duration": 3113,
    "start_time": "2025-04-09T11:43:12.550Z"
   },
   {
    "duration": 2601,
    "start_time": "2025-04-09T11:43:15.665Z"
   },
   {
    "duration": 2569,
    "start_time": "2025-04-09T11:43:18.269Z"
   },
   {
    "duration": 1807,
    "start_time": "2025-04-09T11:43:20.841Z"
   },
   {
    "duration": 3,
    "start_time": "2025-04-09T11:43:22.649Z"
   },
   {
    "duration": 66,
    "start_time": "2025-04-09T11:43:22.661Z"
   },
   {
    "duration": 9,
    "start_time": "2025-04-09T11:43:22.729Z"
   },
   {
    "duration": 105,
    "start_time": "2025-04-09T11:43:22.740Z"
   },
   {
    "duration": 44,
    "start_time": "2025-04-09T11:43:22.847Z"
   },
   {
    "duration": 8,
    "start_time": "2025-04-09T11:43:22.892Z"
   },
   {
    "duration": 34,
    "start_time": "2025-04-09T11:43:22.902Z"
   },
   {
    "duration": 29,
    "start_time": "2025-04-09T11:43:22.938Z"
   },
   {
    "duration": 3082,
    "start_time": "2025-04-09T11:43:22.970Z"
   },
   {
    "duration": 2381,
    "start_time": "2025-04-09T11:43:26.054Z"
   },
   {
    "duration": 715,
    "start_time": "2025-04-09T11:43:28.436Z"
   },
   {
    "duration": 1020,
    "start_time": "2025-04-09T11:43:29.153Z"
   },
   {
    "duration": 62,
    "start_time": "2025-04-09T11:43:30.175Z"
   },
   {
    "duration": 25027,
    "start_time": "2025-04-09T11:43:30.239Z"
   },
   {
    "duration": 49,
    "start_time": "2025-04-09T11:43:55.267Z"
   },
   {
    "duration": 70,
    "start_time": "2025-04-09T11:43:55.318Z"
   },
   {
    "duration": 7044,
    "start_time": "2025-04-09T11:43:55.390Z"
   },
   {
    "duration": 0,
    "start_time": "2025-04-09T11:44:02.435Z"
   },
   {
    "duration": 0,
    "start_time": "2025-04-09T11:44:02.437Z"
   },
   {
    "duration": 0,
    "start_time": "2025-04-09T11:44:02.438Z"
   },
   {
    "duration": 0,
    "start_time": "2025-04-09T11:44:02.439Z"
   },
   {
    "duration": 0,
    "start_time": "2025-04-09T11:44:02.441Z"
   },
   {
    "duration": 0,
    "start_time": "2025-04-09T11:44:02.442Z"
   },
   {
    "duration": 0,
    "start_time": "2025-04-09T11:44:02.443Z"
   },
   {
    "duration": 0,
    "start_time": "2025-04-09T11:44:02.444Z"
   },
   {
    "duration": 0,
    "start_time": "2025-04-09T11:44:02.461Z"
   },
   {
    "duration": 0,
    "start_time": "2025-04-09T11:44:02.462Z"
   },
   {
    "duration": 0,
    "start_time": "2025-04-09T11:44:02.463Z"
   },
   {
    "duration": 0,
    "start_time": "2025-04-09T11:44:02.465Z"
   },
   {
    "duration": 0,
    "start_time": "2025-04-09T11:44:02.466Z"
   },
   {
    "duration": 0,
    "start_time": "2025-04-09T11:44:02.467Z"
   },
   {
    "duration": 0,
    "start_time": "2025-04-09T11:44:02.468Z"
   },
   {
    "duration": 0,
    "start_time": "2025-04-09T11:44:02.469Z"
   },
   {
    "duration": 0,
    "start_time": "2025-04-09T11:44:02.470Z"
   },
   {
    "duration": 6737,
    "start_time": "2025-04-09T11:45:39.587Z"
   },
   {
    "duration": 6826,
    "start_time": "2025-04-09T11:47:30.774Z"
   },
   {
    "duration": 8401,
    "start_time": "2025-04-09T11:56:01.332Z"
   },
   {
    "duration": 8519,
    "start_time": "2025-04-09T11:56:38.992Z"
   },
   {
    "duration": 2579,
    "start_time": "2025-04-09T11:57:01.442Z"
   },
   {
    "duration": 3104,
    "start_time": "2025-04-09T11:57:04.024Z"
   },
   {
    "duration": 2546,
    "start_time": "2025-04-09T11:57:07.130Z"
   },
   {
    "duration": 2477,
    "start_time": "2025-04-09T11:57:09.679Z"
   },
   {
    "duration": 1798,
    "start_time": "2025-04-09T11:57:12.158Z"
   },
   {
    "duration": 3,
    "start_time": "2025-04-09T11:57:13.959Z"
   },
   {
    "duration": 121,
    "start_time": "2025-04-09T11:57:13.964Z"
   },
   {
    "duration": 8,
    "start_time": "2025-04-09T11:57:14.087Z"
   },
   {
    "duration": 63,
    "start_time": "2025-04-09T11:57:14.097Z"
   },
   {
    "duration": 44,
    "start_time": "2025-04-09T11:57:14.163Z"
   },
   {
    "duration": 25,
    "start_time": "2025-04-09T11:57:14.209Z"
   },
   {
    "duration": 44,
    "start_time": "2025-04-09T11:57:14.236Z"
   },
   {
    "duration": 9,
    "start_time": "2025-04-09T11:57:14.282Z"
   },
   {
    "duration": 3200,
    "start_time": "2025-04-09T11:57:14.293Z"
   },
   {
    "duration": 2469,
    "start_time": "2025-04-09T11:57:17.494Z"
   },
   {
    "duration": 704,
    "start_time": "2025-04-09T11:57:19.965Z"
   },
   {
    "duration": 1050,
    "start_time": "2025-04-09T11:57:20.671Z"
   },
   {
    "duration": 63,
    "start_time": "2025-04-09T11:57:21.723Z"
   },
   {
    "duration": 25341,
    "start_time": "2025-04-09T11:57:21.788Z"
   },
   {
    "duration": 55,
    "start_time": "2025-04-09T11:57:47.130Z"
   },
   {
    "duration": 46,
    "start_time": "2025-04-09T11:57:47.187Z"
   },
   {
    "duration": 8289,
    "start_time": "2025-04-09T11:57:47.235Z"
   },
   {
    "duration": 6835,
    "start_time": "2025-04-09T11:57:55.525Z"
   },
   {
    "duration": 0,
    "start_time": "2025-04-09T11:58:02.362Z"
   },
   {
    "duration": 0,
    "start_time": "2025-04-09T11:58:02.363Z"
   },
   {
    "duration": 0,
    "start_time": "2025-04-09T11:58:02.364Z"
   },
   {
    "duration": 0,
    "start_time": "2025-04-09T11:58:02.365Z"
   },
   {
    "duration": 0,
    "start_time": "2025-04-09T11:58:02.367Z"
   },
   {
    "duration": 0,
    "start_time": "2025-04-09T11:58:02.367Z"
   },
   {
    "duration": 0,
    "start_time": "2025-04-09T11:58:02.369Z"
   },
   {
    "duration": 0,
    "start_time": "2025-04-09T11:58:02.370Z"
   },
   {
    "duration": 0,
    "start_time": "2025-04-09T11:58:02.371Z"
   },
   {
    "duration": 0,
    "start_time": "2025-04-09T11:58:02.372Z"
   },
   {
    "duration": 0,
    "start_time": "2025-04-09T11:58:02.373Z"
   },
   {
    "duration": 0,
    "start_time": "2025-04-09T11:58:02.374Z"
   },
   {
    "duration": 0,
    "start_time": "2025-04-09T11:58:02.375Z"
   },
   {
    "duration": 0,
    "start_time": "2025-04-09T11:58:02.376Z"
   },
   {
    "duration": 0,
    "start_time": "2025-04-09T11:58:02.377Z"
   },
   {
    "duration": 0,
    "start_time": "2025-04-09T11:58:02.378Z"
   },
   {
    "duration": 0,
    "start_time": "2025-04-09T11:58:02.379Z"
   },
   {
    "duration": 2543,
    "start_time": "2025-04-09T12:00:32.787Z"
   },
   {
    "duration": 3112,
    "start_time": "2025-04-09T12:00:35.332Z"
   },
   {
    "duration": 2633,
    "start_time": "2025-04-09T12:00:38.446Z"
   },
   {
    "duration": 2666,
    "start_time": "2025-04-09T12:00:41.081Z"
   },
   {
    "duration": 1857,
    "start_time": "2025-04-09T12:00:43.749Z"
   },
   {
    "duration": 3,
    "start_time": "2025-04-09T12:00:45.608Z"
   },
   {
    "duration": 70,
    "start_time": "2025-04-09T12:00:45.612Z"
   },
   {
    "duration": 9,
    "start_time": "2025-04-09T12:00:45.684Z"
   },
   {
    "duration": 117,
    "start_time": "2025-04-09T12:00:45.694Z"
   },
   {
    "duration": 56,
    "start_time": "2025-04-09T12:00:45.813Z"
   },
   {
    "duration": 8,
    "start_time": "2025-04-09T12:00:45.871Z"
   },
   {
    "duration": 37,
    "start_time": "2025-04-09T12:00:45.881Z"
   },
   {
    "duration": 7,
    "start_time": "2025-04-09T12:00:45.920Z"
   },
   {
    "duration": 3226,
    "start_time": "2025-04-09T12:00:45.930Z"
   },
   {
    "duration": 2393,
    "start_time": "2025-04-09T12:00:49.160Z"
   },
   {
    "duration": 704,
    "start_time": "2025-04-09T12:00:51.555Z"
   },
   {
    "duration": 1017,
    "start_time": "2025-04-09T12:00:52.260Z"
   },
   {
    "duration": 59,
    "start_time": "2025-04-09T12:00:53.279Z"
   },
   {
    "duration": 25662,
    "start_time": "2025-04-09T12:00:53.339Z"
   },
   {
    "duration": 73,
    "start_time": "2025-04-09T12:01:19.004Z"
   },
   {
    "duration": 52,
    "start_time": "2025-04-09T12:01:19.078Z"
   },
   {
    "duration": 8397,
    "start_time": "2025-04-09T12:01:19.132Z"
   },
   {
    "duration": 46,
    "start_time": "2025-04-09T12:01:27.530Z"
   },
   {
    "duration": 54,
    "start_time": "2025-04-09T12:01:27.577Z"
   },
   {
    "duration": 53,
    "start_time": "2025-04-09T12:01:27.633Z"
   },
   {
    "duration": 60,
    "start_time": "2025-04-09T12:01:27.688Z"
   },
   {
    "duration": 6,
    "start_time": "2025-04-09T12:01:27.750Z"
   },
   {
    "duration": 6,
    "start_time": "2025-04-09T12:01:27.757Z"
   },
   {
    "duration": 113,
    "start_time": "2025-04-09T12:01:27.765Z"
   },
   {
    "duration": 5,
    "start_time": "2025-04-09T12:01:27.880Z"
   },
   {
    "duration": 752,
    "start_time": "2025-04-09T12:01:27.886Z"
   },
   {
    "duration": 376,
    "start_time": "2025-04-09T12:01:28.640Z"
   },
   {
    "duration": 272,
    "start_time": "2025-04-09T12:01:29.017Z"
   },
   {
    "duration": 8,
    "start_time": "2025-04-09T12:01:29.290Z"
   },
   {
    "duration": 99,
    "start_time": "2025-04-09T12:01:29.300Z"
   },
   {
    "duration": 82,
    "start_time": "2025-04-09T12:01:29.401Z"
   },
   {
    "duration": 12731,
    "start_time": "2025-04-09T12:01:29.485Z"
   },
   {
    "duration": 2535,
    "start_time": "2025-04-09T12:07:37.146Z"
   },
   {
    "duration": 3117,
    "start_time": "2025-04-09T12:07:39.683Z"
   },
   {
    "duration": 2511,
    "start_time": "2025-04-09T12:07:42.802Z"
   },
   {
    "duration": 2571,
    "start_time": "2025-04-09T12:07:45.316Z"
   },
   {
    "duration": 1892,
    "start_time": "2025-04-09T12:07:47.891Z"
   },
   {
    "duration": 3,
    "start_time": "2025-04-09T12:07:49.784Z"
   },
   {
    "duration": 79,
    "start_time": "2025-04-09T12:07:49.789Z"
   },
   {
    "duration": 9,
    "start_time": "2025-04-09T12:07:49.870Z"
   },
   {
    "duration": 63,
    "start_time": "2025-04-09T12:07:49.880Z"
   },
   {
    "duration": 57,
    "start_time": "2025-04-09T12:07:49.945Z"
   },
   {
    "duration": 9,
    "start_time": "2025-04-09T12:07:50.003Z"
   },
   {
    "duration": 49,
    "start_time": "2025-04-09T12:07:50.013Z"
   },
   {
    "duration": 39,
    "start_time": "2025-04-09T12:07:50.064Z"
   },
   {
    "duration": 3087,
    "start_time": "2025-04-09T12:07:50.106Z"
   },
   {
    "duration": 2433,
    "start_time": "2025-04-09T12:07:53.195Z"
   },
   {
    "duration": 721,
    "start_time": "2025-04-09T12:07:55.630Z"
   },
   {
    "duration": 1012,
    "start_time": "2025-04-09T12:07:56.353Z"
   },
   {
    "duration": 59,
    "start_time": "2025-04-09T12:07:57.367Z"
   },
   {
    "duration": 25313,
    "start_time": "2025-04-09T12:07:57.427Z"
   },
   {
    "duration": 57,
    "start_time": "2025-04-09T12:08:22.742Z"
   },
   {
    "duration": 60,
    "start_time": "2025-04-09T12:08:22.801Z"
   },
   {
    "duration": 8387,
    "start_time": "2025-04-09T12:08:22.863Z"
   },
   {
    "duration": 45,
    "start_time": "2025-04-09T12:08:31.252Z"
   },
   {
    "duration": 52,
    "start_time": "2025-04-09T12:08:31.299Z"
   },
   {
    "duration": 45,
    "start_time": "2025-04-09T12:08:31.352Z"
   },
   {
    "duration": 85,
    "start_time": "2025-04-09T12:08:31.399Z"
   },
   {
    "duration": 6,
    "start_time": "2025-04-09T12:08:31.486Z"
   },
   {
    "duration": 18,
    "start_time": "2025-04-09T12:08:31.494Z"
   },
   {
    "duration": 139,
    "start_time": "2025-04-09T12:08:31.514Z"
   },
   {
    "duration": 9,
    "start_time": "2025-04-09T12:08:31.655Z"
   },
   {
    "duration": 839,
    "start_time": "2025-04-09T12:08:31.666Z"
   },
   {
    "duration": 369,
    "start_time": "2025-04-09T12:08:32.507Z"
   },
   {
    "duration": 256,
    "start_time": "2025-04-09T12:08:32.878Z"
   },
   {
    "duration": 9,
    "start_time": "2025-04-09T12:08:33.135Z"
   },
   {
    "duration": 87,
    "start_time": "2025-04-09T12:08:33.161Z"
   },
   {
    "duration": 63,
    "start_time": "2025-04-09T12:08:33.250Z"
   },
   {
    "duration": 12755,
    "start_time": "2025-04-09T12:08:33.315Z"
   },
   {
    "duration": 351,
    "start_time": "2025-04-09T12:08:46.072Z"
   }
  ],
  "kernelspec": {
   "display_name": "Python [conda env:base] *",
   "language": "python",
   "name": "conda-base-py"
  },
  "language_info": {
   "codemirror_mode": {
    "name": "ipython",
    "version": 3
   },
   "file_extension": ".py",
   "mimetype": "text/x-python",
   "name": "python",
   "nbconvert_exporter": "python",
   "pygments_lexer": "ipython3",
   "version": "3.12.7"
  },
  "toc": {
   "base_numbering": 1,
   "nav_menu": {},
   "number_sections": true,
   "sideBar": true,
   "skip_h1_title": true,
   "title_cell": "Table of Contents",
   "title_sidebar": "Contents",
   "toc_cell": false,
   "toc_position": {},
   "toc_section_display": true,
   "toc_window_display": false
  }
 },
 "nbformat": 4,
 "nbformat_minor": 5
}
